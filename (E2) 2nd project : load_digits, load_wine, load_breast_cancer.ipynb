{
 "cells": [
  {
   "cell_type": "markdown",
   "metadata": {},
   "source": [
    "## 2-1. digits"
   ]
  },
  {
   "cell_type": "code",
   "execution_count": 1,
   "metadata": {},
   "outputs": [],
   "source": [
    "# 1. 필요한 모듈 import하기\n",
    "from sklearn.datasets import load_digits             # 데이터를 불러오기 위한 함수\n",
    "from sklearn.model_selection import train_test_split # 트레이닝 셋과 테스트 셋으로 나누기 위한 함수\n",
    "from sklearn.metrics import classification_report    # 모델평가를 위한 함수\n",
    "from sklearn.tree import DecisionTreeClassifier      # 의사결정나무(분류) 함수\n",
    "from sklearn.ensemble import RandomForestClassifier  # 랜덤포레스트 함수\n",
    "from sklearn import svm                              # SVM 함수\n",
    "from sklearn.linear_model import SGDClassifier       # SGD 함수\n",
    "from sklearn.linear_model import LogisticRegression  # 로지스틱 함수"
   ]
  },
  {
   "cell_type": "code",
   "execution_count": 2,
   "metadata": {},
   "outputs": [],
   "source": [
    "# 2. 데이터 준비하기\n",
    "digits = load_digits()"
   ]
  },
  {
   "cell_type": "code",
   "execution_count": 3,
   "metadata": {},
   "outputs": [
    {
     "name": "stdout",
     "output_type": "stream",
     "text": [
      "[0 1 2 3 4 5 6 7 8 9]\n",
      ".. _digits_dataset:\n",
      "\n",
      "Optical recognition of handwritten digits dataset\n",
      "--------------------------------------------------\n",
      "\n",
      "**Data Set Characteristics:**\n",
      "\n",
      "    :Number of Instances: 5620\n",
      "    :Number of Attributes: 64\n",
      "    :Attribute Information: 8x8 image of integer pixels in the range 0..16.\n",
      "    :Missing Attribute Values: None\n",
      "    :Creator: E. Alpaydin (alpaydin '@' boun.edu.tr)\n",
      "    :Date: July; 1998\n",
      "\n",
      "This is a copy of the test set of the UCI ML hand-written digits datasets\n",
      "https://archive.ics.uci.edu/ml/datasets/Optical+Recognition+of+Handwritten+Digits\n",
      "\n",
      "The data set contains images of hand-written digits: 10 classes where\n",
      "each class refers to a digit.\n",
      "\n",
      "Preprocessing programs made available by NIST were used to extract\n",
      "normalized bitmaps of handwritten digits from a preprinted form. From a\n",
      "total of 43 people, 30 contributed to the training set and different 13\n",
      "to the test set. 32x32 bitmaps are divided into nonoverlapping blocks of\n",
      "4x4 and the number of on pixels are counted in each block. This generates\n",
      "an input matrix of 8x8 where each element is an integer in the range\n",
      "0..16. This reduces dimensionality and gives invariance to small\n",
      "distortions.\n",
      "\n",
      "For info on NIST preprocessing routines, see M. D. Garris, J. L. Blue, G.\n",
      "T. Candela, D. L. Dimmick, J. Geist, P. J. Grother, S. A. Janet, and C.\n",
      "L. Wilson, NIST Form-Based Handprint Recognition System, NISTIR 5469,\n",
      "1994.\n",
      "\n",
      ".. topic:: References\n",
      "\n",
      "  - C. Kaynak (1995) Methods of Combining Multiple Classifiers and Their\n",
      "    Applications to Handwritten Digit Recognition, MSc Thesis, Institute of\n",
      "    Graduate Studies in Science and Engineering, Bogazici University.\n",
      "  - E. Alpaydin, C. Kaynak (1998) Cascading Classifiers, Kybernetika.\n",
      "  - Ken Tang and Ponnuthurai N. Suganthan and Xi Yao and A. Kai Qin.\n",
      "    Linear dimensionalityreduction using relevance weighted LDA. School of\n",
      "    Electrical and Electronic Engineering Nanyang Technological University.\n",
      "    2005.\n",
      "  - Claudio Gentile. A New Approximate Maximal Margin Classification\n",
      "    Algorithm. NIPS. 2000.\n"
     ]
    }
   ],
   "source": [
    "# 3. 데이터 이해하기\n",
    "\n",
    "# Feature Data 지정하기\n",
    "digits_data = digits.data\n",
    "\n",
    "# Label Data 지정하기\n",
    "digits_label = digits.target\n",
    "\n",
    "# Target Names 출력해보기\n",
    "print(digits.target_names)\n",
    "\n",
    "# 데이터 Describe 해보기\n",
    "print(digits.DESCR)"
   ]
  },
  {
   "cell_type": "code",
   "execution_count": 4,
   "metadata": {},
   "outputs": [],
   "source": [
    "# 4. train, test 데이터 분리\n",
    "# 데이터를 트레이닝 셋(80%)과 테스트 셋(20%)으로 나누기\n",
    "x_train, x_test, y_train, y_test = train_test_split(digits_data, digits_label, test_size = 0.2, random_state = 123)"
   ]
  },
  {
   "cell_type": "code",
   "execution_count": 5,
   "metadata": {},
   "outputs": [],
   "source": [
    "# 5. 다양한 모델로 학습시켜보기"
   ]
  },
  {
   "cell_type": "code",
   "execution_count": 6,
   "metadata": {},
   "outputs": [
    {
     "name": "stdout",
     "output_type": "stream",
     "text": [
      "              precision    recall  f1-score   support\n",
      "\n",
      "           0       0.97      0.92      0.95        39\n",
      "           1       0.67      0.76      0.71        34\n",
      "           2       0.78      0.81      0.79        36\n",
      "           3       0.73      0.82      0.77        33\n",
      "           4       0.90      0.88      0.89        42\n",
      "           5       0.97      0.76      0.85        37\n",
      "           6       0.95      0.91      0.93        43\n",
      "           7       0.96      0.87      0.92        31\n",
      "           8       0.76      0.70      0.73        37\n",
      "           9       0.65      0.86      0.74        28\n",
      "\n",
      "    accuracy                           0.83       360\n",
      "   macro avg       0.83      0.83      0.83       360\n",
      "weighted avg       0.84      0.83      0.83       360\n",
      "\n"
     ]
    }
   ],
   "source": [
    "# 5_1. Decision Tree 사용해 보기\n",
    "decision_tree = DecisionTreeClassifier(random_state = 123)\n",
    "decision_tree.fit(x_train, y_train)\n",
    "y_pred = decision_tree.predict(x_test)\n",
    "\n",
    "print(classification_report(y_test, y_pred))"
   ]
  },
  {
   "cell_type": "code",
   "execution_count": 7,
   "metadata": {},
   "outputs": [
    {
     "name": "stdout",
     "output_type": "stream",
     "text": [
      "              precision    recall  f1-score   support\n",
      "\n",
      "           0       1.00      1.00      1.00        39\n",
      "           1       0.89      1.00      0.94        34\n",
      "           2       0.97      1.00      0.99        36\n",
      "           3       1.00      1.00      1.00        33\n",
      "           4       0.98      0.98      0.98        42\n",
      "           5       0.97      0.92      0.94        37\n",
      "           6       1.00      0.95      0.98        43\n",
      "           7       0.97      1.00      0.98        31\n",
      "           8       1.00      0.89      0.94        37\n",
      "           9       0.93      1.00      0.97        28\n",
      "\n",
      "    accuracy                           0.97       360\n",
      "   macro avg       0.97      0.97      0.97       360\n",
      "weighted avg       0.97      0.97      0.97       360\n",
      "\n"
     ]
    }
   ],
   "source": [
    "# 5_2. Random Forest 사용해 보기\n",
    "random_forest = RandomForestClassifier(random_state = 123)\n",
    "random_forest.fit(x_train, y_train)\n",
    "y_pred = random_forest.predict(x_test)\n",
    "\n",
    "print(classification_report(y_test, y_pred))"
   ]
  },
  {
   "cell_type": "code",
   "execution_count": 8,
   "metadata": {},
   "outputs": [
    {
     "name": "stdout",
     "output_type": "stream",
     "text": [
      "              precision    recall  f1-score   support\n",
      "\n",
      "           0       1.00      1.00      1.00        39\n",
      "           1       0.92      1.00      0.96        34\n",
      "           2       1.00      1.00      1.00        36\n",
      "           3       1.00      1.00      1.00        33\n",
      "           4       1.00      1.00      1.00        42\n",
      "           5       1.00      0.97      0.99        37\n",
      "           6       1.00      1.00      1.00        43\n",
      "           7       1.00      1.00      1.00        31\n",
      "           8       1.00      0.92      0.96        37\n",
      "           9       0.97      1.00      0.98        28\n",
      "\n",
      "    accuracy                           0.99       360\n",
      "   macro avg       0.99      0.99      0.99       360\n",
      "weighted avg       0.99      0.99      0.99       360\n",
      "\n"
     ]
    }
   ],
   "source": [
    "# 5_3. SVM 사용해 보기\n",
    "svm_model = svm.SVC(random_state = 123)\n",
    "svm_model.fit(x_train, y_train)\n",
    "y_pred = svm_model.predict(x_test)\n",
    "\n",
    "print(classification_report(y_test, y_pred))"
   ]
  },
  {
   "cell_type": "code",
   "execution_count": 9,
   "metadata": {},
   "outputs": [
    {
     "name": "stdout",
     "output_type": "stream",
     "text": [
      "              precision    recall  f1-score   support\n",
      "\n",
      "           0       1.00      1.00      1.00        39\n",
      "           1       0.89      1.00      0.94        34\n",
      "           2       1.00      1.00      1.00        36\n",
      "           3       0.97      1.00      0.99        33\n",
      "           4       1.00      0.98      0.99        42\n",
      "           5       0.97      0.97      0.97        37\n",
      "           6       0.93      0.98      0.95        43\n",
      "           7       0.97      1.00      0.98        31\n",
      "           8       1.00      0.78      0.88        37\n",
      "           9       0.97      1.00      0.98        28\n",
      "\n",
      "    accuracy                           0.97       360\n",
      "   macro avg       0.97      0.97      0.97       360\n",
      "weighted avg       0.97      0.97      0.97       360\n",
      "\n"
     ]
    }
   ],
   "source": [
    "# 5_4. SGD Classifier 사용해 보기\n",
    "sgd_model = SGDClassifier(random_state = 123)\n",
    "sgd_model.fit(x_train, y_train)\n",
    "y_pred = sgd_model.predict(x_test)\n",
    "\n",
    "print(classification_report(y_test, y_pred))"
   ]
  },
  {
   "cell_type": "code",
   "execution_count": 10,
   "metadata": {},
   "outputs": [
    {
     "name": "stdout",
     "output_type": "stream",
     "text": [
      "              precision    recall  f1-score   support\n",
      "\n",
      "           0       1.00      1.00      1.00        39\n",
      "           1       0.85      1.00      0.92        34\n",
      "           2       0.97      1.00      0.99        36\n",
      "           3       1.00      1.00      1.00        33\n",
      "           4       1.00      0.98      0.99        42\n",
      "           5       0.97      0.89      0.93        37\n",
      "           6       1.00      0.95      0.98        43\n",
      "           7       0.94      1.00      0.97        31\n",
      "           8       1.00      0.89      0.94        37\n",
      "           9       0.97      1.00      0.98        28\n",
      "\n",
      "    accuracy                           0.97       360\n",
      "   macro avg       0.97      0.97      0.97       360\n",
      "weighted avg       0.97      0.97      0.97       360\n",
      "\n"
     ]
    }
   ],
   "source": [
    "# 5_5. Logistic Regression 사용해 보기\n",
    "logic_model = LogisticRegression(random_state = 123, max_iter = 2500)\n",
    "logic_model.fit(x_train, y_train)\n",
    "y_pred = logic_model.predict(x_test)\n",
    "\n",
    "print(classification_report(y_test, y_pred))"
   ]
  },
  {
   "cell_type": "code",
   "execution_count": 11,
   "metadata": {},
   "outputs": [],
   "source": [
    "# 6. 모델 평가하기\n",
    "\n",
    "# 해당 데이터는 숫자 그림을 얼마나 잘 분류하느냐의 문제이므로 제 1종 오류, 제 2종오류 둘 다 판단해야 할 것 같다. \n",
    "# 따라서 둘의 조화평균인 f1과 accuracy를 보면 될 것 같다.\n",
    "# 위의 보고서를 보면 accuracy와 f1이 동일하게 나왔다.\n",
    "# 따라서 accuracy만 봐서 모델들의 성능을 판단해도 될 것 같다.\n",
    "\n",
    "# Decision Tree\n",
    "# accuracy : 0.83\n",
    "\n",
    "# Random Forest\n",
    "# accuracy : 0.97\n",
    "\n",
    "# SVM\n",
    "# accuracy : 0.99\n",
    "\n",
    "# SGD\n",
    "# accuracy : 0.97\n",
    "\n",
    "# Logistic Regression\n",
    "# accuracy : 0.97\n",
    "\n",
    "# 레포트를 토대로 보면 SVM이 가장 평가가 높고, 의사결정나무가 가장 평가가 낮다.(f1값들의 차이도 다른 모델보다 크다)\n",
    "# 나머지 3개의 모델은 평가 수치가 같다.\n",
    "# 전체를 보면 의사결정나무는 평가 수치가 낮고, 나머지 4개의 모델은 거의 비슷한 수준이라고 볼 수 있다.(최대 2% 차이)"
   ]
  },
  {
   "cell_type": "markdown",
   "metadata": {},
   "source": [
    "## 2-2. wine"
   ]
  },
  {
   "cell_type": "code",
   "execution_count": 12,
   "metadata": {},
   "outputs": [],
   "source": [
    "# 1. 필요한 모듈 import하기\n",
    "from sklearn.datasets import load_wine               # 데이터를 불러오기 위한 함수\n",
    "from sklearn.model_selection import train_test_split # 트레이닝 셋과 테스트 셋으로 나누기 위한 함수\n",
    "from sklearn.metrics import classification_report    # 모델평가를 위한 함수\n",
    "from sklearn.tree import DecisionTreeClassifier      # 의사결정나무(분류) 함수\n",
    "from sklearn.ensemble import RandomForestClassifier  # 랜덤포레스트 함수\n",
    "from sklearn import svm                              # SVM 함수\n",
    "from sklearn.linear_model import SGDClassifier       # SGD 함수\n",
    "from sklearn.linear_model import LogisticRegression  # 로지스틱 함수"
   ]
  },
  {
   "cell_type": "code",
   "execution_count": 13,
   "metadata": {},
   "outputs": [],
   "source": [
    "# 2. 데이터 준비하기\n",
    "wine = load_wine()"
   ]
  },
  {
   "cell_type": "code",
   "execution_count": 14,
   "metadata": {},
   "outputs": [
    {
     "name": "stdout",
     "output_type": "stream",
     "text": [
      "['class_0' 'class_1' 'class_2']\n",
      ".. _wine_dataset:\n",
      "\n",
      "Wine recognition dataset\n",
      "------------------------\n",
      "\n",
      "**Data Set Characteristics:**\n",
      "\n",
      "    :Number of Instances: 178 (50 in each of three classes)\n",
      "    :Number of Attributes: 13 numeric, predictive attributes and the class\n",
      "    :Attribute Information:\n",
      " \t\t- Alcohol\n",
      " \t\t- Malic acid\n",
      " \t\t- Ash\n",
      "\t\t- Alcalinity of ash  \n",
      " \t\t- Magnesium\n",
      "\t\t- Total phenols\n",
      " \t\t- Flavanoids\n",
      " \t\t- Nonflavanoid phenols\n",
      " \t\t- Proanthocyanins\n",
      "\t\t- Color intensity\n",
      " \t\t- Hue\n",
      " \t\t- OD280/OD315 of diluted wines\n",
      " \t\t- Proline\n",
      "\n",
      "    - class:\n",
      "            - class_0\n",
      "            - class_1\n",
      "            - class_2\n",
      "\t\t\n",
      "    :Summary Statistics:\n",
      "    \n",
      "    ============================= ==== ===== ======= =====\n",
      "                                   Min   Max   Mean     SD\n",
      "    ============================= ==== ===== ======= =====\n",
      "    Alcohol:                      11.0  14.8    13.0   0.8\n",
      "    Malic Acid:                   0.74  5.80    2.34  1.12\n",
      "    Ash:                          1.36  3.23    2.36  0.27\n",
      "    Alcalinity of Ash:            10.6  30.0    19.5   3.3\n",
      "    Magnesium:                    70.0 162.0    99.7  14.3\n",
      "    Total Phenols:                0.98  3.88    2.29  0.63\n",
      "    Flavanoids:                   0.34  5.08    2.03  1.00\n",
      "    Nonflavanoid Phenols:         0.13  0.66    0.36  0.12\n",
      "    Proanthocyanins:              0.41  3.58    1.59  0.57\n",
      "    Colour Intensity:              1.3  13.0     5.1   2.3\n",
      "    Hue:                          0.48  1.71    0.96  0.23\n",
      "    OD280/OD315 of diluted wines: 1.27  4.00    2.61  0.71\n",
      "    Proline:                       278  1680     746   315\n",
      "    ============================= ==== ===== ======= =====\n",
      "\n",
      "    :Missing Attribute Values: None\n",
      "    :Class Distribution: class_0 (59), class_1 (71), class_2 (48)\n",
      "    :Creator: R.A. Fisher\n",
      "    :Donor: Michael Marshall (MARSHALL%PLU@io.arc.nasa.gov)\n",
      "    :Date: July, 1988\n",
      "\n",
      "This is a copy of UCI ML Wine recognition datasets.\n",
      "https://archive.ics.uci.edu/ml/machine-learning-databases/wine/wine.data\n",
      "\n",
      "The data is the results of a chemical analysis of wines grown in the same\n",
      "region in Italy by three different cultivators. There are thirteen different\n",
      "measurements taken for different constituents found in the three types of\n",
      "wine.\n",
      "\n",
      "Original Owners: \n",
      "\n",
      "Forina, M. et al, PARVUS - \n",
      "An Extendible Package for Data Exploration, Classification and Correlation. \n",
      "Institute of Pharmaceutical and Food Analysis and Technologies,\n",
      "Via Brigata Salerno, 16147 Genoa, Italy.\n",
      "\n",
      "Citation:\n",
      "\n",
      "Lichman, M. (2013). UCI Machine Learning Repository\n",
      "[https://archive.ics.uci.edu/ml]. Irvine, CA: University of California,\n",
      "School of Information and Computer Science. \n",
      "\n",
      ".. topic:: References\n",
      "\n",
      "  (1) S. Aeberhard, D. Coomans and O. de Vel, \n",
      "  Comparison of Classifiers in High Dimensional Settings, \n",
      "  Tech. Rep. no. 92-02, (1992), Dept. of Computer Science and Dept. of  \n",
      "  Mathematics and Statistics, James Cook University of North Queensland. \n",
      "  (Also submitted to Technometrics). \n",
      "\n",
      "  The data was used with many others for comparing various \n",
      "  classifiers. The classes are separable, though only RDA \n",
      "  has achieved 100% correct classification. \n",
      "  (RDA : 100%, QDA 99.4%, LDA 98.9%, 1NN 96.1% (z-transformed data)) \n",
      "  (All results using the leave-one-out technique) \n",
      "\n",
      "  (2) S. Aeberhard, D. Coomans and O. de Vel, \n",
      "  \"THE CLASSIFICATION PERFORMANCE OF RDA\" \n",
      "  Tech. Rep. no. 92-01, (1992), Dept. of Computer Science and Dept. of \n",
      "  Mathematics and Statistics, James Cook University of North Queensland. \n",
      "  (Also submitted to Journal of Chemometrics).\n",
      "\n"
     ]
    }
   ],
   "source": [
    "# 3. 데이터 이해하기\n",
    "\n",
    "# Feature Data 지정하기\n",
    "wine_data = wine.data\n",
    "\n",
    "# Label Data 지정하기\n",
    "wine_label = wine.target\n",
    "\n",
    "# Target Names 출력해보기\n",
    "print(wine.target_names)\n",
    "\n",
    "# 데이터 Describe 해보기\n",
    "print(wine.DESCR)"
   ]
  },
  {
   "cell_type": "code",
   "execution_count": 15,
   "metadata": {},
   "outputs": [],
   "source": [
    "# 4. train, test 데이터 분리\n",
    "# 데이터를 트레이닝 셋(80%)과 테스트 셋(20%)으로 나누기\n",
    "x_train, x_test, y_train, y_test = train_test_split(wine_data, wine_label, test_size = 0.2, random_state = 123)"
   ]
  },
  {
   "cell_type": "code",
   "execution_count": 16,
   "metadata": {},
   "outputs": [],
   "source": [
    "# 5. 다양한 모델로 학습시켜보기"
   ]
  },
  {
   "cell_type": "code",
   "execution_count": 17,
   "metadata": {},
   "outputs": [
    {
     "name": "stdout",
     "output_type": "stream",
     "text": [
      "              precision    recall  f1-score   support\n",
      "\n",
      "           0       0.89      1.00      0.94         8\n",
      "           1       1.00      0.91      0.95        11\n",
      "           2       1.00      1.00      1.00        17\n",
      "\n",
      "    accuracy                           0.97        36\n",
      "   macro avg       0.96      0.97      0.96        36\n",
      "weighted avg       0.98      0.97      0.97        36\n",
      "\n"
     ]
    }
   ],
   "source": [
    "# 5_1. Decision Tree 사용해 보기\n",
    "decision_tree = DecisionTreeClassifier(random_state = 123)\n",
    "decision_tree.fit(x_train, y_train)\n",
    "y_pred = decision_tree.predict(x_test)\n",
    "\n",
    "print(classification_report(y_test, y_pred))"
   ]
  },
  {
   "cell_type": "code",
   "execution_count": 18,
   "metadata": {},
   "outputs": [
    {
     "name": "stdout",
     "output_type": "stream",
     "text": [
      "              precision    recall  f1-score   support\n",
      "\n",
      "           0       1.00      1.00      1.00         8\n",
      "           1       1.00      1.00      1.00        11\n",
      "           2       1.00      1.00      1.00        17\n",
      "\n",
      "    accuracy                           1.00        36\n",
      "   macro avg       1.00      1.00      1.00        36\n",
      "weighted avg       1.00      1.00      1.00        36\n",
      "\n"
     ]
    }
   ],
   "source": [
    "# 5_2. Random Forest 사용해 보기\n",
    "random_forest = RandomForestClassifier(random_state = 123)\n",
    "random_forest.fit(x_train, y_train)\n",
    "y_pred = random_forest.predict(x_test)\n",
    "\n",
    "print(classification_report(y_test, y_pred))"
   ]
  },
  {
   "cell_type": "code",
   "execution_count": 19,
   "metadata": {},
   "outputs": [
    {
     "name": "stdout",
     "output_type": "stream",
     "text": [
      "              precision    recall  f1-score   support\n",
      "\n",
      "           0       0.80      1.00      0.89         8\n",
      "           1       0.38      0.91      0.54        11\n",
      "           2       1.00      0.00      0.00        17\n",
      "\n",
      "    accuracy                           0.50        36\n",
      "   macro avg       0.73      0.64      0.48        36\n",
      "weighted avg       0.77      0.50      0.36        36\n",
      "\n"
     ]
    }
   ],
   "source": [
    "# 5_3. SVM 사용해 보기\n",
    "svm_model = svm.SVC(random_state = 123)\n",
    "svm_model.fit(x_train, y_train)\n",
    "y_pred = svm_model.predict(x_test)\n",
    "\n",
    "print(classification_report(y_test, y_pred, zero_division = 1))"
   ]
  },
  {
   "cell_type": "code",
   "execution_count": 20,
   "metadata": {},
   "outputs": [
    {
     "name": "stdout",
     "output_type": "stream",
     "text": [
      "              precision    recall  f1-score   support\n",
      "\n",
      "           0       0.80      1.00      0.89         8\n",
      "           1       0.42      1.00      0.59        11\n",
      "           2       1.00      0.00      0.00        17\n",
      "\n",
      "    accuracy                           0.53        36\n",
      "   macro avg       0.74      0.67      0.49        36\n",
      "weighted avg       0.78      0.53      0.38        36\n",
      "\n"
     ]
    }
   ],
   "source": [
    "# 5_4. SGD Classifier 사용해 보기\n",
    "sgd_model = SGDClassifier(random_state = 123)\n",
    "sgd_model.fit(x_train, y_train)\n",
    "y_pred = sgd_model.predict(x_test)\n",
    "\n",
    "print(classification_report(y_test, y_pred, zero_division = 1))"
   ]
  },
  {
   "cell_type": "code",
   "execution_count": 21,
   "metadata": {},
   "outputs": [
    {
     "name": "stdout",
     "output_type": "stream",
     "text": [
      "              precision    recall  f1-score   support\n",
      "\n",
      "           0       0.89      1.00      0.94         8\n",
      "           1       0.91      0.91      0.91        11\n",
      "           2       1.00      0.94      0.97        17\n",
      "\n",
      "    accuracy                           0.94        36\n",
      "   macro avg       0.93      0.95      0.94        36\n",
      "weighted avg       0.95      0.94      0.94        36\n",
      "\n"
     ]
    }
   ],
   "source": [
    "# 5_5. Logistic Regression 사용해 보기\n",
    "logic_model = LogisticRegression(random_state = 123, max_iter = 2500)\n",
    "logic_model.fit(x_train, y_train)\n",
    "y_pred = logic_model.predict(x_test)\n",
    "\n",
    "print(classification_report(y_test, y_pred))"
   ]
  },
  {
   "cell_type": "code",
   "execution_count": 22,
   "metadata": {},
   "outputs": [],
   "source": [
    "# 6. 모델 평가하기\n",
    "\n",
    "# 해당 데이터는 와인을 3개의 카테고리로 분류하는 문제로 digits와 마찬가지로 f1와 accuracy를 같이 보는 것이 좋을 것 같다.\n",
    "\n",
    "# Decision Tree\n",
    "# accuracy : 0.97\n",
    "# f1       : 0.96\n",
    "\n",
    "# Random Forest\n",
    "# accuracy : 1.00\n",
    "# f1       : 1.00\n",
    "\n",
    "# SVM\n",
    "# accuracy : 0.50\n",
    "# f1       : 0.48\n",
    "\n",
    "# SGD\n",
    "# accuracy : 0.53\n",
    "# f1       : 0.49\n",
    "\n",
    "# Logistic Regression\n",
    "# accuracy : 0.94\n",
    "# f1       : 0.94\n",
    "\n",
    "# 레포트를 토대로 보면 랜덤포레스트가 가장 평가가 높고(무려 100%), SVM이 가장 평가가 낮다.\n",
    "# 의사결정나무와 로지스틱은 그래도 양호한 성능을 보이고 있고, SVM과 SGD는 50%정도로 안 좋은 성능을 보이고 있다."
   ]
  },
  {
   "cell_type": "markdown",
   "metadata": {},
   "source": [
    "## 2-3. breast_cancer\n"
   ]
  },
  {
   "cell_type": "code",
   "execution_count": 23,
   "metadata": {},
   "outputs": [],
   "source": [
    "# 1. 필요한 모듈 import하기\n",
    "from sklearn.datasets import load_breast_cancer      # 데이터를 불러오기 위한 함수\n",
    "from sklearn.model_selection import train_test_split # 트레이닝 셋과 테스트 셋으로 나누기 위한 함수\n",
    "from sklearn.metrics import classification_report    # 모델평가를 위한 함수\n",
    "from sklearn.tree import DecisionTreeClassifier      # 의사결정나무(분류) 함수\n",
    "from sklearn.ensemble import RandomForestClassifier  # 랜덤포레스트 함수\n",
    "from sklearn import svm                              # SVM 함수\n",
    "from sklearn.linear_model import SGDClassifier       # SGD 함수\n",
    "from sklearn.linear_model import LogisticRegression  # 로지스틱 함수"
   ]
  },
  {
   "cell_type": "code",
   "execution_count": 24,
   "metadata": {},
   "outputs": [],
   "source": [
    "# 2. 데이터 준비하기\n",
    "cancer = load_breast_cancer()"
   ]
  },
  {
   "cell_type": "code",
   "execution_count": 25,
   "metadata": {},
   "outputs": [
    {
     "name": "stdout",
     "output_type": "stream",
     "text": [
      "['malignant' 'benign']\n",
      ".. _breast_cancer_dataset:\n",
      "\n",
      "Breast cancer wisconsin (diagnostic) dataset\n",
      "--------------------------------------------\n",
      "\n",
      "**Data Set Characteristics:**\n",
      "\n",
      "    :Number of Instances: 569\n",
      "\n",
      "    :Number of Attributes: 30 numeric, predictive attributes and the class\n",
      "\n",
      "    :Attribute Information:\n",
      "        - radius (mean of distances from center to points on the perimeter)\n",
      "        - texture (standard deviation of gray-scale values)\n",
      "        - perimeter\n",
      "        - area\n",
      "        - smoothness (local variation in radius lengths)\n",
      "        - compactness (perimeter^2 / area - 1.0)\n",
      "        - concavity (severity of concave portions of the contour)\n",
      "        - concave points (number of concave portions of the contour)\n",
      "        - symmetry\n",
      "        - fractal dimension (\"coastline approximation\" - 1)\n",
      "\n",
      "        The mean, standard error, and \"worst\" or largest (mean of the three\n",
      "        worst/largest values) of these features were computed for each image,\n",
      "        resulting in 30 features.  For instance, field 0 is Mean Radius, field\n",
      "        10 is Radius SE, field 20 is Worst Radius.\n",
      "\n",
      "        - class:\n",
      "                - WDBC-Malignant\n",
      "                - WDBC-Benign\n",
      "\n",
      "    :Summary Statistics:\n",
      "\n",
      "    ===================================== ====== ======\n",
      "                                           Min    Max\n",
      "    ===================================== ====== ======\n",
      "    radius (mean):                        6.981  28.11\n",
      "    texture (mean):                       9.71   39.28\n",
      "    perimeter (mean):                     43.79  188.5\n",
      "    area (mean):                          143.5  2501.0\n",
      "    smoothness (mean):                    0.053  0.163\n",
      "    compactness (mean):                   0.019  0.345\n",
      "    concavity (mean):                     0.0    0.427\n",
      "    concave points (mean):                0.0    0.201\n",
      "    symmetry (mean):                      0.106  0.304\n",
      "    fractal dimension (mean):             0.05   0.097\n",
      "    radius (standard error):              0.112  2.873\n",
      "    texture (standard error):             0.36   4.885\n",
      "    perimeter (standard error):           0.757  21.98\n",
      "    area (standard error):                6.802  542.2\n",
      "    smoothness (standard error):          0.002  0.031\n",
      "    compactness (standard error):         0.002  0.135\n",
      "    concavity (standard error):           0.0    0.396\n",
      "    concave points (standard error):      0.0    0.053\n",
      "    symmetry (standard error):            0.008  0.079\n",
      "    fractal dimension (standard error):   0.001  0.03\n",
      "    radius (worst):                       7.93   36.04\n",
      "    texture (worst):                      12.02  49.54\n",
      "    perimeter (worst):                    50.41  251.2\n",
      "    area (worst):                         185.2  4254.0\n",
      "    smoothness (worst):                   0.071  0.223\n",
      "    compactness (worst):                  0.027  1.058\n",
      "    concavity (worst):                    0.0    1.252\n",
      "    concave points (worst):               0.0    0.291\n",
      "    symmetry (worst):                     0.156  0.664\n",
      "    fractal dimension (worst):            0.055  0.208\n",
      "    ===================================== ====== ======\n",
      "\n",
      "    :Missing Attribute Values: None\n",
      "\n",
      "    :Class Distribution: 212 - Malignant, 357 - Benign\n",
      "\n",
      "    :Creator:  Dr. William H. Wolberg, W. Nick Street, Olvi L. Mangasarian\n",
      "\n",
      "    :Donor: Nick Street\n",
      "\n",
      "    :Date: November, 1995\n",
      "\n",
      "This is a copy of UCI ML Breast Cancer Wisconsin (Diagnostic) datasets.\n",
      "https://goo.gl/U2Uwz2\n",
      "\n",
      "Features are computed from a digitized image of a fine needle\n",
      "aspirate (FNA) of a breast mass.  They describe\n",
      "characteristics of the cell nuclei present in the image.\n",
      "\n",
      "Separating plane described above was obtained using\n",
      "Multisurface Method-Tree (MSM-T) [K. P. Bennett, \"Decision Tree\n",
      "Construction Via Linear Programming.\" Proceedings of the 4th\n",
      "Midwest Artificial Intelligence and Cognitive Science Society,\n",
      "pp. 97-101, 1992], a classification method which uses linear\n",
      "programming to construct a decision tree.  Relevant features\n",
      "were selected using an exhaustive search in the space of 1-4\n",
      "features and 1-3 separating planes.\n",
      "\n",
      "The actual linear program used to obtain the separating plane\n",
      "in the 3-dimensional space is that described in:\n",
      "[K. P. Bennett and O. L. Mangasarian: \"Robust Linear\n",
      "Programming Discrimination of Two Linearly Inseparable Sets\",\n",
      "Optimization Methods and Software 1, 1992, 23-34].\n",
      "\n",
      "This database is also available through the UW CS ftp server:\n",
      "\n",
      "ftp ftp.cs.wisc.edu\n",
      "cd math-prog/cpo-dataset/machine-learn/WDBC/\n",
      "\n",
      ".. topic:: References\n",
      "\n",
      "   - W.N. Street, W.H. Wolberg and O.L. Mangasarian. Nuclear feature extraction \n",
      "     for breast tumor diagnosis. IS&T/SPIE 1993 International Symposium on \n",
      "     Electronic Imaging: Science and Technology, volume 1905, pages 861-870,\n",
      "     San Jose, CA, 1993.\n",
      "   - O.L. Mangasarian, W.N. Street and W.H. Wolberg. Breast cancer diagnosis and \n",
      "     prognosis via linear programming. Operations Research, 43(4), pages 570-577, \n",
      "     July-August 1995.\n",
      "   - W.H. Wolberg, W.N. Street, and O.L. Mangasarian. Machine learning techniques\n",
      "     to diagnose breast cancer from fine-needle aspirates. Cancer Letters 77 (1994) \n",
      "     163-171.\n"
     ]
    }
   ],
   "source": [
    "# 3. 데이터 이해하기\n",
    "\n",
    "# Feature Data 지정하기\n",
    "cancer_data = cancer.data\n",
    "\n",
    "# Label Data 지정하기\n",
    "cancer_label = cancer.target\n",
    "\n",
    "# Target Names 출력해보기\n",
    "print(cancer.target_names)\n",
    "\n",
    "# 데이터 Describe 해보기\n",
    "print(cancer.DESCR)"
   ]
  },
  {
   "cell_type": "code",
   "execution_count": 26,
   "metadata": {},
   "outputs": [],
   "source": [
    "# 4. train, test 데이터 분리\n",
    "# 데이터를 트레이닝 셋(80%)과 테스트 셋(20%)으로 나누기\n",
    "x_train, x_test, y_train, y_test = train_test_split(cancer_data, cancer_label, test_size = 0.2, random_state = 123)"
   ]
  },
  {
   "cell_type": "code",
   "execution_count": 27,
   "metadata": {},
   "outputs": [],
   "source": [
    "# 5. 다양한 모델로 학습시켜보기"
   ]
  },
  {
   "cell_type": "code",
   "execution_count": 28,
   "metadata": {},
   "outputs": [
    {
     "name": "stdout",
     "output_type": "stream",
     "text": [
      "              precision    recall  f1-score   support\n",
      "\n",
      "           0       0.95      0.93      0.94        41\n",
      "           1       0.96      0.97      0.97        73\n",
      "\n",
      "    accuracy                           0.96       114\n",
      "   macro avg       0.95      0.95      0.95       114\n",
      "weighted avg       0.96      0.96      0.96       114\n",
      "\n"
     ]
    }
   ],
   "source": [
    "# 5_1. Decision Tree 사용해 보기\n",
    "decision_tree = DecisionTreeClassifier(random_state = 123)\n",
    "decision_tree.fit(x_train, y_train)\n",
    "y_pred = decision_tree.predict(x_test)\n",
    "\n",
    "print(classification_report(y_test, y_pred))"
   ]
  },
  {
   "cell_type": "code",
   "execution_count": 29,
   "metadata": {},
   "outputs": [
    {
     "name": "stdout",
     "output_type": "stream",
     "text": [
      "              precision    recall  f1-score   support\n",
      "\n",
      "           0       1.00      0.98      0.99        41\n",
      "           1       0.99      1.00      0.99        73\n",
      "\n",
      "    accuracy                           0.99       114\n",
      "   macro avg       0.99      0.99      0.99       114\n",
      "weighted avg       0.99      0.99      0.99       114\n",
      "\n"
     ]
    }
   ],
   "source": [
    "# 5_2. Random Forest 사용해 보기\n",
    "random_forest = RandomForestClassifier(random_state = 123)\n",
    "random_forest.fit(x_train, y_train)\n",
    "y_pred = random_forest.predict(x_test)\n",
    "\n",
    "print(classification_report(y_test, y_pred))"
   ]
  },
  {
   "cell_type": "code",
   "execution_count": 30,
   "metadata": {},
   "outputs": [
    {
     "name": "stdout",
     "output_type": "stream",
     "text": [
      "              precision    recall  f1-score   support\n",
      "\n",
      "           0       1.00      0.80      0.89        41\n",
      "           1       0.90      1.00      0.95        73\n",
      "\n",
      "    accuracy                           0.93       114\n",
      "   macro avg       0.95      0.90      0.92       114\n",
      "weighted avg       0.94      0.93      0.93       114\n",
      "\n"
     ]
    }
   ],
   "source": [
    "# 5_3. SVM 사용해 보기\n",
    "svm_model = svm.SVC(random_state = 123)\n",
    "svm_model.fit(x_train, y_train)\n",
    "y_pred = svm_model.predict(x_test)\n",
    "\n",
    "print(classification_report(y_test, y_pred))"
   ]
  },
  {
   "cell_type": "code",
   "execution_count": 31,
   "metadata": {},
   "outputs": [
    {
     "name": "stdout",
     "output_type": "stream",
     "text": [
      "              precision    recall  f1-score   support\n",
      "\n",
      "           0       1.00      0.71      0.83        41\n",
      "           1       0.86      1.00      0.92        73\n",
      "\n",
      "    accuracy                           0.89       114\n",
      "   macro avg       0.93      0.85      0.88       114\n",
      "weighted avg       0.91      0.89      0.89       114\n",
      "\n"
     ]
    }
   ],
   "source": [
    "# 5_4. SGD Classifier 사용해 보기\n",
    "sgd_model = SGDClassifier(random_state = 123)\n",
    "sgd_model.fit(x_train, y_train)\n",
    "y_pred = sgd_model.predict(x_test)\n",
    "\n",
    "print(classification_report(y_test, y_pred))"
   ]
  },
  {
   "cell_type": "code",
   "execution_count": 32,
   "metadata": {},
   "outputs": [
    {
     "name": "stdout",
     "output_type": "stream",
     "text": [
      "              precision    recall  f1-score   support\n",
      "\n",
      "           0       1.00      0.95      0.97        41\n",
      "           1       0.97      1.00      0.99        73\n",
      "\n",
      "    accuracy                           0.98       114\n",
      "   macro avg       0.99      0.98      0.98       114\n",
      "weighted avg       0.98      0.98      0.98       114\n",
      "\n"
     ]
    }
   ],
   "source": [
    "# 5_5. Logistic Regression 사용해 보기\n",
    "logic_model = LogisticRegression(random_state = 123, max_iter = 2500)\n",
    "logic_model.fit(x_train, y_train)\n",
    "y_pred = logic_model.predict(x_test)\n",
    "\n",
    "print(classification_report(y_test, y_pred))"
   ]
  },
  {
   "cell_type": "code",
   "execution_count": 33,
   "metadata": {},
   "outputs": [],
   "source": [
    "# 6. 모델 평가하기\n",
    "\n",
    "# 해당 데이터는 암에 걸렸는지, 아닌지를 판단하는 것으로 암에 걸렸는데 안 걸렸다고 잘못 판단하는 것이 더 위험하기 때문에 \n",
    "# recall을 가지고 판단하는 것이 적절하다고 판단된다.\n",
    "# 따라서 recall열의 macro avg(단순평균)을 비교하면 될 것 같다.\n",
    "# accuracy는 정확도로 같이 보는 것이 맞는 것 같다.\n",
    "\n",
    "# Decision Tree\n",
    "# accuracy : 0.96\n",
    "# macro avg : 0.95\n",
    "\n",
    "# Random Forest\n",
    "# accuracy : 0.99\n",
    "# macro avg : 0.99\n",
    "\n",
    "# SVM\n",
    "# accuracy : 0.93\n",
    "# macro avg : 0.90\n",
    "\n",
    "# SGD\n",
    "# accuracy : 0.89\n",
    "# macro avg : 0.85\n",
    "\n",
    "# Logistic Regression\n",
    "# accuracy : 0.98\n",
    "# macro avg : 0.98\n",
    "\n",
    "\n",
    "# 레포트를 토대로 보면 랜덤포레스트가 가장 평가가 높고, SGD가 가장 평가가 낮다.\n",
    "# accuracy가 높은 모델은 macro avg도 높게 나왔다.\n",
    "# 암에 관련한 문제이기 때문에 기준을 높게 잡아야 할 것 같다.\n",
    "# 따라서 랜덤포레스트와 로지스틱은 대체로 좋은 성능을 보이는 반면 SVM과 SGD는 좋지 못한 성능을 보인다. 의사결정나무는 그럭저럭으로 보인다."
   ]
  },
  {
   "cell_type": "code",
   "execution_count": null,
   "metadata": {},
   "outputs": [],
   "source": []
  }
 ],
 "metadata": {
  "kernelspec": {
   "display_name": "Python 3",
   "language": "python",
   "name": "python3"
  },
  "language_info": {
   "codemirror_mode": {
    "name": "ipython",
    "version": 3
   },
   "file_extension": ".py",
   "mimetype": "text/x-python",
   "name": "python",
   "nbconvert_exporter": "python",
   "pygments_lexer": "ipython3",
   "version": "3.7.9"
  }
 },
 "nbformat": 4,
 "nbformat_minor": 4
}
