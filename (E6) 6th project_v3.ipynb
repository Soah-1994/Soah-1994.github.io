{
 "cells": [
  {
   "cell_type": "code",
   "execution_count": 1,
   "id": "detected-confirmation",
   "metadata": {},
   "outputs": [],
   "source": [
    "# 패키지 로딩하기\n",
    "import re\n",
    "import numpy as np\n",
    "import tensorflow as tf\n",
    "import os\n",
    "import glob\n",
    "import sklearn.model_selection\n",
    "import matplotlib.pyplot as plt"
   ]
  },
  {
   "cell_type": "code",
   "execution_count": 2,
   "id": "favorite-prairie",
   "metadata": {},
   "outputs": [],
   "source": [
    "# 데이터 불러오기\n",
    "txt_file_path = os.getenv(\"HOME\") + \"/aiffel/lyricist/data/lyrics/*\" # ~/aiffel/lyricist/data/lyrics 폴더 안의 모든 파일 선택\n",
    "txt_list      = glob.glob(txt_file_path)                             # 파일 경로 안의 모든 파일 이름 리스트형태로 반환"
   ]
  },
  {
   "cell_type": "code",
   "execution_count": 3,
   "id": "corrected-cream",
   "metadata": {},
   "outputs": [],
   "source": [
    "raw_corpus = []                     # 미리 빈 리스트를 만들고\n",
    "\n",
    "for txt_file in txt_list:           # txt_list을 하나씩 가져와서 txt_file이라고 명명하고\n",
    "    with open(txt_file, \"r\") as f:  # txt_file을 읽기전용으로 열고 f라고 명명하고\n",
    "        raw = f.read().splitlines() # f을 한줄씩 읽어와서\n",
    "        raw_corpus.extend(raw)      # 미리 만들어 놓은 raw_corpus에 넣는다. (iterable로 넣기위해 extend 사용)"
   ]
  },
  {
   "cell_type": "code",
   "execution_count": 4,
   "id": "confused-borough",
   "metadata": {},
   "outputs": [
    {
     "name": "stdout",
     "output_type": "stream",
     "text": [
      "전체 문장 갯수 : 187088\n",
      "예시 문장 5개 : ['The first words that come out', 'And I can see this song will be about you', \"I can't believe that I can breathe without you\", 'But all I need to do is carry on', 'The next line I write down']\n"
     ]
    }
   ],
   "source": [
    "print(\"전체 문장 갯수 :\", len(raw_corpus))\n",
    "print(\"예시 문장 5개 :\", raw_corpus[:5])\n",
    "\n",
    "# 연극 대사처럼 따로 빼거나 없애야 하는 특수문자는 보이지 않음"
   ]
  },
  {
   "cell_type": "code",
   "execution_count": 5,
   "id": "detected-relay",
   "metadata": {},
   "outputs": [],
   "source": [
    "# 데이터 정제하기 (데이터 전처리)\n",
    "# 토큰화 했을 때 토큰 갯수가 15개를 넘어가는 문장은 학습데이터에서 제외함. (노드에서 시킴)\n",
    "def preprocess_sentence(sentence):      # 문장을 정제하는 함수를 만들 것임\n",
    "    sentence = sentence.lower().strip() # 먼저 들어온 문장을 소문자로 바꾸고 양쪽 공백이 있으면 제거함\n",
    "    \n",
    "    # 문장에서 처리해줘야 할 기호나 패턴을 처리\n",
    "    # 실습 데이터는 그대로 써도 될 것같지만 혹시 몰라서 노드에 있는 경우의 수를 그대로 씀\n",
    "    sentence = re.sub(r\"([?.!,¿])\", r\" \\1 \", sentence)   # 패턴의 특수문자를 만나면 특수문자 양쪽에 공백을 추가\n",
    "    sentence = re.sub(r'[\" \"]+', \" \", sentence)          # 공백 패턴을 만나면 공백 1개로 치환\n",
    "    sentence = re.sub(r\"[^a-zA-Z?.!,¿]+\", \" \", sentence) # 알파벳(대,소문자), ?.!,¿패턴을 제외한 모든 문자(공백 포함)를 공백 1개로 치환\n",
    "    \n",
    "    sentence = sentence.strip()                          # 한번 더 양쪽 공백 제거\n",
    "    sentence = \"<start> \" + sentence + \" <end>\"          # sentence 양쪽에 시작과 끝을 알리는 단어를 붙여줌\n",
    "    \n",
    "    return sentence"
   ]
  },
  {
   "cell_type": "code",
   "execution_count": 6,
   "id": "dominant-discretion",
   "metadata": {},
   "outputs": [
    {
     "name": "stdout",
     "output_type": "stream",
     "text": [
      "<start> test it s sample text <end>\n"
     ]
    }
   ],
   "source": [
    "# 함수가 잘 만들어졌는지 확인하기\n",
    "print(preprocess_sentence(\"Test : It's @#%^$#%$ sample     text\"))\n",
    "\n",
    "# 공백, 특수문자 전부 잘 처리됨."
   ]
  },
  {
   "cell_type": "code",
   "execution_count": 7,
   "id": "lonely-formula",
   "metadata": {
    "scrolled": true
   },
   "outputs": [
    {
     "data": {
      "text/plain": [
       "['<start> the first words that come out <end>',\n",
       " '<start> and i can see this song will be about you <end>',\n",
       " '<start> i can t believe that i can breathe without you <end>',\n",
       " '<start> but all i need to do is carry on <end>',\n",
       " '<start> the next line i write down <end>',\n",
       " '<start> and there s a tear that falls between the pages <end>',\n",
       " '<start> i know that pain s supposed to heal in stages <end>',\n",
       " '<start> i could throw it in the river and watch it sink in slowly <end>',\n",
       " '<start> tie the pages to a plane and send it to the moon <end>']"
      ]
     },
     "execution_count": 7,
     "metadata": {},
     "output_type": "execute_result"
    }
   ],
   "source": [
    "corpus = [] # 빈 리스트를 미리 만들고\n",
    "\n",
    "for sentence in raw_corpus:                       # 기존의 텍스트 데이터를 한개씩 가져와서\n",
    "    if len(sentence) == 0: continue               # 아무것도 없는 것은 제외하고\n",
    "    temp_sentence = preprocess_sentence(sentence) # 정제하는 함수를 거친 뒤\n",
    "    if len(temp_sentence.split()) > 15: continue  # 토큰의 갯수가 15개를 넘어가는 문장은 데이터에서 제외하고\n",
    "    corpus.append(temp_sentence)                  # 리스트에 추가한다.\n",
    "\n",
    "corpus[:9] # 잘 뽑혔는지 10개만 출력하여 확인하기\n",
    "\n",
    "# 잘 작동함."
   ]
  },
  {
   "cell_type": "code",
   "execution_count": 8,
   "id": "knowing-cincinnati",
   "metadata": {},
   "outputs": [
    {
     "name": "stdout",
     "output_type": "stream",
     "text": [
      "corpus 갯수 : 156227\n"
     ]
    }
   ],
   "source": [
    "print(\"corpus 갯수 :\", len(corpus)) "
   ]
  },
  {
   "cell_type": "code",
   "execution_count": 9,
   "id": "assisted-orbit",
   "metadata": {},
   "outputs": [],
   "source": [
    "# 정제한 데이터를 텐서(벡터화)로 만들기\n",
    "def tokenize(corpus):\n",
    "    tokenizer = tf.keras.preprocessing.text.Tokenizer(num_words = 12000,   # 전체 단어의 개수 - 하이퍼파라미터\n",
    "                                                      filters   = \" \",     # 별도로 전처리 로직을 추가할 수 있습니다. 이번에는 사용하지 않겠습니다.\n",
    "                                                      oov_token = \"<unk>\") # 사전에 없었던 단어는 어떤 토큰으로 대체할지 정한다.\n",
    "    tokenizer.fit_on_texts(corpus) # corpus로부터 tokenizer가 사전을 자동 구축한다.\n",
    "    \n",
    "    tensor = tokenizer.texts_to_sequences(corpus) # 구축한 사전으로부터 corpus를 해석해 tensor로 변환한다.\n",
    "    \n",
    "    # 입력 데이터의 시퀀스 길이를 일정하게 맞추기 위한 padding  메소드를 제공한다. \n",
    "    # maxlen의 디폴트값은 None입니다. 이 경우 corpus의 가장 긴 문장을 기준으로 시퀀스 길이가 맞춰집니다.\n",
    "    tensor = tf.keras.preprocessing.sequence.pad_sequences(tensor, padding = \"post\")\n",
    "    \n",
    "    return tensor, tokenizer"
   ]
  },
  {
   "cell_type": "code",
   "execution_count": 10,
   "id": "coordinate-attraction",
   "metadata": {},
   "outputs": [
    {
     "name": "stdout",
     "output_type": "stream",
     "text": [
      "(156227, 15)\n"
     ]
    }
   ],
   "source": [
    "tensor, tokenizer = tokenize(corpus) # 전처리를 한 데이터를 만든 함수에 적용시켜서 텐서로 만든다.\n",
    "print(tensor.shape)                  # 156227개의 문장이 있고, 문장의 토큰 최대길이는 15이다."
   ]
  },
  {
   "cell_type": "code",
   "execution_count": 11,
   "id": "hairy-republic",
   "metadata": {},
   "outputs": [
    {
     "name": "stdout",
     "output_type": "stream",
     "text": [
      "[[  2   6 247 434  15  68  57   3   0   0   0   0   0   0   0]\n",
      " [  2   8   4  35  63  41 357  84  27 112   7   3   0   0   0]\n",
      " [  2   4  35  16 218  15   4  35 768 257   7   3   0   0   0]\n",
      " [  2  33  25   4  92  10  48  26 832  18   3   0   0   0   0]\n",
      " [  2   6 330 442   4 760  58   3   0   0   0   0   0   0   0]]\n"
     ]
    }
   ],
   "source": [
    "print(tensor[:5, ])"
   ]
  },
  {
   "cell_type": "code",
   "execution_count": 12,
   "id": "matched-theology",
   "metadata": {},
   "outputs": [
    {
     "name": "stdout",
     "output_type": "stream",
     "text": [
      "[  2   6 247 434  15  68  57   3   0   0   0   0   0   0]\n",
      "[  6 247 434  15  68  57   3   0   0   0   0   0   0   0]\n"
     ]
    }
   ],
   "source": [
    "# 평가 데이터셋 분리\n",
    "source_input = tensor[:, :-1] # tensor에서 마지막 토큰을 잘라내서 소스 문장을 생성합니다. 마지막 토큰은 <end>가 아니라 <pad>일 가능성이 높습니다.\n",
    "target_input = tensor[:, 1:]  # tensor에서 <start>를 잘라내서 타겟 문장을 생성합니다.\n",
    "\n",
    "print(source_input[0])\n",
    "print(target_input[0])"
   ]
  },
  {
   "cell_type": "code",
   "execution_count": 13,
   "id": "furnished-compression",
   "metadata": {},
   "outputs": [
    {
     "name": "stdout",
     "output_type": "stream",
     "text": [
      "Source Train: (124981, 14)\n",
      "Target Train: (124981, 14)\n"
     ]
    }
   ],
   "source": [
    "# sklear를 이용하여 train data와 vaildation data로 나눈다.\n",
    "enc_train, enc_val, dec_train, dec_val = sklearn.model_selection.train_test_split(source_input, target_input, test_size = 0.2)\n",
    "\n",
    "print(\"Source Train:\", enc_train.shape)\n",
    "print(\"Target Train:\", dec_train.shape)"
   ]
  },
  {
   "cell_type": "code",
   "execution_count": 14,
   "id": "governing-rates",
   "metadata": {},
   "outputs": [
    {
     "data": {
      "text/plain": [
       "<BatchDataset shapes: ((None, 14), (None, 14)), types: (tf.int32, tf.int32)>"
      ]
     },
     "execution_count": 14,
     "metadata": {},
     "output_type": "execute_result"
    }
   ],
   "source": [
    "buffer_size     = len(source_input)\n",
    "batch_size      = 256\n",
    "steps_per_epoch = buffer_size // batch_size\n",
    "\n",
    "vocab_size = tokenizer.num_words + 1 # tokenizer가 구축한 단어사전 내 12000개 + 여기에 포함되지 않은 0 : <pad>를 포함하여 12001개\n",
    "\n",
    "dataset = tf.data.Dataset.from_tensor_slices((source_input, target_input)).shuffle(buffer_size)\n",
    "dataset = dataset.batch(batch_size, drop_remainder = False)\n",
    "dataset"
   ]
  },
  {
   "cell_type": "code",
   "execution_count": 15,
   "id": "dental-colleague",
   "metadata": {},
   "outputs": [
    {
     "data": {
      "text/plain": [
       "<BatchDataset shapes: ((None, 14), (None, 14)), types: (tf.int32, tf.int32)>"
      ]
     },
     "execution_count": 15,
     "metadata": {},
     "output_type": "execute_result"
    }
   ],
   "source": [
    "training_set = tf.data.Dataset.from_tensor_slices((enc_train, dec_train)).shuffle(buffer_size)\n",
    "training_set = training_set.batch(batch_size, drop_remainder = False)\n",
    "training_set"
   ]
  },
  {
   "cell_type": "code",
   "execution_count": 16,
   "id": "addressed-tumor",
   "metadata": {},
   "outputs": [
    {
     "data": {
      "text/plain": [
       "<BatchDataset shapes: ((None, 14), (None, 14)), types: (tf.int32, tf.int32)>"
      ]
     },
     "execution_count": 16,
     "metadata": {},
     "output_type": "execute_result"
    }
   ],
   "source": [
    "vaildation_set = tf.data.Dataset.from_tensor_slices((enc_val, dec_val)).shuffle(buffer_size)\n",
    "vaildation_set = vaildation_set.batch(batch_size, drop_remainder = False)\n",
    "vaildation_set"
   ]
  },
  {
   "cell_type": "code",
   "execution_count": 17,
   "id": "caring-accused",
   "metadata": {},
   "outputs": [],
   "source": [
    "# 모델 만들기\n",
    "class TextGenerator(tf.keras.Model):\n",
    "    def __init__(self, vocab_size, embedding_size, hidden_size):\n",
    "        super(TextGenerator, self).__init__()\n",
    "        \n",
    "        self.embedding = tf.keras.layers.Embedding(vocab_size, embedding_size)\n",
    "        self.rnn_1     = tf.keras.layers.LSTM(hidden_size, return_sequences = True)\n",
    "        self.rnn_2     = tf.keras.layers.LSTM(hidden_size, return_sequences = True)\n",
    "        self.linear    = tf.keras.layers.Dense(vocab_size)\n",
    "    \n",
    "    def call(self, x):\n",
    "        out = self.embedding(x)\n",
    "        out = self.rnn_1(out)\n",
    "        out = self.rnn_2(out)\n",
    "        out = self.linear(out)\n",
    "        \n",
    "        return out"
   ]
  },
  {
   "cell_type": "code",
   "execution_count": 18,
   "id": "median-tennis",
   "metadata": {},
   "outputs": [],
   "source": [
    "model = TextGenerator(vocab_size = vocab_size, embedding_size = 2048, hidden_size = 4096) # embedding_size와 hidden_size를 조절하여 원하는 결과를 도출하자"
   ]
  },
  {
   "cell_type": "code",
   "execution_count": 19,
   "id": "incorporated-shield",
   "metadata": {},
   "outputs": [
    {
     "data": {
      "text/plain": [
       "<tf.Tensor: shape=(256, 14, 12001), dtype=float32, numpy=\n",
       "array([[[-3.25078436e-05, -4.41519689e-04,  2.22233357e-04, ...,\n",
       "         -3.67289118e-04,  2.38302018e-04, -5.10258309e-04],\n",
       "        [-2.70841207e-04, -9.28984955e-04,  8.97932405e-05, ...,\n",
       "         -3.58201534e-04,  1.74190645e-04, -7.73179985e-04],\n",
       "        [-2.25546773e-05, -1.11772027e-03, -2.43842715e-05, ...,\n",
       "         -4.92072024e-04,  3.78538622e-04, -7.69744744e-04],\n",
       "        ...,\n",
       "        [ 6.66342583e-03, -5.56363200e-04,  1.46071822e-03, ...,\n",
       "          3.08160577e-03,  8.34484308e-05,  4.75536217e-04],\n",
       "        [ 7.85731617e-03, -3.25500441e-04,  1.05753576e-03, ...,\n",
       "          3.13941226e-03,  5.17492299e-04,  4.95407032e-04],\n",
       "        [ 8.88447836e-03, -1.87304293e-04,  5.73161757e-04, ...,\n",
       "          3.07200896e-03,  7.47320883e-04,  5.25766984e-04]],\n",
       "\n",
       "       [[-3.25078436e-05, -4.41519689e-04,  2.22233357e-04, ...,\n",
       "         -3.67289118e-04,  2.38302018e-04, -5.10258309e-04],\n",
       "        [ 2.57896696e-04, -9.65029816e-04,  2.29706726e-04, ...,\n",
       "         -3.35107849e-04,  3.34099605e-04, -1.63660996e-04],\n",
       "        [-1.66321726e-04, -1.74550328e-03,  6.17790793e-04, ...,\n",
       "         -1.37047073e-05, -3.81099002e-04, -1.03844519e-04],\n",
       "        ...,\n",
       "        [ 6.58635795e-03, -4.50602733e-04, -3.13848286e-04, ...,\n",
       "          3.96901974e-03,  2.37412914e-03, -5.21571841e-04],\n",
       "        [ 7.54009746e-03, -2.74267280e-04, -7.89793732e-04, ...,\n",
       "          3.78204230e-03,  2.40557385e-03, -3.99817713e-04],\n",
       "        [ 8.39111488e-03, -1.84392062e-04, -1.26421603e-03, ...,\n",
       "          3.52488807e-03,  2.25994550e-03, -2.55102263e-04]],\n",
       "\n",
       "       [[-3.25078436e-05, -4.41519689e-04,  2.22233357e-04, ...,\n",
       "         -3.67289118e-04,  2.38302018e-04, -5.10258309e-04],\n",
       "        [-8.37264452e-05, -4.67593141e-04,  7.28832356e-06, ...,\n",
       "         -7.51219632e-04, -1.01400710e-05, -1.36466243e-03],\n",
       "        [-3.11762851e-04, -6.19920553e-04,  2.16343411e-04, ...,\n",
       "         -8.13398161e-04, -4.75009700e-04, -1.98046002e-03],\n",
       "        ...,\n",
       "        [ 6.29702955e-03,  3.96096264e-04, -2.34522726e-04, ...,\n",
       "          2.27310625e-03,  1.65808725e-03, -1.94731436e-03],\n",
       "        [ 7.40521634e-03,  3.14710429e-04, -5.42691501e-04, ...,\n",
       "          2.35776091e-03,  1.66371407e-03, -1.59699866e-03],\n",
       "        [ 8.38346127e-03,  1.94310560e-04, -9.11243260e-04, ...,\n",
       "          2.33710464e-03,  1.52850547e-03, -1.28410221e-03]],\n",
       "\n",
       "       ...,\n",
       "\n",
       "       [[-3.25078436e-05, -4.41519689e-04,  2.22233357e-04, ...,\n",
       "         -3.67289118e-04,  2.38302018e-04, -5.10258309e-04],\n",
       "        [-1.54051086e-04, -1.40115654e-03, -4.19698081e-05, ...,\n",
       "         -5.98403043e-04,  7.97702116e-04, -4.00766818e-04],\n",
       "        [-5.55335719e-04, -2.02002493e-03,  6.87294814e-05, ...,\n",
       "         -7.33302324e-04,  1.34430220e-03, -4.67331556e-04],\n",
       "        ...,\n",
       "        [ 5.31431893e-03, -5.43218199e-03,  1.82947377e-03, ...,\n",
       "          1.79470645e-03, -9.50602116e-05, -1.23033545e-03],\n",
       "        [ 6.62722625e-03, -4.59100073e-03,  1.32989755e-03, ...,\n",
       "          1.97616871e-03,  2.35948348e-04, -9.60148405e-04],\n",
       "        [ 7.75213074e-03, -3.85266473e-03,  7.74068118e-04, ...,\n",
       "          2.04675179e-03,  4.49852407e-04, -7.22294673e-04]],\n",
       "\n",
       "       [[-3.25078436e-05, -4.41519689e-04,  2.22233357e-04, ...,\n",
       "         -3.67289118e-04,  2.38302018e-04, -5.10258309e-04],\n",
       "        [ 2.33996208e-04, -6.93789916e-04,  1.44472782e-04, ...,\n",
       "         -6.37492165e-04,  6.23991073e-04, -6.19730330e-04],\n",
       "        [ 4.72675514e-04, -9.12391813e-04,  3.78542813e-04, ...,\n",
       "         -5.76769700e-04, -1.41387995e-04, -8.13856139e-04],\n",
       "        ...,\n",
       "        [ 6.75831782e-03,  8.29195022e-04,  3.47501627e-04, ...,\n",
       "          7.10747030e-04,  9.84193175e-04,  3.03891065e-05],\n",
       "        [ 7.87410885e-03,  8.63771653e-04, -1.07007450e-04, ...,\n",
       "          8.38537992e-04,  1.16976188e-03,  1.05499086e-04],\n",
       "        [ 8.85110907e-03,  8.05839663e-04, -5.98628831e-04, ...,\n",
       "          9.09936614e-04,  1.18049630e-03,  1.88336853e-04]],\n",
       "\n",
       "       [[-3.25078436e-05, -4.41519689e-04,  2.22233357e-04, ...,\n",
       "         -3.67289118e-04,  2.38302018e-04, -5.10258309e-04],\n",
       "        [ 3.45429900e-04, -3.25826433e-04, -1.93182612e-04, ...,\n",
       "         -8.04518233e-04,  4.37961920e-04, -1.27157639e-03],\n",
       "        [ 5.82255852e-05, -2.21041992e-04, -4.62395285e-04, ...,\n",
       "         -1.39104330e-03,  5.47186472e-04, -1.55197317e-03],\n",
       "        ...,\n",
       "        [ 6.84997486e-03,  3.63182276e-04,  5.61516325e-04, ...,\n",
       "         -3.76145443e-04,  1.67280389e-03, -2.11320911e-03],\n",
       "        [ 7.67405052e-03,  3.54710384e-04,  2.13114326e-04, ...,\n",
       "         -1.43022233e-04,  1.58037047e-03, -1.86350348e-03],\n",
       "        [ 8.41669552e-03,  2.96802900e-04, -2.12470957e-04, ...,\n",
       "          1.34517968e-05,  1.37082394e-03, -1.58546446e-03]]],\n",
       "      dtype=float32)>"
      ]
     },
     "execution_count": 19,
     "metadata": {},
     "output_type": "execute_result"
    }
   ],
   "source": [
    "# model을 bilud하기 위해 하나의 데이터를 넣는다\n",
    "for source_sample, target_sample in dataset.take(1): break\n",
    "model(source_sample)"
   ]
  },
  {
   "cell_type": "code",
   "execution_count": 20,
   "id": "clear-yesterday",
   "metadata": {},
   "outputs": [
    {
     "name": "stdout",
     "output_type": "stream",
     "text": [
      "Model: \"text_generator\"\n",
      "_________________________________________________________________\n",
      "Layer (type)                 Output Shape              Param #   \n",
      "=================================================================\n",
      "embedding (Embedding)        multiple                  24578048  \n",
      "_________________________________________________________________\n",
      "lstm (LSTM)                  multiple                  100679680 \n",
      "_________________________________________________________________\n",
      "lstm_1 (LSTM)                multiple                  134234112 \n",
      "_________________________________________________________________\n",
      "dense (Dense)                multiple                  49168097  \n",
      "=================================================================\n",
      "Total params: 308,659,937\n",
      "Trainable params: 308,659,937\n",
      "Non-trainable params: 0\n",
      "_________________________________________________________________\n"
     ]
    }
   ],
   "source": [
    "model.summary() # 모델 구조 보기"
   ]
  },
  {
   "cell_type": "code",
   "execution_count": 21,
   "id": "qualified-drawing",
   "metadata": {},
   "outputs": [
    {
     "name": "stdout",
     "output_type": "stream",
     "text": [
      "Epoch 1/10\n",
      "489/489 [==============================] - 698s 1s/step - loss: 3.2404 - accuracy: 0.5080 - val_loss: 2.8842 - val_accuracy: 0.5314\n",
      "Epoch 2/10\n",
      "489/489 [==============================] - 697s 1s/step - loss: 2.6965 - accuracy: 0.5450 - val_loss: 2.6382 - val_accuracy: 0.5534\n",
      "Epoch 3/10\n",
      "489/489 [==============================] - 695s 1s/step - loss: 2.3862 - accuracy: 0.5730 - val_loss: 2.4693 - val_accuracy: 0.5764\n",
      "Epoch 4/10\n",
      "489/489 [==============================] - 692s 1s/step - loss: 2.0846 - accuracy: 0.6074 - val_loss: 2.3342 - val_accuracy: 0.5990\n",
      "Epoch 5/10\n",
      "489/489 [==============================] - 674s 1s/step - loss: 1.7882 - accuracy: 0.6510 - val_loss: 2.2317 - val_accuracy: 0.6225\n",
      "Epoch 6/10\n",
      "489/489 [==============================] - 671s 1s/step - loss: 1.5137 - accuracy: 0.6997 - val_loss: 2.1601 - val_accuracy: 0.6435\n",
      "Epoch 7/10\n",
      "489/489 [==============================] - 673s 1s/step - loss: 1.2839 - accuracy: 0.7454 - val_loss: 2.1369 - val_accuracy: 0.6590\n",
      "Epoch 8/10\n",
      "489/489 [==============================] - 672s 1s/step - loss: 1.1184 - accuracy: 0.7825 - val_loss: 2.1422 - val_accuracy: 0.6685\n",
      "Epoch 9/10\n",
      "489/489 [==============================] - 672s 1s/step - loss: 1.0268 - accuracy: 0.8021 - val_loss: 2.1592 - val_accuracy: 0.6713\n",
      "Epoch 10/10\n",
      "489/489 [==============================] - 672s 1s/step - loss: 0.9824 - accuracy: 0.8104 - val_loss: 2.1773 - val_accuracy: 0.6722\n"
     ]
    }
   ],
   "source": [
    "optimizer = tf.keras.optimizers.Adam()\n",
    "loss      = tf.keras.losses.SparseCategoricalCrossentropy(from_logits = True, reduction = \"none\")\n",
    "\n",
    "model.compile(loss = loss, optimizer = optimizer, metrics = [\"accuracy\"])        # model을 compile하고\n",
    "history = model.fit(training_set, epochs = 10, validation_data = vaildation_set) # 훈련시킨 후 그 결과를 history에 저장한다."
   ]
  },
  {
   "cell_type": "code",
   "execution_count": 22,
   "id": "tough-judgment",
   "metadata": {},
   "outputs": [
    {
     "data": {
      "image/png": "[encoded data removed]",
      "text/plain": [
       "<Figure size 432x288 with 1 Axes>"
      ]
     },
     "metadata": {
      "needs_background": "light"
     },
     "output_type": "display_data"
    }
   ],
   "source": [
    "# Loss 그래프 시각화\n",
    "train_accuracy = history.history[\"accuracy\"]\n",
    "val_accuracy   = history.history[\"val_accuracy\"]\n",
    "train_loss     = history.history[\"loss\"]\n",
    "val_loss       = history.history[\"val_loss\"]\n",
    "\n",
    "epochs = range(1, len(train_accuracy) + 1)\n",
    "\n",
    "plt.plot(epochs, train_loss, \"bo\", label = \"Training loss\")   # train_loss는 파란색 점 표시\n",
    "plt.plot(epochs, val_loss,   \"b\",  label = \"Validation loss\") # val loss는 파란색 실선 표시\n",
    "plt.xlabel(\"Epochs\")\n",
    "plt.ylabel(\"Loss\")\n",
    "plt.legend()\n",
    "plt.show()"
   ]
  },
  {
   "cell_type": "code",
   "execution_count": 23,
   "id": "thrown-monitoring",
   "metadata": {},
   "outputs": [],
   "source": [
    "def generate_text(model, tokenizer, init_sentence = \"<start>\", max_len = 20):\n",
    "    # 테스트를 위해서 입력받은 init_sentence도 일단 텐서로 변환합니다.\n",
    "    test_input  = tokenizer.texts_to_sequences([init_sentence])\n",
    "    test_tensor = tf.convert_to_tensor(test_input, dtype = tf.int64)\n",
    "    end_token   = tokenizer.word_index[\"<end>\"]\n",
    "\n",
    "    # 텍스트를 실제로 생성할때는 루프를 돌면서 단어 하나씩 생성해야 합니다. \n",
    "    while True:\n",
    "        predict      = model(test_tensor)  # 입력받은 문장의 텐서를 입력합니다. \n",
    "        predict_word = tf.argmax(tf.nn.softmax(predict, axis = -1), axis = -1)[:, -1]   # 우리 모델이 예측한 마지막 단어가 바로 새롭게 생성한 단어가 됩니다. \n",
    "\n",
    "        # 우리 모델이 새롭게 예측한 단어를 입력 문장의 뒤에 붙여 줍니다. \n",
    "        test_tensor = tf.concat([test_tensor, tf.expand_dims(predict_word, axis = 0)], axis = -1)\n",
    "\n",
    "        # 우리 모델이 <end>를 예측했거나, max_len에 도달하지 않았다면  while 루프를 또 돌면서 다음 단어를 예측해야 합니다.\n",
    "        if predict_word.numpy()[0] == end_token: break\n",
    "        if test_tensor.shape[1] >= max_len: break\n",
    "\n",
    "    generated = \"\"\n",
    "    # 생성된 tensor 안에 있는 word index를 tokenizer.index_word 사전을 통해 실제 단어로 하나씩 변환합니다. \n",
    "    for word_index in test_tensor[0].numpy():\n",
    "        generated += tokenizer.index_word[word_index] + \" \"\n",
    "\n",
    "    return generated   # 이것이 최종적으로 모델이 생성한 자연어 문장입니다."
   ]
  },
  {
   "cell_type": "code",
   "execution_count": 24,
   "id": "apparent-dominant",
   "metadata": {},
   "outputs": [
    {
     "data": {
      "text/plain": [
       "'<start> i love you so much <end> '"
      ]
     },
     "execution_count": 24,
     "metadata": {},
     "output_type": "execute_result"
    }
   ],
   "source": [
    "# model 테스트 : \"i love\"란 문장을 주고 20문장이 넘지 않는 문장을 만들게 하기\n",
    "generate_text(model, tokenizer, init_sentence = \"<start> i love\", max_len = 20)"
   ]
  },
  {
   "cell_type": "code",
   "execution_count": null,
   "id": "hybrid-december",
   "metadata": {},
   "outputs": [],
   "source": []
  }
 ],
 "metadata": {
  "kernelspec": {
   "display_name": "Python 3",
   "language": "python",
   "name": "python3"
  },
  "language_info": {
   "codemirror_mode": {
    "name": "ipython",
    "version": 3
   },
   "file_extension": ".py",
   "mimetype": "text/x-python",
   "name": "python",
   "nbconvert_exporter": "python",
   "pygments_lexer": "ipython3",
   "version": "3.7.9"
  }
 },
 "nbformat": 4,
 "nbformat_minor": 5
}
