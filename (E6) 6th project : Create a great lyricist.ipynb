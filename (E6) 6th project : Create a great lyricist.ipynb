{
 "cells": [
  {
   "cell_type": "code",
   "execution_count": 1,
   "id": "steady-rainbow",
   "metadata": {},
   "outputs": [],
   "source": [
    "# 패키지 로딩하기\n",
    "import re\n",
    "import numpy as np\n",
    "import tensorflow as tf\n",
    "import os\n",
    "import glob\n",
    "import sklearn.model_selection"
   ]
  },
  {
   "cell_type": "code",
   "execution_count": 2,
   "id": "extended-building",
   "metadata": {},
   "outputs": [],
   "source": [
    "# 데이터 불러오기\n",
    "txt_file_path = os.getenv(\"HOME\") + \"/aiffel/lyricist/data/lyrics/*\" # ~/aiffel/lyricist/data/lyrics 폴더 안의 모든 파일 선택\n",
    "txt_list      = glob.glob(txt_file_path)                             # 파일 경로 안의 모든 파일 이름 리스트형태로 반환"
   ]
  },
  {
   "cell_type": "code",
   "execution_count": 3,
   "id": "frank-paragraph",
   "metadata": {},
   "outputs": [],
   "source": [
    "raw_corpus = []                     # 미리 빈 리스트를 만들고\n",
    "\n",
    "for txt_file in txt_list:           # txt_list을 하나씩 가져와서 txt_file이라고 명명하고\n",
    "    with open(txt_file, \"r\") as f:  # txt_file을 읽기전용으로 열고 f라고 명명하고\n",
    "        raw = f.read().splitlines() # f을 한줄씩 읽어와서\n",
    "        raw_corpus.extend(raw)      # 미리 만들어 놓은 raw_corpus에 넣는다. (iterable로 넣기위해 extend 사용)"
   ]
  },
  {
   "cell_type": "code",
   "execution_count": 4,
   "id": "selected-mexico",
   "metadata": {},
   "outputs": [
    {
     "name": "stdout",
     "output_type": "stream",
     "text": [
      "전체 문장 갯수 : 187088\n",
      "예시 문장 5개 : ['The first words that come out', 'And I can see this song will be about you', \"I can't believe that I can breathe without you\", 'But all I need to do is carry on', 'The next line I write down']\n"
     ]
    }
   ],
   "source": [
    "print(\"전체 문장 갯수 :\", len(raw_corpus))\n",
    "print(\"예시 문장 5개 :\", raw_corpus[:5])\n",
    "\n",
    "# 연극 대사처럼 따로 빼거나 없애야 하는 특수문자는 보이지 않음"
   ]
  },
  {
   "cell_type": "code",
   "execution_count": 5,
   "id": "violent-monte",
   "metadata": {},
   "outputs": [],
   "source": [
    "# 데이터 정제하기 (데이터 전처리)\n",
    "# 토큰화 했을 때 토큰 갯수가 15개를 넘어가는 문장은 학습데이터에서 제외함. (노드에서 시킴)\n",
    "def preprocess_sentence(sentence):      # 문장을 정제하는 함수를 만들 것임\n",
    "    sentence = sentence.lower().strip() # 먼저 들어온 문장을 소문자로 바꾸고 양쪽 공백이 있으면 제거함\n",
    "    \n",
    "    # 문장에서 처리해줘야 할 기호나 패턴을 처리\n",
    "    # 실습 데이터는 그대로 써도 될 것같지만 혹시 몰라서 노드에 있는 경우의 수를 그대로 씀\n",
    "    sentence = re.sub(r\"([?.!,¿])\", r\" \\1 \", sentence)   # 패턴의 특수문자를 만나면 특수문자 양쪽에 공백을 추가\n",
    "    sentence = re.sub(r'[\" \"]+', \" \", sentence)          # 공백 패턴을 만나면 공백 1개로 치환\n",
    "    sentence = re.sub(r\"[^a-zA-Z?.!,¿]+\", \" \", sentence) # 알파벳(대,소문자), ?.!,¿패턴을 제외한 모든 문자(공백 포함)를 공백 1개로 치환\n",
    "    \n",
    "    sentence = sentence.strip()                          # 한번 더 양쪽 공백 제거\n",
    "    sentence = \"<start> \" + sentence + \" <end>\"          # sentence 양쪽에 시작과 끝을 알리는 단어를 붙여줌\n",
    "    \n",
    "    return sentence"
   ]
  },
  {
   "cell_type": "code",
   "execution_count": 6,
   "id": "reasonable-corrections",
   "metadata": {},
   "outputs": [
    {
     "name": "stdout",
     "output_type": "stream",
     "text": [
      "<start> test it s sample text <end>\n"
     ]
    }
   ],
   "source": [
    "# 함수가 잘 만들어졌는지 확인하기\n",
    "print(preprocess_sentence(\"Test : It's @#%^$#%$ sample     text\"))\n",
    "\n",
    "# 공백, 특수문자 전부 잘 처리됨."
   ]
  },
  {
   "cell_type": "code",
   "execution_count": 7,
   "id": "specialized-complement",
   "metadata": {
    "scrolled": true
   },
   "outputs": [
    {
     "data": {
      "text/plain": [
       "['<start> the first words that come out <end>',\n",
       " '<start> and i can see this song will be about you <end>',\n",
       " '<start> i can t believe that i can breathe without you <end>',\n",
       " '<start> but all i need to do is carry on <end>',\n",
       " '<start> the next line i write down <end>',\n",
       " '<start> and there s a tear that falls between the pages <end>',\n",
       " '<start> i know that pain s supposed to heal in stages <end>',\n",
       " '<start> i could throw it in the river and watch it sink in slowly <end>',\n",
       " '<start> tie the pages to a plane and send it to the moon <end>']"
      ]
     },
     "execution_count": 7,
     "metadata": {},
     "output_type": "execute_result"
    }
   ],
   "source": [
    "corpus = [] # 빈 리스트를 미리 만들고\n",
    "\n",
    "for sentence in raw_corpus:                       # 기존의 텍스트 데이터를 한개씩 가져와서\n",
    "    if len(sentence) == 0: continue               # 아무것도 없는 것은 제외하고\n",
    "    temp_sentence = preprocess_sentence(sentence) # 정제하는 함수를 거친 뒤\n",
    "    if len(temp_sentence.split()) > 15: continue  # 토큰의 갯수가 15개를 넘어가는 문장은 데이터에서 제외하고\n",
    "    corpus.append(temp_sentence)                  # 리스트에 추가한다.\n",
    "\n",
    "corpus[:9] # 잘 뽑혔는지 10개만 출력하여 확인하기\n",
    "\n",
    "# 잘 작동함."
   ]
  },
  {
   "cell_type": "code",
   "execution_count": 8,
   "id": "practical-logistics",
   "metadata": {},
   "outputs": [
    {
     "name": "stdout",
     "output_type": "stream",
     "text": [
      "corpus 갯수 : 156227\n"
     ]
    }
   ],
   "source": [
    "print(\"corpus 갯수 :\", len(corpus)) # 156200이 나와야함"
   ]
  },
  {
   "cell_type": "code",
   "execution_count": 9,
   "id": "defined-database",
   "metadata": {},
   "outputs": [],
   "source": [
    "# 정제한 데이터를 텐서(벡터화)로 만들기\n",
    "def tokenize(corpus):\n",
    "    tokenizer = tf.keras.preprocessing.text.Tokenizer(num_words = 12000,   # 전체 단어의 개수 - 하이퍼파라미터\n",
    "                                                      filters   = \" \",     # 별도로 전처리 로직을 추가할 수 있습니다. 이번에는 사용하지 않겠습니다.\n",
    "                                                      oov_token = \"<unk>\") # 사전에 없었던 단어는 어떤 토큰으로 대체할지 정한다.\n",
    "    tokenizer.fit_on_texts(corpus) # corpus로부터 tokenizer가 사전을 자동 구축한다.\n",
    "    \n",
    "    tensor = tokenizer.texts_to_sequences(corpus) # 구축한 사전으로부터 corpus를 해석해 tensor로 변환한다.\n",
    "    \n",
    "    # 입력 데이터의 시퀀스 길이를 일정하게 맞추기 위한 padding  메소드를 제공한다. \n",
    "    # maxlen의 디폴트값은 None입니다. 이 경우 corpus의 가장 긴 문장을 기준으로 시퀀스 길이가 맞춰집니다.\n",
    "    tensor = tf.keras.preprocessing.sequence.pad_sequences(tensor, padding = \"post\")\n",
    "    \n",
    "    return tensor, tokenizer"
   ]
  },
  {
   "cell_type": "code",
   "execution_count": 10,
   "id": "eight-ancient",
   "metadata": {},
   "outputs": [
    {
     "name": "stdout",
     "output_type": "stream",
     "text": [
      "(156227, 15)\n"
     ]
    }
   ],
   "source": [
    "tensor, tokenizer = tokenize(corpus)\n",
    "print(tensor.shape)"
   ]
  },
  {
   "cell_type": "code",
   "execution_count": 11,
   "id": "sought-sentence",
   "metadata": {},
   "outputs": [
    {
     "name": "stdout",
     "output_type": "stream",
     "text": [
      "[[  2   6 247 434  15  68  57   3   0   0   0   0   0   0   0]\n",
      " [  2   8   4  35  63  41 357  84  27 112   7   3   0   0   0]\n",
      " [  2   4  35  16 218  15   4  35 768 257   7   3   0   0   0]\n",
      " [  2  33  25   4  92  10  48  26 832  18   3   0   0   0   0]\n",
      " [  2   6 330 442   4 760  58   3   0   0   0   0   0   0   0]]\n"
     ]
    }
   ],
   "source": [
    "# 156227개의 문장이 있고, 문장의 토큰 최대길이는 15이다.\n",
    "print(tensor[:5, ])"
   ]
  },
  {
   "cell_type": "code",
   "execution_count": 12,
   "id": "recorded-annotation",
   "metadata": {},
   "outputs": [
    {
     "name": "stdout",
     "output_type": "stream",
     "text": [
      "[  2   6 247 434  15  68  57   3   0   0   0   0   0   0]\n",
      "[  6 247 434  15  68  57   3   0   0   0   0   0   0   0]\n"
     ]
    }
   ],
   "source": [
    "# 평가 데이터셋 분리\n",
    "source_input = tensor[:, :-1] # tensor에서 마지막 토큰을 잘라내서 소스 문장을 생성합니다. 마지막 토큰은 <end>가 아니라 <pad>일 가능성이 높습니다.\n",
    "target_input = tensor[:, 1:]  # tensor에서 <start>를 잘라내서 타겟 문장을 생성합니다.\n",
    "\n",
    "print(source_input[0])\n",
    "print(target_input[0])"
   ]
  },
  {
   "cell_type": "code",
   "execution_count": 13,
   "id": "christian-volunteer",
   "metadata": {},
   "outputs": [
    {
     "name": "stdout",
     "output_type": "stream",
     "text": [
      "Source Train: (124981, 14)\n",
      "Target Train: (124981, 14)\n"
     ]
    }
   ],
   "source": [
    "enc_train, enc_val, dec_train, dec_val = sklearn.model_selection.train_test_split(source_input, target_input, test_size = 0.2)\n",
    "\n",
    "print(\"Source Train:\", enc_train.shape)\n",
    "print(\"Target Train:\", dec_train.shape)"
   ]
  },
  {
   "cell_type": "code",
   "execution_count": 14,
   "id": "fabulous-sampling",
   "metadata": {},
   "outputs": [
    {
     "name": "stdout",
     "output_type": "stream",
     "text": [
      "(31246, 14)\n",
      "(31246, 14)\n"
     ]
    }
   ],
   "source": [
    "print(enc_val.shape)\n",
    "print(dec_val.shape)"
   ]
  },
  {
   "cell_type": "code",
   "execution_count": 15,
   "id": "moved-opposition",
   "metadata": {},
   "outputs": [
    {
     "data": {
      "text/plain": [
       "<BatchDataset shapes: ((256, 14), (256, 14)), types: (tf.int32, tf.int32)>"
      ]
     },
     "execution_count": 15,
     "metadata": {},
     "output_type": "execute_result"
    }
   ],
   "source": [
    "buffer_size     = len(source_input)\n",
    "batch_size      = 256\n",
    "steps_per_epoch = buffer_size // batch_size\n",
    "\n",
    "vocab_size = tokenizer.num_words + 1 # tokenizer가 구축한 단어사전 내 12000개 + 여기에 포함되지 않은 0 : <pad>를 포함하여 12001개\n",
    "\n",
    "dataset = tf.data.Dataset.from_tensor_slices((source_input, target_input)).shuffle(buffer_size)\n",
    "dataset = dataset.batch(batch_size, drop_remainder = True)\n",
    "dataset"
   ]
  },
  {
   "cell_type": "code",
   "execution_count": 16,
   "id": "alternate-spouse",
   "metadata": {},
   "outputs": [],
   "source": [
    "# 모델 만들기\n",
    "class TextGenerator(tf.keras.Model):\n",
    "    def __init__(self, vocab_size, embedding_size, hidden_size):\n",
    "        super(TextGenerator, self).__init__()\n",
    "        \n",
    "        self.embedding = tf.keras.layers.Embedding(vocab_size, embedding_size)\n",
    "        self.rnn_1     = tf.keras.layers.LSTM(hidden_size, return_sequences = True)\n",
    "        self.rnn_2     = tf.keras.layers.LSTM(hidden_size, return_sequences = True)\n",
    "        self.linear    = tf.keras.layers.Dense(vocab_size)\n",
    "    \n",
    "    def call(self, x):\n",
    "        out = self.embedding(x)\n",
    "        out = self.rnn_1(out)\n",
    "        out = self.rnn_2(out)\n",
    "        out = self.linear(out)\n",
    "        \n",
    "        return out"
   ]
  },
  {
   "cell_type": "code",
   "execution_count": 17,
   "id": "massive-color",
   "metadata": {},
   "outputs": [],
   "source": [
    "model = TextGenerator(vocab_size = vocab_size, embedding_size = 256, hidden_size = 1024)"
   ]
  },
  {
   "cell_type": "code",
   "execution_count": 18,
   "id": "interested-decade",
   "metadata": {},
   "outputs": [
    {
     "data": {
      "text/plain": [
       "<tf.Tensor: shape=(256, 14, 12001), dtype=float32, numpy=\n",
       "array([[[ 1.22726451e-05,  8.87333663e-05, -2.94235474e-06, ...,\n",
       "          1.29466309e-04,  8.79908330e-05,  1.04970401e-04],\n",
       "        [-4.37639355e-05,  5.63477515e-05,  5.54324834e-05, ...,\n",
       "          4.21560602e-04, -2.53890292e-04,  3.04111076e-04],\n",
       "        [-4.68668040e-05, -2.25214259e-04,  9.29941962e-05, ...,\n",
       "          4.02526523e-04, -1.71120351e-04,  5.04019845e-04],\n",
       "        ...,\n",
       "        [ 6.93021109e-04, -6.56319200e-04,  7.33196095e-04, ...,\n",
       "          1.05014641e-03, -4.54097637e-04,  1.29983146e-05],\n",
       "        [ 1.00782781e-03, -7.40238174e-04,  7.01142184e-04, ...,\n",
       "          9.62601334e-04,  1.32387955e-04,  2.07413577e-05],\n",
       "        [ 1.33983837e-03, -8.72452685e-04,  6.37167250e-04, ...,\n",
       "          8.62627872e-04,  7.60719879e-04, -2.69910151e-06]],\n",
       "\n",
       "       [[ 1.22726451e-05,  8.87333663e-05, -2.94235474e-06, ...,\n",
       "          1.29466309e-04,  8.79908330e-05,  1.04970401e-04],\n",
       "        [-1.08053373e-05, -2.13812789e-04,  1.33890469e-04, ...,\n",
       "          3.43079679e-04, -7.97803223e-05,  1.22689846e-04],\n",
       "        [ 2.46253330e-04, -5.98618237e-04,  7.33842899e-05, ...,\n",
       "          2.08477286e-04,  3.30851944e-05, -9.13757176e-05],\n",
       "        ...,\n",
       "        [ 1.31552736e-03,  2.00522991e-04,  2.12595006e-03, ...,\n",
       "          1.30234432e-04,  1.12480484e-03,  1.70836793e-04],\n",
       "        [ 1.54394901e-03, -1.45074891e-05,  1.90753944e-03, ...,\n",
       "          1.30276094e-04,  1.66140869e-03,  1.25927691e-04],\n",
       "        [ 1.78850221e-03, -2.74986349e-04,  1.65374274e-03, ...,\n",
       "          1.33383481e-04,  2.19323556e-03,  5.22991650e-05]],\n",
       "\n",
       "       [[ 1.22726451e-05,  8.87333663e-05, -2.94235474e-06, ...,\n",
       "          1.29466309e-04,  8.79908330e-05,  1.04970401e-04],\n",
       "        [ 8.03491494e-05,  2.01751420e-04,  1.02749254e-04, ...,\n",
       "          8.02786599e-05, -1.80570511e-04, -1.09778674e-04],\n",
       "        [ 2.50505225e-04, -2.07675868e-04,  2.95682694e-04, ...,\n",
       "          1.35534299e-06, -4.21254837e-04, -1.46210150e-04],\n",
       "        ...,\n",
       "        [-1.19741296e-03, -2.31993166e-04,  1.74076413e-03, ...,\n",
       "          1.06845377e-03,  4.03598300e-04, -3.46581684e-04],\n",
       "        [-8.73759156e-04, -6.21638959e-04,  1.26263581e-03, ...,\n",
       "          1.22642529e-03,  2.65084760e-04, -3.07241164e-04],\n",
       "        [-3.88802233e-04, -7.22753059e-04,  1.28784962e-03, ...,\n",
       "          1.46084349e-03, -7.56647278e-05, -1.28335261e-04]],\n",
       "\n",
       "       ...,\n",
       "\n",
       "       [[ 1.22726451e-05,  8.87333663e-05, -2.94235474e-06, ...,\n",
       "          1.29466309e-04,  8.79908330e-05,  1.04970401e-04],\n",
       "        [-7.43284327e-05,  2.88803967e-05,  3.67478584e-04, ...,\n",
       "          1.78953516e-04,  5.46459160e-05,  2.41849688e-04],\n",
       "        [-7.35643989e-05, -3.04010231e-04,  7.44834833e-04, ...,\n",
       "         -1.08952045e-04, -3.15063626e-05,  4.64184268e-04],\n",
       "        ...,\n",
       "        [ 9.35840071e-04,  1.19893099e-04,  2.15699174e-03, ...,\n",
       "          7.50157982e-04, -1.55101661e-04,  9.18603619e-04],\n",
       "        [ 1.17462000e-03,  4.76258720e-05,  2.26265634e-03, ...,\n",
       "          7.27309205e-04,  3.61605198e-04,  7.65627134e-04],\n",
       "        [ 1.41710788e-03, -9.19853628e-05,  2.22851872e-03, ...,\n",
       "          6.55665935e-04,  9.62443242e-04,  5.93646546e-04]],\n",
       "\n",
       "       [[ 1.22726451e-05,  8.87333663e-05, -2.94235474e-06, ...,\n",
       "          1.29466309e-04,  8.79908330e-05,  1.04970401e-04],\n",
       "        [-5.76460989e-05,  5.87292307e-05,  6.98852018e-05, ...,\n",
       "          1.69950246e-04,  3.12030112e-04,  1.60003237e-05],\n",
       "        [-4.46142949e-05,  1.77017955e-05,  2.80935812e-04, ...,\n",
       "          3.46164947e-04,  5.00686059e-04, -3.12138494e-04],\n",
       "        ...,\n",
       "        [ 9.62614358e-05,  1.13068079e-03,  6.62699749e-04, ...,\n",
       "          7.43544428e-04,  9.68893815e-04,  6.45773427e-04],\n",
       "        [ 4.22370154e-04,  1.33290363e-03,  1.05666474e-03, ...,\n",
       "          1.04680017e-03,  5.79447777e-04,  7.96818407e-04],\n",
       "        [ 6.82063575e-04,  1.29921292e-03,  1.33995223e-03, ...,\n",
       "          1.17042055e-03,  6.24332868e-04,  8.27137788e-04]],\n",
       "\n",
       "       [[ 1.22726451e-05,  8.87333663e-05, -2.94235474e-06, ...,\n",
       "          1.29466309e-04,  8.79908330e-05,  1.04970401e-04],\n",
       "        [ 6.12300355e-05,  3.71005619e-04,  5.45814764e-05, ...,\n",
       "         -1.43523639e-05,  3.78755823e-04,  1.86822203e-04],\n",
       "        [ 2.15727356e-04,  6.21956249e-04,  3.22215579e-04, ...,\n",
       "         -2.47323886e-04,  5.32404636e-04,  4.21749166e-04],\n",
       "        ...,\n",
       "        [-6.07207592e-04,  5.20578797e-05,  1.51546451e-03, ...,\n",
       "         -1.35425609e-04,  1.12382299e-03,  1.47059758e-03],\n",
       "        [-3.99699784e-04, -2.98498162e-05,  1.93625095e-03, ...,\n",
       "          2.17208057e-04,  6.16678735e-04,  1.46856229e-03],\n",
       "        [-1.81760231e-04, -1.37372466e-04,  2.11797538e-03, ...,\n",
       "          4.49319632e-04,  6.41881372e-04,  1.37748313e-03]]],\n",
       "      dtype=float32)>"
      ]
     },
     "execution_count": 18,
     "metadata": {},
     "output_type": "execute_result"
    }
   ],
   "source": [
    "for source_sample, target_sample in dataset.take(1): break\n",
    "model(source_sample)"
   ]
  },
  {
   "cell_type": "code",
   "execution_count": 19,
   "id": "neither-assist",
   "metadata": {},
   "outputs": [
    {
     "name": "stdout",
     "output_type": "stream",
     "text": [
      "Model: \"text_generator\"\n",
      "_________________________________________________________________\n",
      "Layer (type)                 Output Shape              Param #   \n",
      "=================================================================\n",
      "embedding (Embedding)        multiple                  3072256   \n",
      "_________________________________________________________________\n",
      "lstm (LSTM)                  multiple                  5246976   \n",
      "_________________________________________________________________\n",
      "lstm_1 (LSTM)                multiple                  8392704   \n",
      "_________________________________________________________________\n",
      "dense (Dense)                multiple                  12301025  \n",
      "=================================================================\n",
      "Total params: 29,012,961\n",
      "Trainable params: 29,012,961\n",
      "Non-trainable params: 0\n",
      "_________________________________________________________________\n"
     ]
    }
   ],
   "source": [
    "model.summary()"
   ]
  },
  {
   "cell_type": "code",
   "execution_count": 20,
   "id": "impossible-creator",
   "metadata": {},
   "outputs": [
    {
     "name": "stdout",
     "output_type": "stream",
     "text": [
      "Epoch 1/10\n",
      "610/610 [==============================] - 74s 122ms/step - loss: 3.4292\n",
      "Epoch 2/10\n",
      "610/610 [==============================] - 75s 124ms/step - loss: 2.9581\n",
      "Epoch 3/10\n",
      "610/610 [==============================] - 76s 124ms/step - loss: 2.7871\n",
      "Epoch 4/10\n",
      "610/610 [==============================] - 76s 124ms/step - loss: 2.6577\n",
      "Epoch 5/10\n",
      "610/610 [==============================] - 76s 124ms/step - loss: 2.5460\n",
      "Epoch 6/10\n",
      "610/610 [==============================] - 76s 125ms/step - loss: 2.4453\n",
      "Epoch 7/10\n",
      "610/610 [==============================] - 76s 125ms/step - loss: 2.3531\n",
      "Epoch 8/10\n",
      "610/610 [==============================] - 76s 125ms/step - loss: 2.2681\n",
      "Epoch 9/10\n",
      "610/610 [==============================] - 76s 125ms/step - loss: 2.1891\n",
      "Epoch 10/10\n",
      "610/610 [==============================] - 77s 126ms/step - loss: 2.1138\n"
     ]
    }
   ],
   "source": [
    "optimizer = tf.keras.optimizers.Adam()\n",
    "loss      = tf.keras.losses.SparseCategoricalCrossentropy(from_logits = True, reduction = \"none\")\n",
    "\n",
    "model.compile(loss = loss, optimizer = optimizer)\n",
    "history = model.fit(dataset, epochs = 10)"
   ]
  },
  {
   "cell_type": "code",
   "execution_count": 21,
   "id": "secure-discretion",
   "metadata": {},
   "outputs": [],
   "source": [
    "def generate_text(model, tokenizer, init_sentence = \"<start>\", max_len = 20):\n",
    "    # 테스트를 위해서 입력받은 init_sentence도 일단 텐서로 변환합니다.\n",
    "    test_input  = tokenizer.texts_to_sequences([init_sentence])\n",
    "    test_tensor = tf.convert_to_tensor(test_input, dtype = tf.int64)\n",
    "    end_token   = tokenizer.word_index[\"<end>\"]\n",
    "\n",
    "    # 텍스트를 실제로 생성할때는 루프를 돌면서 단어 하나씩 생성해야 합니다. \n",
    "    while True:\n",
    "        predict      = model(test_tensor)  # 입력받은 문장의 텐서를 입력합니다. \n",
    "        predict_word = tf.argmax(tf.nn.softmax(predict, axis = -1), axis = -1)[:, -1]   # 우리 모델이 예측한 마지막 단어가 바로 새롭게 생성한 단어가 됩니다. \n",
    "\n",
    "        # 우리 모델이 새롭게 예측한 단어를 입력 문장의 뒤에 붙여 줍니다. \n",
    "        test_tensor = tf.concat([test_tensor, tf.expand_dims(predict_word, axis = 0)], axis = -1)\n",
    "\n",
    "        # 우리 모델이 <end>를 예측했거나, max_len에 도달하지 않았다면  while 루프를 또 돌면서 다음 단어를 예측해야 합니다.\n",
    "        if predict_word.numpy()[0] == end_token: break\n",
    "        if test_tensor.shape[1] >= max_len: break\n",
    "\n",
    "    generated = \"\"\n",
    "    # 생성된 tensor 안에 있는 word index를 tokenizer.index_word 사전을 통해 실제 단어로 하나씩 변환합니다. \n",
    "    for word_index in test_tensor[0].numpy():\n",
    "        generated += tokenizer.index_word[word_index] + \" \"\n",
    "\n",
    "    return generated   # 이것이 최종적으로 모델이 생성한 자연어 문장입니다."
   ]
  },
  {
   "cell_type": "code",
   "execution_count": 25,
   "id": "global-approval",
   "metadata": {},
   "outputs": [
    {
     "data": {
      "text/plain": [
       "'<start> i love you , i love you <end> '"
      ]
     },
     "execution_count": 25,
     "metadata": {},
     "output_type": "execute_result"
    }
   ],
   "source": [
    "generate_text(model, tokenizer, init_sentence = \"<start> i love\", max_len = 20)"
   ]
  },
  {
   "cell_type": "code",
   "execution_count": null,
   "id": "fresh-commitment",
   "metadata": {},
   "outputs": [],
   "source": [
    "# 회고록\n",
    "# 여기서 사용한 def 함수는 노드를 인용하여 만들었음 (보고 그대로 쓰고나, 일부 바꾸거나)\n",
    "# 노드를 참고하여 데이터를 가공하고 나누는데 train 데이터 갯수가 노드대로 안 나와서 조원과 상의하면서 어디가 잘못됬는지 한참 찾음.\n",
    "# 나중에 퍼실님께서 오셔서 신경쓸 필요 없다고 하여 넘어가도 되는걸 깨달음....\n",
    "# 노드에 나온것처럼 모델을 class로 만들고 학습을 시작함. (학습시간도 엄청 걸림)\n",
    "# 그리고 프로젝트에서 준 단어(i love)를 모델에게 제시하고 문장을 만들라고 했더니 너무 쉬운 문장이 나와서 이게 맞는건가 싶음.\n",
    "# loss는 그래도 2.2 이하로 내려감."
   ]
  }
 ],
 "metadata": {
  "kernelspec": {
   "display_name": "Python 3",
   "language": "python",
   "name": "python3"
  },
  "language_info": {
   "codemirror_mode": {
    "name": "ipython",
    "version": 3
   },
   "file_extension": ".py",
   "mimetype": "text/x-python",
   "name": "python",
   "nbconvert_exporter": "python",
   "pygments_lexer": "ipython3",
   "version": "3.7.9"
  }
 },
 "nbformat": 4,
 "nbformat_minor": 5
}
