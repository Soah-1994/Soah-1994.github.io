{
 "cells": [
  {
   "cell_type": "markdown",
   "id": "critical-behavior",
   "metadata": {},
   "source": [
    "## 1. 패키지 로딩하기"
   ]
  },
  {
   "cell_type": "code",
   "execution_count": 1,
   "id": "pretty-spectrum",
   "metadata": {},
   "outputs": [],
   "source": [
    "import os\n",
    "import re\n",
    "import numpy as np\n",
    "import tensorflow as tf\n",
    "import matplotlib.pyplot as plt\n",
    "import tensorflow_datasets as tfds"
   ]
  },
  {
   "cell_type": "markdown",
   "id": "harmful-watch",
   "metadata": {},
   "source": [
    "## 2. 포지셔널 행렬 만들기"
   ]
  },
  {
   "cell_type": "code",
   "execution_count": 2,
   "id": "limiting-arrangement",
   "metadata": {},
   "outputs": [],
   "source": [
    "# 포지셔널 인코딩 레이어\n",
    "class PositionalEncoding(tf.keras.layers.Layer):\n",
    "    def __init__(self, position, d_model):\n",
    "        super(PositionalEncoding, self).__init__()\n",
    "        self.pos_encoding = self.positional_encoding(position, d_model)\n",
    "\n",
    "    def get_angles(self, position, i, d_model):\n",
    "        angles = 1 / tf.pow(10000, (2 * (i // 2)) / tf.cast(d_model, tf.float32))\n",
    "        return position * angles\n",
    "\n",
    "    def positional_encoding(self, position, d_model):\n",
    "        angle_rads = self.get_angles(position = tf.range(position, dtype = tf.float32)[:, tf.newaxis],\n",
    "                                     i        = tf.range(d_model,  dtype = tf.float32)[tf.newaxis, :],\n",
    "                                     d_model  = d_model)\n",
    "        # 배열의 짝수 인덱스에는 sin 함수 적용\n",
    "        sines   = tf.math.sin(angle_rads[:, 0::2])\n",
    "        # 배열의 홀수 인덱스에는 cosine 함수 적용\n",
    "        cosines = tf.math.cos(angle_rads[:, 1::2])\n",
    "\n",
    "        pos_encoding = tf.concat([sines, cosines], axis = -1)\n",
    "        pos_encoding = pos_encoding[tf.newaxis, ...]\n",
    "        return tf.cast(pos_encoding, tf.float32)\n",
    "\n",
    "    def call(self, inputs):\n",
    "        return inputs + self.pos_encoding[:, :tf.shape(inputs)[1], :]"
   ]
  },
  {
   "cell_type": "code",
   "execution_count": 3,
   "id": "departmental-research",
   "metadata": {},
   "outputs": [
    {
     "data": {
      "image/png": "[encoded data removed]",
      "text/plain": [
       "<Figure size 432x288 with 2 Axes>"
      ]
     },
     "metadata": {
      "needs_background": "light"
     },
     "output_type": "display_data"
    }
   ],
   "source": [
    "# 포지셔널 행렬 시각화하여 테스트해보기\n",
    "sample_pos_encoding = PositionalEncoding(50, 512)\n",
    "\n",
    "plt.pcolormesh(sample_pos_encoding.pos_encoding.numpy()[0], cmap='RdBu')\n",
    "plt.xlabel('Depth')\n",
    "plt.xlim((0, 512))\n",
    "plt.ylabel('Position')\n",
    "plt.colorbar()\n",
    "plt.show()"
   ]
  },
  {
   "cell_type": "markdown",
   "id": "alone-expansion",
   "metadata": {},
   "source": [
    "## 3. 스케일드 닷 프로덕트 어텐션 함수 만들기"
   ]
  },
  {
   "cell_type": "code",
   "execution_count": 4,
   "id": "casual-wagon",
   "metadata": {},
   "outputs": [],
   "source": [
    "# 스케일드 닷 프로덕트 어텐션 함수\n",
    "def scaled_dot_product_attention(query, key, value, mask):\n",
    "    \"\"\"어텐션 가중치를 계산한다.\"\"\"\n",
    "    matmul_qk = tf.matmul(query, key, transpose_b = True)\n",
    "\n",
    "    # scale matmul_qk\n",
    "    depth  = tf.cast(tf.shape(key)[-1], tf.float32)\n",
    "    logits = matmul_qk / tf.math.sqrt(depth)\n",
    "\n",
    "    # add the mask to zero out padding tokens\n",
    "    if mask is not None:\n",
    "        logits += (mask * -1e9)\n",
    "\n",
    "    # softmax is normalized on the last axis (seq_len_k)\n",
    "    attention_weights = tf.nn.softmax(logits, axis = -1)\n",
    "\n",
    "    output = tf.matmul(attention_weights, value)\n",
    "\n",
    "    return output"
   ]
  },
  {
   "cell_type": "markdown",
   "id": "spare-typing",
   "metadata": {},
   "source": [
    "## 4. 멀티 헤드 어텐션 함수 만들기\n",
    "#### 내부적으로 스케일드 닷 프로덕트 어텐션 함수를 호출한다."
   ]
  },
  {
   "cell_type": "code",
   "execution_count": 5,
   "id": "shaped-stock",
   "metadata": {},
   "outputs": [],
   "source": [
    "class MultiHeadAttention(tf.keras.layers.Layer):\n",
    "    def __init__(self, d_model, num_heads, name = \"multi_head_attention\"):\n",
    "        super(MultiHeadAttention, self).__init__(name = name)\n",
    "        self.num_heads = num_heads\n",
    "        self.d_model   = d_model\n",
    "        \n",
    "        assert d_model % self.num_heads == 0\n",
    "\n",
    "        self.depth = d_model // self.num_heads\n",
    "\n",
    "        self.query_dense = tf.keras.layers.Dense(units = d_model)\n",
    "        self.key_dense   = tf.keras.layers.Dense(units = d_model)\n",
    "        self.value_dense = tf.keras.layers.Dense(units = d_model)\n",
    "        self.dense       = tf.keras.layers.Dense(units = d_model)\n",
    "\n",
    "    def split_heads(self, inputs, batch_size):\n",
    "        inputs = tf.reshape(inputs, shape = (batch_size, -1, self.num_heads, self.depth))\n",
    "        return tf.transpose(inputs, perm = [0, 2, 1, 3])\n",
    "\n",
    "    def call(self, inputs):\n",
    "        query, key, value, mask = inputs[\"query\"], inputs[\"key\"], inputs[\"value\"], inputs[\"mask\"]\n",
    "        batch_size = tf.shape(query)[0]\n",
    "\n",
    "        # linear layers\n",
    "        query = self.query_dense(query)\n",
    "        key   = self.key_dense(key)\n",
    "        value = self.value_dense(value)\n",
    "\n",
    "        # 병렬 연산을 위한 머리를 여러 개 만든다.\n",
    "        query = self.split_heads(query, batch_size)\n",
    "        key   = self.split_heads(key,   batch_size)\n",
    "        value = self.split_heads(value, batch_size)\n",
    "\n",
    "        # 스케일드 닷 프로덕트 어텐션 함수\n",
    "        scaled_attention = scaled_dot_product_attention(query, key, value, mask)\n",
    "        scaled_attention = tf.transpose(scaled_attention, perm = [0, 2, 1, 3])\n",
    "\n",
    "        # 어텐션 연산 후에 각 결과를 다시 연결(concatenate)한다.\n",
    "        concat_attention = tf.reshape(scaled_attention, (batch_size, -1, self.d_model))\n",
    "\n",
    "        # final linear layer\n",
    "        outputs = self.dense(concat_attention)\n",
    "\n",
    "        return outputs"
   ]
  },
  {
   "cell_type": "markdown",
   "id": "systematic-zimbabwe",
   "metadata": {},
   "source": [
    "## 5. 패딩 마스크(Padding Masking) 함수 만들기"
   ]
  },
  {
   "cell_type": "code",
   "execution_count": 6,
   "id": "light-strip",
   "metadata": {},
   "outputs": [],
   "source": [
    "# 패딩 마스크 함수\n",
    "def create_padding_mask(x):\n",
    "    mask = tf.cast(tf.math.equal(x, 0), tf.float32)\n",
    "    # (batch_size, 1, 1, sequence length)\n",
    "    return mask[:, tf.newaxis, tf.newaxis, :]"
   ]
  },
  {
   "cell_type": "code",
   "execution_count": 7,
   "id": "fifth-valuable",
   "metadata": {},
   "outputs": [
    {
     "name": "stdout",
     "output_type": "stream",
     "text": [
      "tf.Tensor(\n",
      "[[[[0. 0. 1. 0. 1.]]]\n",
      "\n",
      "\n",
      " [[[1. 1. 1. 0. 0.]]]], shape=(2, 1, 1, 5), dtype=float32)\n"
     ]
    }
   ],
   "source": [
    "# 잘 작동되는지 테스트 하기\n",
    "print(create_padding_mask(tf.constant([[1, 2, 0, 3, 0], [0, 0, 0, 4, 5]])))"
   ]
  },
  {
   "cell_type": "markdown",
   "id": "hidden-server",
   "metadata": {},
   "source": [
    "## 6. 룩 어헤드 마스킹(Look-ahead masking, 다음 단어 가리기) 함수 만들기"
   ]
  },
  {
   "cell_type": "code",
   "execution_count": 8,
   "id": "undefined-rocket",
   "metadata": {},
   "outputs": [],
   "source": [
    "# 룩 어헤드 마스킹 함수\n",
    "def create_look_ahead_mask(x):\n",
    "    seq_len         = tf.shape(x)[1]\n",
    "    look_ahead_mask = 1 - tf.linalg.band_part(tf.ones((seq_len, seq_len)), -1, 0)\n",
    "    padding_mask    = create_padding_mask(x)\n",
    "    return tf.maximum(look_ahead_mask, padding_mask)"
   ]
  },
  {
   "cell_type": "code",
   "execution_count": 9,
   "id": "designed-christianity",
   "metadata": {},
   "outputs": [
    {
     "name": "stdout",
     "output_type": "stream",
     "text": [
      "tf.Tensor(\n",
      "[[[[0. 1. 1. 1. 1.]\n",
      "   [0. 0. 1. 1. 1.]\n",
      "   [0. 0. 0. 1. 1.]\n",
      "   [0. 0. 0. 0. 1.]\n",
      "   [0. 0. 0. 0. 0.]]]], shape=(1, 1, 5, 5), dtype=float32)\n",
      "tf.Tensor(\n",
      "[[[[1. 1. 1. 1. 1.]\n",
      "   [1. 0. 1. 1. 1.]\n",
      "   [1. 0. 0. 1. 1.]\n",
      "   [1. 0. 0. 0. 1.]\n",
      "   [1. 0. 0. 0. 0.]]]], shape=(1, 1, 5, 5), dtype=float32)\n"
     ]
    }
   ],
   "source": [
    "# 잘 작동되는지 테스트 하기\n",
    "print(create_look_ahead_mask(tf.constant([[1, 2, 3, 4, 5]])))\n",
    "\n",
    "# 룩 어헤드 마스킹과 패딩 마스킹은 별개이므로, 룩 어헤드 마스킹을 수행할 때 만약 숫자 0이 있다면 0도 패딩 해야 한다.\n",
    "# 그래서 룩 어헤드 마스킹 함수에는 내부적으로 패딩 마스크 함수도 호출하고 있다.\n",
    "print(create_look_ahead_mask(tf.constant([[0, 5, 1, 5, 5]])))"
   ]
  },
  {
   "cell_type": "code",
   "execution_count": 10,
   "id": "ancient-harris",
   "metadata": {},
   "outputs": [],
   "source": [
    "# 두 개의 서브 층을 가지는 하나의 인코더 층을 구현하는 함수 만들기\n",
    "# 인코더 하나의 레이어를 함수로 구현한다.\n",
    "# 이 하나의 레이어 안에는 두 개의 서브 레이어가 존재한다.\n",
    "def encoder_layer(units, d_model, num_heads, dropout, name = \"encoder_layer\"):\n",
    "    inputs = tf.keras.Input(shape = (None, d_model),  name = \"inputs\")\n",
    "\n",
    "    # 패딩 마스크 사용\n",
    "    padding_mask = tf.keras.Input(shape = (1, 1, None), name = \"padding_mask\")\n",
    "\n",
    "    # 첫 번째 서브 레이어 : 멀티 헤드 어텐션 수행 (셀프 어텐션)\n",
    "    attention = MultiHeadAttention(d_model, num_heads, name = \"attention\")({\n",
    "        \"query\": inputs,\n",
    "        \"key\"  : inputs,\n",
    "        \"value\": inputs,\n",
    "        \"mask\" : padding_mask\n",
    "    })\n",
    "\n",
    "    # 어텐션의 결과는 Dropout과 Layer Normalization 이라는 훈련을 돕는 테크닉을 수행한다.\n",
    "    attention = tf.keras.layers.Dropout(rate = dropout)(attention)\n",
    "    attention = tf.keras.layers.LayerNormalization(epsilon = 1e-6)(inputs + attention)\n",
    "\n",
    "    # 두 번째 서브 레이어 : 2개의 완전연결층\n",
    "    outputs = tf.keras.layers.Dense(units = units, activation = \"relu\")(attention)\n",
    "    outputs = tf.keras.layers.Dense(units = d_model)(outputs)\n",
    "\n",
    "    # 완전연결층의 결과는 Dropout과 LayerNormalization이라는 훈련을 돕는 테크닉을 수행한다.\n",
    "    outputs = tf.keras.layers.Dropout(rate = dropout)(outputs)\n",
    "    outputs = tf.keras.layers.LayerNormalization(epsilon = 1e-6)(attention + outputs)\n",
    "\n",
    "    return tf.keras.Model(inputs = [inputs, padding_mask], outputs = outputs, name = name)"
   ]
  },
  {
   "cell_type": "code",
   "execution_count": 11,
   "id": "honey-reasoning",
   "metadata": {},
   "outputs": [],
   "source": [
    "# 인코더 층을 쌓아서 인코더 만들기\n",
    "def encoder(vocab_size, num_layers, units, d_model, num_heads, dropout, name = \"encoder\"):\n",
    "    inputs = tf.keras.Input(shape = (None,), name = \"inputs\")\n",
    "\n",
    "    # 패딩 마스크 사용\n",
    "    padding_mask = tf.keras.Input(shape = (1, 1, None), name = \"padding_mask\")\n",
    "\n",
    "    # 임베딩 레이어\n",
    "    embeddings = tf.keras.layers.Embedding(vocab_size, d_model)(inputs)\n",
    "    embeddings *= tf.math.sqrt(tf.cast(d_model, tf.float32))\n",
    "\n",
    "    # 포지셔널 인코딩\n",
    "    embeddings = PositionalEncoding(vocab_size, d_model)(embeddings)\n",
    "\n",
    "    outputs = tf.keras.layers.Dropout(rate = dropout)(embeddings)\n",
    "\n",
    "    # num_layers 만큼 쌓아올린 인코더의 층.\n",
    "    for i in range(num_layers):\n",
    "        outputs = encoder_layer(units     = units,\n",
    "                                d_model   = d_model,\n",
    "                                num_heads = num_heads,\n",
    "                                dropout   = dropout,\n",
    "                                name      = \"encoder_layer_{}\".format(i),\n",
    "                               )([outputs, padding_mask])\n",
    "\n",
    "    return tf.keras.Model(inputs = [inputs, padding_mask], outputs = outputs, name = name)"
   ]
  },
  {
   "cell_type": "markdown",
   "id": "secret-identifier",
   "metadata": {},
   "source": [
    "## 8. 디코더"
   ]
  },
  {
   "cell_type": "code",
   "execution_count": 12,
   "id": "based-helena",
   "metadata": {},
   "outputs": [],
   "source": [
    "# 세 개의 서브 층을 가지는 하나의 디코더 층을 구현한 함수 만들기\n",
    "# 디코더 하나의 레이어를 함수로 구현\n",
    "# 이 하나의 레이어 안에는 세 개의 서브 레이어가 존재한다.\n",
    "def decoder_layer(units, d_model, num_heads, dropout, name = \"decoder_layer\"):\n",
    "    inputs          = tf.keras.Input(shape = (None, d_model), name = \"inputs\")\n",
    "    enc_outputs     = tf.keras.Input(shape = (None, d_model), name = \"encoder_outputs\")\n",
    "    look_ahead_mask = tf.keras.Input(shape = (1, None, None), name = \"look_ahead_mask\")\n",
    "    padding_mask    = tf.keras.Input(shape = (1, 1, None),    name = \"padding_mask\")\n",
    "\n",
    "    # 첫 번째 서브 레이어 : 멀티 헤드 어텐션 수행 (셀프 어텐션)\n",
    "    attention1 = MultiHeadAttention(d_model, num_heads, name = \"attention_1\")(inputs = {\n",
    "        \"query\": inputs,\n",
    "        \"key\"  : inputs,\n",
    "        \"value\": inputs,\n",
    "        \"mask\" : look_ahead_mask\n",
    "    })\n",
    "\n",
    "    # 멀티 헤드 어텐션의 결과는 LayerNormalization이라는 훈련을 돕는 테크닉을 수행한다.\n",
    "    attention1 = tf.keras.layers.LayerNormalization(epsilon = 1e-6)(attention1 + inputs)\n",
    "\n",
    "    # 두 번째 서브 레이어 : 마스크드 멀티 헤드 어텐션 수행 (인코더-디코더 어텐션)\n",
    "    attention2 = MultiHeadAttention(d_model, num_heads, name = \"attention_2\")(inputs = {\n",
    "        \"query\": attention1,\n",
    "        \"key\"  : enc_outputs,\n",
    "        \"value\": enc_outputs,\n",
    "        \"mask\" : padding_mask\n",
    "    })\n",
    "\n",
    "    # 마스크드 멀티 헤드 어텐션의 결과는 Dropout과 LayerNormalization이라는 훈련을 돕는 테크닉을 수행한다.\n",
    "    attention2 = tf.keras.layers.Dropout(rate = dropout)(attention2)\n",
    "    attention2 = tf.keras.layers.LayerNormalization(epsilon = 1e-6)(attention2 + attention1)\n",
    "\n",
    "    # 세 번째 서브 레이어 : 2개의 완전연결층\n",
    "    outputs = tf.keras.layers.Dense(units = units, activation = \"relu\")(attention2)\n",
    "    outputs = tf.keras.layers.Dense(units = d_model)(outputs)\n",
    "\n",
    "    # 완전연결층의 결과는 Dropout과 LayerNormalization 수행한다.\n",
    "    outputs = tf.keras.layers.Dropout(rate = dropout)(outputs)\n",
    "    outputs = tf.keras.layers.LayerNormalization(epsilon = 1e-6)(outputs + attention2)\n",
    "\n",
    "    return tf.keras.Model(inputs = [inputs, enc_outputs, look_ahead_mask, padding_mask], outputs = outputs, name = name)"
   ]
  },
  {
   "cell_type": "code",
   "execution_count": 13,
   "id": "anonymous-spray",
   "metadata": {},
   "outputs": [],
   "source": [
    "# 디코더 층을 쌓아 디코더 만들기\n",
    "def decoder(vocab_size, num_layers, units, d_model, num_heads, dropout, name = \"decoder\"):\n",
    "    inputs          = tf.keras.Input(shape = (None,),         name = \"inputs\")\n",
    "    enc_outputs     = tf.keras.Input(shape = (None, d_model), name = \"encoder_outputs\")\n",
    "    look_ahead_mask = tf.keras.Input(shape = (1, None, None), name = \"look_ahead_mask\")\n",
    "\n",
    "    # 패딩 마스크\n",
    "    padding_mask = tf.keras.Input(shape = (1, 1, None), name = \"padding_mask\")\n",
    "    \n",
    "    # 임베딩 레이어\n",
    "    embeddings = tf.keras.layers.Embedding(vocab_size, d_model)(inputs)\n",
    "    embeddings *= tf.math.sqrt(tf.cast(d_model, tf.float32))\n",
    "\n",
    "    # 포지셔널 인코딩\n",
    "    embeddings = PositionalEncoding(vocab_size, d_model)(embeddings)\n",
    "\n",
    "    # Dropout이라는 훈련을 돕는 테크닉을 수행한다.\n",
    "    outputs = tf.keras.layers.Dropout(rate = dropout)(embeddings)\n",
    "\n",
    "    for i in range(num_layers):\n",
    "        outputs = decoder_layer(units     = units,\n",
    "                                d_model   = d_model,\n",
    "                                num_heads = num_heads,\n",
    "                                dropout   = dropout,\n",
    "                                name      = \"decoder_layer_{}\".format(i),\n",
    "                               )(inputs = [outputs, enc_outputs, look_ahead_mask, padding_mask])\n",
    "\n",
    "    return tf.keras.Model(inputs = [inputs, enc_outputs, look_ahead_mask, padding_mask], outputs = outputs, name = name)"
   ]
  },
  {
   "cell_type": "markdown",
   "id": "patient-switzerland",
   "metadata": {},
   "source": [
    "## 9. 데이터 불러오기"
   ]
  },
  {
   "cell_type": "code",
   "execution_count": 14,
   "id": "mexican-cloud",
   "metadata": {},
   "outputs": [],
   "source": [
    "# 데이터 전처리 함수 만들기\n",
    "# 여기서는 정규 표현식을 이용하여 구두점을 제거하여 단어를 토크나이징할 때 방해가 되지 않도록 정제하는 것이 목표이다.\n",
    "# 전처리 함수\n",
    "def preprocess_sentence(sentence):\n",
    "    sentence = sentence.lower().strip()\n",
    "\n",
    "    # 단어와 구두점(punctuatuin) 사이의 거리를 만든다.\n",
    "    # 예를 들어 \"나는 학생입니다.\" -> \"나는 학생입니다 .\" 같이\n",
    "    # student와 온점 사이에 거리를 만든다.\n",
    "    sentence = re.sub(r\"([?.!,])\", r\" \\1 \", sentence)\n",
    "    sentence = re.sub(r'[\" \"]+', \" \", sentence)\n",
    "\n",
    "    # (a-z, A-Z, 가-힣, 숫자, \".\", \"?\", \"!\", \",\")를 제외한 모든 문자를 공백인 \" \"로 대체한다.\n",
    "    sentence = re.sub(r\"[^a-zA-Z가-힣\\d?.!,]+\", \" \", sentence)\n",
    "    sentence = sentence.strip()\n",
    "    return sentence"
   ]
  },
  {
   "cell_type": "code",
   "execution_count": 15,
   "id": "infectious-powder",
   "metadata": {},
   "outputs": [],
   "source": [
    "# 데이터를 로드하는 동시에 전처리 함수를 사용하여 질문과 답변의 쌍으로 전처리한다.\n",
    "def load_conversations():\n",
    "    with open(path_to_dataset, \"r\") as file:\n",
    "        lines = file.readlines()\n",
    "        \n",
    "    id2line = []\n",
    "    for line in lines:\n",
    "        parts  = line.replace(\"\\n\", \"\").split(\",\")\n",
    "        id2line.append(parts)\n",
    "    \n",
    "    inputs, outputs = [], []\n",
    "    for i in range(len(id2line) - 1):\n",
    "        inputs.append(preprocess_sentence(id2line[1:][i][0]))\n",
    "        outputs.append(preprocess_sentence(id2line[1:][i][1]))\n",
    "    \n",
    "    return inputs, outputs"
   ]
  },
  {
   "cell_type": "code",
   "execution_count": 16,
   "id": "recent-while",
   "metadata": {},
   "outputs": [],
   "source": [
    "path_to_dataset = tf.keras.utils.get_file(fname  = \"ChatbotData.csv\",\n",
    "                                          origin = \"https://github.com/songys/Chatbot_data/raw/master/ChatbotData%20.csv\")"
   ]
  },
  {
   "cell_type": "code",
   "execution_count": 17,
   "id": "communist-checkout",
   "metadata": {},
   "outputs": [
    {
     "name": "stdout",
     "output_type": "stream",
     "text": [
      "전체 샘플 수 : 11823\n",
      "전체 샘플 수 : 11823\n"
     ]
    }
   ],
   "source": [
    "# 데이터를 로드하고 전처리하여 질문을 questions, 답변을 answers에 저장합니다.\n",
    "questions, answers = load_conversations()\n",
    "print(\"전체 샘플 수 :\", len(questions))\n",
    "print(\"전체 샘플 수 :\", len(answers))"
   ]
  },
  {
   "cell_type": "markdown",
   "id": "surgical-discharge",
   "metadata": {},
   "source": [
    "## 10. 병렬 데이터 전처리하기"
   ]
  },
  {
   "cell_type": "markdown",
   "id": "right-raising",
   "metadata": {},
   "source": [
    "### 10_1. 단어장(Vocabulary) 만들기"
   ]
  },
  {
   "cell_type": "code",
   "execution_count": 18,
   "id": "irish-pharmacology",
   "metadata": {},
   "outputs": [],
   "source": [
    "tokenizer = tfds.deprecated.text.SubwordTextEncoder.build_from_corpus(questions + answers, target_vocab_size = 2 ** 13)"
   ]
  },
  {
   "cell_type": "code",
   "execution_count": 19,
   "id": "objective-anniversary",
   "metadata": {},
   "outputs": [
    {
     "name": "stdout",
     "output_type": "stream",
     "text": [
      "START_TOKEN의 번호 : [8139]\n",
      "END_TOKEN의 번호 : [8140]\n"
     ]
    }
   ],
   "source": [
    "# 디코더의 문장 생성 과정에서 사용할 시작 토큰과 종료 토큰을 단어장에 추가하여서 정수를 부여해 준다.\n",
    "START_TOKEN, END_TOKEN = [tokenizer.vocab_size], [tokenizer.vocab_size + 1]\n",
    "\n",
    "# 토큰이 잘 생성됬는지 테스트 하기\n",
    "print(\"START_TOKEN의 번호 :\", [tokenizer.vocab_size])\n",
    "print(\"END_TOKEN의 번호 :\",   [tokenizer.vocab_size + 1])"
   ]
  },
  {
   "cell_type": "code",
   "execution_count": 20,
   "id": "guilty-leone",
   "metadata": {},
   "outputs": [
    {
     "name": "stdout",
     "output_type": "stream",
     "text": [
      "8141\n"
     ]
    }
   ],
   "source": [
    "# 생성한 토큰을 고려하여 단어장 크기 설정하기\n",
    "VOCAB_SIZE = tokenizer.vocab_size + 2\n",
    "print(VOCAB_SIZE)"
   ]
  },
  {
   "cell_type": "markdown",
   "id": "elder-sense",
   "metadata": {},
   "source": [
    "### 10_2. 각 단어를 고유한 정수로 인코딩(Integer encoding) 및 패딩(Padding) 하기"
   ]
  },
  {
   "cell_type": "code",
   "execution_count": 21,
   "id": "instructional-sherman",
   "metadata": {},
   "outputs": [
    {
     "name": "stdout",
     "output_type": "stream",
     "text": [
      "정수 인코딩 후의 1번째 질문 샘플: [7879, 4179, 3036, 40]\n",
      "정수 인코딩 후의 1번째 답변 샘플: [3816, 75, 7858, 1]\n"
     ]
    }
   ],
   "source": [
    "# 임의의 1번째 샘플에 대해서 정수 인코딩 작업을 수행한다.\n",
    "# 각 토큰을 고유한 정수로 변환한다.\n",
    "print(\"정수 인코딩 후의 1번째 질문 샘플: {}\".format(tokenizer.encode(questions[0])))\n",
    "print(\"정수 인코딩 후의 1번째 답변 샘플: {}\".format(tokenizer.encode(answers[0])))"
   ]
  },
  {
   "cell_type": "code",
   "execution_count": 22,
   "id": "associate-proposition",
   "metadata": {},
   "outputs": [],
   "source": [
    "# 패딩할 때 필요한 문장 최대 길이 설정하기\n",
    "MAX_LENGTH = 40"
   ]
  },
  {
   "cell_type": "code",
   "execution_count": 23,
   "id": "restricted-layer",
   "metadata": {},
   "outputs": [],
   "source": [
    "# 인코딩과 패딩을 하는 함수 만들기\n",
    "def tokenize_and_filter(inputs, outputs):\n",
    "    tokenized_inputs, tokenized_outputs = [], []\n",
    "\n",
    "    for (sentence1, sentence2) in zip(inputs, outputs):\n",
    "        # 정수 인코딩 과정에서 시작 토큰과 종료 토큰을 추가한다.\n",
    "        sentence1 = START_TOKEN + tokenizer.encode(sentence1) + END_TOKEN\n",
    "        sentence2 = START_TOKEN + tokenizer.encode(sentence2) + END_TOKEN\n",
    "\n",
    "        # 최대 길이 40 이하인 경우에만 데이터셋으로 허용\n",
    "        if len(sentence1) <= MAX_LENGTH and len(sentence2) <= MAX_LENGTH:\n",
    "            tokenized_inputs.append(sentence1)\n",
    "            tokenized_outputs.append(sentence2)\n",
    "\n",
    "    # 최대 길이 40으로 모든 데이터셋을 패딩한다.\n",
    "    tokenized_inputs  = tf.keras.preprocessing.sequence.pad_sequences(tokenized_inputs,  maxlen = MAX_LENGTH, padding = \"post\")\n",
    "    tokenized_outputs = tf.keras.preprocessing.sequence.pad_sequences(tokenized_outputs, maxlen = MAX_LENGTH, padding = \"post\")\n",
    "\n",
    "    return tokenized_inputs, tokenized_outputs"
   ]
  },
  {
   "cell_type": "code",
   "execution_count": 24,
   "id": "operating-patio",
   "metadata": {},
   "outputs": [
    {
     "name": "stdout",
     "output_type": "stream",
     "text": [
      "단어장의 크기 : 8141\n",
      "필터링 후의 질문 샘플 개수 : 11823\n",
      "필터링 후의 답변 샘플 개수 : 11823\n"
     ]
    }
   ],
   "source": [
    "# 만든 함수를 이용하여 인코딩과 패딩하기\n",
    "questions, answers = tokenize_and_filter(questions, answers)\n",
    "\n",
    "print(\"단어장의 크기 :\", (VOCAB_SIZE))\n",
    "print(\"필터링 후의 질문 샘플 개수 : {}\".format(len(questions)))\n",
    "print(\"필터링 후의 답변 샘플 개수 : {}\".format(len(answers)))"
   ]
  },
  {
   "cell_type": "markdown",
   "id": "actual-motivation",
   "metadata": {},
   "source": [
    "## 10_3. 교사 강요(Teacher Forcing) 사용하기"
   ]
  },
  {
   "cell_type": "code",
   "execution_count": 25,
   "id": "attached-bumper",
   "metadata": {},
   "outputs": [],
   "source": [
    "BATCH_SIZE  = 64\n",
    "BUFFER_SIZE = 20000\n",
    "\n",
    "# 디코더는 이전의 target을 다음의 input으로 사용한다.\n",
    "# 이에 따라 outputs에서는 START_TOKEN을 제거한다.\n",
    "dataset = tf.data.Dataset.from_tensor_slices(({\"inputs\" : questions, \"dec_inputs\" : answers[:, :-1]}, {\"outputs\" : answers[:, 1:]},))\n",
    "dataset = dataset.cache()\n",
    "dataset = dataset.shuffle(BUFFER_SIZE)\n",
    "dataset = dataset.batch(BATCH_SIZE)\n",
    "dataset = dataset.prefetch(tf.data.experimental.AUTOTUNE)"
   ]
  },
  {
   "cell_type": "markdown",
   "id": "million-struggle",
   "metadata": {},
   "source": [
    "## 11. 모델 정의 및 학습하기"
   ]
  },
  {
   "cell_type": "code",
   "execution_count": 26,
   "id": "revised-norfolk",
   "metadata": {},
   "outputs": [],
   "source": [
    "# 앞서서 만든 인코더 층 함수와 디코더 층 함수를 사용하여 트랜스포머 함수를 정의한다.\n",
    "def transformer(vocab_size, num_layers, units, d_model, num_heads, dropout, name = \"transformer\"):\n",
    "    inputs     = tf.keras.Input(shape = (None,), name = \"inputs\")\n",
    "    dec_inputs = tf.keras.Input(shape = (None,), name = \"dec_inputs\")\n",
    "\n",
    "    # 인코더에서 패딩을 위한 마스크\n",
    "    enc_padding_mask = tf.keras.layers.Lambda(create_padding_mask, output_shape = (1, 1, None), name = \"enc_padding_mask\")(inputs)\n",
    "\n",
    "    # 디코더에서 미래의 토큰을 마스크 하기 위해서 사용한다.\n",
    "    # 내부적으로 패딩 마스크도 포함되어 있다.\n",
    "    look_ahead_mask = tf.keras.layers.Lambda(create_look_ahead_mask, output_shape = (1, None, None), name = \"look_ahead_mask\")(dec_inputs)\n",
    "\n",
    "    # 두 번째 어텐션 블록에서 인코더의 벡터들을 마스킹한다.\n",
    "    # 디코더에서 패딩을 위한 마스크\n",
    "    dec_padding_mask = tf.keras.layers.Lambda(create_padding_mask, output_shape = (1, 1, None), name = \"dec_padding_mask\")(inputs)\n",
    "\n",
    "    # 인코더\n",
    "    enc_outputs = encoder(vocab_size = vocab_size, \n",
    "                          num_layers = num_layers, \n",
    "                          units      = units, \n",
    "                          d_model    = d_model, \n",
    "                          num_heads  = num_heads,\n",
    "                          dropout    = dropout,)(inputs = [inputs, enc_padding_mask])\n",
    "\n",
    "    # 디코더\n",
    "    dec_outputs = decoder(vocab_size = vocab_size,\n",
    "                          num_layers = num_layers,\n",
    "                          units      = units,\n",
    "                          d_model    = d_model,\n",
    "                          num_heads  = num_heads,\n",
    "                          dropout    = dropout,)(inputs = [dec_inputs, enc_outputs, look_ahead_mask, dec_padding_mask])\n",
    "\n",
    "    # 완전연결층\n",
    "    outputs = tf.keras.layers.Dense(units = vocab_size, name = \"outputs\")(dec_outputs)\n",
    "\n",
    "    return tf.keras.Model(inputs = [inputs, dec_inputs], outputs = outputs, name = name)"
   ]
  },
  {
   "cell_type": "markdown",
   "id": "visible-consciousness",
   "metadata": {},
   "source": [
    "### 11_1. 모델 생성하기"
   ]
  },
  {
   "cell_type": "code",
   "execution_count": 27,
   "id": "revolutionary-strength",
   "metadata": {},
   "outputs": [
    {
     "name": "stdout",
     "output_type": "stream",
     "text": [
      "Model: \"transformer\"\n",
      "__________________________________________________________________________________________________\n",
      "Layer (type)                    Output Shape         Param #     Connected to                     \n",
      "==================================================================================================\n",
      "inputs (InputLayer)             [(None, None)]       0                                            \n",
      "__________________________________________________________________________________________________\n",
      "dec_inputs (InputLayer)         [(None, None)]       0                                            \n",
      "__________________________________________________________________________________________________\n",
      "enc_padding_mask (Lambda)       (None, 1, 1, None)   0           inputs[0][0]                     \n",
      "__________________________________________________________________________________________________\n",
      "encoder (Model)                 (None, None, 512)    13636096    inputs[0][0]                     \n",
      "                                                                 enc_padding_mask[0][0]           \n",
      "__________________________________________________________________________________________________\n",
      "look_ahead_mask (Lambda)        (None, 1, None, None 0           dec_inputs[0][0]                 \n",
      "__________________________________________________________________________________________________\n",
      "dec_padding_mask (Lambda)       (None, 1, 1, None)   0           inputs[0][0]                     \n",
      "__________________________________________________________________________________________________\n",
      "decoder (Model)                 (None, None, 512)    19945984    dec_inputs[0][0]                 \n",
      "                                                                 encoder[1][0]                    \n",
      "                                                                 look_ahead_mask[0][0]            \n",
      "                                                                 dec_padding_mask[0][0]           \n",
      "__________________________________________________________________________________________________\n",
      "outputs (Dense)                 (None, None, 8141)   4176333     decoder[1][0]                    \n",
      "==================================================================================================\n",
      "Total params: 37,758,413\n",
      "Trainable params: 37,758,413\n",
      "Non-trainable params: 0\n",
      "__________________________________________________________________________________________________\n"
     ]
    }
   ],
   "source": [
    "tf.keras.backend.clear_session() # 최근의 만든 모델이 있다면 지워준다.\n",
    "\n",
    "# 하이퍼 파라미터\n",
    "NUM_LAYERS = 6                   # 인코더와 디코더의 층의 개수\n",
    "D_MODEL    = 512                 # 인코더와 디코더 내부의 입력, 출력의 고정 차원\n",
    "NUM_HEADS  = 8                   # 멀티 헤드 어텐션에서의 헤드 수 \n",
    "UNITS      = 512                 # 피드 포워드 신경망의 은닉층의 크기\n",
    "DROPOUT    = 0.1                 # dropout의 비율\n",
    "\n",
    "model = transformer(vocab_size = VOCAB_SIZE,\n",
    "                    num_layers = NUM_LAYERS,\n",
    "                    units      = UNITS,\n",
    "                    d_model    = D_MODEL,\n",
    "                    num_heads  = NUM_HEADS,\n",
    "                    dropout    = DROPOUT)\n",
    "\n",
    "model.summary()"
   ]
  },
  {
   "cell_type": "markdown",
   "id": "statistical-billy",
   "metadata": {},
   "source": [
    "### 11_2. 손실 함수(Loss function)"
   ]
  },
  {
   "cell_type": "code",
   "execution_count": 28,
   "id": "arctic-worcester",
   "metadata": {},
   "outputs": [],
   "source": [
    "def loss_function(y_true, y_pred):\n",
    "    y_true = tf.reshape(y_true, shape = (-1, MAX_LENGTH - 1))\n",
    "    loss   = tf.keras.losses.SparseCategoricalCrossentropy(from_logits = True, reduction = \"none\")(y_true, y_pred)\n",
    "    mask   = tf.cast(tf.not_equal(y_true, 0), tf.float32)\n",
    "    loss   = tf.multiply(loss, mask)\n",
    "\n",
    "    return tf.reduce_mean(loss)"
   ]
  },
  {
   "cell_type": "markdown",
   "id": "uniform-carry",
   "metadata": {},
   "source": [
    "### 11_3. 커스텀된 학습률(Learning rate)"
   ]
  },
  {
   "cell_type": "code",
   "execution_count": 29,
   "id": "blind-hollywood",
   "metadata": {},
   "outputs": [],
   "source": [
    "class CustomSchedule(tf.keras.optimizers.schedules.LearningRateSchedule):\n",
    "    def __init__(self, d_model, warmup_steps = 4000):\n",
    "        super(CustomSchedule, self).__init__()\n",
    "        self.d_model      = d_model\n",
    "        self.d_model      = tf.cast(self.d_model, tf.float32)\n",
    "        self.warmup_steps = warmup_steps\n",
    "    \n",
    "    def __call__(self, step):\n",
    "        arg1 = tf.math.rsqrt(step)\n",
    "        arg2 = step * (self.warmup_steps ** -1.5)\n",
    "\n",
    "        return tf.math.rsqrt(self.d_model) * tf.math.minimum(arg1, arg2)"
   ]
  },
  {
   "cell_type": "code",
   "execution_count": 30,
   "id": "medical-negotiation",
   "metadata": {},
   "outputs": [
    {
     "data": {
      "text/plain": [
       "Text(0.5, 0, 'Train Step')"
      ]
     },
     "execution_count": 30,
     "metadata": {},
     "output_type": "execute_result"
    },
    {
     "data": {
      "image/png": "[encoded data removed]",
      "text/plain": [
       "<Figure size 432x288 with 1 Axes>"
      ]
     },
     "metadata": {
      "needs_background": "light"
     },
     "output_type": "display_data"
    }
   ],
   "source": [
    "# 커스텀된 학습률 시각화 해보기\n",
    "temp_learning_rate = CustomSchedule(d_model = 128)\n",
    "\n",
    "plt.plot(temp_learning_rate(tf.range(200000, dtype = tf.float32)))\n",
    "plt.ylabel(\"Learning Rate\")\n",
    "plt.xlabel(\"Train Step\")"
   ]
  },
  {
   "cell_type": "markdown",
   "id": "gorgeous-request",
   "metadata": {},
   "source": [
    "### 11_4. 모델 컴파일 하기"
   ]
  },
  {
   "cell_type": "code",
   "execution_count": 31,
   "id": "relative-plymouth",
   "metadata": {},
   "outputs": [],
   "source": [
    "learning_rate = CustomSchedule(D_MODEL)\n",
    "optimizer     = tf.keras.optimizers.Adam(learning_rate, beta_1 = 0.9, beta_2 = 0.98, epsilon = 1e-9)\n",
    "\n",
    "def accuracy(y_true, y_pred):\n",
    "    y_true = tf.reshape(y_true, shape = (-1, MAX_LENGTH - 1))\n",
    "    return tf.keras.metrics.sparse_categorical_accuracy(y_true, y_pred)\n",
    "\n",
    "model.compile(optimizer = optimizer, loss = loss_function, metrics = [accuracy])"
   ]
  },
  {
   "cell_type": "markdown",
   "id": "female-elimination",
   "metadata": {},
   "source": [
    "### 11_5. 모델 훈련하기"
   ]
  },
  {
   "cell_type": "code",
   "execution_count": 32,
   "id": "moved-convert",
   "metadata": {
    "scrolled": false
   },
   "outputs": [
    {
     "name": "stdout",
     "output_type": "stream",
     "text": [
      "Epoch 1/400\n",
      "185/185 [==============================] - 38s 206ms/step - loss: 1.3446 - accuracy: 0.0230\n",
      "Epoch 2/400\n",
      "185/185 [==============================] - 36s 194ms/step - loss: 1.0713 - accuracy: 0.0492\n",
      "Epoch 3/400\n",
      "185/185 [==============================] - 36s 195ms/step - loss: 0.9809 - accuracy: 0.0503\n",
      "Epoch 4/400\n",
      "185/185 [==============================] - 36s 195ms/step - loss: 0.9362 - accuracy: 0.0524\n",
      "Epoch 5/400\n",
      "185/185 [==============================] - 36s 195ms/step - loss: 0.9015 - accuracy: 0.0546\n",
      "Epoch 6/400\n",
      "185/185 [==============================] - 36s 196ms/step - loss: 0.8651 - accuracy: 0.0565\n",
      "Epoch 7/400\n",
      "185/185 [==============================] - 36s 196ms/step - loss: 0.8251 - accuracy: 0.0592\n",
      "Epoch 8/400\n",
      "185/185 [==============================] - 36s 196ms/step - loss: 0.7776 - accuracy: 0.0618\n",
      "Epoch 9/400\n",
      "185/185 [==============================] - 36s 196ms/step - loss: 0.7253 - accuracy: 0.0658\n",
      "Epoch 10/400\n",
      "185/185 [==============================] - 36s 197ms/step - loss: 0.6699 - accuracy: 0.0705\n",
      "Epoch 11/400\n",
      "185/185 [==============================] - 36s 196ms/step - loss: 0.6136 - accuracy: 0.0767\n",
      "Epoch 12/400\n",
      "185/185 [==============================] - 36s 196ms/step - loss: 0.5555 - accuracy: 0.0834\n",
      "Epoch 13/400\n",
      "185/185 [==============================] - 36s 196ms/step - loss: 0.5027 - accuracy: 0.0899\n",
      "Epoch 14/400\n",
      "185/185 [==============================] - 36s 196ms/step - loss: 0.4507 - accuracy: 0.0968\n",
      "Epoch 15/400\n",
      "185/185 [==============================] - 36s 196ms/step - loss: 0.4098 - accuracy: 0.1020\n",
      "Epoch 16/400\n",
      "185/185 [==============================] - 36s 196ms/step - loss: 0.3713 - accuracy: 0.1073\n",
      "Epoch 17/400\n",
      "185/185 [==============================] - 36s 196ms/step - loss: 0.3407 - accuracy: 0.1113\n",
      "Epoch 18/400\n",
      "185/185 [==============================] - 36s 196ms/step - loss: 0.3175 - accuracy: 0.1146\n",
      "Epoch 19/400\n",
      "185/185 [==============================] - 36s 196ms/step - loss: 0.3016 - accuracy: 0.1164\n",
      "Epoch 20/400\n",
      "185/185 [==============================] - 36s 196ms/step - loss: 0.2880 - accuracy: 0.1185\n",
      "Epoch 21/400\n",
      "185/185 [==============================] - 36s 196ms/step - loss: 0.2772 - accuracy: 0.1201\n",
      "Epoch 22/400\n",
      "185/185 [==============================] - 36s 196ms/step - loss: 0.2709 - accuracy: 0.1209\n",
      "Epoch 23/400\n",
      "185/185 [==============================] - 36s 196ms/step - loss: 0.2582 - accuracy: 0.1229\n",
      "Epoch 24/400\n",
      "185/185 [==============================] - 36s 196ms/step - loss: 0.2440 - accuracy: 0.1254\n",
      "Epoch 25/400\n",
      "185/185 [==============================] - 36s 196ms/step - loss: 0.2318 - accuracy: 0.1273\n",
      "Epoch 26/400\n",
      "185/185 [==============================] - 36s 197ms/step - loss: 0.2231 - accuracy: 0.1288\n",
      "Epoch 27/400\n",
      "185/185 [==============================] - 36s 196ms/step - loss: 0.2119 - accuracy: 0.1306\n",
      "Epoch 28/400\n",
      "185/185 [==============================] - 36s 196ms/step - loss: 0.2049 - accuracy: 0.1316\n",
      "Epoch 29/400\n",
      "185/185 [==============================] - 36s 196ms/step - loss: 0.1982 - accuracy: 0.1326\n",
      "Epoch 30/400\n",
      "185/185 [==============================] - 36s 196ms/step - loss: 0.1895 - accuracy: 0.1339\n",
      "Epoch 31/400\n",
      "185/185 [==============================] - 36s 197ms/step - loss: 0.1836 - accuracy: 0.1348\n",
      "Epoch 32/400\n",
      "185/185 [==============================] - 36s 195ms/step - loss: 0.1782 - accuracy: 0.1356\n",
      "Epoch 33/400\n",
      "185/185 [==============================] - 36s 194ms/step - loss: 0.1722 - accuracy: 0.1367\n",
      "Epoch 34/400\n",
      "185/185 [==============================] - 36s 196ms/step - loss: 0.1669 - accuracy: 0.1373\n",
      "Epoch 35/400\n",
      "185/185 [==============================] - 36s 194ms/step - loss: 0.1620 - accuracy: 0.1382\n",
      "Epoch 36/400\n",
      "185/185 [==============================] - 36s 196ms/step - loss: 0.1561 - accuracy: 0.1390\n",
      "Epoch 37/400\n",
      "185/185 [==============================] - 36s 197ms/step - loss: 0.1527 - accuracy: 0.1397\n",
      "Epoch 38/400\n",
      "185/185 [==============================] - 36s 194ms/step - loss: 0.1471 - accuracy: 0.1405\n",
      "Epoch 39/400\n",
      "185/185 [==============================] - 37s 201ms/step - loss: 0.1429 - accuracy: 0.1411\n",
      "Epoch 40/400\n",
      "185/185 [==============================] - 36s 195ms/step - loss: 0.1385 - accuracy: 0.1421\n",
      "Epoch 41/400\n",
      "185/185 [==============================] - 37s 199ms/step - loss: 0.1364 - accuracy: 0.1422\n",
      "Epoch 42/400\n",
      "185/185 [==============================] - 36s 194ms/step - loss: 0.1313 - accuracy: 0.1431\n",
      "Epoch 43/400\n",
      "185/185 [==============================] - 36s 193ms/step - loss: 0.1281 - accuracy: 0.1438\n",
      "Epoch 44/400\n",
      "185/185 [==============================] - 36s 194ms/step - loss: 0.1240 - accuracy: 0.1445\n",
      "Epoch 45/400\n",
      "185/185 [==============================] - 36s 194ms/step - loss: 0.1219 - accuracy: 0.1447\n",
      "Epoch 46/400\n",
      "185/185 [==============================] - 36s 195ms/step - loss: 0.1177 - accuracy: 0.1452\n",
      "Epoch 47/400\n",
      "185/185 [==============================] - 38s 208ms/step - loss: 0.1143 - accuracy: 0.1461\n",
      "Epoch 48/400\n",
      "185/185 [==============================] - 38s 207ms/step - loss: 0.1131 - accuracy: 0.1460\n",
      "Epoch 49/400\n",
      "185/185 [==============================] - 36s 195ms/step - loss: 0.1105 - accuracy: 0.1468\n",
      "Epoch 50/400\n",
      "185/185 [==============================] - 36s 195ms/step - loss: 0.1065 - accuracy: 0.1474\n",
      "Epoch 51/400\n",
      "185/185 [==============================] - 36s 195ms/step - loss: 0.1057 - accuracy: 0.1476\n",
      "Epoch 52/400\n",
      "185/185 [==============================] - 36s 195ms/step - loss: 0.1022 - accuracy: 0.1482\n",
      "Epoch 53/400\n",
      "185/185 [==============================] - 36s 195ms/step - loss: 0.1004 - accuracy: 0.1487\n",
      "Epoch 54/400\n",
      "185/185 [==============================] - 36s 194ms/step - loss: 0.0984 - accuracy: 0.1491\n",
      "Epoch 55/400\n",
      "185/185 [==============================] - 36s 194ms/step - loss: 0.0960 - accuracy: 0.1496\n",
      "Epoch 56/400\n",
      "185/185 [==============================] - 36s 195ms/step - loss: 0.0936 - accuracy: 0.1498\n",
      "Epoch 57/400\n",
      "185/185 [==============================] - 36s 194ms/step - loss: 0.0927 - accuracy: 0.1503\n",
      "Epoch 58/400\n",
      "185/185 [==============================] - 36s 194ms/step - loss: 0.0903 - accuracy: 0.1506\n",
      "Epoch 59/400\n",
      "185/185 [==============================] - 36s 194ms/step - loss: 0.0883 - accuracy: 0.1511\n",
      "Epoch 60/400\n",
      "185/185 [==============================] - 36s 194ms/step - loss: 0.0865 - accuracy: 0.1514\n",
      "Epoch 61/400\n",
      "185/185 [==============================] - 36s 194ms/step - loss: 0.0849 - accuracy: 0.1519\n",
      "Epoch 62/400\n",
      "185/185 [==============================] - 36s 194ms/step - loss: 0.0833 - accuracy: 0.1522\n",
      "Epoch 63/400\n",
      "185/185 [==============================] - 36s 194ms/step - loss: 0.0810 - accuracy: 0.1528\n",
      "Epoch 64/400\n",
      "185/185 [==============================] - 36s 195ms/step - loss: 0.0804 - accuracy: 0.1527\n",
      "Epoch 65/400\n",
      "185/185 [==============================] - 35s 192ms/step - loss: 0.0782 - accuracy: 0.1532\n",
      "Epoch 66/400\n",
      "185/185 [==============================] - 35s 192ms/step - loss: 0.0769 - accuracy: 0.1536\n",
      "Epoch 67/400\n",
      "185/185 [==============================] - 35s 192ms/step - loss: 0.0763 - accuracy: 0.1536\n",
      "Epoch 68/400\n",
      "185/185 [==============================] - 35s 192ms/step - loss: 0.0745 - accuracy: 0.1540\n",
      "Epoch 69/400\n",
      "185/185 [==============================] - 35s 192ms/step - loss: 0.0731 - accuracy: 0.1545\n",
      "Epoch 70/400\n",
      "185/185 [==============================] - 35s 192ms/step - loss: 0.0715 - accuracy: 0.1548\n",
      "Epoch 71/400\n",
      "185/185 [==============================] - 35s 192ms/step - loss: 0.0712 - accuracy: 0.1550\n",
      "Epoch 72/400\n",
      "185/185 [==============================] - 35s 192ms/step - loss: 0.0694 - accuracy: 0.1553\n",
      "Epoch 73/400\n",
      "185/185 [==============================] - 35s 192ms/step - loss: 0.0681 - accuracy: 0.1555\n",
      "Epoch 74/400\n",
      "185/185 [==============================] - 36s 192ms/step - loss: 0.0663 - accuracy: 0.1560\n",
      "Epoch 75/400\n",
      "185/185 [==============================] - 36s 192ms/step - loss: 0.0647 - accuracy: 0.1563\n",
      "Epoch 76/400\n",
      "185/185 [==============================] - 35s 192ms/step - loss: 0.0643 - accuracy: 0.1565\n",
      "Epoch 77/400\n",
      "185/185 [==============================] - 35s 192ms/step - loss: 0.0642 - accuracy: 0.1566\n",
      "Epoch 78/400\n",
      "185/185 [==============================] - 35s 191ms/step - loss: 0.0619 - accuracy: 0.1570\n",
      "Epoch 79/400\n"
     ]
    },
    {
     "name": "stdout",
     "output_type": "stream",
     "text": [
      "185/185 [==============================] - 35s 191ms/step - loss: 0.0610 - accuracy: 0.1574\n",
      "Epoch 80/400\n",
      "185/185 [==============================] - 35s 191ms/step - loss: 0.0590 - accuracy: 0.1576\n",
      "Epoch 81/400\n",
      "185/185 [==============================] - 35s 191ms/step - loss: 0.0584 - accuracy: 0.1579\n",
      "Epoch 82/400\n",
      "185/185 [==============================] - 35s 191ms/step - loss: 0.0579 - accuracy: 0.1579\n",
      "Epoch 83/400\n",
      "185/185 [==============================] - 35s 192ms/step - loss: 0.0584 - accuracy: 0.1578\n",
      "Epoch 84/400\n",
      "185/185 [==============================] - 35s 192ms/step - loss: 0.0551 - accuracy: 0.1588\n",
      "Epoch 85/400\n",
      "185/185 [==============================] - 35s 192ms/step - loss: 0.0556 - accuracy: 0.1585\n",
      "Epoch 86/400\n",
      "185/185 [==============================] - 35s 192ms/step - loss: 0.0548 - accuracy: 0.1585\n",
      "Epoch 87/400\n",
      "185/185 [==============================] - 35s 192ms/step - loss: 0.0532 - accuracy: 0.1592\n",
      "Epoch 88/400\n",
      "185/185 [==============================] - 35s 191ms/step - loss: 0.0530 - accuracy: 0.1591\n",
      "Epoch 89/400\n",
      "185/185 [==============================] - 35s 191ms/step - loss: 0.0526 - accuracy: 0.1590\n",
      "Epoch 90/400\n",
      "185/185 [==============================] - 35s 191ms/step - loss: 0.0521 - accuracy: 0.1594\n",
      "Epoch 91/400\n",
      "185/185 [==============================] - 35s 191ms/step - loss: 0.0502 - accuracy: 0.1599\n",
      "Epoch 92/400\n",
      "185/185 [==============================] - 35s 191ms/step - loss: 0.0493 - accuracy: 0.1601\n",
      "Epoch 93/400\n",
      "185/185 [==============================] - 35s 191ms/step - loss: 0.0487 - accuracy: 0.1603\n",
      "Epoch 94/400\n",
      "185/185 [==============================] - 35s 191ms/step - loss: 0.0483 - accuracy: 0.1604\n",
      "Epoch 95/400\n",
      "185/185 [==============================] - 35s 192ms/step - loss: 0.0472 - accuracy: 0.1606\n",
      "Epoch 96/400\n",
      "185/185 [==============================] - 35s 191ms/step - loss: 0.0483 - accuracy: 0.1603\n",
      "Epoch 97/400\n",
      "185/185 [==============================] - 35s 191ms/step - loss: 0.0463 - accuracy: 0.1610\n",
      "Epoch 98/400\n",
      "185/185 [==============================] - 35s 191ms/step - loss: 0.0450 - accuracy: 0.1611\n",
      "Epoch 99/400\n",
      "185/185 [==============================] - 35s 191ms/step - loss: 0.0455 - accuracy: 0.1612\n",
      "Epoch 100/400\n",
      "185/185 [==============================] - 35s 191ms/step - loss: 0.0441 - accuracy: 0.1615\n",
      "Epoch 101/400\n",
      "185/185 [==============================] - 35s 191ms/step - loss: 0.0427 - accuracy: 0.1619\n",
      "Epoch 102/400\n",
      "185/185 [==============================] - 35s 191ms/step - loss: 0.0429 - accuracy: 0.1617\n",
      "Epoch 103/400\n",
      "185/185 [==============================] - 35s 191ms/step - loss: 0.0421 - accuracy: 0.1621\n",
      "Epoch 104/400\n",
      "185/185 [==============================] - 35s 191ms/step - loss: 0.0419 - accuracy: 0.1621\n",
      "Epoch 105/400\n",
      "185/185 [==============================] - 35s 191ms/step - loss: 0.0414 - accuracy: 0.1624\n",
      "Epoch 106/400\n",
      "185/185 [==============================] - 35s 191ms/step - loss: 0.0408 - accuracy: 0.1624\n",
      "Epoch 107/400\n",
      "185/185 [==============================] - 35s 192ms/step - loss: 0.0400 - accuracy: 0.1626\n",
      "Epoch 108/400\n",
      "185/185 [==============================] - 35s 191ms/step - loss: 0.0386 - accuracy: 0.1628\n",
      "Epoch 109/400\n",
      "185/185 [==============================] - 35s 191ms/step - loss: 0.0389 - accuracy: 0.1628\n",
      "Epoch 110/400\n",
      "185/185 [==============================] - 35s 191ms/step - loss: 0.0380 - accuracy: 0.1631\n",
      "Epoch 111/400\n",
      "185/185 [==============================] - 35s 191ms/step - loss: 0.0379 - accuracy: 0.1631\n",
      "Epoch 112/400\n",
      "185/185 [==============================] - 35s 191ms/step - loss: 0.0378 - accuracy: 0.1631\n",
      "Epoch 113/400\n",
      "185/185 [==============================] - 35s 191ms/step - loss: 0.0369 - accuracy: 0.1634\n",
      "Epoch 114/400\n",
      "185/185 [==============================] - 35s 191ms/step - loss: 0.0366 - accuracy: 0.1635\n",
      "Epoch 115/400\n",
      "185/185 [==============================] - 35s 191ms/step - loss: 0.0360 - accuracy: 0.1637\n",
      "Epoch 116/400\n",
      "185/185 [==============================] - 35s 191ms/step - loss: 0.0358 - accuracy: 0.1638\n",
      "Epoch 117/400\n",
      "185/185 [==============================] - 35s 191ms/step - loss: 0.0351 - accuracy: 0.1637\n",
      "Epoch 118/400\n",
      "185/185 [==============================] - 35s 191ms/step - loss: 0.0351 - accuracy: 0.1639\n",
      "Epoch 119/400\n",
      "185/185 [==============================] - 35s 192ms/step - loss: 0.0348 - accuracy: 0.1641\n",
      "Epoch 120/400\n",
      "185/185 [==============================] - 35s 192ms/step - loss: 0.0340 - accuracy: 0.1641\n",
      "Epoch 121/400\n",
      "185/185 [==============================] - 35s 191ms/step - loss: 0.0337 - accuracy: 0.1642\n",
      "Epoch 122/400\n",
      "185/185 [==============================] - 35s 191ms/step - loss: 0.0321 - accuracy: 0.1647\n",
      "Epoch 123/400\n",
      "185/185 [==============================] - 35s 191ms/step - loss: 0.0331 - accuracy: 0.1645\n",
      "Epoch 124/400\n",
      "185/185 [==============================] - 35s 191ms/step - loss: 0.0325 - accuracy: 0.1646\n",
      "Epoch 125/400\n",
      "185/185 [==============================] - 35s 192ms/step - loss: 0.0323 - accuracy: 0.1646\n",
      "Epoch 126/400\n",
      "185/185 [==============================] - 35s 191ms/step - loss: 0.0314 - accuracy: 0.1648\n",
      "Epoch 127/400\n",
      "185/185 [==============================] - 35s 191ms/step - loss: 0.0317 - accuracy: 0.1648\n",
      "Epoch 128/400\n",
      "185/185 [==============================] - 35s 192ms/step - loss: 0.0313 - accuracy: 0.1649\n",
      "Epoch 129/400\n",
      "185/185 [==============================] - 35s 191ms/step - loss: 0.0301 - accuracy: 0.1652\n",
      "Epoch 130/400\n",
      "185/185 [==============================] - 35s 191ms/step - loss: 0.0307 - accuracy: 0.1651\n",
      "Epoch 131/400\n",
      "185/185 [==============================] - 35s 191ms/step - loss: 0.0303 - accuracy: 0.1653\n",
      "Epoch 132/400\n",
      "185/185 [==============================] - 35s 191ms/step - loss: 0.0297 - accuracy: 0.1653\n",
      "Epoch 133/400\n",
      "185/185 [==============================] - 35s 191ms/step - loss: 0.0293 - accuracy: 0.1655\n",
      "Epoch 134/400\n",
      "185/185 [==============================] - 35s 191ms/step - loss: 0.0296 - accuracy: 0.1654\n",
      "Epoch 135/400\n",
      "185/185 [==============================] - 35s 192ms/step - loss: 0.0286 - accuracy: 0.1658\n",
      "Epoch 136/400\n",
      "185/185 [==============================] - 35s 191ms/step - loss: 0.0287 - accuracy: 0.1657\n",
      "Epoch 137/400\n",
      "185/185 [==============================] - 35s 191ms/step - loss: 0.0286 - accuracy: 0.1657\n",
      "Epoch 138/400\n",
      "185/185 [==============================] - 35s 191ms/step - loss: 0.0283 - accuracy: 0.1659\n",
      "Epoch 139/400\n",
      "185/185 [==============================] - 35s 191ms/step - loss: 0.0276 - accuracy: 0.1659\n",
      "Epoch 140/400\n",
      "185/185 [==============================] - 35s 191ms/step - loss: 0.0268 - accuracy: 0.1663\n",
      "Epoch 141/400\n",
      "185/185 [==============================] - 35s 191ms/step - loss: 0.0267 - accuracy: 0.1662\n",
      "Epoch 142/400\n",
      "185/185 [==============================] - 35s 191ms/step - loss: 0.0266 - accuracy: 0.1663\n",
      "Epoch 143/400\n",
      "185/185 [==============================] - 35s 191ms/step - loss: 0.0261 - accuracy: 0.1663\n",
      "Epoch 144/400\n",
      "185/185 [==============================] - 35s 191ms/step - loss: 0.0259 - accuracy: 0.1664\n",
      "Epoch 145/400\n",
      "185/185 [==============================] - 35s 192ms/step - loss: 0.0255 - accuracy: 0.1665\n",
      "Epoch 146/400\n",
      "185/185 [==============================] - 35s 191ms/step - loss: 0.0256 - accuracy: 0.1665\n",
      "Epoch 147/400\n",
      "185/185 [==============================] - 35s 191ms/step - loss: 0.0251 - accuracy: 0.1666\n",
      "Epoch 148/400\n",
      "185/185 [==============================] - 35s 191ms/step - loss: 0.0247 - accuracy: 0.1667\n",
      "Epoch 149/400\n",
      "185/185 [==============================] - 35s 191ms/step - loss: 0.0247 - accuracy: 0.1668\n",
      "Epoch 150/400\n",
      "185/185 [==============================] - 35s 191ms/step - loss: 0.0236 - accuracy: 0.1671\n",
      "Epoch 151/400\n",
      "185/185 [==============================] - 35s 191ms/step - loss: 0.0240 - accuracy: 0.1670\n",
      "Epoch 152/400\n",
      "185/185 [==============================] - 35s 191ms/step - loss: 0.0227 - accuracy: 0.1674\n",
      "Epoch 153/400\n",
      "185/185 [==============================] - 35s 191ms/step - loss: 0.0239 - accuracy: 0.1671\n",
      "Epoch 154/400\n",
      "185/185 [==============================] - 35s 191ms/step - loss: 0.0231 - accuracy: 0.1672\n",
      "Epoch 155/400\n",
      "185/185 [==============================] - 35s 191ms/step - loss: 0.0232 - accuracy: 0.1672\n",
      "Epoch 156/400\n"
     ]
    },
    {
     "name": "stdout",
     "output_type": "stream",
     "text": [
      "185/185 [==============================] - 35s 191ms/step - loss: 0.0228 - accuracy: 0.1674\n",
      "Epoch 157/400\n",
      "185/185 [==============================] - 35s 191ms/step - loss: 0.0224 - accuracy: 0.1676\n",
      "Epoch 158/400\n",
      "185/185 [==============================] - 35s 191ms/step - loss: 0.0232 - accuracy: 0.1672\n",
      "Epoch 159/400\n",
      "185/185 [==============================] - 35s 192ms/step - loss: 0.0221 - accuracy: 0.1675\n",
      "Epoch 160/400\n",
      "185/185 [==============================] - 36s 193ms/step - loss: 0.0220 - accuracy: 0.1676\n",
      "Epoch 161/400\n",
      "185/185 [==============================] - 36s 193ms/step - loss: 0.0217 - accuracy: 0.1676\n",
      "Epoch 162/400\n",
      "185/185 [==============================] - 36s 196ms/step - loss: 0.0219 - accuracy: 0.1675\n",
      "Epoch 163/400\n",
      "185/185 [==============================] - 38s 208ms/step - loss: 0.0213 - accuracy: 0.1678\n",
      "Epoch 164/400\n",
      "185/185 [==============================] - 41s 221ms/step - loss: 0.0213 - accuracy: 0.1679\n",
      "Epoch 165/400\n",
      "185/185 [==============================] - 41s 222ms/step - loss: 0.0223 - accuracy: 0.1677\n",
      "Epoch 166/400\n",
      "185/185 [==============================] - 41s 222ms/step - loss: 0.0201 - accuracy: 0.1682\n",
      "Epoch 167/400\n",
      "185/185 [==============================] - 41s 222ms/step - loss: 0.0205 - accuracy: 0.1680\n",
      "Epoch 168/400\n",
      "185/185 [==============================] - 41s 222ms/step - loss: 0.0201 - accuracy: 0.1680\n",
      "Epoch 169/400\n",
      "185/185 [==============================] - 41s 222ms/step - loss: 0.0203 - accuracy: 0.1680\n",
      "Epoch 170/400\n",
      "185/185 [==============================] - 41s 222ms/step - loss: 0.0197 - accuracy: 0.1682\n",
      "Epoch 171/400\n",
      "185/185 [==============================] - 38s 203ms/step - loss: 0.0201 - accuracy: 0.1681\n",
      "Epoch 172/400\n",
      "185/185 [==============================] - 36s 194ms/step - loss: 0.0193 - accuracy: 0.1683\n",
      "Epoch 173/400\n",
      "185/185 [==============================] - 36s 193ms/step - loss: 0.0200 - accuracy: 0.1682\n",
      "Epoch 174/400\n",
      "185/185 [==============================] - 36s 193ms/step - loss: 0.0199 - accuracy: 0.1684\n",
      "Epoch 175/400\n",
      "185/185 [==============================] - 36s 193ms/step - loss: 0.0195 - accuracy: 0.1682\n",
      "Epoch 176/400\n",
      "185/185 [==============================] - 36s 193ms/step - loss: 0.0185 - accuracy: 0.1686\n",
      "Epoch 177/400\n",
      "185/185 [==============================] - 36s 194ms/step - loss: 0.0182 - accuracy: 0.1687\n",
      "Epoch 178/400\n",
      "185/185 [==============================] - 36s 193ms/step - loss: 0.0191 - accuracy: 0.1685\n",
      "Epoch 179/400\n",
      "185/185 [==============================] - 36s 195ms/step - loss: 0.0187 - accuracy: 0.1687\n",
      "Epoch 180/400\n",
      "185/185 [==============================] - 36s 193ms/step - loss: 0.0188 - accuracy: 0.1685\n",
      "Epoch 181/400\n",
      "185/185 [==============================] - 36s 193ms/step - loss: 0.0187 - accuracy: 0.1687\n",
      "Epoch 182/400\n",
      "185/185 [==============================] - 36s 193ms/step - loss: 0.0179 - accuracy: 0.1687\n",
      "Epoch 183/400\n",
      "185/185 [==============================] - 36s 194ms/step - loss: 0.0177 - accuracy: 0.1688\n",
      "Epoch 184/400\n",
      "185/185 [==============================] - 36s 194ms/step - loss: 0.0170 - accuracy: 0.1690\n",
      "Epoch 185/400\n",
      "185/185 [==============================] - 36s 194ms/step - loss: 0.0179 - accuracy: 0.1687\n",
      "Epoch 186/400\n",
      "185/185 [==============================] - 36s 194ms/step - loss: 0.0171 - accuracy: 0.1690\n",
      "Epoch 187/400\n",
      "185/185 [==============================] - 36s 193ms/step - loss: 0.0170 - accuracy: 0.1691\n",
      "Epoch 188/400\n",
      "185/185 [==============================] - 36s 195ms/step - loss: 0.0166 - accuracy: 0.1691\n",
      "Epoch 189/400\n",
      "185/185 [==============================] - 36s 194ms/step - loss: 0.0170 - accuracy: 0.1690\n",
      "Epoch 190/400\n",
      "185/185 [==============================] - 36s 193ms/step - loss: 0.0167 - accuracy: 0.1692\n",
      "Epoch 191/400\n",
      "185/185 [==============================] - 36s 193ms/step - loss: 0.0165 - accuracy: 0.1692\n",
      "Epoch 192/400\n",
      "185/185 [==============================] - 36s 193ms/step - loss: 0.0166 - accuracy: 0.1691\n",
      "Epoch 193/400\n",
      "185/185 [==============================] - 36s 194ms/step - loss: 0.0167 - accuracy: 0.1691\n",
      "Epoch 194/400\n",
      "185/185 [==============================] - 36s 193ms/step - loss: 0.0168 - accuracy: 0.1692\n",
      "Epoch 195/400\n",
      "185/185 [==============================] - 36s 193ms/step - loss: 0.0166 - accuracy: 0.1692\n",
      "Epoch 196/400\n",
      "185/185 [==============================] - 36s 194ms/step - loss: 0.0163 - accuracy: 0.1692\n",
      "Epoch 197/400\n",
      "185/185 [==============================] - 36s 194ms/step - loss: 0.0158 - accuracy: 0.1694\n",
      "Epoch 198/400\n",
      "185/185 [==============================] - 36s 195ms/step - loss: 0.0161 - accuracy: 0.1693\n",
      "Epoch 199/400\n",
      "185/185 [==============================] - 36s 194ms/step - loss: 0.0159 - accuracy: 0.1694\n",
      "Epoch 200/400\n",
      "185/185 [==============================] - 36s 194ms/step - loss: 0.0156 - accuracy: 0.1694\n",
      "Epoch 201/400\n",
      "185/185 [==============================] - 36s 194ms/step - loss: 0.0159 - accuracy: 0.1694\n",
      "Epoch 202/400\n",
      "185/185 [==============================] - 36s 194ms/step - loss: 0.0153 - accuracy: 0.1696\n",
      "Epoch 203/400\n",
      "185/185 [==============================] - 36s 194ms/step - loss: 0.0153 - accuracy: 0.1695\n",
      "Epoch 204/400\n",
      "185/185 [==============================] - 36s 193ms/step - loss: 0.0161 - accuracy: 0.1694\n",
      "Epoch 205/400\n",
      "185/185 [==============================] - 36s 193ms/step - loss: 0.0147 - accuracy: 0.1698\n",
      "Epoch 206/400\n",
      "185/185 [==============================] - 36s 195ms/step - loss: 0.0154 - accuracy: 0.1696\n",
      "Epoch 207/400\n",
      "185/185 [==============================] - 35s 192ms/step - loss: 0.0149 - accuracy: 0.1697\n",
      "Epoch 208/400\n",
      "185/185 [==============================] - 35s 192ms/step - loss: 0.0146 - accuracy: 0.1697\n",
      "Epoch 209/400\n",
      "185/185 [==============================] - 36s 192ms/step - loss: 0.0144 - accuracy: 0.1698\n",
      "Epoch 210/400\n",
      "185/185 [==============================] - 35s 191ms/step - loss: 0.0146 - accuracy: 0.1697\n",
      "Epoch 211/400\n",
      "185/185 [==============================] - 35s 191ms/step - loss: 0.0142 - accuracy: 0.1698\n",
      "Epoch 212/400\n",
      "185/185 [==============================] - 35s 191ms/step - loss: 0.0141 - accuracy: 0.1700\n",
      "Epoch 213/400\n",
      "185/185 [==============================] - 35s 192ms/step - loss: 0.0142 - accuracy: 0.1699\n",
      "Epoch 214/400\n",
      "185/185 [==============================] - 35s 192ms/step - loss: 0.0137 - accuracy: 0.1700\n",
      "Epoch 215/400\n",
      "185/185 [==============================] - 35s 191ms/step - loss: 0.0142 - accuracy: 0.1699\n",
      "Epoch 216/400\n",
      "185/185 [==============================] - 35s 191ms/step - loss: 0.0137 - accuracy: 0.1700\n",
      "Epoch 217/400\n",
      "185/185 [==============================] - 35s 192ms/step - loss: 0.0139 - accuracy: 0.1700\n",
      "Epoch 218/400\n",
      "185/185 [==============================] - 35s 191ms/step - loss: 0.0136 - accuracy: 0.1700\n",
      "Epoch 219/400\n",
      "185/185 [==============================] - 35s 192ms/step - loss: 0.0133 - accuracy: 0.1702\n",
      "Epoch 220/400\n",
      "185/185 [==============================] - 36s 193ms/step - loss: 0.0141 - accuracy: 0.1700\n",
      "Epoch 221/400\n",
      "185/185 [==============================] - 36s 193ms/step - loss: 0.0132 - accuracy: 0.1701\n",
      "Epoch 222/400\n",
      "185/185 [==============================] - 36s 194ms/step - loss: 0.0131 - accuracy: 0.1701\n",
      "Epoch 223/400\n",
      "185/185 [==============================] - 36s 193ms/step - loss: 0.0136 - accuracy: 0.1701\n",
      "Epoch 224/400\n",
      "185/185 [==============================] - 36s 193ms/step - loss: 0.0128 - accuracy: 0.1703\n",
      "Epoch 225/400\n",
      "185/185 [==============================] - 36s 193ms/step - loss: 0.0133 - accuracy: 0.1702\n",
      "Epoch 226/400\n",
      "185/185 [==============================] - 36s 196ms/step - loss: 0.0127 - accuracy: 0.1703\n",
      "Epoch 227/400\n",
      "185/185 [==============================] - 36s 194ms/step - loss: 0.0130 - accuracy: 0.1703\n",
      "Epoch 228/400\n",
      "185/185 [==============================] - 36s 194ms/step - loss: 0.0124 - accuracy: 0.1704\n",
      "Epoch 229/400\n",
      "185/185 [==============================] - 36s 194ms/step - loss: 0.0121 - accuracy: 0.1705\n",
      "Epoch 230/400\n",
      "185/185 [==============================] - 36s 194ms/step - loss: 0.0127 - accuracy: 0.1702\n",
      "Epoch 231/400\n",
      "185/185 [==============================] - 36s 194ms/step - loss: 0.0131 - accuracy: 0.1702\n",
      "Epoch 232/400\n",
      "185/185 [==============================] - 36s 194ms/step - loss: 0.0126 - accuracy: 0.1704\n",
      "Epoch 233/400\n"
     ]
    },
    {
     "name": "stdout",
     "output_type": "stream",
     "text": [
      "185/185 [==============================] - 36s 194ms/step - loss: 0.0119 - accuracy: 0.1706\n",
      "Epoch 234/400\n",
      "185/185 [==============================] - 36s 194ms/step - loss: 0.0123 - accuracy: 0.1705\n",
      "Epoch 235/400\n",
      "185/185 [==============================] - 36s 193ms/step - loss: 0.0126 - accuracy: 0.1703\n",
      "Epoch 236/400\n",
      "185/185 [==============================] - 36s 192ms/step - loss: 0.0127 - accuracy: 0.1703\n",
      "Epoch 237/400\n",
      "185/185 [==============================] - 36s 192ms/step - loss: 0.0119 - accuracy: 0.1706\n",
      "Epoch 238/400\n",
      "185/185 [==============================] - 37s 198ms/step - loss: 0.0121 - accuracy: 0.1705\n",
      "Epoch 239/400\n",
      "185/185 [==============================] - 36s 195ms/step - loss: 0.0115 - accuracy: 0.1706\n",
      "Epoch 240/400\n",
      "185/185 [==============================] - 36s 196ms/step - loss: 0.0118 - accuracy: 0.1706\n",
      "Epoch 241/400\n",
      "185/185 [==============================] - 36s 194ms/step - loss: 0.0113 - accuracy: 0.1707\n",
      "Epoch 242/400\n",
      "185/185 [==============================] - 37s 198ms/step - loss: 0.0111 - accuracy: 0.1708\n",
      "Epoch 243/400\n",
      "185/185 [==============================] - 36s 194ms/step - loss: 0.0116 - accuracy: 0.1707\n",
      "Epoch 244/400\n",
      "185/185 [==============================] - 36s 193ms/step - loss: 0.0115 - accuracy: 0.1707\n",
      "Epoch 245/400\n",
      "185/185 [==============================] - 36s 194ms/step - loss: 0.0117 - accuracy: 0.1708\n",
      "Epoch 246/400\n",
      "185/185 [==============================] - 39s 209ms/step - loss: 0.0109 - accuracy: 0.1708\n",
      "Epoch 247/400\n",
      "185/185 [==============================] - 37s 199ms/step - loss: 0.0114 - accuracy: 0.1706\n",
      "Epoch 248/400\n",
      "185/185 [==============================] - 36s 193ms/step - loss: 0.0111 - accuracy: 0.1709\n",
      "Epoch 249/400\n",
      "185/185 [==============================] - 36s 194ms/step - loss: 0.0112 - accuracy: 0.1707\n",
      "Epoch 250/400\n",
      "185/185 [==============================] - 36s 193ms/step - loss: 0.0114 - accuracy: 0.1708\n",
      "Epoch 251/400\n",
      "185/185 [==============================] - 36s 195ms/step - loss: 0.0109 - accuracy: 0.1709\n",
      "Epoch 252/400\n",
      "185/185 [==============================] - 36s 193ms/step - loss: 0.0110 - accuracy: 0.1708\n",
      "Epoch 253/400\n",
      "185/185 [==============================] - 36s 193ms/step - loss: 0.0106 - accuracy: 0.1709\n",
      "Epoch 254/400\n",
      "185/185 [==============================] - 38s 203ms/step - loss: 0.0109 - accuracy: 0.1709\n",
      "Epoch 255/400\n",
      "185/185 [==============================] - 36s 195ms/step - loss: 0.0119 - accuracy: 0.1707\n",
      "Epoch 256/400\n",
      "185/185 [==============================] - 36s 194ms/step - loss: 0.0107 - accuracy: 0.1708\n",
      "Epoch 257/400\n",
      "185/185 [==============================] - 36s 194ms/step - loss: 0.0109 - accuracy: 0.1709\n",
      "Epoch 258/400\n",
      "185/185 [==============================] - 36s 194ms/step - loss: 0.0111 - accuracy: 0.1708\n",
      "Epoch 259/400\n",
      "185/185 [==============================] - 36s 193ms/step - loss: 0.0107 - accuracy: 0.1711\n",
      "Epoch 260/400\n",
      "185/185 [==============================] - 36s 195ms/step - loss: 0.0103 - accuracy: 0.1710\n",
      "Epoch 261/400\n",
      "185/185 [==============================] - 36s 193ms/step - loss: 0.0104 - accuracy: 0.1710\n",
      "Epoch 262/400\n",
      "185/185 [==============================] - 36s 193ms/step - loss: 0.0102 - accuracy: 0.1711\n",
      "Epoch 263/400\n",
      "185/185 [==============================] - 36s 196ms/step - loss: 0.0098 - accuracy: 0.1712\n",
      "Epoch 264/400\n",
      "185/185 [==============================] - 36s 194ms/step - loss: 0.0106 - accuracy: 0.1709\n",
      "Epoch 265/400\n",
      "185/185 [==============================] - 36s 194ms/step - loss: 0.0103 - accuracy: 0.1710\n",
      "Epoch 266/400\n",
      "185/185 [==============================] - 36s 193ms/step - loss: 0.0102 - accuracy: 0.1711\n",
      "Epoch 267/400\n",
      "185/185 [==============================] - 36s 195ms/step - loss: 0.0100 - accuracy: 0.1711s - l\n",
      "Epoch 268/400\n",
      "185/185 [==============================] - 38s 204ms/step - loss: 0.0102 - accuracy: 0.1711\n",
      "Epoch 269/400\n",
      "185/185 [==============================] - 37s 200ms/step - loss: 0.0101 - accuracy: 0.1711\n",
      "Epoch 270/400\n",
      "185/185 [==============================] - 36s 197ms/step - loss: 0.0099 - accuracy: 0.1712\n",
      "Epoch 271/400\n",
      "185/185 [==============================] - 36s 194ms/step - loss: 0.0098 - accuracy: 0.1712\n",
      "Epoch 272/400\n",
      "185/185 [==============================] - 36s 194ms/step - loss: 0.0099 - accuracy: 0.1712\n",
      "Epoch 273/400\n",
      "185/185 [==============================] - 38s 203ms/step - loss: 0.0102 - accuracy: 0.1711\n",
      "Epoch 274/400\n",
      "185/185 [==============================] - 36s 193ms/step - loss: 0.0092 - accuracy: 0.1713\n",
      "Epoch 275/400\n",
      "185/185 [==============================] - 36s 193ms/step - loss: 0.0094 - accuracy: 0.1713\n",
      "Epoch 276/400\n",
      "185/185 [==============================] - 36s 193ms/step - loss: 0.0102 - accuracy: 0.1711\n",
      "Epoch 277/400\n",
      "185/185 [==============================] - 36s 193ms/step - loss: 0.0096 - accuracy: 0.1712\n",
      "Epoch 278/400\n",
      "185/185 [==============================] - 36s 194ms/step - loss: 0.0095 - accuracy: 0.1713\n",
      "Epoch 279/400\n",
      "185/185 [==============================] - 36s 193ms/step - loss: 0.0095 - accuracy: 0.1713\n",
      "Epoch 280/400\n",
      "185/185 [==============================] - 36s 193ms/step - loss: 0.0093 - accuracy: 0.1714\n",
      "Epoch 281/400\n",
      "185/185 [==============================] - 36s 196ms/step - loss: 0.0094 - accuracy: 0.1713\n",
      "Epoch 282/400\n",
      "185/185 [==============================] - 37s 198ms/step - loss: 0.0095 - accuracy: 0.1713\n",
      "Epoch 283/400\n",
      "185/185 [==============================] - 36s 196ms/step - loss: 0.0091 - accuracy: 0.1714\n",
      "Epoch 284/400\n",
      "185/185 [==============================] - 36s 194ms/step - loss: 0.0091 - accuracy: 0.1714\n",
      "Epoch 285/400\n",
      "185/185 [==============================] - 37s 198ms/step - loss: 0.0094 - accuracy: 0.1714\n",
      "Epoch 286/400\n",
      "185/185 [==============================] - 41s 222ms/step - loss: 0.0089 - accuracy: 0.1715\n",
      "Epoch 287/400\n",
      "185/185 [==============================] - 41s 222ms/step - loss: 0.0092 - accuracy: 0.1714\n",
      "Epoch 288/400\n",
      "185/185 [==============================] - 41s 222ms/step - loss: 0.0091 - accuracy: 0.1713\n",
      "Epoch 289/400\n",
      "185/185 [==============================] - 41s 222ms/step - loss: 0.0091 - accuracy: 0.1713\n",
      "Epoch 290/400\n",
      "185/185 [==============================] - 39s 213ms/step - loss: 0.0091 - accuracy: 0.1714\n",
      "Epoch 291/400\n",
      "185/185 [==============================] - 36s 194ms/step - loss: 0.0093 - accuracy: 0.1713\n",
      "Epoch 292/400\n",
      "185/185 [==============================] - 36s 194ms/step - loss: 0.0088 - accuracy: 0.1715\n",
      "Epoch 293/400\n",
      "185/185 [==============================] - 38s 203ms/step - loss: 0.0086 - accuracy: 0.1716\n",
      "Epoch 294/400\n",
      "185/185 [==============================] - 38s 208ms/step - loss: 0.0088 - accuracy: 0.1714\n",
      "Epoch 295/400\n",
      "185/185 [==============================] - 38s 208ms/step - loss: 0.0087 - accuracy: 0.1716\n",
      "Epoch 296/400\n",
      "185/185 [==============================] - 39s 210ms/step - loss: 0.0083 - accuracy: 0.1716\n",
      "Epoch 297/400\n",
      "185/185 [==============================] - 36s 194ms/step - loss: 0.0084 - accuracy: 0.1716\n",
      "Epoch 298/400\n",
      "185/185 [==============================] - 36s 194ms/step - loss: 0.0081 - accuracy: 0.1716\n",
      "Epoch 299/400\n",
      "185/185 [==============================] - 37s 199ms/step - loss: 0.0087 - accuracy: 0.1715\n",
      "Epoch 300/400\n",
      "185/185 [==============================] - 36s 194ms/step - loss: 0.0087 - accuracy: 0.1715\n",
      "Epoch 301/400\n",
      "185/185 [==============================] - 36s 194ms/step - loss: 0.0080 - accuracy: 0.1717\n",
      "Epoch 302/400\n",
      "185/185 [==============================] - 36s 194ms/step - loss: 0.0085 - accuracy: 0.1716\n",
      "Epoch 303/400\n",
      "185/185 [==============================] - 36s 196ms/step - loss: 0.0082 - accuracy: 0.1717\n",
      "Epoch 304/400\n",
      "185/185 [==============================] - 36s 194ms/step - loss: 0.0086 - accuracy: 0.1716\n",
      "Epoch 305/400\n",
      "185/185 [==============================] - 36s 193ms/step - loss: 0.0080 - accuracy: 0.1717\n",
      "Epoch 306/400\n",
      "185/185 [==============================] - 36s 193ms/step - loss: 0.0080 - accuracy: 0.1716\n",
      "Epoch 307/400\n",
      "185/185 [==============================] - 36s 193ms/step - loss: 0.0082 - accuracy: 0.1717\n",
      "Epoch 308/400\n",
      "185/185 [==============================] - 36s 194ms/step - loss: 0.0077 - accuracy: 0.1718\n",
      "Epoch 309/400\n",
      "185/185 [==============================] - 36s 193ms/step - loss: 0.0083 - accuracy: 0.1717\n",
      "Epoch 310/400\n"
     ]
    },
    {
     "name": "stdout",
     "output_type": "stream",
     "text": [
      "185/185 [==============================] - 36s 193ms/step - loss: 0.0080 - accuracy: 0.1717\n",
      "Epoch 311/400\n",
      "185/185 [==============================] - 36s 193ms/step - loss: 0.0082 - accuracy: 0.1716\n",
      "Epoch 312/400\n",
      "185/185 [==============================] - 36s 195ms/step - loss: 0.0079 - accuracy: 0.1716\n",
      "Epoch 313/400\n",
      "185/185 [==============================] - 36s 193ms/step - loss: 0.0082 - accuracy: 0.1716\n",
      "Epoch 314/400\n",
      "185/185 [==============================] - 36s 193ms/step - loss: 0.0080 - accuracy: 0.1717\n",
      "Epoch 315/400\n",
      "185/185 [==============================] - 36s 194ms/step - loss: 0.0076 - accuracy: 0.1718\n",
      "Epoch 316/400\n",
      "185/185 [==============================] - 36s 193ms/step - loss: 0.0079 - accuracy: 0.1718\n",
      "Epoch 317/400\n",
      "185/185 [==============================] - 36s 193ms/step - loss: 0.0075 - accuracy: 0.1718\n",
      "Epoch 318/400\n",
      "185/185 [==============================] - 36s 194ms/step - loss: 0.0079 - accuracy: 0.1718\n",
      "Epoch 319/400\n",
      "185/185 [==============================] - 36s 193ms/step - loss: 0.0071 - accuracy: 0.1719\n",
      "Epoch 320/400\n",
      "185/185 [==============================] - 36s 193ms/step - loss: 0.0082 - accuracy: 0.1717\n",
      "Epoch 321/400\n",
      "185/185 [==============================] - 36s 194ms/step - loss: 0.0079 - accuracy: 0.1717\n",
      "Epoch 322/400\n",
      "185/185 [==============================] - 36s 194ms/step - loss: 0.0071 - accuracy: 0.1720\n",
      "Epoch 323/400\n",
      "185/185 [==============================] - 36s 196ms/step - loss: 0.0073 - accuracy: 0.1720\n",
      "Epoch 324/400\n",
      "185/185 [==============================] - 40s 217ms/step - loss: 0.0074 - accuracy: 0.1719\n",
      "Epoch 325/400\n",
      "185/185 [==============================] - 41s 222ms/step - loss: 0.0074 - accuracy: 0.1719\n",
      "Epoch 326/400\n",
      "185/185 [==============================] - 41s 222ms/step - loss: 0.0071 - accuracy: 0.1720\n",
      "Epoch 327/400\n",
      "185/185 [==============================] - 41s 221ms/step - loss: 0.0071 - accuracy: 0.1720\n",
      "Epoch 328/400\n",
      "185/185 [==============================] - 41s 222ms/step - loss: 0.0077 - accuracy: 0.1718\n",
      "Epoch 329/400\n",
      "185/185 [==============================] - 41s 224ms/step - loss: 0.0072 - accuracy: 0.1719\n",
      "Epoch 330/400\n",
      "185/185 [==============================] - 41s 223ms/step - loss: 0.0073 - accuracy: 0.1720\n",
      "Epoch 331/400\n",
      "185/185 [==============================] - 41s 224ms/step - loss: 0.0074 - accuracy: 0.1719\n",
      "Epoch 332/400\n",
      "185/185 [==============================] - 41s 224ms/step - loss: 0.0068 - accuracy: 0.1721\n",
      "Epoch 333/400\n",
      "185/185 [==============================] - 41s 221ms/step - loss: 0.0069 - accuracy: 0.1721\n",
      "Epoch 334/400\n",
      "185/185 [==============================] - 41s 221ms/step - loss: 0.0064 - accuracy: 0.1722\n",
      "Epoch 335/400\n",
      "185/185 [==============================] - 41s 222ms/step - loss: 0.0072 - accuracy: 0.1720\n",
      "Epoch 336/400\n",
      "185/185 [==============================] - 37s 201ms/step - loss: 0.0071 - accuracy: 0.1719\n",
      "Epoch 337/400\n",
      "185/185 [==============================] - 36s 195ms/step - loss: 0.0068 - accuracy: 0.1720\n",
      "Epoch 338/400\n",
      "185/185 [==============================] - 37s 199ms/step - loss: 0.0068 - accuracy: 0.1720\n",
      "Epoch 339/400\n",
      "185/185 [==============================] - 39s 210ms/step - loss: 0.0069 - accuracy: 0.1720\n",
      "Epoch 340/400\n",
      "185/185 [==============================] - 41s 223ms/step - loss: 0.0069 - accuracy: 0.1720\n",
      "Epoch 341/400\n",
      "185/185 [==============================] - 41s 223ms/step - loss: 0.0067 - accuracy: 0.1721\n",
      "Epoch 342/400\n",
      "185/185 [==============================] - 41s 222ms/step - loss: 0.0070 - accuracy: 0.1720\n",
      "Epoch 343/400\n",
      "185/185 [==============================] - 41s 223ms/step - loss: 0.0066 - accuracy: 0.1720\n",
      "Epoch 344/400\n",
      "185/185 [==============================] - 41s 221ms/step - loss: 0.0067 - accuracy: 0.1720\n",
      "Epoch 345/400\n",
      "185/185 [==============================] - 36s 194ms/step - loss: 0.0070 - accuracy: 0.1720\n",
      "Epoch 346/400\n",
      "185/185 [==============================] - 36s 195ms/step - loss: 0.0066 - accuracy: 0.1722\n",
      "Epoch 347/400\n",
      "185/185 [==============================] - 38s 203ms/step - loss: 0.0068 - accuracy: 0.1721\n",
      "Epoch 348/400\n",
      "185/185 [==============================] - 37s 198ms/step - loss: 0.0066 - accuracy: 0.1721\n",
      "Epoch 349/400\n",
      "185/185 [==============================] - 37s 198ms/step - loss: 0.0067 - accuracy: 0.1721\n",
      "Epoch 350/400\n",
      "185/185 [==============================] - 38s 203ms/step - loss: 0.0065 - accuracy: 0.1722\n",
      "Epoch 351/400\n",
      "185/185 [==============================] - 37s 198ms/step - loss: 0.0065 - accuracy: 0.1722\n",
      "Epoch 352/400\n",
      "185/185 [==============================] - 36s 195ms/step - loss: 0.0062 - accuracy: 0.1722\n",
      "Epoch 353/400\n",
      "185/185 [==============================] - 36s 195ms/step - loss: 0.0061 - accuracy: 0.1722\n",
      "Epoch 354/400\n",
      "185/185 [==============================] - 36s 195ms/step - loss: 0.0063 - accuracy: 0.1722\n",
      "Epoch 355/400\n",
      "185/185 [==============================] - 36s 196ms/step - loss: 0.0065 - accuracy: 0.1721\n",
      "Epoch 356/400\n",
      "185/185 [==============================] - 36s 195ms/step - loss: 0.0061 - accuracy: 0.1723\n",
      "Epoch 357/400\n",
      "185/185 [==============================] - 36s 195ms/step - loss: 0.0062 - accuracy: 0.1722\n",
      "Epoch 358/400\n",
      "185/185 [==============================] - 37s 198ms/step - loss: 0.0065 - accuracy: 0.1722\n",
      "Epoch 359/400\n",
      "185/185 [==============================] - 37s 200ms/step - loss: 0.0063 - accuracy: 0.1722\n",
      "Epoch 360/400\n",
      "185/185 [==============================] - 36s 194ms/step - loss: 0.0061 - accuracy: 0.1723\n",
      "Epoch 361/400\n",
      "185/185 [==============================] - 36s 194ms/step - loss: 0.0065 - accuracy: 0.1721\n",
      "Epoch 362/400\n",
      "185/185 [==============================] - 36s 195ms/step - loss: 0.0062 - accuracy: 0.1723\n",
      "Epoch 363/400\n",
      "185/185 [==============================] - 37s 199ms/step - loss: 0.0062 - accuracy: 0.1723\n",
      "Epoch 364/400\n",
      "185/185 [==============================] - 36s 196ms/step - loss: 0.0065 - accuracy: 0.1722\n",
      "Epoch 365/400\n",
      "185/185 [==============================] - 36s 197ms/step - loss: 0.0060 - accuracy: 0.1723\n",
      "Epoch 366/400\n",
      "185/185 [==============================] - 36s 196ms/step - loss: 0.0062 - accuracy: 0.1721\n",
      "Epoch 367/400\n",
      "185/185 [==============================] - 36s 197ms/step - loss: 0.0062 - accuracy: 0.1723\n",
      "Epoch 368/400\n",
      "185/185 [==============================] - 36s 197ms/step - loss: 0.0060 - accuracy: 0.1723\n",
      "Epoch 369/400\n",
      "185/185 [==============================] - 36s 196ms/step - loss: 0.0058 - accuracy: 0.1723\n",
      "Epoch 370/400\n",
      "185/185 [==============================] - 36s 196ms/step - loss: 0.0060 - accuracy: 0.1724\n",
      "Epoch 371/400\n",
      "185/185 [==============================] - 36s 196ms/step - loss: 0.0060 - accuracy: 0.1722\n",
      "Epoch 372/400\n",
      "185/185 [==============================] - 36s 196ms/step - loss: 0.0056 - accuracy: 0.1724\n",
      "Epoch 373/400\n",
      "185/185 [==============================] - 36s 192ms/step - loss: 0.0054 - accuracy: 0.1725\n",
      "Epoch 374/400\n",
      "185/185 [==============================] - 36s 193ms/step - loss: 0.0059 - accuracy: 0.1723\n",
      "Epoch 375/400\n",
      "185/185 [==============================] - 36s 192ms/step - loss: 0.0060 - accuracy: 0.1723\n",
      "Epoch 376/400\n",
      "185/185 [==============================] - 36s 192ms/step - loss: 0.0058 - accuracy: 0.1723\n",
      "Epoch 377/400\n",
      "185/185 [==============================] - 36s 193ms/step - loss: 0.0057 - accuracy: 0.1724\n",
      "Epoch 378/400\n",
      "185/185 [==============================] - 36s 195ms/step - loss: 0.0056 - accuracy: 0.1724\n",
      "Epoch 379/400\n",
      "185/185 [==============================] - 36s 192ms/step - loss: 0.0054 - accuracy: 0.1725\n",
      "Epoch 380/400\n",
      "185/185 [==============================] - 36s 196ms/step - loss: 0.0060 - accuracy: 0.1722\n",
      "Epoch 381/400\n",
      "185/185 [==============================] - 36s 194ms/step - loss: 0.0058 - accuracy: 0.1724\n",
      "Epoch 382/400\n",
      "185/185 [==============================] - 36s 194ms/step - loss: 0.0055 - accuracy: 0.1724\n",
      "Epoch 383/400\n",
      "185/185 [==============================] - 36s 194ms/step - loss: 0.0060 - accuracy: 0.1724\n",
      "Epoch 384/400\n",
      "185/185 [==============================] - 36s 194ms/step - loss: 0.0058 - accuracy: 0.1723\n",
      "Epoch 385/400\n",
      "185/185 [==============================] - 36s 194ms/step - loss: 0.0058 - accuracy: 0.1723\n",
      "Epoch 386/400\n",
      "185/185 [==============================] - 36s 194ms/step - loss: 0.0056 - accuracy: 0.1724\n",
      "Epoch 387/400\n"
     ]
    },
    {
     "name": "stdout",
     "output_type": "stream",
     "text": [
      "185/185 [==============================] - 36s 194ms/step - loss: 0.0059 - accuracy: 0.1724\n",
      "Epoch 388/400\n",
      "185/185 [==============================] - 36s 195ms/step - loss: 0.0053 - accuracy: 0.1725\n",
      "Epoch 389/400\n",
      "185/185 [==============================] - 36s 194ms/step - loss: 0.0058 - accuracy: 0.1724\n",
      "Epoch 390/400\n",
      "185/185 [==============================] - 36s 195ms/step - loss: 0.0054 - accuracy: 0.1724\n",
      "Epoch 391/400\n",
      "185/185 [==============================] - 36s 194ms/step - loss: 0.0058 - accuracy: 0.1723\n",
      "Epoch 392/400\n",
      "185/185 [==============================] - 36s 194ms/step - loss: 0.0054 - accuracy: 0.1725\n",
      "Epoch 393/400\n",
      "185/185 [==============================] - 36s 194ms/step - loss: 0.0054 - accuracy: 0.1724\n",
      "Epoch 394/400\n",
      "185/185 [==============================] - 36s 194ms/step - loss: 0.0059 - accuracy: 0.1724\n",
      "Epoch 395/400\n",
      "185/185 [==============================] - 36s 194ms/step - loss: 0.0054 - accuracy: 0.1724\n",
      "Epoch 396/400\n",
      "185/185 [==============================] - 36s 195ms/step - loss: 0.0054 - accuracy: 0.1724\n",
      "Epoch 397/400\n",
      "185/185 [==============================] - 36s 194ms/step - loss: 0.0059 - accuracy: 0.1723\n",
      "Epoch 398/400\n",
      "185/185 [==============================] - 36s 195ms/step - loss: 0.0053 - accuracy: 0.1726\n",
      "Epoch 399/400\n",
      "185/185 [==============================] - 36s 195ms/step - loss: 0.0054 - accuracy: 0.1725\n",
      "Epoch 400/400\n",
      "185/185 [==============================] - 36s 195ms/step - loss: 0.0051 - accuracy: 0.1725\n"
     ]
    },
    {
     "data": {
      "text/plain": [
       "<tensorflow.python.keras.callbacks.History at 0x7fab101aac10>"
      ]
     },
     "execution_count": 32,
     "metadata": {},
     "output_type": "execute_result"
    }
   ],
   "source": [
    "EPOCHS = 400 # 훈련량 정하기\n",
    "model.fit(dataset, epochs = EPOCHS, verbose = 1)"
   ]
  },
  {
   "cell_type": "markdown",
   "id": "registered-indicator",
   "metadata": {},
   "source": [
    "## 12. 모델 테스트하기\n",
    "#### 예측(inference) 단계는 기본적으로 다음과 같은 과정을 거친다.\n",
    "* 새로운 입력 문장에 대해서는 훈련 때와 동일한 전처리를 거친다.\n",
    "* 입력 문장을 토크나이징하고, START_TOKEN과 END_TOKEN을 추가한다.\n",
    "* 패딩 마스킹과 룩 어헤드 마스킹을 계산한다.\n",
    "* 디코더는 입력 시퀀스로부터 다음 단어를 예측한다.\n",
    "* 디코더는 예측된 다음 단어를 기존의 입력 시퀀스에 추가하여 새로운 입력으로 사용한다.\n",
    "* END_TOKEN이 예측되거나 문장의 최대 길이에 도달하면 디코더는 동작을 멈춘다."
   ]
  },
  {
   "cell_type": "code",
   "execution_count": 33,
   "id": "convinced-footage",
   "metadata": {},
   "outputs": [],
   "source": [
    "# 위에서 말한 과정을 수행하는 함수 만들기\n",
    "def decoder_inference(sentence):\n",
    "    sentence = preprocess_sentence(sentence)\n",
    "    \n",
    "    # 입력된 문장을 정수 인코딩 후, 시작 토큰과 종료 토큰을 앞뒤로 추가한다.\n",
    "    sentence = tf.expand_dims(START_TOKEN + tokenizer.encode(sentence) + END_TOKEN, axis = 0)\n",
    "    \n",
    "    # 디코더의 현재까지의 예측한 출력 시퀀스가 지속적으로 저장되는 변수\n",
    "    # 처음에는 예측한 내용이 없음으로 시작 토큰만 별도 저장\n",
    "    output_sequence = tf.expand_dims(START_TOKEN, 0)\n",
    "    \n",
    "    # 디코더의 인퍼런스 단계\n",
    "    for i in range(MAX_LENGTH):\n",
    "        # 디코더는 최대 MAX_LENGTH의 길이만큼 다음 단어 예측을 반복한다.\n",
    "        predictions = model(inputs = [sentence, output_sequence], training = False)\n",
    "        predictions = predictions[:, -1:, :]\n",
    "        \n",
    "        # 현재 예측한 단어의 정수\n",
    "        predicted_id = tf.cast(tf.argmax(predictions, axis = -1), tf.int32)\n",
    "        \n",
    "        # 만약 현재 예측한 단어가 종료 토큰이라면 for문을 종료한다.\n",
    "        if tf.equal(predicted_id, END_TOKEN[0]): break\n",
    "        \n",
    "        # 예측한 단어들은 지속적으로 output_sequence에 추가된다.\n",
    "        # 이 output_sequence는 다시 디코더의 입력이 된다.\n",
    "        output_sequence = tf.concat([output_sequence, predicted_id], axis = -1)\n",
    "        \n",
    "    return tf.squeeze(output_sequence, axis = 0)"
   ]
  },
  {
   "cell_type": "code",
   "execution_count": 34,
   "id": "accompanied-adventure",
   "metadata": {},
   "outputs": [],
   "source": [
    "# 임의의 입력 문장에 대해서 위에 만든 함수를 호출하여 챗봇의 대답을 얻는 함수 만들기\n",
    "def sentence_generation(sentence):\n",
    "    # 입력 문장에 대해서 디코더를 작동시켜 예측된 정수 시퀀스를 반환한다.\n",
    "    prediction = decoder_inference(sentence)\n",
    "    \n",
    "    # 정수 시퀀스를 다시 텍스트 시퀀스로 변환한다.\n",
    "    predicted_sentence = tokenizer.decode([i for i in prediction if i < tokenizer.vocab_size])\n",
    "    \n",
    "    print(\"입력 : {}\".format(sentence))\n",
    "    print(\"출력 : {}\".format(predicted_sentence))\n",
    "    \n",
    "    return predicted_sentence"
   ]
  },
  {
   "cell_type": "code",
   "execution_count": 35,
   "id": "blind-invalid",
   "metadata": {},
   "outputs": [
    {
     "name": "stdout",
     "output_type": "stream",
     "text": [
      "입력 : 퇴근이 가능할까?\n",
      "출력 : 뭘 잘못 먹었나봐요 .\n"
     ]
    },
    {
     "data": {
      "text/plain": [
       "'뭘 잘못 먹었나봐요 .'"
      ]
     },
     "execution_count": 35,
     "metadata": {},
     "output_type": "execute_result"
    }
   ],
   "source": [
    "sentence_generation(\"퇴근이 가능할까?\")"
   ]
  },
  {
   "cell_type": "code",
   "execution_count": 36,
   "id": "pretty-karaoke",
   "metadata": {},
   "outputs": [
    {
     "name": "stdout",
     "output_type": "stream",
     "text": [
      "입력 : 저녁을 먹어도 될까?\n",
      "출력 : 맛있는 거 드세요 .\n"
     ]
    },
    {
     "data": {
      "text/plain": [
       "'맛있는 거 드세요 .'"
      ]
     },
     "execution_count": 36,
     "metadata": {},
     "output_type": "execute_result"
    }
   ],
   "source": [
    "sentence_generation(\"저녁을 먹어도 될까?\")"
   ]
  },
  {
   "cell_type": "code",
   "execution_count": 37,
   "id": "senior-forge",
   "metadata": {},
   "outputs": [
    {
     "name": "stdout",
     "output_type": "stream",
     "text": [
      "입력 : 공부하기 싫어\n",
      "출력 : 잠시 쉬어도 돼요 .\n"
     ]
    },
    {
     "data": {
      "text/plain": [
       "'잠시 쉬어도 돼요 .'"
      ]
     },
     "execution_count": 37,
     "metadata": {},
     "output_type": "execute_result"
    }
   ],
   "source": [
    "sentence_generation(\"공부하기 싫어\")"
   ]
  },
  {
   "cell_type": "code",
   "execution_count": 38,
   "id": "undefined-detector",
   "metadata": {},
   "outputs": [
    {
     "name": "stdout",
     "output_type": "stream",
     "text": [
      "입력 : 자기소개 해봐\n",
      "출력 : 강렬하고 자신감있게 하면 되지 않을까싶어요 .\n"
     ]
    },
    {
     "data": {
      "text/plain": [
       "'강렬하고 자신감있게 하면 되지 않을까싶어요 .'"
      ]
     },
     "execution_count": 38,
     "metadata": {},
     "output_type": "execute_result"
    }
   ],
   "source": [
    "sentence_generation(\"자기소개 해봐\")"
   ]
  },
  {
   "cell_type": "code",
   "execution_count": 39,
   "id": "amber-turkey",
   "metadata": {},
   "outputs": [
    {
     "name": "stdout",
     "output_type": "stream",
     "text": [
      "입력 : 나 머리 아파\n",
      "출력 : 시원한 바람 쉬고 약먹기 !\n"
     ]
    },
    {
     "data": {
      "text/plain": [
       "'시원한 바람 쉬고 약먹기 !'"
      ]
     },
     "execution_count": 39,
     "metadata": {},
     "output_type": "execute_result"
    }
   ],
   "source": [
    "sentence_generation(\"나 머리 아파\")"
   ]
  },
  {
   "cell_type": "code",
   "execution_count": 40,
   "id": "proud-tyler",
   "metadata": {},
   "outputs": [
    {
     "name": "stdout",
     "output_type": "stream",
     "text": [
      "입력 : 사람은 왜 살아?\n",
      "출력 : 서로 마음이 같지 않았나봐요 .\n"
     ]
    },
    {
     "data": {
      "text/plain": [
       "'서로 마음이 같지 않았나봐요 .'"
      ]
     },
     "execution_count": 40,
     "metadata": {},
     "output_type": "execute_result"
    }
   ],
   "source": [
    "sentence_generation(\"사람은 왜 살아?\")"
   ]
  },
  {
   "cell_type": "code",
   "execution_count": 41,
   "id": "revolutionary-compatibility",
   "metadata": {},
   "outputs": [
    {
     "name": "stdout",
     "output_type": "stream",
     "text": [
      "입력 : 위스키 한잔 할래?\n",
      "출력 : 즐거운 시작 되길 바랍니다 .\n"
     ]
    },
    {
     "data": {
      "text/plain": [
       "'즐거운 시작 되길 바랍니다 .'"
      ]
     },
     "execution_count": 41,
     "metadata": {},
     "output_type": "execute_result"
    }
   ],
   "source": [
    "sentence_generation(\"위스키 한잔 할래?\")"
   ]
  },
  {
   "cell_type": "markdown",
   "id": "independent-sleeve",
   "metadata": {},
   "source": [
    "## 회고록"
   ]
  },
  {
   "cell_type": "code",
   "execution_count": null,
   "id": "velvet-sperm",
   "metadata": {},
   "outputs": [],
   "source": [
    "# 이번 노드는 개념부터 코딩까지 전부 어려웠다. 전혀 쉬운부분이 없어서 쉬는 타임이 없었다.\n",
    "# 그래서 더욱 힘들었다. 역대 2번쨰... 1번째는 리뷰 감성분석이다.\n",
    "# 개념도 어려워서 2~3번 봤다.\n",
    "# 노드를 보면서 코드를 타이핑 하는 편인데, 코드를 타이핑을 똑같이 했다고 생각했는데도 우리의 챗봇은 아무 대답이 없었다.\n",
    "# 또한 한글 데이터의 전처리는 영어 데이터랑 달라서 코드를 수정하는데 애를 먹었다.\n",
    "# 근데 막상 하다보니 '내가 너무 어렵게 하려 하고 있다' 라는 생각을 하게 되었고, '결국 결과만 같으면 되는 것 아닌가' 라는 생각을 해서 전처리를 했다.\n",
    "# 그리고 코드는 결국 복사, 붙여넣기를 통해 했다. 내가 타이핑한 코드에서 어느 부분이 달라서 작동이 제대로 안 되는지 찾지 못했다.\n",
    "# 그리고 20번 훈련을 시키니 대답을 너무 잘했다. \"나 우울해\" -> \"밖에 나가서 기분을 전환해요\"\n",
    "# 그래서 저녁먹고 복습 겸 블로그 작성을 하는 동안 학습을 시켜보고 싶어서 400번을 훈련시켰다.\n",
    "# 결과는 만족스럽다."
   ]
  }
 ],
 "metadata": {
  "kernelspec": {
   "display_name": "Python 3",
   "language": "python",
   "name": "python3"
  },
  "language_info": {
   "codemirror_mode": {
    "name": "ipython",
    "version": 3
   },
   "file_extension": ".py",
   "mimetype": "text/x-python",
   "name": "python",
   "nbconvert_exporter": "python",
   "pygments_lexer": "ipython3",
   "version": "3.7.9"
  }
 },
 "nbformat": 4,
 "nbformat_minor": 5
}
