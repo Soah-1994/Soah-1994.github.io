{
 "cells": [
  {
   "cell_type": "markdown",
   "id": "martial-township",
   "metadata": {},
   "source": [
    "#### 패키지 로딩하기"
   ]
  },
  {
   "cell_type": "code",
   "execution_count": 1,
   "id": "modified-organic",
   "metadata": {},
   "outputs": [],
   "source": [
    "from implicit.als import AlternatingLeastSquares\n",
    "from scipy.sparse import csr_matrix\n",
    "import pandas as pd\n",
    "import numpy as np\n",
    "import os"
   ]
  },
  {
   "cell_type": "markdown",
   "id": "portable-advantage",
   "metadata": {},
   "source": [
    "#### 데이터 준비 및 전처리"
   ]
  },
  {
   "cell_type": "code",
   "execution_count": 2,
   "id": "center-ghana",
   "metadata": {},
   "outputs": [
    {
     "data": {
      "text/html": [
       "<div>\n",
       "<style scoped>\n",
       "    .dataframe tbody tr th:only-of-type {\n",
       "        vertical-align: middle;\n",
       "    }\n",
       "\n",
       "    .dataframe tbody tr th {\n",
       "        vertical-align: top;\n",
       "    }\n",
       "\n",
       "    .dataframe thead th {\n",
       "        text-align: right;\n",
       "    }\n",
       "</style>\n",
       "<table border=\"1\" class=\"dataframe\">\n",
       "  <thead>\n",
       "    <tr style=\"text-align: right;\">\n",
       "      <th></th>\n",
       "      <th>user_id</th>\n",
       "      <th>movie_id</th>\n",
       "      <th>rating</th>\n",
       "      <th>timestamp</th>\n",
       "    </tr>\n",
       "  </thead>\n",
       "  <tbody>\n",
       "    <tr>\n",
       "      <th>0</th>\n",
       "      <td>1</td>\n",
       "      <td>1193</td>\n",
       "      <td>5</td>\n",
       "      <td>978300760</td>\n",
       "    </tr>\n",
       "    <tr>\n",
       "      <th>1</th>\n",
       "      <td>1</td>\n",
       "      <td>661</td>\n",
       "      <td>3</td>\n",
       "      <td>978302109</td>\n",
       "    </tr>\n",
       "    <tr>\n",
       "      <th>2</th>\n",
       "      <td>1</td>\n",
       "      <td>914</td>\n",
       "      <td>3</td>\n",
       "      <td>978301968</td>\n",
       "    </tr>\n",
       "    <tr>\n",
       "      <th>3</th>\n",
       "      <td>1</td>\n",
       "      <td>3408</td>\n",
       "      <td>4</td>\n",
       "      <td>978300275</td>\n",
       "    </tr>\n",
       "    <tr>\n",
       "      <th>4</th>\n",
       "      <td>1</td>\n",
       "      <td>2355</td>\n",
       "      <td>5</td>\n",
       "      <td>978824291</td>\n",
       "    </tr>\n",
       "  </tbody>\n",
       "</table>\n",
       "</div>"
      ],
      "text/plain": [
       "   user_id  movie_id  rating  timestamp\n",
       "0        1      1193       5  978300760\n",
       "1        1       661       3  978302109\n",
       "2        1       914       3  978301968\n",
       "3        1      3408       4  978300275\n",
       "4        1      2355       5  978824291"
      ]
     },
     "execution_count": 2,
     "metadata": {},
     "output_type": "execute_result"
    }
   ],
   "source": [
    "rating_file_path  = os.getenv(\"HOME\") + \"/aiffel/recommendata_iu/data/ml-1m/ratings.dat\" # file 경로 지정\n",
    "ratings_cols      = [\"user_id\", \"movie_id\", \"rating\", \"timestamp\"]                       # columns naming\n",
    "ratings           = pd.read_csv(filepath_or_buffer = rating_file_path,                   # 파일 불러오기\n",
    "                                sep                = \"::\", \n",
    "                                names              = ratings_cols, \n",
    "                                engine             = \"python\")\n",
    "orginal_data_size = len(ratings)                                                         # orginal_data_size 보기\n",
    "ratings.head()                                                                           # ratings 위의 5개 데이터 보기"
   ]
  },
  {
   "cell_type": "code",
   "execution_count": 3,
   "id": "promising-offer",
   "metadata": {},
   "outputs": [
    {
     "name": "stdout",
     "output_type": "stream",
     "text": [
      "orginal_data_size : 1000209, filtered_data_size :836478\n",
      "Ratio of Remaining Data is 83.63%\n"
     ]
    }
   ],
   "source": [
    "ratings            = ratings[ratings[\"rating\"] >= 3]                                        # rating이 3점 이상인 것만 추려낸다.\n",
    "filtered_data_size = len(ratings)                                                           # filtered_data_size 보기\n",
    "\n",
    "print(f\"orginal_data_size : {orginal_data_size}, filtered_data_size :{filtered_data_size}\") # 2개의 data_size를 각각 보여주기\n",
    "print(f\"Ratio of Remaining Data is {filtered_data_size / orginal_data_size:.2%}\")           # 3점 이상의 데이터 비율 보기"
   ]
  },
  {
   "cell_type": "code",
   "execution_count": 4,
   "id": "fresh-colombia",
   "metadata": {},
   "outputs": [
    {
     "data": {
      "text/html": [
       "<div>\n",
       "<style scoped>\n",
       "    .dataframe tbody tr th:only-of-type {\n",
       "        vertical-align: middle;\n",
       "    }\n",
       "\n",
       "    .dataframe tbody tr th {\n",
       "        vertical-align: top;\n",
       "    }\n",
       "\n",
       "    .dataframe thead th {\n",
       "        text-align: right;\n",
       "    }\n",
       "</style>\n",
       "<table border=\"1\" class=\"dataframe\">\n",
       "  <thead>\n",
       "    <tr style=\"text-align: right;\">\n",
       "      <th></th>\n",
       "      <th>user_id</th>\n",
       "      <th>movie_id</th>\n",
       "      <th>count</th>\n",
       "      <th>timestamp</th>\n",
       "    </tr>\n",
       "  </thead>\n",
       "  <tbody>\n",
       "    <tr>\n",
       "      <th>0</th>\n",
       "      <td>1</td>\n",
       "      <td>1193</td>\n",
       "      <td>5</td>\n",
       "      <td>978300760</td>\n",
       "    </tr>\n",
       "    <tr>\n",
       "      <th>1</th>\n",
       "      <td>1</td>\n",
       "      <td>661</td>\n",
       "      <td>3</td>\n",
       "      <td>978302109</td>\n",
       "    </tr>\n",
       "    <tr>\n",
       "      <th>2</th>\n",
       "      <td>1</td>\n",
       "      <td>914</td>\n",
       "      <td>3</td>\n",
       "      <td>978301968</td>\n",
       "    </tr>\n",
       "    <tr>\n",
       "      <th>3</th>\n",
       "      <td>1</td>\n",
       "      <td>3408</td>\n",
       "      <td>4</td>\n",
       "      <td>978300275</td>\n",
       "    </tr>\n",
       "    <tr>\n",
       "      <th>4</th>\n",
       "      <td>1</td>\n",
       "      <td>2355</td>\n",
       "      <td>5</td>\n",
       "      <td>978824291</td>\n",
       "    </tr>\n",
       "  </tbody>\n",
       "</table>\n",
       "</div>"
      ],
      "text/plain": [
       "   user_id  movie_id  count  timestamp\n",
       "0        1      1193      5  978300760\n",
       "1        1       661      3  978302109\n",
       "2        1       914      3  978301968\n",
       "3        1      3408      4  978300275\n",
       "4        1      2355      5  978824291"
      ]
     },
     "execution_count": 4,
     "metadata": {},
     "output_type": "execute_result"
    }
   ],
   "source": [
    "# rating의 컬럼 이름을 count로 바꾼다.\n",
    "ratings.rename(columns = {\"rating\" : \"count\"}, inplace = True) # 칼럼 이름을 바꿔서 원본에 덮어쓰기\n",
    "ratings.head()"
   ]
  },
  {
   "cell_type": "code",
   "execution_count": 5,
   "id": "organic-spyware",
   "metadata": {},
   "outputs": [
    {
     "data": {
      "text/html": [
       "<div>\n",
       "<style scoped>\n",
       "    .dataframe tbody tr th:only-of-type {\n",
       "        vertical-align: middle;\n",
       "    }\n",
       "\n",
       "    .dataframe tbody tr th {\n",
       "        vertical-align: top;\n",
       "    }\n",
       "\n",
       "    .dataframe thead th {\n",
       "        text-align: right;\n",
       "    }\n",
       "</style>\n",
       "<table border=\"1\" class=\"dataframe\">\n",
       "  <thead>\n",
       "    <tr style=\"text-align: right;\">\n",
       "      <th></th>\n",
       "      <th>movie_id</th>\n",
       "      <th>title</th>\n",
       "      <th>genre</th>\n",
       "    </tr>\n",
       "  </thead>\n",
       "  <tbody>\n",
       "    <tr>\n",
       "      <th>0</th>\n",
       "      <td>1</td>\n",
       "      <td>toy story (1995)</td>\n",
       "      <td>animation|children's|comedy</td>\n",
       "    </tr>\n",
       "    <tr>\n",
       "      <th>1</th>\n",
       "      <td>2</td>\n",
       "      <td>jumanji (1995)</td>\n",
       "      <td>adventure|children's|fantasy</td>\n",
       "    </tr>\n",
       "    <tr>\n",
       "      <th>2</th>\n",
       "      <td>3</td>\n",
       "      <td>grumpier old men (1995)</td>\n",
       "      <td>comedy|romance</td>\n",
       "    </tr>\n",
       "    <tr>\n",
       "      <th>3</th>\n",
       "      <td>4</td>\n",
       "      <td>waiting to exhale (1995)</td>\n",
       "      <td>comedy|drama</td>\n",
       "    </tr>\n",
       "    <tr>\n",
       "      <th>4</th>\n",
       "      <td>5</td>\n",
       "      <td>father of the bride part ii (1995)</td>\n",
       "      <td>comedy</td>\n",
       "    </tr>\n",
       "  </tbody>\n",
       "</table>\n",
       "</div>"
      ],
      "text/plain": [
       "   movie_id                               title                         genre\n",
       "0         1                    toy story (1995)   animation|children's|comedy\n",
       "1         2                      jumanji (1995)  adventure|children's|fantasy\n",
       "2         3             grumpier old men (1995)                comedy|romance\n",
       "3         4            waiting to exhale (1995)                  comedy|drama\n",
       "4         5  father of the bride part ii (1995)                        comedy"
      ]
     },
     "execution_count": 5,
     "metadata": {},
     "output_type": "execute_result"
    }
   ],
   "source": [
    "# movie 정보를 가져옵니다.\n",
    "movie_file_path = os.getenv(\"HOME\") + \"/aiffel/recommendata_iu/data/ml-1m/movies.dat\" # file 경로 지정\n",
    "cols            = [\"movie_id\", \"title\", \"genre\"]                                      # columns naming\n",
    "movies          = pd.read_csv(filepath_or_buffer = movie_file_path,                   # file 불러오기\n",
    "                              sep                = \"::\", \n",
    "                              names              = cols, \n",
    "                              engine             = \"python\",\n",
    "                              encoding           = \"ISO-8859-1\")\n",
    "movies[\"title\"] = movies[\"title\"].str.lower()                                         # title의 데이터를 전부 소문자로 바꾸기\n",
    "movies[\"genre\"] = movies[\"genre\"].str.lower()                                         # genre의 데이터를 전부 소문자로 바꾸기\n",
    "movies.head()"
   ]
  },
  {
   "cell_type": "code",
   "execution_count": 6,
   "id": "wireless-absorption",
   "metadata": {},
   "outputs": [
    {
     "data": {
      "text/html": [
       "<div>\n",
       "<style scoped>\n",
       "    .dataframe tbody tr th:only-of-type {\n",
       "        vertical-align: middle;\n",
       "    }\n",
       "\n",
       "    .dataframe tbody tr th {\n",
       "        vertical-align: top;\n",
       "    }\n",
       "\n",
       "    .dataframe thead th {\n",
       "        text-align: right;\n",
       "    }\n",
       "</style>\n",
       "<table border=\"1\" class=\"dataframe\">\n",
       "  <thead>\n",
       "    <tr style=\"text-align: right;\">\n",
       "      <th></th>\n",
       "      <th>user_id</th>\n",
       "      <th>movie_id</th>\n",
       "      <th>count</th>\n",
       "      <th>timestamp</th>\n",
       "      <th>title</th>\n",
       "      <th>genre</th>\n",
       "    </tr>\n",
       "  </thead>\n",
       "  <tbody>\n",
       "    <tr>\n",
       "      <th>0</th>\n",
       "      <td>1</td>\n",
       "      <td>1193</td>\n",
       "      <td>5</td>\n",
       "      <td>978300760</td>\n",
       "      <td>one flew over the cuckoo's nest (1975)</td>\n",
       "      <td>drama</td>\n",
       "    </tr>\n",
       "    <tr>\n",
       "      <th>1</th>\n",
       "      <td>1</td>\n",
       "      <td>661</td>\n",
       "      <td>3</td>\n",
       "      <td>978302109</td>\n",
       "      <td>james and the giant peach (1996)</td>\n",
       "      <td>animation|children's|musical</td>\n",
       "    </tr>\n",
       "    <tr>\n",
       "      <th>2</th>\n",
       "      <td>1</td>\n",
       "      <td>914</td>\n",
       "      <td>3</td>\n",
       "      <td>978301968</td>\n",
       "      <td>my fair lady (1964)</td>\n",
       "      <td>musical|romance</td>\n",
       "    </tr>\n",
       "    <tr>\n",
       "      <th>3</th>\n",
       "      <td>1</td>\n",
       "      <td>3408</td>\n",
       "      <td>4</td>\n",
       "      <td>978300275</td>\n",
       "      <td>erin brockovich (2000)</td>\n",
       "      <td>drama</td>\n",
       "    </tr>\n",
       "    <tr>\n",
       "      <th>4</th>\n",
       "      <td>1</td>\n",
       "      <td>2355</td>\n",
       "      <td>5</td>\n",
       "      <td>978824291</td>\n",
       "      <td>bug's life, a (1998)</td>\n",
       "      <td>animation|children's|comedy</td>\n",
       "    </tr>\n",
       "    <tr>\n",
       "      <th>...</th>\n",
       "      <td>...</td>\n",
       "      <td>...</td>\n",
       "      <td>...</td>\n",
       "      <td>...</td>\n",
       "      <td>...</td>\n",
       "      <td>...</td>\n",
       "    </tr>\n",
       "    <tr>\n",
       "      <th>836473</th>\n",
       "      <td>6040</td>\n",
       "      <td>1090</td>\n",
       "      <td>3</td>\n",
       "      <td>956715518</td>\n",
       "      <td>platoon (1986)</td>\n",
       "      <td>drama|war</td>\n",
       "    </tr>\n",
       "    <tr>\n",
       "      <th>836474</th>\n",
       "      <td>6040</td>\n",
       "      <td>1094</td>\n",
       "      <td>5</td>\n",
       "      <td>956704887</td>\n",
       "      <td>crying game, the (1992)</td>\n",
       "      <td>drama|romance|war</td>\n",
       "    </tr>\n",
       "    <tr>\n",
       "      <th>836475</th>\n",
       "      <td>6040</td>\n",
       "      <td>562</td>\n",
       "      <td>5</td>\n",
       "      <td>956704746</td>\n",
       "      <td>welcome to the dollhouse (1995)</td>\n",
       "      <td>comedy|drama</td>\n",
       "    </tr>\n",
       "    <tr>\n",
       "      <th>836476</th>\n",
       "      <td>6040</td>\n",
       "      <td>1096</td>\n",
       "      <td>4</td>\n",
       "      <td>956715648</td>\n",
       "      <td>sophie's choice (1982)</td>\n",
       "      <td>drama</td>\n",
       "    </tr>\n",
       "    <tr>\n",
       "      <th>836477</th>\n",
       "      <td>6040</td>\n",
       "      <td>1097</td>\n",
       "      <td>4</td>\n",
       "      <td>956715569</td>\n",
       "      <td>e.t. the extra-terrestrial (1982)</td>\n",
       "      <td>children's|drama|fantasy|sci-fi</td>\n",
       "    </tr>\n",
       "  </tbody>\n",
       "</table>\n",
       "<p>836478 rows × 6 columns</p>\n",
       "</div>"
      ],
      "text/plain": [
       "        user_id  movie_id  count  timestamp  \\\n",
       "0             1      1193      5  978300760   \n",
       "1             1       661      3  978302109   \n",
       "2             1       914      3  978301968   \n",
       "3             1      3408      4  978300275   \n",
       "4             1      2355      5  978824291   \n",
       "...         ...       ...    ...        ...   \n",
       "836473     6040      1090      3  956715518   \n",
       "836474     6040      1094      5  956704887   \n",
       "836475     6040       562      5  956704746   \n",
       "836476     6040      1096      4  956715648   \n",
       "836477     6040      1097      4  956715569   \n",
       "\n",
       "                                         title  \\\n",
       "0       one flew over the cuckoo's nest (1975)   \n",
       "1             james and the giant peach (1996)   \n",
       "2                          my fair lady (1964)   \n",
       "3                       erin brockovich (2000)   \n",
       "4                         bug's life, a (1998)   \n",
       "...                                        ...   \n",
       "836473                          platoon (1986)   \n",
       "836474                 crying game, the (1992)   \n",
       "836475         welcome to the dollhouse (1995)   \n",
       "836476                  sophie's choice (1982)   \n",
       "836477       e.t. the extra-terrestrial (1982)   \n",
       "\n",
       "                                  genre  \n",
       "0                                 drama  \n",
       "1          animation|children's|musical  \n",
       "2                       musical|romance  \n",
       "3                                 drama  \n",
       "4           animation|children's|comedy  \n",
       "...                                 ...  \n",
       "836473                        drama|war  \n",
       "836474                drama|romance|war  \n",
       "836475                     comedy|drama  \n",
       "836476                            drama  \n",
       "836477  children's|drama|fantasy|sci-fi  \n",
       "\n",
       "[836478 rows x 6 columns]"
      ]
     },
     "execution_count": 6,
     "metadata": {},
     "output_type": "execute_result"
    }
   ],
   "source": [
    "# title과 genre의 정보도 얻기위해 ratings을 기준으로 movies를 합친다. \n",
    "movies_data = pd.merge(ratings, movies, on = \"movie_id\", how = \"left\")\n",
    "movies_data"
   ]
  },
  {
   "cell_type": "markdown",
   "id": "marine-insert",
   "metadata": {},
   "source": [
    "#### 데이터 탐색"
   ]
  },
  {
   "cell_type": "code",
   "execution_count": 7,
   "id": "statutory-shower",
   "metadata": {},
   "outputs": [
    {
     "name": "stdout",
     "output_type": "stream",
     "text": [
      "movie_data 의 user_id 갯수 : 6039\n",
      "movie_data 의 movie_id 갯수 : 3628\n",
      "movie_data 의 count 갯수 : 3\n",
      "movie_data 의 timestamp 갯수 : 412911\n",
      "movie_data 의 title 갯수 : 3628\n",
      "movie_data 의 genre 갯수 : 301\n"
     ]
    }
   ],
   "source": [
    "# movie_data의 각 칼럼 갯수 보기\n",
    "print(\"movie_data 의 user_id 갯수 :\",   movies_data[\"user_id\"].nunique())\n",
    "print(\"movie_data 의 movie_id 갯수 :\",  movies_data[\"movie_id\"].nunique())\n",
    "print(\"movie_data 의 count 갯수 :\",     movies_data[\"count\"].nunique()) # 3, 4, 5 만 존재\n",
    "print(\"movie_data 의 timestamp 갯수 :\", movies_data[\"timestamp\"].nunique())\n",
    "print(\"movie_data 의 title 갯수 :\",     movies_data[\"title\"].nunique())\n",
    "print(\"movie_data 의 genre 갯수 :\",     movies_data[\"genre\"].nunique())"
   ]
  },
  {
   "cell_type": "code",
   "execution_count": 8,
   "id": "metropolitan-lancaster",
   "metadata": {},
   "outputs": [
    {
     "data": {
      "text/plain": [
       "movie_id\n",
       "2858    3211\n",
       "260     2910\n",
       "1196    2885\n",
       "1210    2716\n",
       "2028    2561\n",
       "589     2509\n",
       "593     2498\n",
       "1198    2473\n",
       "1270    2460\n",
       "2571    2434\n",
       "480     2413\n",
       "2762    2385\n",
       "608     2371\n",
       "110     2314\n",
       "1580    2297\n",
       "527     2257\n",
       "1197    2252\n",
       "2396    2213\n",
       "1617    2210\n",
       "318     2194\n",
       "858     2167\n",
       "1265    2121\n",
       "1097    2102\n",
       "2997    2066\n",
       "2716    2051\n",
       "296     2030\n",
       "356     2022\n",
       "1240    2019\n",
       "1       2000\n",
       "457     1941\n",
       "Name: user_id, dtype: int64"
      ]
     },
     "execution_count": 8,
     "metadata": {},
     "output_type": "execute_result"
    }
   ],
   "source": [
    "# 가장 인기있는 movies 상위 30개 확인하기\n",
    "movies_count = movies_data.groupby(\"movie_id\")[\"user_id\"].count() # movies_id로 grouping 후 user_id 세기\n",
    "movies_count.sort_values(ascending = False).head(30)              # 내림차순하여 상위 30개 보기"
   ]
  },
  {
   "cell_type": "markdown",
   "id": "statewide-tribute",
   "metadata": {},
   "source": [
    "#### 모델 검증을 위한 사용자 초기 정보 세팅"
   ]
  },
  {
   "cell_type": "code",
   "execution_count": 9,
   "id": "actual-avenue",
   "metadata": {},
   "outputs": [
    {
     "data": {
      "text/html": [
       "<div>\n",
       "<style scoped>\n",
       "    .dataframe tbody tr th:only-of-type {\n",
       "        vertical-align: middle;\n",
       "    }\n",
       "\n",
       "    .dataframe tbody tr th {\n",
       "        vertical-align: top;\n",
       "    }\n",
       "\n",
       "    .dataframe thead th {\n",
       "        text-align: right;\n",
       "    }\n",
       "</style>\n",
       "<table border=\"1\" class=\"dataframe\">\n",
       "  <thead>\n",
       "    <tr style=\"text-align: right;\">\n",
       "      <th></th>\n",
       "      <th>user_id</th>\n",
       "      <th>movie_id</th>\n",
       "      <th>count</th>\n",
       "      <th>timestamp</th>\n",
       "      <th>title</th>\n",
       "      <th>genre</th>\n",
       "    </tr>\n",
       "  </thead>\n",
       "  <tbody>\n",
       "    <tr>\n",
       "      <th>836473</th>\n",
       "      <td>6040</td>\n",
       "      <td>1090.0</td>\n",
       "      <td>3</td>\n",
       "      <td>956715518.0</td>\n",
       "      <td>platoon (1986)</td>\n",
       "      <td>drama|war</td>\n",
       "    </tr>\n",
       "    <tr>\n",
       "      <th>836474</th>\n",
       "      <td>6040</td>\n",
       "      <td>1094.0</td>\n",
       "      <td>5</td>\n",
       "      <td>956704887.0</td>\n",
       "      <td>crying game, the (1992)</td>\n",
       "      <td>drama|romance|war</td>\n",
       "    </tr>\n",
       "    <tr>\n",
       "      <th>836475</th>\n",
       "      <td>6040</td>\n",
       "      <td>562.0</td>\n",
       "      <td>5</td>\n",
       "      <td>956704746.0</td>\n",
       "      <td>welcome to the dollhouse (1995)</td>\n",
       "      <td>comedy|drama</td>\n",
       "    </tr>\n",
       "    <tr>\n",
       "      <th>836476</th>\n",
       "      <td>6040</td>\n",
       "      <td>1096.0</td>\n",
       "      <td>4</td>\n",
       "      <td>956715648.0</td>\n",
       "      <td>sophie's choice (1982)</td>\n",
       "      <td>drama</td>\n",
       "    </tr>\n",
       "    <tr>\n",
       "      <th>836477</th>\n",
       "      <td>6040</td>\n",
       "      <td>1097.0</td>\n",
       "      <td>4</td>\n",
       "      <td>956715569.0</td>\n",
       "      <td>e.t. the extra-terrestrial (1982)</td>\n",
       "      <td>children's|drama|fantasy|sci-fi</td>\n",
       "    </tr>\n",
       "    <tr>\n",
       "      <th>0</th>\n",
       "      <td>my</td>\n",
       "      <td>3953.0</td>\n",
       "      <td>5</td>\n",
       "      <td>NaN</td>\n",
       "      <td>Warcraft (2015)</td>\n",
       "      <td>fantasy|action</td>\n",
       "    </tr>\n",
       "    <tr>\n",
       "      <th>1</th>\n",
       "      <td>my</td>\n",
       "      <td>3954.0</td>\n",
       "      <td>5</td>\n",
       "      <td>NaN</td>\n",
       "      <td>The Hunger Games: Mockingjay - Part 2 (2015)</td>\n",
       "      <td>fantasy|action</td>\n",
       "    </tr>\n",
       "    <tr>\n",
       "      <th>2</th>\n",
       "      <td>my</td>\n",
       "      <td>3955.0</td>\n",
       "      <td>5</td>\n",
       "      <td>NaN</td>\n",
       "      <td>Aladdin (2019)</td>\n",
       "      <td>fantasy|romantic|adventure</td>\n",
       "    </tr>\n",
       "    <tr>\n",
       "      <th>3</th>\n",
       "      <td>my</td>\n",
       "      <td>3956.0</td>\n",
       "      <td>5</td>\n",
       "      <td>NaN</td>\n",
       "      <td>The Chronicles of Narnia: The Lion, the Witch ...</td>\n",
       "      <td>fantasy|adventure|family</td>\n",
       "    </tr>\n",
       "    <tr>\n",
       "      <th>4</th>\n",
       "      <td>my</td>\n",
       "      <td>3957.0</td>\n",
       "      <td>5</td>\n",
       "      <td>NaN</td>\n",
       "      <td>Harry Potter And The Deathly Hallows: Part 2 (...</td>\n",
       "      <td>fantasy|adventure</td>\n",
       "    </tr>\n",
       "  </tbody>\n",
       "</table>\n",
       "</div>"
      ],
      "text/plain": [
       "       user_id  movie_id  count    timestamp  \\\n",
       "836473    6040    1090.0      3  956715518.0   \n",
       "836474    6040    1094.0      5  956704887.0   \n",
       "836475    6040     562.0      5  956704746.0   \n",
       "836476    6040    1096.0      4  956715648.0   \n",
       "836477    6040    1097.0      4  956715569.0   \n",
       "0           my    3953.0      5          NaN   \n",
       "1           my    3954.0      5          NaN   \n",
       "2           my    3955.0      5          NaN   \n",
       "3           my    3956.0      5          NaN   \n",
       "4           my    3957.0      5          NaN   \n",
       "\n",
       "                                                    title  \\\n",
       "836473                                     platoon (1986)   \n",
       "836474                            crying game, the (1992)   \n",
       "836475                    welcome to the dollhouse (1995)   \n",
       "836476                             sophie's choice (1982)   \n",
       "836477                  e.t. the extra-terrestrial (1982)   \n",
       "0                                         Warcraft (2015)   \n",
       "1            The Hunger Games: Mockingjay - Part 2 (2015)   \n",
       "2                                          Aladdin (2019)   \n",
       "3       The Chronicles of Narnia: The Lion, the Witch ...   \n",
       "4       Harry Potter And The Deathly Hallows: Part 2 (...   \n",
       "\n",
       "                                  genre  \n",
       "836473                        drama|war  \n",
       "836474                drama|romance|war  \n",
       "836475                     comedy|drama  \n",
       "836476                            drama  \n",
       "836477  children's|drama|fantasy|sci-fi  \n",
       "0                        fantasy|action  \n",
       "1                        fantasy|action  \n",
       "2            fantasy|romantic|adventure  \n",
       "3              fantasy|adventure|family  \n",
       "4                     fantasy|adventure  "
      ]
     },
     "execution_count": 9,
     "metadata": {},
     "output_type": "execute_result"
    }
   ],
   "source": [
    "# 내가 좋아하는 영화 5개 선정하여 데이터셋 만들기 (comedy 5개 골라서 넣기)\n",
    "my_favorite = [\"Warcraft (2015)\", \n",
    "               \"The Hunger Games: Mockingjay - Part 2 (2015)\", \n",
    "               \"Aladdin (2019)\", \n",
    "               \"The Chronicles of Narnia: The Lion, the Witch and the Wardrobe (2005)\", \n",
    "               \"Harry Potter And The Deathly Hallows: Part 2 (2011)\"]\n",
    "\n",
    "# \"my\"라는 user_id를 가진 사람이 위 5개 영화를 전부 5번씩 봤다고 가정하기\n",
    "my_list = pd.DataFrame({\n",
    "    \"user_id\"  : [\"my\"] * 5, \n",
    "    \"movie_id\" : [3953., 3954., 3955., 3956., 3957.], \n",
    "    \"count\"    : [5] * 5, \n",
    "    \"title\"    : my_favorite, \n",
    "    \"genre\"    : [\"fantasy|action\", \"fantasy|action\", \"fantasy|romantic|adventure\", \"fantasy|adventure|family\", \"fantasy|adventure\"]\n",
    "})\n",
    "\n",
    "# user_id에 \"my\"가 없다면 my_list를 추가한다.\n",
    "if not movies_data.isin({\"user_id\" : [\"my\"]})[\"user_id\"].any():\n",
    "    movies_data = movies_data.append(my_list)\n",
    "\n",
    "movies_data.tail(10) # my_list가 잘 붙었는지 확인하기"
   ]
  },
  {
   "cell_type": "markdown",
   "id": "operational-musical",
   "metadata": {},
   "source": [
    "#### 모델에 활용하기 위한 전처리"
   ]
  },
  {
   "cell_type": "code",
   "execution_count": 10,
   "id": "double-breach",
   "metadata": {},
   "outputs": [
    {
     "name": "stdout",
     "output_type": "stream",
     "text": [
      "6039\n",
      "3628\n"
     ]
    }
   ],
   "source": [
    "# 고유한 유저, 영화를 찾아내기\n",
    "user_unique  = movies_data[\"user_id\"].unique()\n",
    "movie_unique = movies_data[\"title\"].unique()\n",
    "\n",
    "# 유저, 영화를 indexing 하기, idx는 index의 약자이다.\n",
    "user_to_idx  = {v:k for k, v in enumerate(user_unique)}\n",
    "movie_to_idx = {v:k for k, v in enumerate(movie_unique)}\n",
    "\n",
    "# indexing 확인하기\n",
    "print(user_to_idx[\"my\"])\n",
    "print(movie_to_idx[\"Warcraft (2015)\"])"
   ]
  },
  {
   "cell_type": "code",
   "execution_count": 11,
   "id": "honest-temple",
   "metadata": {},
   "outputs": [
    {
     "name": "stdout",
     "output_type": "stream",
     "text": [
      "user_id column indexing OK!\n",
      "movies_id column indexing OK!\n"
     ]
    },
    {
     "data": {
      "text/html": [
       "<div>\n",
       "<style scoped>\n",
       "    .dataframe tbody tr th:only-of-type {\n",
       "        vertical-align: middle;\n",
       "    }\n",
       "\n",
       "    .dataframe tbody tr th {\n",
       "        vertical-align: top;\n",
       "    }\n",
       "\n",
       "    .dataframe thead th {\n",
       "        text-align: right;\n",
       "    }\n",
       "</style>\n",
       "<table border=\"1\" class=\"dataframe\">\n",
       "  <thead>\n",
       "    <tr style=\"text-align: right;\">\n",
       "      <th></th>\n",
       "      <th>user_id</th>\n",
       "      <th>movie_id</th>\n",
       "      <th>count</th>\n",
       "      <th>timestamp</th>\n",
       "    </tr>\n",
       "  </thead>\n",
       "  <tbody>\n",
       "    <tr>\n",
       "      <th>0</th>\n",
       "      <td>1</td>\n",
       "      <td>1193</td>\n",
       "      <td>5</td>\n",
       "      <td>978300760</td>\n",
       "    </tr>\n",
       "    <tr>\n",
       "      <th>1</th>\n",
       "      <td>1</td>\n",
       "      <td>661</td>\n",
       "      <td>3</td>\n",
       "      <td>978302109</td>\n",
       "    </tr>\n",
       "    <tr>\n",
       "      <th>2</th>\n",
       "      <td>1</td>\n",
       "      <td>914</td>\n",
       "      <td>3</td>\n",
       "      <td>978301968</td>\n",
       "    </tr>\n",
       "    <tr>\n",
       "      <th>3</th>\n",
       "      <td>1</td>\n",
       "      <td>3408</td>\n",
       "      <td>4</td>\n",
       "      <td>978300275</td>\n",
       "    </tr>\n",
       "    <tr>\n",
       "      <th>4</th>\n",
       "      <td>1</td>\n",
       "      <td>2355</td>\n",
       "      <td>5</td>\n",
       "      <td>978824291</td>\n",
       "    </tr>\n",
       "    <tr>\n",
       "      <th>...</th>\n",
       "      <td>...</td>\n",
       "      <td>...</td>\n",
       "      <td>...</td>\n",
       "      <td>...</td>\n",
       "    </tr>\n",
       "    <tr>\n",
       "      <th>1000203</th>\n",
       "      <td>6040</td>\n",
       "      <td>1090</td>\n",
       "      <td>3</td>\n",
       "      <td>956715518</td>\n",
       "    </tr>\n",
       "    <tr>\n",
       "      <th>1000205</th>\n",
       "      <td>6040</td>\n",
       "      <td>1094</td>\n",
       "      <td>5</td>\n",
       "      <td>956704887</td>\n",
       "    </tr>\n",
       "    <tr>\n",
       "      <th>1000206</th>\n",
       "      <td>6040</td>\n",
       "      <td>562</td>\n",
       "      <td>5</td>\n",
       "      <td>956704746</td>\n",
       "    </tr>\n",
       "    <tr>\n",
       "      <th>1000207</th>\n",
       "      <td>6040</td>\n",
       "      <td>1096</td>\n",
       "      <td>4</td>\n",
       "      <td>956715648</td>\n",
       "    </tr>\n",
       "    <tr>\n",
       "      <th>1000208</th>\n",
       "      <td>6040</td>\n",
       "      <td>1097</td>\n",
       "      <td>4</td>\n",
       "      <td>956715569</td>\n",
       "    </tr>\n",
       "  </tbody>\n",
       "</table>\n",
       "<p>836478 rows × 4 columns</p>\n",
       "</div>"
      ],
      "text/plain": [
       "         user_id  movie_id  count  timestamp\n",
       "0              1      1193      5  978300760\n",
       "1              1       661      3  978302109\n",
       "2              1       914      3  978301968\n",
       "3              1      3408      4  978300275\n",
       "4              1      2355      5  978824291\n",
       "...          ...       ...    ...        ...\n",
       "1000203     6040      1090      3  956715518\n",
       "1000205     6040      1094      5  956704887\n",
       "1000206     6040       562      5  956704746\n",
       "1000207     6040      1096      4  956715648\n",
       "1000208     6040      1097      4  956715569\n",
       "\n",
       "[836478 rows x 4 columns]"
      ]
     },
     "execution_count": 11,
     "metadata": {},
     "output_type": "execute_result"
    }
   ],
   "source": [
    "# indexing을 통해 데이터 컬럼 내 값을 바꾸는 코드\n",
    "# user_to_idx.get을 통해 user_id 컬럼의 모든 값을 인덱싱한 Series를 구한다.\n",
    "# 혹시 정상적으로 인덱싱되지 않은 행이 있다면 인덱스가 NaN이 되니 dropna()로 제거한다.\n",
    "temp_user_data = movies_data[\"user_id\"].map(user_to_idx.get).dropna()\n",
    "if len(temp_user_data) == len(movies_data):\n",
    "    print(\"user_id column indexing OK!\")\n",
    "    movies_data[\"user_id\"] = temp_user_data\n",
    "else:\n",
    "    print(\"user_id column indexing Fail!\")\n",
    "\n",
    "# movie_to_idx을 통해 movie_id 컬럼도 동일한 방식으로 인덱싱을 해준다.\n",
    "temp_movie_data = movies_data[\"title\"].map(movie_to_idx.get).dropna()\n",
    "if len(temp_movie_data) == len(movies_data):\n",
    "    print(\"movies_id column indexing OK!\")\n",
    "    movies_data[\"title\"] = temp_movie_data\n",
    "else:\n",
    "    print(\"movies_id column indexing Fail!\")\n",
    "    \n",
    "ratings"
   ]
  },
  {
   "cell_type": "markdown",
   "id": "technological-territory",
   "metadata": {},
   "source": [
    "#### CSR matrix를 직접 만들어 봅시다."
   ]
  },
  {
   "cell_type": "code",
   "execution_count": 12,
   "id": "manual-bullet",
   "metadata": {},
   "outputs": [
    {
     "data": {
      "text/plain": [
       "<6040x3633 sparse matrix of type '<class 'numpy.int64'>'\n",
       "\twith 836483 stored elements in Compressed Sparse Row format>"
      ]
     },
     "execution_count": 12,
     "metadata": {},
     "output_type": "execute_result"
    }
   ],
   "source": [
    "num_user  = movies_data[\"user_id\"].nunique()\n",
    "num_movie = movies_data[\"title\"].nunique()\n",
    "\n",
    "csr_data  = csr_matrix((movies_data[\"count\"], (movies_data.user_id, movies_data.title)), shape = (num_user, num_movie))\n",
    "csr_data"
   ]
  },
  {
   "cell_type": "code",
   "execution_count": 13,
   "id": "automatic-azerbaijan",
   "metadata": {},
   "outputs": [],
   "source": [
    "# implicit 라이브러리에서 권장하고 있는 부분이다.\n",
    "os.environ[\"OPENBLAS_NUM_THREADS\"] = \"1\"\n",
    "os.environ[\"KMP_DUPLICATE_LIB_OK\"] = \"True\"\n",
    "os.environ[\"MKL_NUM_THREADS\"]      = \"1\""
   ]
  },
  {
   "cell_type": "code",
   "execution_count": 14,
   "id": "massive-regression",
   "metadata": {},
   "outputs": [],
   "source": [
    "# # Implicit AlternatingLeastSquares 모델 선언\n",
    "# factors : 유저와 아이템의 벡터를 몇 차원으로 할 것인지 정한다. default = 100\n",
    "# regularization : 과적합을 방지하기 위해 정규화 값을 얼마나 사용할 것인지 정한다. default = 0.01\n",
    "# use_gpu : GPU를 사용할 것인지 정한다. default = False\n",
    "# iterations : epochs와 같은 의미로 데이터를 몇 번 반복해서 학습할 것인지 정한다. default = 15\n",
    "# factors, iterations를 늘릴수록 학습데이터를 잘 학습하게 되지만 과적합의 우려가 있으므로 적절한 값을 찾아야 한다.\n",
    "als_model = AlternatingLeastSquares(factors = 5000, regularization = 0.01, use_gpu = False, iterations = 20, dtype = np.float32)"
   ]
  },
  {
   "cell_type": "code",
   "execution_count": 15,
   "id": "suspended-tyler",
   "metadata": {},
   "outputs": [
    {
     "data": {
      "text/plain": [
       "<3633x6040 sparse matrix of type '<class 'numpy.int64'>'\n",
       "\twith 836483 stored elements in Compressed Sparse Column format>"
      ]
     },
     "execution_count": 15,
     "metadata": {},
     "output_type": "execute_result"
    }
   ],
   "source": [
    "# als 모델은 input으로 (item X user 꼴의 matrix를 받기 때문에 Transpose해준다.)\n",
    "csr_data_transpose = csr_data.T\n",
    "csr_data_transpose"
   ]
  },
  {
   "cell_type": "code",
   "execution_count": 16,
   "id": "rocky-writer",
   "metadata": {},
   "outputs": [
    {
     "data": {
      "application/vnd.jupyter.widget-view+json": {
       "model_id": "d0d64425a3164a10a70c0181314a08fa",
       "version_major": 2,
       "version_minor": 0
      },
      "text/plain": [
       "  0%|          | 0/20 [00:00<?, ?it/s]"
      ]
     },
     "metadata": {},
     "output_type": "display_data"
    }
   ],
   "source": [
    "# model 훈련\n",
    "als_model.fit(csr_data_transpose)"
   ]
  },
  {
   "cell_type": "code",
   "execution_count": 17,
   "id": "elegant-whale",
   "metadata": {},
   "outputs": [],
   "source": [
    "# my와 sabrina의 벡터를 어떻게 만들었는지 확인하기\n",
    "my, warcraft               = user_to_idx[\"my\"], movie_to_idx[\"Warcraft (2015)\"]           # my와 warcraft의 value를 꺼내온다.\n",
    "my_vector, warcraft_vector = als_model.user_factors[my], als_model.item_factors[warcraft] # 훈련된 모델에 my와 warcraft에 해당하는 벡터를 꺼내온다."
   ]
  },
  {
   "cell_type": "code",
   "execution_count": 18,
   "id": "raised-wallace",
   "metadata": {
    "scrolled": true
   },
   "outputs": [
    {
     "data": {
      "text/plain": [
       "array([ 0.03005343, -0.21316122, -0.23139833, ..., -0.31946602,\n",
       "       -0.13583732,  0.07448628], dtype=float32)"
      ]
     },
     "execution_count": 18,
     "metadata": {},
     "output_type": "execute_result"
    }
   ],
   "source": [
    "# my의 벡터\n",
    "my_vector"
   ]
  },
  {
   "cell_type": "code",
   "execution_count": 19,
   "id": "relevant-twins",
   "metadata": {},
   "outputs": [
    {
     "data": {
      "text/plain": [
       "array([ 0.00607311,  0.00389295,  0.00248817, ..., -0.00042185,\n",
       "        0.00718522,  0.00568625], dtype=float32)"
      ]
     },
     "execution_count": 19,
     "metadata": {},
     "output_type": "execute_result"
    }
   ],
   "source": [
    "# warcraft의 벡터\n",
    "warcraft_vector"
   ]
  },
  {
   "cell_type": "code",
   "execution_count": 20,
   "id": "hidden-vault",
   "metadata": {},
   "outputs": [
    {
     "data": {
      "text/plain": [
       "0.93805957"
      ]
     },
     "execution_count": 20,
     "metadata": {},
     "output_type": "execute_result"
    }
   ],
   "source": [
    "# my와 warcraft의 벡터를 곱하면 무슨값이 나오는지 확인하기\n",
    "np.dot(my_vector, warcraft_vector)"
   ]
  },
  {
   "cell_type": "code",
   "execution_count": 21,
   "id": "missing-teddy",
   "metadata": {},
   "outputs": [
    {
     "data": {
      "text/plain": [
       "0.9344188"
      ]
     },
     "execution_count": 21,
     "metadata": {},
     "output_type": "execute_result"
    }
   ],
   "source": [
    "# 다른 영화를 내가 좋아할까?\n",
    "other        = movie_to_idx[\"Aladdin (2019)\"]\n",
    "other_vector = als_model.item_factors[other]\n",
    "np.dot(my_vector, other_vector)"
   ]
  },
  {
   "cell_type": "markdown",
   "id": "another-sheep",
   "metadata": {},
   "source": [
    "#### 내가 좋아하는 영화와 비슷한 영화를 추천받기"
   ]
  },
  {
   "cell_type": "code",
   "execution_count": 22,
   "id": "packed-siemens",
   "metadata": {},
   "outputs": [],
   "source": [
    "# movie_id와 movie_to_idx를 이용하여 영화 이름을 얻는다.\n",
    "idx_to_movie = {v:k for k, v in movie_to_idx.items()} # als_model.similar_items에서 나오는 값을 이용하기 위해 idx_to_movie를 만들어준다.\n",
    "\n",
    "# 영화를 넣으면 유사한 영화를 추천하는 함수를 만든다.\n",
    "def get_similar_movie(movie_name : str):\n",
    "    movie_id      = movie_to_idx[movie_name]\n",
    "    similar_movie = als_model.similar_items(movie_id) # 나오는 값은 (movie_id, 유사도)의 형태인 tuple이 반환된다.\n",
    "    similar_movie = [idx_to_movie[i[0]] for i in similar_movie] # 나온 값(유사도가 높은 movie_id순으로 된)을 movie 이름으로 바꿔준다.\n",
    "    return similar_movie"
   ]
  },
  {
   "cell_type": "code",
   "execution_count": 23,
   "id": "charged-ability",
   "metadata": {},
   "outputs": [
    {
     "data": {
      "text/plain": [
       "['Warcraft (2015)',\n",
       " 'little city (1998)',\n",
       " 'Harry Potter And The Deathly Hallows: Part 2 (2011)',\n",
       " 'second best (1994)',\n",
       " 'Aladdin (2019)',\n",
       " 'bluebeard (1944)',\n",
       " 'The Chronicles of Narnia: The Lion, the Witch and the Wardrobe (2005)',\n",
       " 'beauty (1998)',\n",
       " 'joyriders, the (1999)',\n",
       " 'The Hunger Games: Mockingjay - Part 2 (2015)']"
      ]
     },
     "execution_count": 23,
     "metadata": {},
     "output_type": "execute_result"
    }
   ],
   "source": [
    "# 영화를 추천받아보자\n",
    "get_similar_movie(\"Warcraft (2015)\")"
   ]
  },
  {
   "cell_type": "markdown",
   "id": "headed-gathering",
   "metadata": {},
   "source": [
    "#### 유저에게 영화 추천하기"
   ]
  },
  {
   "cell_type": "code",
   "execution_count": 24,
   "id": "proprietary-surfing",
   "metadata": {},
   "outputs": [
    {
     "data": {
      "text/plain": [
       "['murder! (1930)',\n",
       " 'ulysses (ulisse) (1954)',\n",
       " 'rent-a-kid (1995)',\n",
       " 'condition red (1995)',\n",
       " 'dangerous ground (1997)',\n",
       " 'fever pitch (1997)',\n",
       " \"white man's burden (1995)\",\n",
       " 'adrenalin: fear the rush (1996)',\n",
       " 'chill factor (1999)',\n",
       " 'go now (1995)',\n",
       " 'tough guys (1986)',\n",
       " 'larger than life (1996)',\n",
       " 'machine, the (1994)',\n",
       " 'schlafes bruder (brother of sleep) (1995)',\n",
       " 'man from down under, the (1943)']"
      ]
     },
     "execution_count": 24,
     "metadata": {},
     "output_type": "execute_result"
    }
   ],
   "source": [
    "user = user_to_idx[\"my\"]\n",
    "\n",
    "# recommend에서는 user * item CSR Matrix를 받습니다.\n",
    "\n",
    "# 나오는 값은 (movie_id, 유사도)의 형태인 tuple이 반환된다.\n",
    "movie_recommend = als_model.recommend(user, csr_data, N = 15, filter_already_liked_items = True) \n",
    "\n",
    "# 나온 값(유사도가 높은 movie_id순으로 된)을 movie 이름으로 바꿔준다. \n",
    "[idx_to_movie[i[0]] for i in movie_recommend]"
   ]
  },
  {
   "cell_type": "code",
   "execution_count": 27,
   "id": "measured-fisher",
   "metadata": {},
   "outputs": [
    {
     "data": {
      "text/plain": [
       "[('The Chronicles of Narnia: The Lion, the Witch and the Wardrobe (2005)',\n",
       "  0.011061408161239947),\n",
       " ('Harry Potter And The Deathly Hallows: Part 2 (2011)', 0.008213900501744384),\n",
       " ('Aladdin (2019)', 0.005436494314643714),\n",
       " ('The Hunger Games: Mockingjay - Part 2 (2015)', 0.004610221687627557),\n",
       " ('Warcraft (2015)', 0.002251436114249338)]"
      ]
     },
     "execution_count": 27,
     "metadata": {},
     "output_type": "execute_result"
    }
   ],
   "source": [
    "# 추천해준 값 중 첫번째 것을 왜 추천해줬는지 궁금하다.\n",
    "# 기록을 남긴 데이터 중 이 추천에 기여한 정도를 확인한다.\n",
    "first_recommend = movie_to_idx[\"murder! (1930)\"]\n",
    "explain         = als_model.explain(user, csr_data, itemid = first_recommend)\n",
    "\n",
    "# 추천한 콘텐츠의 점수에 기여한 다른 콘텐츠와 기여도(합이 콘텐츠의 점수가 된다)를 반환한다.\n",
    "[(idx_to_movie[i[0]], i[1]) for i in explain[1]]"
   ]
  },
  {
   "cell_type": "markdown",
   "id": "compressed-advancement",
   "metadata": {},
   "source": [
    "#### 회고록"
   ]
  },
  {
   "cell_type": "code",
   "execution_count": 26,
   "id": "certified-radar",
   "metadata": {},
   "outputs": [],
   "source": [
    "# 실습 데이터는 2개가 있었고, 그 중 rating 문서를 기반으로 실습이 진행된 것 같음.\n",
    "# 문제는 영화 제목은 movie 문서에 있었는데 rating만 가지고 실습을 하다보니 영화 제목이 글자가 아닌 숫자로 나옴.\n",
    "# 어떻게 이 문제를 해결할까 고민하던 중 두 문서를 merge하는 방법을 떠올려서 잘 합쳤으나, 실습결과 똑같이 숫자가 나옴.\n",
    "# 멍청하게도 바꾼 문서에서 title을 가지고 진행했어야하나, 아직도 movie_id를 가지고 코드를 구현해서 제목이 안 나왔었음.\n",
    "# 코드를 바꾸고, 합친 문서를 가지고 실습한 결과 내가 원하는대로 추천알고리즘의 결과가 영화 제목으로 잘 나옴.\n",
    "# 또한, 노드처럼 말고 내가 좋아하는 영화에 대한 정보를 DataFrame에 맞게 넣고 싶어서 9번 셀에 영화 정보를 자세하게 추가함.\n",
    "# 그리고 모델 학습에서 factors의 값을 4자리 수까지 올려서 학습을 했더니 내가 본 영화와 나의 행렬 내적 값이 0.9점대 이상으로 올라감.\n",
    "# 내가 추가한 다른 영화와 나와 어떠한지 값을 비교해보니 0.9점대로 높게 나왔다.\n",
    "# 그리고 내가 본 영화와 비슷한 것을 추천 받아보니 비슷한 것들이 나온듯 하다.\n",
    "# 추천해준 영화 중 첫번째 영화에 기여도가 높은 영화들을 보니 내가 추가한 것 5개가 나왔다."
   ]
  }
 ],
 "metadata": {
  "kernelspec": {
   "display_name": "Python 3",
   "language": "python",
   "name": "python3"
  },
  "language_info": {
   "codemirror_mode": {
    "name": "ipython",
    "version": 3
   },
   "file_extension": ".py",
   "mimetype": "text/x-python",
   "name": "python",
   "nbconvert_exporter": "python",
   "pygments_lexer": "ipython3",
   "version": "3.7.9"
  }
 },
 "nbformat": 4,
 "nbformat_minor": 5
}
