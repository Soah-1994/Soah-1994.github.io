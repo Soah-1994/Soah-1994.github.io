{
 "cells": [
  {
   "cell_type": "code",
   "execution_count": 506,
   "metadata": {},
   "outputs": [],
   "source": [
    "# 패키지 로딩하기\n",
    "import numpy as np\n",
    "import matplotlib.pyplot as plt\n",
    "import tensorflow as tf\n",
    "from PIL import Image\n",
    "import os, glob"
   ]
  },
  {
   "cell_type": "code",
   "execution_count": 668,
   "metadata": {},
   "outputs": [],
   "source": [
    "# 하이퍼파라미터 설정하기\n",
    "learning_rate   = 0.001\n",
    "training_epochs = 30"
   ]
  },
  {
   "cell_type": "code",
   "execution_count": 508,
   "metadata": {},
   "outputs": [],
   "source": [
    "# 데이터 불러오는 함수 만들기 : lms에서 인용함\n",
    "def load_data(img_path):\n",
    "    # 가위 : 0, 바위 : 1, 보 : 2\n",
    "    number_of_data = 300   # 가위바위보 이미지 개수 총합에 주의하세요.\n",
    "    img_size       = 28\n",
    "    color          = 3\n",
    "    \n",
    "    #이미지 데이터와 라벨(가위 : 0, 바위 : 1, 보 : 2) 데이터를 담을 행렬(matrix) 영역을 생성합니다.\n",
    "    imgs   = np.zeros(number_of_data * img_size * img_size * color, dtype = np.int32).reshape(number_of_data, img_size, img_size,color)\n",
    "    labels = np.zeros(number_of_data, dtype = np.int32)\n",
    "    \n",
    "    idx = 0\n",
    "    for file in glob.iglob(img_path + '/scissor/*.jpg'):\n",
    "        img             = np.array(Image.open(file), dtype = np.int32)\n",
    "        imgs[idx,:,:,:] = img    # 데이터 영역에 이미지 행렬을 복사\n",
    "        labels[idx]     = 0      # 가위 : 0\n",
    "        idx             = idx + 1\n",
    "\n",
    "    for file in glob.iglob(img_path + '/rock/*.jpg'):\n",
    "        img             = np.array(Image.open(file), dtype = np.int32)\n",
    "        imgs[idx,:,:,:] = img    # 데이터 영역에 이미지 행렬을 복사\n",
    "        labels[idx]     = 1      # 바위 : 1\n",
    "        idx             = idx + 1       \n",
    "    \n",
    "    for file in glob.iglob(img_path + '/paper/*.jpg'):\n",
    "        img             = np.array(Image.open(file),dtype = np.int32)\n",
    "        imgs[idx,:,:,:] = img    # 데이터 영역에 이미지 행렬을 복사\n",
    "        labels[idx]     = 2      # 보 : 2\n",
    "        idx             = idx + 1\n",
    "        \n",
    "    print(\"데이터의 이미지 개수는\",idx,\"입니다.\")\n",
    "    return imgs, labels"
   ]
  },
  {
   "cell_type": "code",
   "execution_count": 509,
   "metadata": {
    "scrolled": true
   },
   "outputs": [
    {
     "name": "stdout",
     "output_type": "stream",
     "text": [
      "데이터의 이미지 개수는 300 입니다.\n",
      "데이터의 이미지 개수는 300 입니다.\n",
      "데이터의 이미지 개수는 300 입니다.\n",
      "데이터의 이미지 개수는 300 입니다.\n",
      "데이터의 이미지 개수는 300 입니다.\n",
      "데이터의 이미지 개수는 300 입니다.\n"
     ]
    }
   ],
   "source": [
    "# 훈련데이터 불러오기\n",
    "(x_train1, y_train1) = load_data(\"aiffel/traning1_rock_scissor_paper\")\n",
    "(x_train2, y_train2) = load_data(\"aiffel/traning2_rock_scissor_paper\")\n",
    "(x_train3, y_train3) = load_data(\"aiffel/traning3_rock_scissor_paper\")\n",
    "(x_train4, y_train4) = load_data(\"aiffel/traning4_rock_scissor_paper\")\n",
    "(x_train5, y_train5) = load_data(\"aiffel/traning5_rock_scissor_paper\")\n",
    "(x_train6, y_train6) = load_data(\"aiffel/traning6_rock_scissor_paper\")"
   ]
  },
  {
   "cell_type": "code",
   "execution_count": 510,
   "metadata": {},
   "outputs": [
    {
     "name": "stdout",
     "output_type": "stream",
     "text": [
      "1800 1800\n"
     ]
    }
   ],
   "source": [
    "# 훈련데이터 합치기\n",
    "x_train = np.concatenate([x_train1, x_train2, x_train3, x_train4, x_train5, x_train6])\n",
    "y_train = np.concatenate([y_train1, y_train2, y_train3, y_train4, y_train5, y_train6])\n",
    "print(len(x_train), len(y_train))"
   ]
  },
  {
   "cell_type": "code",
   "execution_count": 511,
   "metadata": {
    "scrolled": true
   },
   "outputs": [
    {
     "name": "stdout",
     "output_type": "stream",
     "text": [
      "데이터의 이미지 개수는 300 입니다.\n",
      "데이터의 이미지 개수는 300 입니다.\n",
      "데이터의 이미지 개수는 300 입니다.\n",
      "데이터의 이미지 개수는 300 입니다.\n"
     ]
    }
   ],
   "source": [
    "# test데이터 불러오기\n",
    "(x_test1, y_test1) = load_data(\"aiffel/test1_rock_scissor_paper\")\n",
    "(x_test2, y_test2) = load_data(\"aiffel/test2_rock_scissor_paper\")\n",
    "(x_test3, y_test3) = load_data(\"aiffel/test3_rock_scissor_paper\")\n",
    "(x_test4, y_test4) = load_data(\"aiffel/test4_rock_scissor_paper\")"
   ]
  },
  {
   "cell_type": "code",
   "execution_count": 512,
   "metadata": {},
   "outputs": [],
   "source": [
    "# 데이터 정규화 하기\n",
    "x_train_normal  = x_train / 255.0  # 훈련 데이터\n",
    "x_test1_normal  = x_test1 / 255.0  # test1 데이터\n",
    "x_test2_normal  = x_test2 / 255.0  # test2 데이터\n",
    "x_test3_normal  = x_test3 / 255.0  # test3 데이터\n",
    "x_test4_normal  = x_test4 / 255.0  # test4 데이터"
   ]
  },
  {
   "cell_type": "code",
   "execution_count": 513,
   "metadata": {},
   "outputs": [
    {
     "name": "stdout",
     "output_type": "stream",
     "text": [
      "0.0 1.0\n",
      "0.00784313725490196 1.0\n",
      "0.0 1.0\n",
      "0.00784313725490196 1.0\n",
      "0.027450980392156862 0.9686274509803922\n"
     ]
    }
   ],
   "source": [
    "# 정규화 확인하기\n",
    "print(np.min(x_train_normal), np.max(x_train_normal))   # 훈련 데이터\n",
    "print(np.min(x_test1_normal), np.max(x_test1_normal))   # test1 데이터\n",
    "print(np.min(x_test2_normal), np.max(x_test2_normal))   # test2 데이터\n",
    "print(np.min(x_test3_normal), np.max(x_test3_normal))   # test3 데이터\n",
    "print(np.min(x_test4_normal), np.max(x_test4_normal))   # test4 데이터"
   ]
  },
  {
   "cell_type": "code",
   "execution_count": 514,
   "metadata": {},
   "outputs": [
    {
     "name": "stdout",
     "output_type": "stream",
     "text": [
      "(1800, 28, 28, 3)\n",
      "(1800,)\n",
      "(300, 28, 28, 3)\n",
      "(300,)\n",
      "(300, 28, 28, 3)\n",
      "(300,)\n",
      "(300, 28, 28, 3)\n",
      "(300,)\n",
      "(300, 28, 28, 3)\n",
      "(300,)\n"
     ]
    }
   ],
   "source": [
    "# 불러온 데이터 shape 확인하기\n",
    "# (데이터 갯수, 가로, 세로, 깊이(색깔이 흑백이면 1, 컬러면 RGB를 뜻하는 3)\n",
    "\n",
    "# 훈련 데이터\n",
    "print(x_train_normal.shape)\n",
    "print(y_train.shape)\n",
    "# test1 데이터\n",
    "print(x_test1_normal.shape)\n",
    "print(y_test1.shape)\n",
    "# test2 데이터\n",
    "print(x_test2_normal.shape)\n",
    "print(y_test2.shape)\n",
    "# test3 데이터\n",
    "print(x_test3_normal.shape)\n",
    "print(y_test3.shape)\n",
    "# test4 데이터\n",
    "print(x_test4_normal.shape)\n",
    "print(y_test4.shape)"
   ]
  },
  {
   "cell_type": "code",
   "execution_count": 669,
   "metadata": {},
   "outputs": [
    {
     "name": "stdout",
     "output_type": "stream",
     "text": [
      "Model: \"sequential_96\"\n",
      "_________________________________________________________________\n",
      "Layer (type)                 Output Shape              Param #   \n",
      "=================================================================\n",
      "conv2d_309 (Conv2D)          (None, 26, 26, 64)        1792      \n",
      "_________________________________________________________________\n",
      "max_pooling2d_297 (MaxPoolin (None, 26, 26, 64)        0         \n",
      "_________________________________________________________________\n",
      "dropout_53 (Dropout)         (None, 26, 26, 64)        0         \n",
      "_________________________________________________________________\n",
      "conv2d_310 (Conv2D)          (None, 24, 24, 64)        36928     \n",
      "_________________________________________________________________\n",
      "max_pooling2d_298 (MaxPoolin (None, 12, 12, 64)        0         \n",
      "_________________________________________________________________\n",
      "dropout_54 (Dropout)         (None, 12, 12, 64)        0         \n",
      "_________________________________________________________________\n",
      "conv2d_311 (Conv2D)          (None, 10, 10, 128)       73856     \n",
      "_________________________________________________________________\n",
      "max_pooling2d_299 (MaxPoolin (None, 5, 5, 128)         0         \n",
      "_________________________________________________________________\n",
      "dropout_55 (Dropout)         (None, 5, 5, 128)         0         \n",
      "_________________________________________________________________\n",
      "conv2d_312 (Conv2D)          (None, 3, 3, 128)         147584    \n",
      "_________________________________________________________________\n",
      "max_pooling2d_300 (MaxPoolin (None, 1, 1, 128)         0         \n",
      "_________________________________________________________________\n",
      "dropout_56 (Dropout)         (None, 1, 1, 128)         0         \n",
      "_________________________________________________________________\n",
      "flatten_84 (Flatten)         (None, 128)               0         \n",
      "_________________________________________________________________\n",
      "dropout_57 (Dropout)         (None, 128)               0         \n",
      "_________________________________________________________________\n",
      "dense_120 (Dense)            (None, 512)               66048     \n",
      "_________________________________________________________________\n",
      "dense_121 (Dense)            (None, 3)                 1539      \n",
      "=================================================================\n",
      "Total params: 327,747\n",
      "Trainable params: 327,747\n",
      "Non-trainable params: 0\n",
      "_________________________________________________________________\n"
     ]
    }
   ],
   "source": [
    "# 모델 만들기\n",
    "\n",
    "# 모델 생성\n",
    "tf_model = tf.keras.Sequential()\n",
    "# 계층 1\n",
    "tf_model.add(tf.keras.layers.Conv2D(filters = 64, kernel_size = (3, 3), input_shape = (28, 28, 3), activation = \"relu\"))\n",
    "tf_model.add(tf.keras.layers.MaxPooling2D(pool_size = (1, 1)))\n",
    "tf_model.add(tf.keras.layers.Dropout(0.3))\n",
    "# 계층 2\n",
    "tf_model.add(tf.keras.layers.Conv2D(filters = 64, kernel_size = (3, 3), activation = \"relu\"))\n",
    "tf_model.add(tf.keras.layers.MaxPooling2D(pool_size = (2, 2)))\n",
    "tf_model.add(tf.keras.layers.Dropout(0.3))\n",
    "# 계층 3\n",
    "tf_model.add(tf.keras.layers.Conv2D(filters = 128, kernel_size = (3, 3), activation = \"relu\"))\n",
    "tf_model.add(tf.keras.layers.MaxPooling2D(pool_size = (2, 2)))\n",
    "tf_model.add(tf.keras.layers.Dropout(0.3))\n",
    "# 계층 4\n",
    "tf_model.add(tf.keras.layers.Conv2D(filters = 128, kernel_size = (3, 3), activation = \"relu\"))\n",
    "tf_model.add(tf.keras.layers.MaxPooling2D(pool_size = (2, 2)))\n",
    "tf_model.add(tf.keras.layers.Dropout(0.3))\n",
    "# 계층 5\n",
    "tf_model.add(tf.keras.layers.Flatten())\n",
    "tf_model.add(tf.keras.layers.Dropout(0.3))\n",
    "tf_model.add(tf.keras.layers.Dense(units = 512, activation = \"relu\"))\n",
    "tf_model.add(tf.keras.layers.Dense(units = 3, activation = \"softmax\"))\n",
    "\n",
    "# 모델 확인하기\n",
    "tf_model.summary()"
   ]
  },
  {
   "cell_type": "code",
   "execution_count": 670,
   "metadata": {},
   "outputs": [],
   "source": [
    "# 모델 Loss, Optimizer, Metrics 설정하기\n",
    "tf_model.compile(loss = \"sparse_categorical_crossentropy\", optimizer = tf.keras.optimizers.Adam(), metrics = [\"accuracy\"])"
   ]
  },
  {
   "cell_type": "code",
   "execution_count": 671,
   "metadata": {
    "scrolled": true
   },
   "outputs": [
    {
     "name": "stdout",
     "output_type": "stream",
     "text": [
      "Epoch 1/30\n",
      "57/57 [==============================] - 0s 4ms/step - loss: 1.1048 - accuracy: 0.3472\n",
      "Epoch 2/30\n",
      "57/57 [==============================] - 0s 3ms/step - loss: 1.0994 - accuracy: 0.3311\n",
      "Epoch 3/30\n",
      "57/57 [==============================] - 0s 3ms/step - loss: 1.0991 - accuracy: 0.3456\n",
      "Epoch 4/30\n",
      "57/57 [==============================] - 0s 3ms/step - loss: 1.0649 - accuracy: 0.4111\n",
      "Epoch 5/30\n",
      "57/57 [==============================] - 0s 3ms/step - loss: 0.9841 - accuracy: 0.4878\n",
      "Epoch 6/30\n",
      "57/57 [==============================] - 0s 3ms/step - loss: 0.8692 - accuracy: 0.5844\n",
      "Epoch 7/30\n",
      "57/57 [==============================] - 0s 3ms/step - loss: 0.7035 - accuracy: 0.6617\n",
      "Epoch 8/30\n",
      "57/57 [==============================] - 0s 3ms/step - loss: 0.5587 - accuracy: 0.7378\n",
      "Epoch 9/30\n",
      "57/57 [==============================] - 0s 3ms/step - loss: 0.5414 - accuracy: 0.7494\n",
      "Epoch 10/30\n",
      "57/57 [==============================] - 0s 3ms/step - loss: 0.4048 - accuracy: 0.8233\n",
      "Epoch 11/30\n",
      "57/57 [==============================] - 0s 3ms/step - loss: 0.3256 - accuracy: 0.8556\n",
      "Epoch 12/30\n",
      "57/57 [==============================] - 0s 3ms/step - loss: 0.2834 - accuracy: 0.8978\n",
      "Epoch 13/30\n",
      "57/57 [==============================] - 0s 3ms/step - loss: 0.2389 - accuracy: 0.9111\n",
      "Epoch 14/30\n",
      "57/57 [==============================] - 0s 3ms/step - loss: 0.1725 - accuracy: 0.9394\n",
      "Epoch 15/30\n",
      "57/57 [==============================] - 0s 3ms/step - loss: 0.1840 - accuracy: 0.9306\n",
      "Epoch 16/30\n",
      "57/57 [==============================] - 0s 3ms/step - loss: 0.1690 - accuracy: 0.9339\n",
      "Epoch 17/30\n",
      "57/57 [==============================] - 0s 3ms/step - loss: 0.1612 - accuracy: 0.9400\n",
      "Epoch 18/30\n",
      "57/57 [==============================] - 0s 3ms/step - loss: 0.1271 - accuracy: 0.9522\n",
      "Epoch 19/30\n",
      "57/57 [==============================] - 0s 3ms/step - loss: 0.1124 - accuracy: 0.9622\n",
      "Epoch 20/30\n",
      "57/57 [==============================] - 0s 3ms/step - loss: 0.0778 - accuracy: 0.9750\n",
      "Epoch 21/30\n",
      "57/57 [==============================] - 0s 3ms/step - loss: 0.0822 - accuracy: 0.9744\n",
      "Epoch 22/30\n",
      "57/57 [==============================] - 0s 3ms/step - loss: 0.0717 - accuracy: 0.9772\n",
      "Epoch 23/30\n",
      "57/57 [==============================] - 0s 3ms/step - loss: 0.0592 - accuracy: 0.9844\n",
      "Epoch 24/30\n",
      "57/57 [==============================] - 0s 3ms/step - loss: 0.0770 - accuracy: 0.9744\n",
      "Epoch 25/30\n",
      "57/57 [==============================] - 0s 3ms/step - loss: 0.0725 - accuracy: 0.9811\n",
      "Epoch 26/30\n",
      "57/57 [==============================] - 0s 3ms/step - loss: 0.0611 - accuracy: 0.9806\n",
      "Epoch 27/30\n",
      "57/57 [==============================] - 0s 3ms/step - loss: 0.0440 - accuracy: 0.9883\n",
      "Epoch 28/30\n",
      "57/57 [==============================] - 0s 3ms/step - loss: 0.1092 - accuracy: 0.9628\n",
      "Epoch 29/30\n",
      "57/57 [==============================] - 0s 3ms/step - loss: 0.0694 - accuracy: 0.9789\n",
      "Epoch 30/30\n",
      "57/57 [==============================] - 0s 3ms/step - loss: 0.0498 - accuracy: 0.9856\n"
     ]
    },
    {
     "data": {
      "text/plain": [
       "<tensorflow.python.keras.callbacks.History at 0x7fd9680a3b10>"
      ]
     },
     "execution_count": 671,
     "metadata": {},
     "output_type": "execute_result"
    }
   ],
   "source": [
    "# 모델 훈련하기\n",
    "tf_model.fit(x_train_normal, y_train, epochs = training_epochs)"
   ]
  },
  {
   "cell_type": "code",
   "execution_count": 672,
   "metadata": {},
   "outputs": [
    {
     "name": "stdout",
     "output_type": "stream",
     "text": [
      "10/10 [==============================] - 0s 2ms/step - loss: 1.5263 - accuracy: 0.6233\n",
      "10/10 [==============================] - 0s 2ms/step - loss: 7.8169 - accuracy: 0.6233\n",
      "10/10 [==============================] - 0s 2ms/step - loss: 1.5263 - accuracy: 0.6233\n",
      "10/10 [==============================] - 0s 2ms/step - loss: 1.8371 - accuracy: 0.6667\n"
     ]
    }
   ],
   "source": [
    "# 모델 시험하기\n",
    "evaluation1 = tf_model.evaluate(x_test1_normal, y_test1)\n",
    "evaluation2 = tf_model.evaluate(x_test2_normal, y_test2)\n",
    "evaluation3 = tf_model.evaluate(x_test3_normal, y_test3)\n",
    "evaluation4 = tf_model.evaluate(x_test4_normal, y_test4)"
   ]
  },
  {
   "cell_type": "code",
   "execution_count": null,
   "metadata": {},
   "outputs": [],
   "source": []
  }
 ],
 "metadata": {
  "kernelspec": {
   "display_name": "Python 3",
   "language": "python",
   "name": "python3"
  },
  "language_info": {
   "codemirror_mode": {
    "name": "ipython",
    "version": 3
   },
   "file_extension": ".py",
   "mimetype": "text/x-python",
   "name": "python",
   "nbconvert_exporter": "python",
   "pygments_lexer": "ipython3",
   "version": "3.7.9"
  }
 },
 "nbformat": 4,
 "nbformat_minor": 4
}
