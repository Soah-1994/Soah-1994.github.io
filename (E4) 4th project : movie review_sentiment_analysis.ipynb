{
 "cells": [
  {
   "cell_type": "markdown",
   "metadata": {},
   "source": [
    "## 1. 패키지 및 데이터 준비"
   ]
  },
  {
   "cell_type": "code",
   "execution_count": 133,
   "metadata": {},
   "outputs": [],
   "source": [
    "# 패키지 로딩하기\n",
    "import pandas as pd\n",
    "import numpy as np\n",
    "import tensorflow as tf\n",
    "import matplotlib.pyplot as plt\n",
    "import re\n",
    "import os\n",
    "import urllib.request\n",
    "from konlpy.tag import Okt\n",
    "from tensorflow.keras.preprocessing.text import Tokenizer\n",
    "from tensorflow.keras.preprocessing.sequence import pad_sequences\n",
    "from collections import Counter\n",
    "from konlpy.tag import Mecab\n",
    "import gensim\n",
    "%matplotlib inline"
   ]
  },
  {
   "cell_type": "code",
   "execution_count": 134,
   "metadata": {},
   "outputs": [],
   "source": [
    "# 데이터 불러오기\n",
    "train_data = pd.read_table(\"~/aiffel/sentiment_classification/ratings_train.txt\")\n",
    "test_data  = pd.read_table(\"~/aiffel/sentiment_classification/ratings_test.txt\")"
   ]
  },
  {
   "cell_type": "code",
   "execution_count": 135,
   "metadata": {},
   "outputs": [
    {
     "data": {
      "text/plain": [
       "(150000, 3)"
      ]
     },
     "execution_count": 135,
     "metadata": {},
     "output_type": "execute_result"
    }
   ],
   "source": [
    "# train_data 확인하기\n",
    "train_data.shape"
   ]
  },
  {
   "cell_type": "code",
   "execution_count": 136,
   "metadata": {
    "scrolled": true
   },
   "outputs": [
    {
     "data": {
      "text/plain": [
       "(50000, 3)"
      ]
     },
     "execution_count": 136,
     "metadata": {},
     "output_type": "execute_result"
    }
   ],
   "source": [
    "# test_data 확인하기\n",
    "test_data.shape"
   ]
  },
  {
   "cell_type": "markdown",
   "metadata": {},
   "source": [
    "## 2. 데이터 함수 만들기"
   ]
  },
  {
   "cell_type": "code",
   "execution_count": 137,
   "metadata": {},
   "outputs": [],
   "source": [
    "# tokenizer 만들기\n",
    "tokenizer = Mecab()"
   ]
  },
  {
   "cell_type": "code",
   "execution_count": 138,
   "metadata": {},
   "outputs": [],
   "source": [
    "# 불용어 설정하기\n",
    "stopwords = [\"의\", \"가\", \"이\", \"은\", \"들\", \"는\", \"좀\", \"잘\", \"걍\", \"과\", \"도\", \"를\", \"으로\", \"자\", \"에\", \"와\", \"한\", \"하다\"]"
   ]
  },
  {
   "cell_type": "code",
   "execution_count": 139,
   "metadata": {},
   "outputs": [],
   "source": [
    "# load_data 함수 만들기\n",
    "def load_data(train_data, test_data, num_words = 10000):\n",
    "    train_data.drop_duplicates(subset = [\"document\"], inplace = True) # train_data 중복 제거\n",
    "    test_data.drop_duplicates(subset  = [\"document\"], inplace = True) # test_data  중복 제거\n",
    "    train_data = train_data.dropna()                                  # train_data 결측치 제거\n",
    "    test_data  = test_data.dropna()                                   # test_data  결측치 제거\n",
    "    \n",
    "    X_train = []\n",
    "    for sentence in train_data[\"document\"]:\n",
    "        temp_X = tokenizer.morphs(sentence)                           # 토큰화\n",
    "        temp_X = [word for word in temp_X if not word in stopwords]   # 불용어 제거\n",
    "        X_train.append(temp_X)\n",
    "    \n",
    "    X_test = []\n",
    "    for sentence in test_data[\"document\"]:\n",
    "        temp_X = tokenizer.morphs(sentence)                           # 토큰화\n",
    "        temp_X = [word for word in temp_X if not word in stopwords]   # 불용어 제거\n",
    "        X_test.append(temp_X)\n",
    "        \n",
    "    words         = np.concatenate(X_train).tolist()                  # 데이터 결합, 리스트로 전환\n",
    "    counter       = Counter(words)\n",
    "    counter       = counter.most_common(1000 - 4)                     # 갯수가 많은 데이터순으로 정렬\n",
    "    vocab         = [\"<PAD>\", \"<BOS>\", \"<UNK>\", \"<UNUSED>\"] + [key for key, _ in counter]\n",
    "    word_to_index = {word : index for index, word in enumerate(vocab)}\n",
    "    \n",
    "    def wordlist_to_indexlist(wordlist):\n",
    "        return [word_to_index[word] if word in word_to_index else word_to_index[\"<UNK>\"] for word in wordlist]\n",
    "    \n",
    "    X_train = list(map(wordlist_to_indexlist, X_train))\n",
    "    X_test  = list(map(wordlist_to_indexlist, X_test))\n",
    "    \n",
    "    return X_train, np.array(list(train_data[\"label\"])), X_test, np.array(list(test_data[\"label\"])), word_to_index\n",
    "\n",
    "index_to_word = {index : word for word, index in word_to_index.items()}"
   ]
  },
  {
   "cell_type": "code",
   "execution_count": 140,
   "metadata": {},
   "outputs": [],
   "source": [
    "# 데이터 나누기\n",
    "X_train, y_train, X_test, y_test, word_to_index = load_data(train_data, test_data)"
   ]
  },
  {
   "cell_type": "code",
   "execution_count": 141,
   "metadata": {},
   "outputs": [],
   "source": [
    "# 문장 1개를 활용할 딕셔너리와 함께 주면, 단어 인덱스 리스트 벡터로 변환해 주는 함수\n",
    "# 모든 문장은 <BOS>로 시작하게 만듬.\n",
    "def get_encoded_sentence(sentence, word_to_index):\n",
    "    return [word_to_index[\"<BOS>\"] + [word_to_index[word] if word in word_to_index else word_to_index[\"<UNK>\"] for word in sentence.split()]]\n",
    "\n",
    "# 여러개의 문장 리스트를 한꺼번에 단어 인덱스 리스트 벡터로 encode 해주는 함수\n",
    "def get_encoded_sentences(sentences, word_to_index):\n",
    "    return [get_encoded_sentence(sentence, word_to_index) for sentence in sentences]\n",
    "\n",
    "# 숫자 벡터로 encode된 문장을 원래대로 decode하는 함수\n",
    "def get_decoded_sentence(encoded_sentence, index_to_word):\n",
    "    return \"\".join(index_to_word[index] if index in index_to_word else \"<UNK>\" for index in encoded_sentence[1:]) # <BOS>는 제외\n",
    "\n",
    "# 여러개의 숫자 벡터로 encode된 문장을 한꺼번에 원래대로 decode하는 함수\n",
    "def get_decoded_sentences(encoded_sentences, index_to_word):\n",
    "    return [get_decoded_sentence(encoded_sentence, index_to_word) for encoded_sentence in encoded_sentences]"
   ]
  },
  {
   "cell_type": "markdown",
   "metadata": {},
   "source": [
    "## 3. 데이터 분석 및 가공"
   ]
  },
  {
   "cell_type": "code",
   "execution_count": 142,
   "metadata": {},
   "outputs": [
    {
     "name": "stdout",
     "output_type": "stream",
     "text": [
      "평균 : 15.969376315021577\n",
      "최대값 : 116\n",
      "표준편차 : 12.843535456326455\n"
     ]
    }
   ],
   "source": [
    "# pad_sequences를 위한 word vector의 길이 구하기\n",
    "total_data_text = list(X_train) + list(X_test)\n",
    "\n",
    "# text_data 문장길이의 리스트 생성\n",
    "num_tokens = [len(tokens) for tokens in total_data_text]\n",
    "num_tokens = np.array(num_tokens)\n",
    "\n",
    "# 문장길이의 평균, 최대값, 표준편차 구하기\n",
    "print(\"평균 :\",     np.mean(num_tokens))\n",
    "print(\"최대값 :\",   np.max(num_tokens))\n",
    "print(\"표준편차 :\", np.std(num_tokens))"
   ]
  },
  {
   "cell_type": "code",
   "execution_count": 143,
   "metadata": {},
   "outputs": [
    {
     "name": "stdout",
     "output_type": "stream",
     "text": [
      "pad_sequence maxlen : 54\n",
      "전체 문장의 97.20946661956906%가 maxlen 이내에 포함됩니다.\n"
     ]
    }
   ],
   "source": [
    "# maxlen을 정의하고 그 길이 안에 데이터가 몇 %가 있는지를 본 뒤 padding할 길이를 정한다.\n",
    "max_tokens = np.mean(num_tokens) + 3 * np.std(num_tokens)\n",
    "maxlen     = int(max_tokens)\n",
    "print(\"pad_sequence maxlen :\", maxlen)\n",
    "print(\"전체 문장의 {}%가 maxlen 이내에 포함됩니다.\".format(np.sum(num_tokens < max_tokens) / len(num_tokens) * 100))"
   ]
  },
  {
   "cell_type": "code",
   "execution_count": 144,
   "metadata": {},
   "outputs": [
    {
     "name": "stdout",
     "output_type": "stream",
     "text": [
      "X_train : (146182, 54)\n",
      "X_test : (49157, 54)\n"
     ]
    }
   ],
   "source": [
    "# 적절한 maxlen을 구했으니, maxlen에 맞춰 패딩하기\n",
    "X_train = tf.keras.preprocessing.sequence.pad_sequences(X_train, value = word_to_index[\"<PAD>\"], padding = \"pre\", maxlen = maxlen)\n",
    "X_test  = tf.keras.preprocessing.sequence.pad_sequences(X_test,  value = word_to_index[\"<PAD>\"], padding = \"pre\", maxlen = maxlen)\n",
    "print(\"X_train :\", X_train.shape)\n",
    "print(\"X_test :\",  X_test.shape)"
   ]
  },
  {
   "cell_type": "markdown",
   "metadata": {},
   "source": [
    "## 4. 모델구성 및 validation_set 구성"
   ]
  },
  {
   "cell_type": "markdown",
   "metadata": {},
   "source": [
    "### 4_1. 첫 번째 모델 : 1-D CNN"
   ]
  },
  {
   "cell_type": "code",
   "execution_count": 145,
   "metadata": {},
   "outputs": [],
   "source": [
    "vocab_size      = len(word_to_index) # 어휘 사전의 크기\n",
    "word_vector_dim = 54                 # 워드 벡터의 차원수(하이퍼 파라미터)"
   ]
  },
  {
   "cell_type": "code",
   "execution_count": 146,
   "metadata": {
    "scrolled": false
   },
   "outputs": [
    {
     "name": "stdout",
     "output_type": "stream",
     "text": [
      "Model: \"sequential_12\"\n",
      "_________________________________________________________________\n",
      "Layer (type)                 Output Shape              Param #   \n",
      "=================================================================\n",
      "embedding_11 (Embedding)     (None, None, 54)          54000     \n",
      "_________________________________________________________________\n",
      "conv1d_8 (Conv1D)            (None, None, 32)          15584     \n",
      "_________________________________________________________________\n",
      "max_pooling1d_4 (MaxPooling1 (None, None, 32)          0         \n",
      "_________________________________________________________________\n",
      "conv1d_9 (Conv1D)            (None, None, 32)          9248      \n",
      "_________________________________________________________________\n",
      "global_max_pooling1d_7 (Glob (None, 32)                0         \n",
      "_________________________________________________________________\n",
      "dense_22 (Dense)             (None, 8)                 264       \n",
      "_________________________________________________________________\n",
      "dense_23 (Dense)             (None, 1)                 9         \n",
      "=================================================================\n",
      "Total params: 79,105\n",
      "Trainable params: 79,105\n",
      "Non-trainable params: 0\n",
      "_________________________________________________________________\n"
     ]
    }
   ],
   "source": [
    "# model 만들기\n",
    "tf_model = tf.keras.Sequential()\n",
    "# 계층 쌓기\n",
    "tf_model.add(tf.keras.layers.Embedding(vocab_size, word_vector_dim, input_shape = (None,)))\n",
    "tf_model.add(tf.keras.layers.Conv1D(32, 9, activation = \"relu\")) # 변경가능\n",
    "tf_model.add(tf.keras.layers.MaxPooling1D(5))\n",
    "tf_model.add(tf.keras.layers.Conv1D(32, 9, activation = \"relu\")) # 변경가능\n",
    "tf_model.add(tf.keras.layers.GlobalMaxPooling1D())\n",
    "tf_model.add(tf.keras.layers.Dense(8, activation = \"relu\"))      # 변경가능\n",
    "tf_model.add(tf.keras.layers.Dense(1, activation = \"sigmoid\"))   # output이 긍정, 부정이므로 1\n",
    "\n",
    "# model 확인하기\n",
    "tf_model.summary()"
   ]
  },
  {
   "cell_type": "markdown",
   "metadata": {},
   "source": [
    "### 4_2. 두 번째 모델 : RNN"
   ]
  },
  {
   "cell_type": "code",
   "execution_count": 147,
   "metadata": {},
   "outputs": [],
   "source": [
    "vocab_size      = len(word_to_index) # 어휘 사전의 크기\n",
    "word_vector_dim = 54                 # 워드 벡터의 차원수(하이퍼 파라미터)"
   ]
  },
  {
   "cell_type": "code",
   "execution_count": 148,
   "metadata": {},
   "outputs": [
    {
     "name": "stdout",
     "output_type": "stream",
     "text": [
      "Model: \"sequential_13\"\n",
      "_________________________________________________________________\n",
      "Layer (type)                 Output Shape              Param #   \n",
      "=================================================================\n",
      "embedding_12 (Embedding)     (None, None, 54)          54000     \n",
      "_________________________________________________________________\n",
      "lstm_4 (LSTM)                (None, 32)                11136     \n",
      "_________________________________________________________________\n",
      "dense_24 (Dense)             (None, 32)                1056      \n",
      "_________________________________________________________________\n",
      "dense_25 (Dense)             (None, 1)                 33        \n",
      "=================================================================\n",
      "Total params: 66,225\n",
      "Trainable params: 66,225\n",
      "Non-trainable params: 0\n",
      "_________________________________________________________________\n"
     ]
    }
   ],
   "source": [
    "# model 만들기\n",
    "tf_model2 = tf.keras.Sequential()\n",
    "# 계층 쌓기\n",
    "tf_model2.add(tf.keras.layers.Embedding(vocab_size, word_vector_dim, input_shape = (None,)))\n",
    "tf_model2.add(tf.keras.layers.LSTM(32)) # 변경가능\n",
    "tf_model2.add(tf.keras.layers.Dense(32, activation = \"relu\"))    # 변경가능\n",
    "tf_model2.add(tf.keras.layers.Dense(1,  activation = \"sigmoid\")) # 변경가능\n",
    "\n",
    "# model 확인하기\n",
    "tf_model2.summary()"
   ]
  },
  {
   "cell_type": "markdown",
   "metadata": {},
   "source": [
    "### 4_3. 세 번째 모델 : GlobalMaxPooling1D   \n",
    "#### 전체 문장 중 하나의 가장 중요한 단어만 feature로 추출하여 그것으로 긍정 / 부정을 평가하는 방식"
   ]
  },
  {
   "cell_type": "code",
   "execution_count": 149,
   "metadata": {},
   "outputs": [],
   "source": [
    "vocab_size      = len(word_to_index) # 어휘 사전의 크기\n",
    "word_vector_dim = 54                 # 워드 벡터의 차원수(하이퍼 파라미터)"
   ]
  },
  {
   "cell_type": "code",
   "execution_count": 150,
   "metadata": {},
   "outputs": [
    {
     "name": "stdout",
     "output_type": "stream",
     "text": [
      "Model: \"sequential_14\"\n",
      "_________________________________________________________________\n",
      "Layer (type)                 Output Shape              Param #   \n",
      "=================================================================\n",
      "embedding_13 (Embedding)     (None, None, 54)          54000     \n",
      "_________________________________________________________________\n",
      "global_max_pooling1d_8 (Glob (None, 54)                0         \n",
      "_________________________________________________________________\n",
      "dense_26 (Dense)             (None, 32)                1760      \n",
      "_________________________________________________________________\n",
      "dense_27 (Dense)             (None, 1)                 33        \n",
      "=================================================================\n",
      "Total params: 55,793\n",
      "Trainable params: 55,793\n",
      "Non-trainable params: 0\n",
      "_________________________________________________________________\n"
     ]
    }
   ],
   "source": [
    "# model 만들기\n",
    "tf_model3 = tf.keras.Sequential()\n",
    "# 계층 쌓기\n",
    "tf_model3.add(tf.keras.layers.Embedding(vocab_size, word_vector_dim, input_shape = (None,)))\n",
    "tf_model3.add(tf.keras.layers.GlobalMaxPooling1D())\n",
    "tf_model3.add(tf.keras.layers.Dense(32, activation = \"relu\"))    # 변경가능\n",
    "tf_model3.add(tf.keras.layers.Dense(1,  activation = \"sigmoid\")) # 변경가능\n",
    "\n",
    "# model 확인하기\n",
    "tf_model3.summary()"
   ]
  },
  {
   "cell_type": "code",
   "execution_count": 151,
   "metadata": {},
   "outputs": [
    {
     "name": "stdout",
     "output_type": "stream",
     "text": [
      "X_val : (46182, 54)\n",
      "y_val : (46182,)\n"
     ]
    }
   ],
   "source": [
    "# validation_set 분리 : 46182개 (training_set을 깔끔하게 100,000으로 하려고)\n",
    "X_val = X_train[:46182]\n",
    "y_val = y_train[:46182]\n",
    "\n",
    "print(\"X_val :\", X_val.shape)\n",
    "print(\"y_val :\", y_val.shape)"
   ]
  },
  {
   "cell_type": "code",
   "execution_count": 152,
   "metadata": {},
   "outputs": [
    {
     "name": "stdout",
     "output_type": "stream",
     "text": [
      "x_train : (100000, 54)\n",
      "y_train : (100000,)\n"
     ]
    }
   ],
   "source": [
    "# 나머지는 training_set으로 구성\n",
    "real_x_train = X_train[46182:]\n",
    "real_y_train = y_train[46182:]\n",
    "\n",
    "print(\"x_train :\", real_x_train.shape)\n",
    "print(\"y_train :\", real_y_train.shape)"
   ]
  },
  {
   "cell_type": "markdown",
   "metadata": {},
   "source": [
    "## 5. 모델 훈련 개시"
   ]
  },
  {
   "cell_type": "markdown",
   "metadata": {},
   "source": [
    "### 5_1. 첫 번째 모델 훈련 개시"
   ]
  },
  {
   "cell_type": "code",
   "execution_count": 153,
   "metadata": {
    "scrolled": false
   },
   "outputs": [
    {
     "name": "stdout",
     "output_type": "stream",
     "text": [
      "Epoch 1/20\n",
      "196/196 [==============================] - 4s 20ms/step - loss: 0.5127 - accuracy: 0.7371 - val_loss: 0.4121 - val_accuracy: 0.8055\n",
      "Epoch 2/20\n",
      "196/196 [==============================] - 1s 7ms/step - loss: 0.4078 - accuracy: 0.8083 - val_loss: 0.3969 - val_accuracy: 0.8133\n",
      "Epoch 3/20\n",
      "196/196 [==============================] - 1s 6ms/step - loss: 0.3877 - accuracy: 0.8198 - val_loss: 0.3898 - val_accuracy: 0.8165\n",
      "Epoch 4/20\n",
      "196/196 [==============================] - 1s 6ms/step - loss: 0.3697 - accuracy: 0.8286 - val_loss: 0.3815 - val_accuracy: 0.8198\n",
      "Epoch 5/20\n",
      "196/196 [==============================] - 1s 6ms/step - loss: 0.3525 - accuracy: 0.8384 - val_loss: 0.3808 - val_accuracy: 0.8203\n",
      "Epoch 6/20\n",
      "196/196 [==============================] - 1s 6ms/step - loss: 0.3345 - accuracy: 0.8480 - val_loss: 0.3804 - val_accuracy: 0.8202\n",
      "Epoch 7/20\n",
      "196/196 [==============================] - 1s 7ms/step - loss: 0.3154 - accuracy: 0.8590 - val_loss: 0.3877 - val_accuracy: 0.8193\n",
      "Epoch 8/20\n",
      "196/196 [==============================] - 1s 6ms/step - loss: 0.2940 - accuracy: 0.8693 - val_loss: 0.3989 - val_accuracy: 0.8150\n",
      "Epoch 9/20\n",
      "196/196 [==============================] - 1s 6ms/step - loss: 0.2712 - accuracy: 0.8822 - val_loss: 0.4182 - val_accuracy: 0.8108\n",
      "Epoch 10/20\n",
      "196/196 [==============================] - 1s 7ms/step - loss: 0.2476 - accuracy: 0.8947 - val_loss: 0.4405 - val_accuracy: 0.8089\n",
      "Epoch 11/20\n",
      "196/196 [==============================] - 1s 6ms/step - loss: 0.2262 - accuracy: 0.9051 - val_loss: 0.4624 - val_accuracy: 0.8096\n",
      "Epoch 12/20\n",
      "196/196 [==============================] - 1s 6ms/step - loss: 0.2010 - accuracy: 0.9182 - val_loss: 0.5021 - val_accuracy: 0.8062\n",
      "Epoch 13/20\n",
      "196/196 [==============================] - 1s 6ms/step - loss: 0.1812 - accuracy: 0.9268 - val_loss: 0.5458 - val_accuracy: 0.8018\n",
      "Epoch 14/20\n",
      "196/196 [==============================] - 1s 7ms/step - loss: 0.1621 - accuracy: 0.9350 - val_loss: 0.5978 - val_accuracy: 0.8001\n",
      "Epoch 15/20\n",
      "196/196 [==============================] - 1s 6ms/step - loss: 0.1479 - accuracy: 0.9412 - val_loss: 0.6335 - val_accuracy: 0.8013\n",
      "Epoch 16/20\n",
      "196/196 [==============================] - 1s 6ms/step - loss: 0.1358 - accuracy: 0.9473 - val_loss: 0.6756 - val_accuracy: 0.7971\n",
      "Epoch 17/20\n",
      "196/196 [==============================] - 1s 6ms/step - loss: 0.1226 - accuracy: 0.9520 - val_loss: 0.7444 - val_accuracy: 0.7958\n",
      "Epoch 18/20\n",
      "196/196 [==============================] - 1s 6ms/step - loss: 0.1139 - accuracy: 0.9560 - val_loss: 0.8014 - val_accuracy: 0.7973\n",
      "Epoch 19/20\n",
      "196/196 [==============================] - 1s 7ms/step - loss: 0.1072 - accuracy: 0.9579 - val_loss: 0.8356 - val_accuracy: 0.7926\n",
      "Epoch 20/20\n",
      "196/196 [==============================] - 1s 6ms/step - loss: 0.1029 - accuracy: 0.9596 - val_loss: 0.8707 - val_accuracy: 0.7900\n"
     ]
    }
   ],
   "source": [
    "tf_model.compile(optimizer = tf.keras.optimizers.Adam(), loss = \"binary_crossentropy\", metrics = [\"accuracy\"])\n",
    "\n",
    "history = tf_model.fit(real_x_train, real_y_train, epochs = 20, batch_size = 512, validation_data = (X_val, y_val), verbose = 1)"
   ]
  },
  {
   "cell_type": "markdown",
   "metadata": {},
   "source": [
    "### 5_2. 두 번째 모델 훈련 개시"
   ]
  },
  {
   "cell_type": "code",
   "execution_count": 154,
   "metadata": {},
   "outputs": [
    {
     "name": "stdout",
     "output_type": "stream",
     "text": [
      "Epoch 1/20\n",
      "196/196 [==============================] - 2s 9ms/step - loss: 0.4789 - accuracy: 0.7739 - val_loss: 0.4062 - val_accuracy: 0.8083\n",
      "Epoch 2/20\n",
      "196/196 [==============================] - 2s 8ms/step - loss: 0.4005 - accuracy: 0.8146 - val_loss: 0.3905 - val_accuracy: 0.8184\n",
      "Epoch 3/20\n",
      "196/196 [==============================] - 2s 8ms/step - loss: 0.3911 - accuracy: 0.8190 - val_loss: 0.3853 - val_accuracy: 0.8195\n",
      "Epoch 4/20\n",
      "196/196 [==============================] - 1s 7ms/step - loss: 0.3820 - accuracy: 0.8230 - val_loss: 0.3788 - val_accuracy: 0.8226\n",
      "Epoch 5/20\n",
      "196/196 [==============================] - 2s 8ms/step - loss: 0.3751 - accuracy: 0.8258 - val_loss: 0.3780 - val_accuracy: 0.8229\n",
      "Epoch 6/20\n",
      "196/196 [==============================] - 1s 7ms/step - loss: 0.3684 - accuracy: 0.8304 - val_loss: 0.3761 - val_accuracy: 0.8250\n",
      "Epoch 7/20\n",
      "196/196 [==============================] - 1s 7ms/step - loss: 0.3610 - accuracy: 0.8331 - val_loss: 0.3690 - val_accuracy: 0.8284\n",
      "Epoch 8/20\n",
      "196/196 [==============================] - 1s 7ms/step - loss: 0.3537 - accuracy: 0.8358 - val_loss: 0.3691 - val_accuracy: 0.8277\n",
      "Epoch 9/20\n",
      "196/196 [==============================] - 1s 7ms/step - loss: 0.3478 - accuracy: 0.8395 - val_loss: 0.3632 - val_accuracy: 0.8328\n",
      "Epoch 10/20\n",
      "196/196 [==============================] - 1s 7ms/step - loss: 0.3418 - accuracy: 0.8425 - val_loss: 0.3599 - val_accuracy: 0.8346\n",
      "Epoch 11/20\n",
      "196/196 [==============================] - 1s 7ms/step - loss: 0.3365 - accuracy: 0.8457 - val_loss: 0.3638 - val_accuracy: 0.8293\n",
      "Epoch 12/20\n",
      "196/196 [==============================] - 1s 7ms/step - loss: 0.3315 - accuracy: 0.8480 - val_loss: 0.3581 - val_accuracy: 0.8343\n",
      "Epoch 13/20\n",
      "196/196 [==============================] - 1s 7ms/step - loss: 0.3281 - accuracy: 0.8497 - val_loss: 0.3582 - val_accuracy: 0.8347\n",
      "Epoch 14/20\n",
      "196/196 [==============================] - 1s 7ms/step - loss: 0.3230 - accuracy: 0.8523 - val_loss: 0.3591 - val_accuracy: 0.8357\n",
      "Epoch 15/20\n",
      "196/196 [==============================] - 1s 7ms/step - loss: 0.3187 - accuracy: 0.8548 - val_loss: 0.3558 - val_accuracy: 0.8367\n",
      "Epoch 16/20\n",
      "196/196 [==============================] - 1s 7ms/step - loss: 0.3155 - accuracy: 0.8567 - val_loss: 0.3551 - val_accuracy: 0.8381\n",
      "Epoch 17/20\n",
      "196/196 [==============================] - 1s 7ms/step - loss: 0.3115 - accuracy: 0.8587 - val_loss: 0.3588 - val_accuracy: 0.8361\n",
      "Epoch 18/20\n",
      "196/196 [==============================] - 1s 8ms/step - loss: 0.3070 - accuracy: 0.8608 - val_loss: 0.3636 - val_accuracy: 0.8370\n",
      "Epoch 19/20\n",
      "196/196 [==============================] - 1s 7ms/step - loss: 0.3036 - accuracy: 0.8636 - val_loss: 0.3598 - val_accuracy: 0.8353\n",
      "Epoch 20/20\n",
      "196/196 [==============================] - 1s 7ms/step - loss: 0.3001 - accuracy: 0.8651 - val_loss: 0.3604 - val_accuracy: 0.8358\n"
     ]
    }
   ],
   "source": [
    "tf_model2.compile(optimizer = tf.keras.optimizers.Adam(), loss = \"binary_crossentropy\", metrics = [\"accuracy\"])\n",
    "\n",
    "history2 = tf_model2.fit(real_x_train, real_y_train, epochs = 20, batch_size = 512, validation_data = (X_val, y_val), verbose = 1)"
   ]
  },
  {
   "cell_type": "markdown",
   "metadata": {},
   "source": [
    "### 5_3. 세 번째 모델 훈련 개시"
   ]
  },
  {
   "cell_type": "code",
   "execution_count": 155,
   "metadata": {},
   "outputs": [
    {
     "name": "stdout",
     "output_type": "stream",
     "text": [
      "Epoch 1/20\n",
      "196/196 [==============================] - 1s 5ms/step - loss: 0.5306 - accuracy: 0.7690 - val_loss: 0.3998 - val_accuracy: 0.8155\n",
      "Epoch 2/20\n",
      "196/196 [==============================] - 1s 5ms/step - loss: 0.3933 - accuracy: 0.8204 - val_loss: 0.3888 - val_accuracy: 0.8213\n",
      "Epoch 3/20\n",
      "196/196 [==============================] - 1s 5ms/step - loss: 0.3784 - accuracy: 0.8278 - val_loss: 0.3887 - val_accuracy: 0.8228\n",
      "Epoch 4/20\n",
      "196/196 [==============================] - 1s 5ms/step - loss: 0.3679 - accuracy: 0.8328 - val_loss: 0.3840 - val_accuracy: 0.8243\n",
      "Epoch 5/20\n",
      "196/196 [==============================] - 1s 5ms/step - loss: 0.3576 - accuracy: 0.8394 - val_loss: 0.3833 - val_accuracy: 0.8249\n",
      "Epoch 6/20\n",
      "196/196 [==============================] - 1s 5ms/step - loss: 0.3476 - accuracy: 0.8454 - val_loss: 0.3848 - val_accuracy: 0.8250\n",
      "Epoch 7/20\n",
      "196/196 [==============================] - 1s 5ms/step - loss: 0.3375 - accuracy: 0.8507 - val_loss: 0.3853 - val_accuracy: 0.8253\n",
      "Epoch 8/20\n",
      "196/196 [==============================] - 1s 5ms/step - loss: 0.3273 - accuracy: 0.8566 - val_loss: 0.3878 - val_accuracy: 0.8250\n",
      "Epoch 9/20\n",
      "196/196 [==============================] - 1s 6ms/step - loss: 0.3170 - accuracy: 0.8613 - val_loss: 0.3909 - val_accuracy: 0.8240\n",
      "Epoch 10/20\n",
      "196/196 [==============================] - 1s 5ms/step - loss: 0.3068 - accuracy: 0.8673 - val_loss: 0.3975 - val_accuracy: 0.8220\n",
      "Epoch 11/20\n",
      "196/196 [==============================] - 1s 5ms/step - loss: 0.2965 - accuracy: 0.8735 - val_loss: 0.4041 - val_accuracy: 0.8195\n",
      "Epoch 12/20\n",
      "196/196 [==============================] - 1s 5ms/step - loss: 0.2862 - accuracy: 0.8784 - val_loss: 0.4130 - val_accuracy: 0.8196\n",
      "Epoch 13/20\n",
      "196/196 [==============================] - 1s 5ms/step - loss: 0.2772 - accuracy: 0.8832 - val_loss: 0.4182 - val_accuracy: 0.8177\n",
      "Epoch 14/20\n",
      "196/196 [==============================] - 1s 5ms/step - loss: 0.2684 - accuracy: 0.8874 - val_loss: 0.4287 - val_accuracy: 0.8162\n",
      "Epoch 15/20\n",
      "196/196 [==============================] - 1s 5ms/step - loss: 0.2604 - accuracy: 0.8907 - val_loss: 0.4418 - val_accuracy: 0.8113\n",
      "Epoch 16/20\n",
      "196/196 [==============================] - 1s 6ms/step - loss: 0.2530 - accuracy: 0.8946 - val_loss: 0.4509 - val_accuracy: 0.8112\n",
      "Epoch 17/20\n",
      "196/196 [==============================] - 1s 5ms/step - loss: 0.2465 - accuracy: 0.8988 - val_loss: 0.4609 - val_accuracy: 0.8099\n",
      "Epoch 18/20\n",
      "196/196 [==============================] - 1s 5ms/step - loss: 0.2394 - accuracy: 0.9012 - val_loss: 0.4729 - val_accuracy: 0.8076\n",
      "Epoch 19/20\n",
      "196/196 [==============================] - 1s 6ms/step - loss: 0.2331 - accuracy: 0.9047 - val_loss: 0.4816 - val_accuracy: 0.8072\n",
      "Epoch 20/20\n",
      "196/196 [==============================] - 1s 5ms/step - loss: 0.2274 - accuracy: 0.9070 - val_loss: 0.4935 - val_accuracy: 0.8057\n"
     ]
    }
   ],
   "source": [
    "tf_model3.compile(optimizer = tf.keras.optimizers.Adam(), loss = \"binary_crossentropy\", metrics = [\"accuracy\"])\n",
    "\n",
    "history3 = tf_model3.fit(real_x_train, real_y_train, epochs = 20, batch_size = 512, validation_data = (X_val, y_val), verbose = 1)"
   ]
  },
  {
   "cell_type": "markdown",
   "metadata": {},
   "source": [
    "## 6. Loss, Accuracy 그래프 시각화"
   ]
  },
  {
   "cell_type": "markdown",
   "metadata": {},
   "source": [
    "### 6_1. 첫 번째 모델 그래프 시각화"
   ]
  },
  {
   "cell_type": "code",
   "execution_count": 156,
   "metadata": {},
   "outputs": [
    {
     "data": {
      "image/png": "[encoded data removed]",
      "text/plain": [
       "<Figure size 432x288 with 1 Axes>"
      ]
     },
     "metadata": {
      "needs_background": "light"
     },
     "output_type": "display_data"
    }
   ],
   "source": [
    "# Loss 그래프 시각화\n",
    "train_accuracy = history.history[\"accuracy\"]\n",
    "val_accuracy   = history.history[\"val_accuracy\"]\n",
    "train_loss     = history.history[\"loss\"]\n",
    "val_loss       = history.history[\"val_loss\"]\n",
    "\n",
    "epochs = range(1, len(train_accuracy) + 1)\n",
    "\n",
    "plt.plot(epochs, train_loss, \"bo\", label = \"Training loss\")   # train_loss는 파란색 점 표시\n",
    "plt.plot(epochs, val_loss,   \"b\",  label = \"Validation loss\") # val loss는 파란색 실선 표시\n",
    "plt.xlabel(\"Epochs\")\n",
    "plt.ylabel(\"Loss\")\n",
    "plt.legend()\n",
    "plt.show()"
   ]
  },
  {
   "cell_type": "code",
   "execution_count": 157,
   "metadata": {
    "scrolled": true
   },
   "outputs": [
    {
     "data": {
      "image/png": "[encoded data removed]",
      "text/plain": [
       "<Figure size 432x288 with 1 Axes>"
      ]
     },
     "metadata": {
      "needs_background": "light"
     },
     "output_type": "display_data"
    }
   ],
   "source": [
    "# Accuracy 그래프 시각화\n",
    "plt.plot(epochs, train_accuracy, \"ro\", label = \"Training accuracy\")   # train_accuracy는 빨간색 점 표시\n",
    "plt.plot(epochs, val_accuracy,   \"r\",  label = \"Validation accuracy\") # val_accuracy는 빨간색 실선 표시\n",
    "plt.xlabel(\"Epochs\")\n",
    "plt.ylabel(\"Accuracy\")\n",
    "plt.legend()\n",
    "plt.show()"
   ]
  },
  {
   "cell_type": "markdown",
   "metadata": {},
   "source": [
    "### 6_2. 두 번째 모델 그래프 시각화"
   ]
  },
  {
   "cell_type": "code",
   "execution_count": 158,
   "metadata": {},
   "outputs": [
    {
     "data": {
      "image/png": "[encoded data removed]",
      "text/plain": [
       "<Figure size 432x288 with 1 Axes>"
      ]
     },
     "metadata": {
      "needs_background": "light"
     },
     "output_type": "display_data"
    }
   ],
   "source": [
    "# Loss 그래프 시각화\n",
    "train_accuracy2 = history2.history[\"accuracy\"]\n",
    "val_accuracy2   = history2.history[\"val_accuracy\"]\n",
    "train_loss2     = history2.history[\"loss\"]\n",
    "val_loss2       = history2.history[\"val_loss\"]\n",
    "\n",
    "epochs = range(1, len(train_accuracy) + 1)\n",
    "\n",
    "plt.plot(epochs, train_loss2, \"bo\", label = \"Training loss\")   # train_loss는 파란색 점 표시\n",
    "plt.plot(epochs, val_loss2,   \"b\",  label = \"Validation loss\") # val loss는 파란색 실선 표시\n",
    "plt.xlabel(\"Epochs\")\n",
    "plt.ylabel(\"Loss\")\n",
    "plt.legend()\n",
    "plt.show()"
   ]
  },
  {
   "cell_type": "code",
   "execution_count": 159,
   "metadata": {},
   "outputs": [
    {
     "data": {
      "image/png": "[encoded data removed]",
      "text/plain": [
       "<Figure size 432x288 with 1 Axes>"
      ]
     },
     "metadata": {
      "needs_background": "light"
     },
     "output_type": "display_data"
    }
   ],
   "source": [
    "# Accuracy 그래프 시각화\n",
    "plt.plot(epochs, train_accuracy2, \"ro\", label = \"Training accuracy\")   # train_accuracy는 빨간색 점 표시\n",
    "plt.plot(epochs, val_accuracy2,   \"r\",  label = \"Validation accuracy\") # val_accuracy는 빨간색 실선 표시\n",
    "plt.xlabel(\"Epochs\")\n",
    "plt.ylabel(\"Accuracy\")\n",
    "plt.legend()\n",
    "plt.show()"
   ]
  },
  {
   "cell_type": "markdown",
   "metadata": {},
   "source": [
    "### 6_3. 세 번째 모델 그래프 시각화"
   ]
  },
  {
   "cell_type": "code",
   "execution_count": 160,
   "metadata": {},
   "outputs": [
    {
     "data": {
      "image/png": "[encoded data removed]",
      "text/plain": [
       "<Figure size 432x288 with 1 Axes>"
      ]
     },
     "metadata": {
      "needs_background": "light"
     },
     "output_type": "display_data"
    }
   ],
   "source": [
    "# Loss 그래프 시각화\n",
    "train_accuracy3 = history3.history[\"accuracy\"]\n",
    "val_accuracy3   = history3.history[\"val_accuracy\"]\n",
    "train_loss3     = history3.history[\"loss\"]\n",
    "val_loss3       = history3.history[\"val_loss\"]\n",
    "\n",
    "epochs = range(1, len(train_accuracy) + 1)\n",
    "\n",
    "plt.plot(epochs, train_loss3, \"bo\", label = \"Training loss\")   # train_loss는 파란색 점 표시\n",
    "plt.plot(epochs, val_loss3,   \"b\",  label = \"Validation loss\") # val loss는 파란색 실선 표시\n",
    "plt.xlabel(\"Epochs\")\n",
    "plt.ylabel(\"Loss\")\n",
    "plt.legend()\n",
    "plt.show()"
   ]
  },
  {
   "cell_type": "code",
   "execution_count": 161,
   "metadata": {},
   "outputs": [
    {
     "data": {
      "image/png": "[encoded data removed]",
      "text/plain": [
       "<Figure size 432x288 with 1 Axes>"
      ]
     },
     "metadata": {
      "needs_background": "light"
     },
     "output_type": "display_data"
    }
   ],
   "source": [
    "# Accuracy 그래프 시각화\n",
    "plt.plot(epochs, train_accuracy3, \"ro\", label = \"Training accuracy\")   # train_accuracy는 빨간색 점 표시\n",
    "plt.plot(epochs, val_accuracy3,   \"r\",  label = \"Validation accuracy\") # val_accuracy는 빨간색 실선 표시\n",
    "plt.xlabel(\"Epochs\")\n",
    "plt.ylabel(\"Accuracy\")\n",
    "plt.legend()\n",
    "plt.show()"
   ]
  },
  {
   "cell_type": "markdown",
   "metadata": {},
   "source": [
    "## 7. 학습된 Embedding 레이어 분석"
   ]
  },
  {
   "cell_type": "markdown",
   "metadata": {},
   "source": [
    "### 7_1. 첫 번째 모델의 Embedding 레이어 분석"
   ]
  },
  {
   "cell_type": "code",
   "execution_count": 162,
   "metadata": {},
   "outputs": [
    {
     "name": "stdout",
     "output_type": "stream",
     "text": [
      "Weights : (1000, 54)\n"
     ]
    }
   ],
   "source": [
    "embedding_layer = tf_model.layers[0]\n",
    "weights         = embedding_layer.get_weights()[0]\n",
    "print(\"Weights :\", weights.shape) # shape : (vocab_size, embedding_dim)"
   ]
  },
  {
   "cell_type": "markdown",
   "metadata": {},
   "source": [
    "### 7_2. 두 번째 모델의 Embedding 레이어 분석"
   ]
  },
  {
   "cell_type": "code",
   "execution_count": 163,
   "metadata": {},
   "outputs": [
    {
     "name": "stdout",
     "output_type": "stream",
     "text": [
      "Weights : (1000, 54)\n"
     ]
    }
   ],
   "source": [
    "embedding_layer2 = tf_model2.layers[0]\n",
    "weights2         = embedding_layer.get_weights()[0]\n",
    "print(\"Weights :\", weights2.shape) # shape : (vocab_size, embedding_dim)"
   ]
  },
  {
   "cell_type": "markdown",
   "metadata": {},
   "source": [
    "### 7_3. 세 번째 모델의 Embedding 레이어 분석"
   ]
  },
  {
   "cell_type": "code",
   "execution_count": 164,
   "metadata": {},
   "outputs": [
    {
     "name": "stdout",
     "output_type": "stream",
     "text": [
      "Weights : (1000, 54)\n"
     ]
    }
   ],
   "source": [
    "embedding_layer3 = tf_model3.layers[0]\n",
    "weights3         = embedding_layer.get_weights()[0]\n",
    "print(\"Weights :\", weights3.shape) # shape : (vocab_size, embedding_dim)"
   ]
  },
  {
   "cell_type": "markdown",
   "metadata": {},
   "source": [
    "## 8. 한국어 Word2Vec 임베딩 활용하여 성능개선"
   ]
  },
  {
   "cell_type": "code",
   "execution_count": 165,
   "metadata": {},
   "outputs": [],
   "source": [
    "# 학습한 Embedding 파라미터를 파일에 써서 저장합니다.\n",
    "word2vec_path = os.getenv('HOME') + '/aiffel/sentiment_classification/ko/ko.bin'\n",
    "word2vec      = gensim.models.Word2Vec.load(word2vec_path)"
   ]
  },
  {
   "cell_type": "code",
   "execution_count": 166,
   "metadata": {},
   "outputs": [
    {
     "data": {
      "text/plain": [
       "(30185, 200)"
      ]
     },
     "execution_count": 166,
     "metadata": {},
     "output_type": "execute_result"
    }
   ],
   "source": [
    "word2vec.wv.vectors.shape"
   ]
  },
  {
   "cell_type": "code",
   "execution_count": 180,
   "metadata": {},
   "outputs": [],
   "source": [
    "vocab_size, _   = word2vec.wv.vectors.shape # 어휘사전 크기, 워드벡터 차원수\n",
    "word_vector_dim = 54"
   ]
  },
  {
   "cell_type": "markdown",
   "metadata": {},
   "source": [
    "### 8_1. 첫 번째 모델 : 1-D CNN"
   ]
  },
  {
   "cell_type": "code",
   "execution_count": 190,
   "metadata": {},
   "outputs": [],
   "source": [
    "vocab_size, _   = word2vec.wv.vectors.shape # 어휘사전 크기, 워드벡터 차원수\n",
    "word_vector_dim = 54"
   ]
  },
  {
   "cell_type": "code",
   "execution_count": 188,
   "metadata": {},
   "outputs": [
    {
     "name": "stdout",
     "output_type": "stream",
     "text": [
      "Model: \"sequential_20\"\n",
      "_________________________________________________________________\n",
      "Layer (type)                 Output Shape              Param #   \n",
      "=================================================================\n",
      "embedding_19 (Embedding)     (None, None, 200)         6037000   \n",
      "_________________________________________________________________\n",
      "conv1d_16 (Conv1D)           (None, None, 256)         5120256   \n",
      "_________________________________________________________________\n",
      "max_pooling1d_8 (MaxPooling1 (None, None, 256)         0         \n",
      "_________________________________________________________________\n",
      "conv1d_17 (Conv1D)           (None, None, 256)         6553856   \n",
      "_________________________________________________________________\n",
      "global_max_pooling1d_13 (Glo (None, 256)               0         \n",
      "_________________________________________________________________\n",
      "dense_38 (Dense)             (None, 16)                4112      \n",
      "_________________________________________________________________\n",
      "dense_39 (Dense)             (None, 1)                 17        \n",
      "=================================================================\n",
      "Total params: 17,715,241\n",
      "Trainable params: 17,715,241\n",
      "Non-trainable params: 0\n",
      "_________________________________________________________________\n"
     ]
    }
   ],
   "source": [
    "# model 만들기\n",
    "word2vec_model = tf.keras.Sequential()\n",
    "# 계층 쌓기\n",
    "word2vec_model.add(tf.keras.layers.Embedding(vocab_size, word_vector_dim, input_shape = (None,), weights = [word2vec.wv.vectors]))\n",
    "word2vec_model.add(tf.keras.layers.Conv1D(256, 100, activation = \"relu\"))\n",
    "word2vec_model.add(tf.keras.layers.MaxPooling1D(20))\n",
    "word2vec_model.add(tf.keras.layers.Conv1D(256, 100, activation = \"relu\"))\n",
    "word2vec_model.add(tf.keras.layers.GlobalMaxPooling1D())\n",
    "word2vec_model.add(tf.keras.layers.Dense(16, activation = \"relu\"))\n",
    "word2vec_model.add(tf.keras.layers.Dense(1,  activation = \"sigmoid\"))\n",
    "\n",
    "# model 확인하기\n",
    "word2vec_model.summary()"
   ]
  },
  {
   "cell_type": "markdown",
   "metadata": {},
   "source": [
    "### 8_2. 두 번째 모델 : RNN"
   ]
  },
  {
   "cell_type": "code",
   "execution_count": 183,
   "metadata": {},
   "outputs": [],
   "source": [
    "vocab_size, _   = word2vec.wv.vectors.shape # 어휘사전 크기, 워드벡터 차원수\n",
    "word_vector_dim = 54"
   ]
  },
  {
   "cell_type": "code",
   "execution_count": 175,
   "metadata": {},
   "outputs": [
    {
     "name": "stdout",
     "output_type": "stream",
     "text": [
      "Model: \"sequential_18\"\n",
      "_________________________________________________________________\n",
      "Layer (type)                 Output Shape              Param #   \n",
      "=================================================================\n",
      "embedding_17 (Embedding)     (None, None, 200)         6037000   \n",
      "_________________________________________________________________\n",
      "lstm_5 (LSTM)                (None, 256)               467968    \n",
      "_________________________________________________________________\n",
      "dense_34 (Dense)             (None, 16)                4112      \n",
      "_________________________________________________________________\n",
      "dense_35 (Dense)             (None, 1)                 17        \n",
      "=================================================================\n",
      "Total params: 6,509,097\n",
      "Trainable params: 6,509,097\n",
      "Non-trainable params: 0\n",
      "_________________________________________________________________\n"
     ]
    }
   ],
   "source": [
    "# model 만들기\n",
    "word2vec_model2 = tf.keras.Sequential()\n",
    "# 계층 쌓기\n",
    "word2vec_model2.add(tf.keras.layers.Embedding(vocab_size, word_vector_dim, input_shape = (None,), weights = [word2vec.wv.vectors]))\n",
    "word2vec_model2.add(tf.keras.layers.LSTM(256))\n",
    "word2vec_model2.add(tf.keras.layers.Dense(16, activation = \"relu\"))\n",
    "word2vec_model2.add(tf.keras.layers.Dense(1,  activation = \"sigmoid\"))\n",
    "\n",
    "# model 확인하기\n",
    "word2vec_model2.summary()"
   ]
  },
  {
   "cell_type": "markdown",
   "metadata": {},
   "source": [
    "### 8_3. 세 번째 모델 : GlobalMaxPooling1D"
   ]
  },
  {
   "cell_type": "code",
   "execution_count": 184,
   "metadata": {},
   "outputs": [],
   "source": [
    "vocab_size, _   = word2vec.wv.vectors.shape # 어휘사전 크기, 워드벡터 차원수\n",
    "word_vector_dim = 54"
   ]
  },
  {
   "cell_type": "code",
   "execution_count": 176,
   "metadata": {},
   "outputs": [
    {
     "name": "stdout",
     "output_type": "stream",
     "text": [
      "Model: \"sequential_19\"\n",
      "_________________________________________________________________\n",
      "Layer (type)                 Output Shape              Param #   \n",
      "=================================================================\n",
      "embedding_18 (Embedding)     (None, None, 200)         6037000   \n",
      "_________________________________________________________________\n",
      "global_max_pooling1d_12 (Glo (None, 200)               0         \n",
      "_________________________________________________________________\n",
      "dense_36 (Dense)             (None, 16)                3216      \n",
      "_________________________________________________________________\n",
      "dense_37 (Dense)             (None, 1)                 17        \n",
      "=================================================================\n",
      "Total params: 6,040,233\n",
      "Trainable params: 6,040,233\n",
      "Non-trainable params: 0\n",
      "_________________________________________________________________\n"
     ]
    }
   ],
   "source": [
    "# model 만들기\n",
    "word2vec_model3 = tf.keras.Sequential()\n",
    "# 계층 쌓기\n",
    "word2vec_model3.add(tf.keras.layers.Embedding(vocab_size, word_vector_dim, input_shape = (None,), weights = [word2vec.wv.vectors]))\n",
    "word2vec_model3.add(tf.keras.layers.GlobalMaxPooling1D())\n",
    "word2vec_model3.add(tf.keras.layers.Dense(16, activation = \"relu\"))\n",
    "word2vec_model3.add(tf.keras.layers.Dense(1,  activation = \"sigmoid\"))\n",
    "\n",
    "# model 확인하기\n",
    "word2vec_model3.summary()"
   ]
  },
  {
   "cell_type": "markdown",
   "metadata": {},
   "source": [
    "#### 훈련 시작"
   ]
  },
  {
   "cell_type": "code",
   "execution_count": 189,
   "metadata": {},
   "outputs": [
    {
     "name": "stdout",
     "output_type": "stream",
     "text": [
      "Epoch 1/20\n"
     ]
    },
    {
     "ename": "ValueError",
     "evalue": "in user code:\n\n    /home/aiffel/anaconda3/envs/aiffel/lib/python3.7/site-packages/tensorflow/python/keras/engine/training.py:571 train_function  *\n        outputs = self.distribute_strategy.run(\n    /home/aiffel/anaconda3/envs/aiffel/lib/python3.7/site-packages/tensorflow/python/distribute/distribute_lib.py:951 run  **\n        return self._extended.call_for_each_replica(fn, args=args, kwargs=kwargs)\n    /home/aiffel/anaconda3/envs/aiffel/lib/python3.7/site-packages/tensorflow/python/distribute/distribute_lib.py:2290 call_for_each_replica\n        return self._call_for_each_replica(fn, args, kwargs)\n    /home/aiffel/anaconda3/envs/aiffel/lib/python3.7/site-packages/tensorflow/python/distribute/distribute_lib.py:2649 _call_for_each_replica\n        return fn(*args, **kwargs)\n    /home/aiffel/anaconda3/envs/aiffel/lib/python3.7/site-packages/tensorflow/python/keras/engine/training.py:531 train_step  **\n        y_pred = self(x, training=True)\n    /home/aiffel/anaconda3/envs/aiffel/lib/python3.7/site-packages/tensorflow/python/keras/engine/base_layer.py:927 __call__\n        outputs = call_fn(cast_inputs, *args, **kwargs)\n    /home/aiffel/anaconda3/envs/aiffel/lib/python3.7/site-packages/tensorflow/python/keras/engine/sequential.py:277 call\n        return super(Sequential, self).call(inputs, training=training, mask=mask)\n    /home/aiffel/anaconda3/envs/aiffel/lib/python3.7/site-packages/tensorflow/python/keras/engine/network.py:719 call\n        convert_kwargs_to_constants=base_layer_utils.call_context().saving)\n    /home/aiffel/anaconda3/envs/aiffel/lib/python3.7/site-packages/tensorflow/python/keras/engine/network.py:888 _run_internal_graph\n        output_tensors = layer(computed_tensors, **kwargs)\n    /home/aiffel/anaconda3/envs/aiffel/lib/python3.7/site-packages/tensorflow/python/keras/engine/base_layer.py:927 __call__\n        outputs = call_fn(cast_inputs, *args, **kwargs)\n    /home/aiffel/anaconda3/envs/aiffel/lib/python3.7/site-packages/tensorflow/python/keras/layers/convolutional.py:207 call\n        outputs = self._convolution_op(inputs, self.kernel)\n    /home/aiffel/anaconda3/envs/aiffel/lib/python3.7/site-packages/tensorflow/python/ops/nn_ops.py:1106 __call__\n        return self.conv_op(inp, filter)\n    /home/aiffel/anaconda3/envs/aiffel/lib/python3.7/site-packages/tensorflow/python/ops/nn_ops.py:638 __call__\n        return self.call(inp, filter)\n    /home/aiffel/anaconda3/envs/aiffel/lib/python3.7/site-packages/tensorflow/python/ops/nn_ops.py:237 __call__\n        name=self.name)\n    /home/aiffel/anaconda3/envs/aiffel/lib/python3.7/site-packages/tensorflow/python/ops/nn_ops.py:226 _conv1d\n        name=name)\n    /home/aiffel/anaconda3/envs/aiffel/lib/python3.7/site-packages/tensorflow/python/util/deprecation.py:574 new_func\n        return func(*args, **kwargs)\n    /home/aiffel/anaconda3/envs/aiffel/lib/python3.7/site-packages/tensorflow/python/util/deprecation.py:574 new_func\n        return func(*args, **kwargs)\n    /home/aiffel/anaconda3/envs/aiffel/lib/python3.7/site-packages/tensorflow/python/ops/nn_ops.py:1663 conv1d\n        name=name)\n    /home/aiffel/anaconda3/envs/aiffel/lib/python3.7/site-packages/tensorflow/python/ops/gen_nn_ops.py:969 conv2d\n        data_format=data_format, dilations=dilations, name=name)\n    /home/aiffel/anaconda3/envs/aiffel/lib/python3.7/site-packages/tensorflow/python/framework/op_def_library.py:744 _apply_op_helper\n        attrs=attr_protos, op_def=op_def)\n    /home/aiffel/anaconda3/envs/aiffel/lib/python3.7/site-packages/tensorflow/python/framework/func_graph.py:595 _create_op_internal\n        compute_device)\n    /home/aiffel/anaconda3/envs/aiffel/lib/python3.7/site-packages/tensorflow/python/framework/ops.py:3327 _create_op_internal\n        op_def=op_def)\n    /home/aiffel/anaconda3/envs/aiffel/lib/python3.7/site-packages/tensorflow/python/framework/ops.py:1817 __init__\n        control_input_ops, op_def)\n    /home/aiffel/anaconda3/envs/aiffel/lib/python3.7/site-packages/tensorflow/python/framework/ops.py:1657 _create_c_op\n        raise ValueError(str(e))\n\n    ValueError: Negative dimension size caused by subtracting 100 from 54 for '{{node sequential_20/conv1d_16/conv1d}} = Conv2D[T=DT_FLOAT, data_format=\"NHWC\", dilations=[1, 1, 1, 1], explicit_paddings=[], padding=\"VALID\", strides=[1, 1, 1, 1], use_cudnn_on_gpu=true](sequential_20/conv1d_16/conv1d/ExpandDims, sequential_20/conv1d_16/conv1d/ExpandDims_1)' with input shapes: [?,1,54,200], [1,100,200,256].\n",
     "output_type": "error",
     "traceback": [
      "\u001b[0;31m---------------------------------------------------------------------------\u001b[0m",
      "\u001b[0;31mValueError\u001b[0m                                Traceback (most recent call last)",
      "\u001b[0;32m<ipython-input-189-ce73bda862df>\u001b[0m in \u001b[0;36m<module>\u001b[0;34m\u001b[0m\n\u001b[1;32m      2\u001b[0m \u001b[0mword2vec_model\u001b[0m\u001b[0;34m.\u001b[0m\u001b[0mcompile\u001b[0m\u001b[0;34m(\u001b[0m\u001b[0moptimizer\u001b[0m \u001b[0;34m=\u001b[0m \u001b[0mtf\u001b[0m\u001b[0;34m.\u001b[0m\u001b[0mkeras\u001b[0m\u001b[0;34m.\u001b[0m\u001b[0moptimizers\u001b[0m\u001b[0;34m.\u001b[0m\u001b[0mAdam\u001b[0m\u001b[0;34m(\u001b[0m\u001b[0;34m)\u001b[0m\u001b[0;34m,\u001b[0m \u001b[0mloss\u001b[0m \u001b[0;34m=\u001b[0m \u001b[0;34m\"binary_crossentropy\"\u001b[0m\u001b[0;34m,\u001b[0m \u001b[0mmetrics\u001b[0m \u001b[0;34m=\u001b[0m \u001b[0;34m[\u001b[0m\u001b[0;34m\"accuracy\"\u001b[0m\u001b[0;34m]\u001b[0m\u001b[0;34m)\u001b[0m\u001b[0;34m\u001b[0m\u001b[0;34m\u001b[0m\u001b[0m\n\u001b[1;32m      3\u001b[0m \u001b[0;34m\u001b[0m\u001b[0m\n\u001b[0;32m----> 4\u001b[0;31m \u001b[0mhistory4\u001b[0m \u001b[0;34m=\u001b[0m \u001b[0mword2vec_model\u001b[0m\u001b[0;34m.\u001b[0m\u001b[0mfit\u001b[0m\u001b[0;34m(\u001b[0m\u001b[0mreal_x_train\u001b[0m\u001b[0;34m,\u001b[0m \u001b[0mreal_y_train\u001b[0m\u001b[0;34m,\u001b[0m \u001b[0mepochs\u001b[0m \u001b[0;34m=\u001b[0m \u001b[0;36m20\u001b[0m\u001b[0;34m,\u001b[0m \u001b[0mbatch_size\u001b[0m \u001b[0;34m=\u001b[0m \u001b[0;36m512\u001b[0m\u001b[0;34m,\u001b[0m \u001b[0mvalidation_data\u001b[0m \u001b[0;34m=\u001b[0m \u001b[0;34m(\u001b[0m\u001b[0mX_val\u001b[0m\u001b[0;34m,\u001b[0m \u001b[0my_val\u001b[0m\u001b[0;34m)\u001b[0m\u001b[0;34m,\u001b[0m \u001b[0mverbose\u001b[0m \u001b[0;34m=\u001b[0m \u001b[0;36m1\u001b[0m\u001b[0;34m)\u001b[0m\u001b[0;34m\u001b[0m\u001b[0;34m\u001b[0m\u001b[0m\n\u001b[0m",
      "\u001b[0;32m~/anaconda3/envs/aiffel/lib/python3.7/site-packages/tensorflow/python/keras/engine/training.py\u001b[0m in \u001b[0;36m_method_wrapper\u001b[0;34m(self, *args, **kwargs)\u001b[0m\n\u001b[1;32m     64\u001b[0m   \u001b[0;32mdef\u001b[0m \u001b[0m_method_wrapper\u001b[0m\u001b[0;34m(\u001b[0m\u001b[0mself\u001b[0m\u001b[0;34m,\u001b[0m \u001b[0;34m*\u001b[0m\u001b[0margs\u001b[0m\u001b[0;34m,\u001b[0m \u001b[0;34m**\u001b[0m\u001b[0mkwargs\u001b[0m\u001b[0;34m)\u001b[0m\u001b[0;34m:\u001b[0m\u001b[0;34m\u001b[0m\u001b[0;34m\u001b[0m\u001b[0m\n\u001b[1;32m     65\u001b[0m     \u001b[0;32mif\u001b[0m \u001b[0;32mnot\u001b[0m \u001b[0mself\u001b[0m\u001b[0;34m.\u001b[0m\u001b[0m_in_multi_worker_mode\u001b[0m\u001b[0;34m(\u001b[0m\u001b[0;34m)\u001b[0m\u001b[0;34m:\u001b[0m  \u001b[0;31m# pylint: disable=protected-access\u001b[0m\u001b[0;34m\u001b[0m\u001b[0;34m\u001b[0m\u001b[0m\n\u001b[0;32m---> 66\u001b[0;31m       \u001b[0;32mreturn\u001b[0m \u001b[0mmethod\u001b[0m\u001b[0;34m(\u001b[0m\u001b[0mself\u001b[0m\u001b[0;34m,\u001b[0m \u001b[0;34m*\u001b[0m\u001b[0margs\u001b[0m\u001b[0;34m,\u001b[0m \u001b[0;34m**\u001b[0m\u001b[0mkwargs\u001b[0m\u001b[0;34m)\u001b[0m\u001b[0;34m\u001b[0m\u001b[0;34m\u001b[0m\u001b[0m\n\u001b[0m\u001b[1;32m     67\u001b[0m \u001b[0;34m\u001b[0m\u001b[0m\n\u001b[1;32m     68\u001b[0m     \u001b[0;31m# Running inside `run_distribute_coordinator` already.\u001b[0m\u001b[0;34m\u001b[0m\u001b[0;34m\u001b[0m\u001b[0;34m\u001b[0m\u001b[0m\n",
      "\u001b[0;32m~/anaconda3/envs/aiffel/lib/python3.7/site-packages/tensorflow/python/keras/engine/training.py\u001b[0m in \u001b[0;36mfit\u001b[0;34m(self, x, y, batch_size, epochs, verbose, callbacks, validation_split, validation_data, shuffle, class_weight, sample_weight, initial_epoch, steps_per_epoch, validation_steps, validation_batch_size, validation_freq, max_queue_size, workers, use_multiprocessing)\u001b[0m\n\u001b[1;32m    846\u001b[0m                 batch_size=batch_size):\n\u001b[1;32m    847\u001b[0m               \u001b[0mcallbacks\u001b[0m\u001b[0;34m.\u001b[0m\u001b[0mon_train_batch_begin\u001b[0m\u001b[0;34m(\u001b[0m\u001b[0mstep\u001b[0m\u001b[0;34m)\u001b[0m\u001b[0;34m\u001b[0m\u001b[0;34m\u001b[0m\u001b[0m\n\u001b[0;32m--> 848\u001b[0;31m               \u001b[0mtmp_logs\u001b[0m \u001b[0;34m=\u001b[0m \u001b[0mtrain_function\u001b[0m\u001b[0;34m(\u001b[0m\u001b[0miterator\u001b[0m\u001b[0;34m)\u001b[0m\u001b[0;34m\u001b[0m\u001b[0;34m\u001b[0m\u001b[0m\n\u001b[0m\u001b[1;32m    849\u001b[0m               \u001b[0;31m# Catch OutOfRangeError for Datasets of unknown size.\u001b[0m\u001b[0;34m\u001b[0m\u001b[0;34m\u001b[0m\u001b[0;34m\u001b[0m\u001b[0m\n\u001b[1;32m    850\u001b[0m               \u001b[0;31m# This blocks until the batch has finished executing.\u001b[0m\u001b[0;34m\u001b[0m\u001b[0;34m\u001b[0m\u001b[0;34m\u001b[0m\u001b[0m\n",
      "\u001b[0;32m~/anaconda3/envs/aiffel/lib/python3.7/site-packages/tensorflow/python/eager/def_function.py\u001b[0m in \u001b[0;36m__call__\u001b[0;34m(self, *args, **kwds)\u001b[0m\n\u001b[1;32m    578\u001b[0m         \u001b[0mxla_context\u001b[0m\u001b[0;34m.\u001b[0m\u001b[0mExit\u001b[0m\u001b[0;34m(\u001b[0m\u001b[0;34m)\u001b[0m\u001b[0;34m\u001b[0m\u001b[0;34m\u001b[0m\u001b[0m\n\u001b[1;32m    579\u001b[0m     \u001b[0;32melse\u001b[0m\u001b[0;34m:\u001b[0m\u001b[0;34m\u001b[0m\u001b[0;34m\u001b[0m\u001b[0m\n\u001b[0;32m--> 580\u001b[0;31m       \u001b[0mresult\u001b[0m \u001b[0;34m=\u001b[0m \u001b[0mself\u001b[0m\u001b[0;34m.\u001b[0m\u001b[0m_call\u001b[0m\u001b[0;34m(\u001b[0m\u001b[0;34m*\u001b[0m\u001b[0margs\u001b[0m\u001b[0;34m,\u001b[0m \u001b[0;34m**\u001b[0m\u001b[0mkwds\u001b[0m\u001b[0;34m)\u001b[0m\u001b[0;34m\u001b[0m\u001b[0;34m\u001b[0m\u001b[0m\n\u001b[0m\u001b[1;32m    581\u001b[0m \u001b[0;34m\u001b[0m\u001b[0m\n\u001b[1;32m    582\u001b[0m     \u001b[0;32mif\u001b[0m \u001b[0mtracing_count\u001b[0m \u001b[0;34m==\u001b[0m \u001b[0mself\u001b[0m\u001b[0;34m.\u001b[0m\u001b[0m_get_tracing_count\u001b[0m\u001b[0;34m(\u001b[0m\u001b[0;34m)\u001b[0m\u001b[0;34m:\u001b[0m\u001b[0;34m\u001b[0m\u001b[0;34m\u001b[0m\u001b[0m\n",
      "\u001b[0;32m~/anaconda3/envs/aiffel/lib/python3.7/site-packages/tensorflow/python/eager/def_function.py\u001b[0m in \u001b[0;36m_call\u001b[0;34m(self, *args, **kwds)\u001b[0m\n\u001b[1;32m    625\u001b[0m       \u001b[0;31m# This is the first call of __call__, so we have to initialize.\u001b[0m\u001b[0;34m\u001b[0m\u001b[0;34m\u001b[0m\u001b[0;34m\u001b[0m\u001b[0m\n\u001b[1;32m    626\u001b[0m       \u001b[0minitializers\u001b[0m \u001b[0;34m=\u001b[0m \u001b[0;34m[\u001b[0m\u001b[0;34m]\u001b[0m\u001b[0;34m\u001b[0m\u001b[0;34m\u001b[0m\u001b[0m\n\u001b[0;32m--> 627\u001b[0;31m       \u001b[0mself\u001b[0m\u001b[0;34m.\u001b[0m\u001b[0m_initialize\u001b[0m\u001b[0;34m(\u001b[0m\u001b[0margs\u001b[0m\u001b[0;34m,\u001b[0m \u001b[0mkwds\u001b[0m\u001b[0;34m,\u001b[0m \u001b[0madd_initializers_to\u001b[0m\u001b[0;34m=\u001b[0m\u001b[0minitializers\u001b[0m\u001b[0;34m)\u001b[0m\u001b[0;34m\u001b[0m\u001b[0;34m\u001b[0m\u001b[0m\n\u001b[0m\u001b[1;32m    628\u001b[0m     \u001b[0;32mfinally\u001b[0m\u001b[0;34m:\u001b[0m\u001b[0;34m\u001b[0m\u001b[0;34m\u001b[0m\u001b[0m\n\u001b[1;32m    629\u001b[0m       \u001b[0;31m# At this point we know that the initialization is complete (or less\u001b[0m\u001b[0;34m\u001b[0m\u001b[0;34m\u001b[0m\u001b[0;34m\u001b[0m\u001b[0m\n",
      "\u001b[0;32m~/anaconda3/envs/aiffel/lib/python3.7/site-packages/tensorflow/python/eager/def_function.py\u001b[0m in \u001b[0;36m_initialize\u001b[0;34m(self, args, kwds, add_initializers_to)\u001b[0m\n\u001b[1;32m    504\u001b[0m     self._concrete_stateful_fn = (\n\u001b[1;32m    505\u001b[0m         self._stateful_fn._get_concrete_function_internal_garbage_collected(  # pylint: disable=protected-access\n\u001b[0;32m--> 506\u001b[0;31m             *args, **kwds))\n\u001b[0m\u001b[1;32m    507\u001b[0m \u001b[0;34m\u001b[0m\u001b[0m\n\u001b[1;32m    508\u001b[0m     \u001b[0;32mdef\u001b[0m \u001b[0minvalid_creator_scope\u001b[0m\u001b[0;34m(\u001b[0m\u001b[0;34m*\u001b[0m\u001b[0munused_args\u001b[0m\u001b[0;34m,\u001b[0m \u001b[0;34m**\u001b[0m\u001b[0munused_kwds\u001b[0m\u001b[0;34m)\u001b[0m\u001b[0;34m:\u001b[0m\u001b[0;34m\u001b[0m\u001b[0;34m\u001b[0m\u001b[0m\n",
      "\u001b[0;32m~/anaconda3/envs/aiffel/lib/python3.7/site-packages/tensorflow/python/eager/function.py\u001b[0m in \u001b[0;36m_get_concrete_function_internal_garbage_collected\u001b[0;34m(self, *args, **kwargs)\u001b[0m\n\u001b[1;32m   2444\u001b[0m       \u001b[0margs\u001b[0m\u001b[0;34m,\u001b[0m \u001b[0mkwargs\u001b[0m \u001b[0;34m=\u001b[0m \u001b[0;32mNone\u001b[0m\u001b[0;34m,\u001b[0m \u001b[0;32mNone\u001b[0m\u001b[0;34m\u001b[0m\u001b[0;34m\u001b[0m\u001b[0m\n\u001b[1;32m   2445\u001b[0m     \u001b[0;32mwith\u001b[0m \u001b[0mself\u001b[0m\u001b[0;34m.\u001b[0m\u001b[0m_lock\u001b[0m\u001b[0;34m:\u001b[0m\u001b[0;34m\u001b[0m\u001b[0;34m\u001b[0m\u001b[0m\n\u001b[0;32m-> 2446\u001b[0;31m       \u001b[0mgraph_function\u001b[0m\u001b[0;34m,\u001b[0m \u001b[0m_\u001b[0m\u001b[0;34m,\u001b[0m \u001b[0m_\u001b[0m \u001b[0;34m=\u001b[0m \u001b[0mself\u001b[0m\u001b[0;34m.\u001b[0m\u001b[0m_maybe_define_function\u001b[0m\u001b[0;34m(\u001b[0m\u001b[0margs\u001b[0m\u001b[0;34m,\u001b[0m \u001b[0mkwargs\u001b[0m\u001b[0;34m)\u001b[0m\u001b[0;34m\u001b[0m\u001b[0;34m\u001b[0m\u001b[0m\n\u001b[0m\u001b[1;32m   2447\u001b[0m     \u001b[0;32mreturn\u001b[0m \u001b[0mgraph_function\u001b[0m\u001b[0;34m\u001b[0m\u001b[0;34m\u001b[0m\u001b[0m\n\u001b[1;32m   2448\u001b[0m \u001b[0;34m\u001b[0m\u001b[0m\n",
      "\u001b[0;32m~/anaconda3/envs/aiffel/lib/python3.7/site-packages/tensorflow/python/eager/function.py\u001b[0m in \u001b[0;36m_maybe_define_function\u001b[0;34m(self, args, kwargs)\u001b[0m\n\u001b[1;32m   2775\u001b[0m \u001b[0;34m\u001b[0m\u001b[0m\n\u001b[1;32m   2776\u001b[0m       \u001b[0mself\u001b[0m\u001b[0;34m.\u001b[0m\u001b[0m_function_cache\u001b[0m\u001b[0;34m.\u001b[0m\u001b[0mmissed\u001b[0m\u001b[0;34m.\u001b[0m\u001b[0madd\u001b[0m\u001b[0;34m(\u001b[0m\u001b[0mcall_context_key\u001b[0m\u001b[0;34m)\u001b[0m\u001b[0;34m\u001b[0m\u001b[0;34m\u001b[0m\u001b[0m\n\u001b[0;32m-> 2777\u001b[0;31m       \u001b[0mgraph_function\u001b[0m \u001b[0;34m=\u001b[0m \u001b[0mself\u001b[0m\u001b[0;34m.\u001b[0m\u001b[0m_create_graph_function\u001b[0m\u001b[0;34m(\u001b[0m\u001b[0margs\u001b[0m\u001b[0;34m,\u001b[0m \u001b[0mkwargs\u001b[0m\u001b[0;34m)\u001b[0m\u001b[0;34m\u001b[0m\u001b[0;34m\u001b[0m\u001b[0m\n\u001b[0m\u001b[1;32m   2778\u001b[0m       \u001b[0mself\u001b[0m\u001b[0;34m.\u001b[0m\u001b[0m_function_cache\u001b[0m\u001b[0;34m.\u001b[0m\u001b[0mprimary\u001b[0m\u001b[0;34m[\u001b[0m\u001b[0mcache_key\u001b[0m\u001b[0;34m]\u001b[0m \u001b[0;34m=\u001b[0m \u001b[0mgraph_function\u001b[0m\u001b[0;34m\u001b[0m\u001b[0;34m\u001b[0m\u001b[0m\n\u001b[1;32m   2779\u001b[0m       \u001b[0;32mreturn\u001b[0m \u001b[0mgraph_function\u001b[0m\u001b[0;34m,\u001b[0m \u001b[0margs\u001b[0m\u001b[0;34m,\u001b[0m \u001b[0mkwargs\u001b[0m\u001b[0;34m\u001b[0m\u001b[0;34m\u001b[0m\u001b[0m\n",
      "\u001b[0;32m~/anaconda3/envs/aiffel/lib/python3.7/site-packages/tensorflow/python/eager/function.py\u001b[0m in \u001b[0;36m_create_graph_function\u001b[0;34m(self, args, kwargs, override_flat_arg_shapes)\u001b[0m\n\u001b[1;32m   2665\u001b[0m             \u001b[0marg_names\u001b[0m\u001b[0;34m=\u001b[0m\u001b[0marg_names\u001b[0m\u001b[0;34m,\u001b[0m\u001b[0;34m\u001b[0m\u001b[0;34m\u001b[0m\u001b[0m\n\u001b[1;32m   2666\u001b[0m             \u001b[0moverride_flat_arg_shapes\u001b[0m\u001b[0;34m=\u001b[0m\u001b[0moverride_flat_arg_shapes\u001b[0m\u001b[0;34m,\u001b[0m\u001b[0;34m\u001b[0m\u001b[0;34m\u001b[0m\u001b[0m\n\u001b[0;32m-> 2667\u001b[0;31m             capture_by_value=self._capture_by_value),\n\u001b[0m\u001b[1;32m   2668\u001b[0m         \u001b[0mself\u001b[0m\u001b[0;34m.\u001b[0m\u001b[0m_function_attributes\u001b[0m\u001b[0;34m,\u001b[0m\u001b[0;34m\u001b[0m\u001b[0;34m\u001b[0m\u001b[0m\n\u001b[1;32m   2669\u001b[0m         \u001b[0;31m# Tell the ConcreteFunction to clean up its graph once it goes out of\u001b[0m\u001b[0;34m\u001b[0m\u001b[0;34m\u001b[0m\u001b[0;34m\u001b[0m\u001b[0m\n",
      "\u001b[0;32m~/anaconda3/envs/aiffel/lib/python3.7/site-packages/tensorflow/python/framework/func_graph.py\u001b[0m in \u001b[0;36mfunc_graph_from_py_func\u001b[0;34m(name, python_func, args, kwargs, signature, func_graph, autograph, autograph_options, add_control_dependencies, arg_names, op_return_value, collections, capture_by_value, override_flat_arg_shapes)\u001b[0m\n\u001b[1;32m    979\u001b[0m         \u001b[0m_\u001b[0m\u001b[0;34m,\u001b[0m \u001b[0moriginal_func\u001b[0m \u001b[0;34m=\u001b[0m \u001b[0mtf_decorator\u001b[0m\u001b[0;34m.\u001b[0m\u001b[0munwrap\u001b[0m\u001b[0;34m(\u001b[0m\u001b[0mpython_func\u001b[0m\u001b[0;34m)\u001b[0m\u001b[0;34m\u001b[0m\u001b[0;34m\u001b[0m\u001b[0m\n\u001b[1;32m    980\u001b[0m \u001b[0;34m\u001b[0m\u001b[0m\n\u001b[0;32m--> 981\u001b[0;31m       \u001b[0mfunc_outputs\u001b[0m \u001b[0;34m=\u001b[0m \u001b[0mpython_func\u001b[0m\u001b[0;34m(\u001b[0m\u001b[0;34m*\u001b[0m\u001b[0mfunc_args\u001b[0m\u001b[0;34m,\u001b[0m \u001b[0;34m**\u001b[0m\u001b[0mfunc_kwargs\u001b[0m\u001b[0;34m)\u001b[0m\u001b[0;34m\u001b[0m\u001b[0;34m\u001b[0m\u001b[0m\n\u001b[0m\u001b[1;32m    982\u001b[0m \u001b[0;34m\u001b[0m\u001b[0m\n\u001b[1;32m    983\u001b[0m       \u001b[0;31m# invariant: `func_outputs` contains only Tensors, CompositeTensors,\u001b[0m\u001b[0;34m\u001b[0m\u001b[0;34m\u001b[0m\u001b[0;34m\u001b[0m\u001b[0m\n",
      "\u001b[0;32m~/anaconda3/envs/aiffel/lib/python3.7/site-packages/tensorflow/python/eager/def_function.py\u001b[0m in \u001b[0;36mwrapped_fn\u001b[0;34m(*args, **kwds)\u001b[0m\n\u001b[1;32m    439\u001b[0m         \u001b[0;31m# __wrapped__ allows AutoGraph to swap in a converted function. We give\u001b[0m\u001b[0;34m\u001b[0m\u001b[0;34m\u001b[0m\u001b[0;34m\u001b[0m\u001b[0m\n\u001b[1;32m    440\u001b[0m         \u001b[0;31m# the function a weak reference to itself to avoid a reference cycle.\u001b[0m\u001b[0;34m\u001b[0m\u001b[0;34m\u001b[0m\u001b[0;34m\u001b[0m\u001b[0m\n\u001b[0;32m--> 441\u001b[0;31m         \u001b[0;32mreturn\u001b[0m \u001b[0mweak_wrapped_fn\u001b[0m\u001b[0;34m(\u001b[0m\u001b[0;34m)\u001b[0m\u001b[0;34m.\u001b[0m\u001b[0m__wrapped__\u001b[0m\u001b[0;34m(\u001b[0m\u001b[0;34m*\u001b[0m\u001b[0margs\u001b[0m\u001b[0;34m,\u001b[0m \u001b[0;34m**\u001b[0m\u001b[0mkwds\u001b[0m\u001b[0;34m)\u001b[0m\u001b[0;34m\u001b[0m\u001b[0;34m\u001b[0m\u001b[0m\n\u001b[0m\u001b[1;32m    442\u001b[0m     \u001b[0mweak_wrapped_fn\u001b[0m \u001b[0;34m=\u001b[0m \u001b[0mweakref\u001b[0m\u001b[0;34m.\u001b[0m\u001b[0mref\u001b[0m\u001b[0;34m(\u001b[0m\u001b[0mwrapped_fn\u001b[0m\u001b[0;34m)\u001b[0m\u001b[0;34m\u001b[0m\u001b[0;34m\u001b[0m\u001b[0m\n\u001b[1;32m    443\u001b[0m \u001b[0;34m\u001b[0m\u001b[0m\n",
      "\u001b[0;32m~/anaconda3/envs/aiffel/lib/python3.7/site-packages/tensorflow/python/framework/func_graph.py\u001b[0m in \u001b[0;36mwrapper\u001b[0;34m(*args, **kwargs)\u001b[0m\n\u001b[1;32m    966\u001b[0m           \u001b[0;32mexcept\u001b[0m \u001b[0mException\u001b[0m \u001b[0;32mas\u001b[0m \u001b[0me\u001b[0m\u001b[0;34m:\u001b[0m  \u001b[0;31m# pylint:disable=broad-except\u001b[0m\u001b[0;34m\u001b[0m\u001b[0;34m\u001b[0m\u001b[0m\n\u001b[1;32m    967\u001b[0m             \u001b[0;32mif\u001b[0m \u001b[0mhasattr\u001b[0m\u001b[0;34m(\u001b[0m\u001b[0me\u001b[0m\u001b[0;34m,\u001b[0m \u001b[0;34m\"ag_error_metadata\"\u001b[0m\u001b[0;34m)\u001b[0m\u001b[0;34m:\u001b[0m\u001b[0;34m\u001b[0m\u001b[0;34m\u001b[0m\u001b[0m\n\u001b[0;32m--> 968\u001b[0;31m               \u001b[0;32mraise\u001b[0m \u001b[0me\u001b[0m\u001b[0;34m.\u001b[0m\u001b[0mag_error_metadata\u001b[0m\u001b[0;34m.\u001b[0m\u001b[0mto_exception\u001b[0m\u001b[0;34m(\u001b[0m\u001b[0me\u001b[0m\u001b[0;34m)\u001b[0m\u001b[0;34m\u001b[0m\u001b[0;34m\u001b[0m\u001b[0m\n\u001b[0m\u001b[1;32m    969\u001b[0m             \u001b[0;32melse\u001b[0m\u001b[0;34m:\u001b[0m\u001b[0;34m\u001b[0m\u001b[0;34m\u001b[0m\u001b[0m\n\u001b[1;32m    970\u001b[0m               \u001b[0;32mraise\u001b[0m\u001b[0;34m\u001b[0m\u001b[0;34m\u001b[0m\u001b[0m\n",
      "\u001b[0;31mValueError\u001b[0m: in user code:\n\n    /home/aiffel/anaconda3/envs/aiffel/lib/python3.7/site-packages/tensorflow/python/keras/engine/training.py:571 train_function  *\n        outputs = self.distribute_strategy.run(\n    /home/aiffel/anaconda3/envs/aiffel/lib/python3.7/site-packages/tensorflow/python/distribute/distribute_lib.py:951 run  **\n        return self._extended.call_for_each_replica(fn, args=args, kwargs=kwargs)\n    /home/aiffel/anaconda3/envs/aiffel/lib/python3.7/site-packages/tensorflow/python/distribute/distribute_lib.py:2290 call_for_each_replica\n        return self._call_for_each_replica(fn, args, kwargs)\n    /home/aiffel/anaconda3/envs/aiffel/lib/python3.7/site-packages/tensorflow/python/distribute/distribute_lib.py:2649 _call_for_each_replica\n        return fn(*args, **kwargs)\n    /home/aiffel/anaconda3/envs/aiffel/lib/python3.7/site-packages/tensorflow/python/keras/engine/training.py:531 train_step  **\n        y_pred = self(x, training=True)\n    /home/aiffel/anaconda3/envs/aiffel/lib/python3.7/site-packages/tensorflow/python/keras/engine/base_layer.py:927 __call__\n        outputs = call_fn(cast_inputs, *args, **kwargs)\n    /home/aiffel/anaconda3/envs/aiffel/lib/python3.7/site-packages/tensorflow/python/keras/engine/sequential.py:277 call\n        return super(Sequential, self).call(inputs, training=training, mask=mask)\n    /home/aiffel/anaconda3/envs/aiffel/lib/python3.7/site-packages/tensorflow/python/keras/engine/network.py:719 call\n        convert_kwargs_to_constants=base_layer_utils.call_context().saving)\n    /home/aiffel/anaconda3/envs/aiffel/lib/python3.7/site-packages/tensorflow/python/keras/engine/network.py:888 _run_internal_graph\n        output_tensors = layer(computed_tensors, **kwargs)\n    /home/aiffel/anaconda3/envs/aiffel/lib/python3.7/site-packages/tensorflow/python/keras/engine/base_layer.py:927 __call__\n        outputs = call_fn(cast_inputs, *args, **kwargs)\n    /home/aiffel/anaconda3/envs/aiffel/lib/python3.7/site-packages/tensorflow/python/keras/layers/convolutional.py:207 call\n        outputs = self._convolution_op(inputs, self.kernel)\n    /home/aiffel/anaconda3/envs/aiffel/lib/python3.7/site-packages/tensorflow/python/ops/nn_ops.py:1106 __call__\n        return self.conv_op(inp, filter)\n    /home/aiffel/anaconda3/envs/aiffel/lib/python3.7/site-packages/tensorflow/python/ops/nn_ops.py:638 __call__\n        return self.call(inp, filter)\n    /home/aiffel/anaconda3/envs/aiffel/lib/python3.7/site-packages/tensorflow/python/ops/nn_ops.py:237 __call__\n        name=self.name)\n    /home/aiffel/anaconda3/envs/aiffel/lib/python3.7/site-packages/tensorflow/python/ops/nn_ops.py:226 _conv1d\n        name=name)\n    /home/aiffel/anaconda3/envs/aiffel/lib/python3.7/site-packages/tensorflow/python/util/deprecation.py:574 new_func\n        return func(*args, **kwargs)\n    /home/aiffel/anaconda3/envs/aiffel/lib/python3.7/site-packages/tensorflow/python/util/deprecation.py:574 new_func\n        return func(*args, **kwargs)\n    /home/aiffel/anaconda3/envs/aiffel/lib/python3.7/site-packages/tensorflow/python/ops/nn_ops.py:1663 conv1d\n        name=name)\n    /home/aiffel/anaconda3/envs/aiffel/lib/python3.7/site-packages/tensorflow/python/ops/gen_nn_ops.py:969 conv2d\n        data_format=data_format, dilations=dilations, name=name)\n    /home/aiffel/anaconda3/envs/aiffel/lib/python3.7/site-packages/tensorflow/python/framework/op_def_library.py:744 _apply_op_helper\n        attrs=attr_protos, op_def=op_def)\n    /home/aiffel/anaconda3/envs/aiffel/lib/python3.7/site-packages/tensorflow/python/framework/func_graph.py:595 _create_op_internal\n        compute_device)\n    /home/aiffel/anaconda3/envs/aiffel/lib/python3.7/site-packages/tensorflow/python/framework/ops.py:3327 _create_op_internal\n        op_def=op_def)\n    /home/aiffel/anaconda3/envs/aiffel/lib/python3.7/site-packages/tensorflow/python/framework/ops.py:1817 __init__\n        control_input_ops, op_def)\n    /home/aiffel/anaconda3/envs/aiffel/lib/python3.7/site-packages/tensorflow/python/framework/ops.py:1657 _create_c_op\n        raise ValueError(str(e))\n\n    ValueError: Negative dimension size caused by subtracting 100 from 54 for '{{node sequential_20/conv1d_16/conv1d}} = Conv2D[T=DT_FLOAT, data_format=\"NHWC\", dilations=[1, 1, 1, 1], explicit_paddings=[], padding=\"VALID\", strides=[1, 1, 1, 1], use_cudnn_on_gpu=true](sequential_20/conv1d_16/conv1d/ExpandDims, sequential_20/conv1d_16/conv1d/ExpandDims_1)' with input shapes: [?,1,54,200], [1,100,200,256].\n"
     ]
    }
   ],
   "source": [
    "# model 1\n",
    "word2vec_model.compile(optimizer = tf.keras.optimizers.Adam(), loss = \"binary_crossentropy\", metrics = [\"accuracy\"])\n",
    "\n",
    "history4 = word2vec_model.fit(real_x_train, real_y_train, epochs = 20, batch_size = 512, validation_data = (X_val, y_val), verbose = 1)"
   ]
  },
  {
   "cell_type": "code",
   "execution_count": 179,
   "metadata": {},
   "outputs": [
    {
     "data": {
      "text/plain": [
       "(100000, 54)"
      ]
     },
     "execution_count": 179,
     "metadata": {},
     "output_type": "execute_result"
    }
   ],
   "source": [
    "real_x_train.shape"
   ]
  },
  {
   "cell_type": "code",
   "execution_count": 186,
   "metadata": {},
   "outputs": [
    {
     "name": "stdout",
     "output_type": "stream",
     "text": [
      "Epoch 1/20\n",
      "196/196 [==============================] - 11s 57ms/step - loss: 0.4747 - accuracy: 0.7625 - val_loss: 0.3977 - val_accuracy: 0.8132\n",
      "Epoch 2/20\n",
      "196/196 [==============================] - 11s 55ms/step - loss: 0.3740 - accuracy: 0.8292 - val_loss: 0.3731 - val_accuracy: 0.8291\n",
      "Epoch 3/20\n",
      "196/196 [==============================] - 11s 55ms/step - loss: 0.3402 - accuracy: 0.8448 - val_loss: 0.3602 - val_accuracy: 0.8326\n",
      "Epoch 4/20\n",
      "196/196 [==============================] - 11s 56ms/step - loss: 0.3093 - accuracy: 0.8605 - val_loss: 0.3617 - val_accuracy: 0.8333\n",
      "Epoch 5/20\n",
      "196/196 [==============================] - 11s 55ms/step - loss: 0.2788 - accuracy: 0.8765 - val_loss: 0.3641 - val_accuracy: 0.8327\n",
      "Epoch 6/20\n",
      "196/196 [==============================] - 11s 57ms/step - loss: 0.2454 - accuracy: 0.8918 - val_loss: 0.3888 - val_accuracy: 0.8354\n",
      "Epoch 7/20\n",
      "196/196 [==============================] - 11s 54ms/step - loss: 0.2089 - accuracy: 0.9092 - val_loss: 0.4182 - val_accuracy: 0.8322\n",
      "Epoch 8/20\n",
      "196/196 [==============================] - 10s 53ms/step - loss: 0.1732 - accuracy: 0.9252 - val_loss: 0.4636 - val_accuracy: 0.8273\n",
      "Epoch 9/20\n",
      "196/196 [==============================] - 10s 53ms/step - loss: 0.1426 - accuracy: 0.9388 - val_loss: 0.5291 - val_accuracy: 0.8262\n",
      "Epoch 10/20\n",
      "196/196 [==============================] - 10s 53ms/step - loss: 0.1185 - accuracy: 0.9488 - val_loss: 0.6041 - val_accuracy: 0.8200\n",
      "Epoch 11/20\n",
      "196/196 [==============================] - 10s 53ms/step - loss: 0.0986 - accuracy: 0.9578 - val_loss: 0.6421 - val_accuracy: 0.8230\n",
      "Epoch 12/20\n",
      "196/196 [==============================] - 11s 54ms/step - loss: 0.0796 - accuracy: 0.9653 - val_loss: 0.7267 - val_accuracy: 0.8206\n",
      "Epoch 13/20\n",
      "196/196 [==============================] - 11s 54ms/step - loss: 0.0701 - accuracy: 0.9700 - val_loss: 0.7766 - val_accuracy: 0.8213\n",
      "Epoch 14/20\n",
      "196/196 [==============================] - 11s 54ms/step - loss: 0.0635 - accuracy: 0.9730 - val_loss: 0.8153 - val_accuracy: 0.8206\n",
      "Epoch 15/20\n",
      "196/196 [==============================] - 11s 54ms/step - loss: 0.0546 - accuracy: 0.9769 - val_loss: 0.8736 - val_accuracy: 0.8215\n",
      "Epoch 16/20\n",
      "196/196 [==============================] - 10s 53ms/step - loss: 0.0551 - accuracy: 0.9762 - val_loss: 0.9005 - val_accuracy: 0.8191\n",
      "Epoch 17/20\n",
      "196/196 [==============================] - 11s 54ms/step - loss: 0.0480 - accuracy: 0.9791 - val_loss: 0.9353 - val_accuracy: 0.8176\n",
      "Epoch 18/20\n",
      "196/196 [==============================] - 11s 56ms/step - loss: 0.0430 - accuracy: 0.9810 - val_loss: 0.9978 - val_accuracy: 0.8207\n",
      "Epoch 19/20\n",
      "196/196 [==============================] - 10s 53ms/step - loss: 0.0382 - accuracy: 0.9829 - val_loss: 1.0412 - val_accuracy: 0.8188\n",
      "Epoch 20/20\n",
      "196/196 [==============================] - 10s 53ms/step - loss: 0.0414 - accuracy: 0.9815 - val_loss: 1.0454 - val_accuracy: 0.8208\n"
     ]
    }
   ],
   "source": [
    "# model 2\n",
    "word2vec_model2.compile(optimizer = tf.keras.optimizers.Adam(), loss = \"binary_crossentropy\", metrics = [\"accuracy\"])\n",
    "\n",
    "history5 = word2vec_model2.fit(real_x_train, real_y_train, epochs = 20, batch_size = 512, validation_data = (X_val, y_val), verbose = 1)"
   ]
  },
  {
   "cell_type": "code",
   "execution_count": 191,
   "metadata": {},
   "outputs": [
    {
     "name": "stdout",
     "output_type": "stream",
     "text": [
      "Epoch 1/20\n",
      "196/196 [==============================] - 8s 39ms/step - loss: 0.6837 - accuracy: 0.5905 - val_loss: 0.6256 - val_accuracy: 0.6557\n",
      "Epoch 2/20\n",
      "196/196 [==============================] - 8s 39ms/step - loss: 0.5835 - accuracy: 0.7011 - val_loss: 0.5370 - val_accuracy: 0.7332\n",
      "Epoch 3/20\n",
      "196/196 [==============================] - 8s 40ms/step - loss: 0.5078 - accuracy: 0.7505 - val_loss: 0.4774 - val_accuracy: 0.7689\n",
      "Epoch 4/20\n",
      "196/196 [==============================] - 8s 40ms/step - loss: 0.4625 - accuracy: 0.7797 - val_loss: 0.4494 - val_accuracy: 0.7848\n",
      "Epoch 5/20\n",
      "196/196 [==============================] - 7s 38ms/step - loss: 0.4391 - accuracy: 0.7937 - val_loss: 0.4346 - val_accuracy: 0.7948\n",
      "Epoch 6/20\n",
      "196/196 [==============================] - 7s 38ms/step - loss: 0.4245 - accuracy: 0.8019 - val_loss: 0.4275 - val_accuracy: 0.7986\n",
      "Epoch 7/20\n",
      "196/196 [==============================] - 8s 39ms/step - loss: 0.4146 - accuracy: 0.8073 - val_loss: 0.4200 - val_accuracy: 0.8043\n",
      "Epoch 8/20\n",
      "196/196 [==============================] - 8s 39ms/step - loss: 0.4053 - accuracy: 0.8131 - val_loss: 0.4129 - val_accuracy: 0.8073\n",
      "Epoch 9/20\n",
      "196/196 [==============================] - 7s 38ms/step - loss: 0.3993 - accuracy: 0.8160 - val_loss: 0.4106 - val_accuracy: 0.8092\n",
      "Epoch 10/20\n",
      "196/196 [==============================] - 7s 38ms/step - loss: 0.3928 - accuracy: 0.8193 - val_loss: 0.4071 - val_accuracy: 0.8108\n",
      "Epoch 11/20\n",
      "196/196 [==============================] - 8s 39ms/step - loss: 0.3883 - accuracy: 0.8217 - val_loss: 0.4081 - val_accuracy: 0.8086\n",
      "Epoch 12/20\n",
      "196/196 [==============================] - 8s 42ms/step - loss: 0.3842 - accuracy: 0.8242 - val_loss: 0.4025 - val_accuracy: 0.8127\n",
      "Epoch 13/20\n",
      "196/196 [==============================] - 8s 41ms/step - loss: 0.3793 - accuracy: 0.8264 - val_loss: 0.4043 - val_accuracy: 0.8100\n",
      "Epoch 14/20\n",
      "196/196 [==============================] - 8s 41ms/step - loss: 0.3747 - accuracy: 0.8292 - val_loss: 0.4024 - val_accuracy: 0.8107\n",
      "Epoch 15/20\n",
      "196/196 [==============================] - 8s 39ms/step - loss: 0.3721 - accuracy: 0.8308 - val_loss: 0.4004 - val_accuracy: 0.8124\n",
      "Epoch 16/20\n",
      "196/196 [==============================] - 8s 39ms/step - loss: 0.3680 - accuracy: 0.8332 - val_loss: 0.4020 - val_accuracy: 0.8122\n",
      "Epoch 17/20\n",
      "196/196 [==============================] - 8s 39ms/step - loss: 0.3649 - accuracy: 0.8354 - val_loss: 0.3982 - val_accuracy: 0.8148\n",
      "Epoch 18/20\n",
      "196/196 [==============================] - 8s 39ms/step - loss: 0.3629 - accuracy: 0.8362 - val_loss: 0.4017 - val_accuracy: 0.8114\n",
      "Epoch 19/20\n",
      "196/196 [==============================] - 8s 39ms/step - loss: 0.3612 - accuracy: 0.8366 - val_loss: 0.3975 - val_accuracy: 0.8161\n",
      "Epoch 20/20\n",
      "196/196 [==============================] - 8s 39ms/step - loss: 0.3571 - accuracy: 0.8388 - val_loss: 0.3983 - val_accuracy: 0.8165\n"
     ]
    }
   ],
   "source": [
    "# model 3\n",
    "word2vec_model3.compile(optimizer = tf.keras.optimizers.Adam(), loss = \"binary_crossentropy\", metrics = [\"accuracy\"])\n",
    "\n",
    "history6 = word2vec_model3.fit(real_x_train, real_y_train, epochs = 20, batch_size = 512, validation_data = (X_val, y_val), verbose = 1)"
   ]
  },
  {
   "cell_type": "markdown",
   "metadata": {},
   "source": [
    "## 회고"
   ]
  },
  {
   "cell_type": "code",
   "execution_count": null,
   "metadata": {},
   "outputs": [],
   "source": [
    "# 요번 과제는 너무 어려운 것 같음. 과제로는 처음으로 모르는 개념(선행 공부 해보지도 않은)이였는데 노드만 가지고 코드까지 짤 수 있도록 이해하는 것이\n",
    "# 힘들었음. 하지만 구글링을 열심히 해도 힘들었던 것을 보면 개념 자체가 어려운것 같기도 함.\n",
    "\n",
    "# 코드를 짜면서 모델생성까지는 어찌어찌 했지만 내가 무엇을 하는지 잘 모른 상태로 진행한 것 같음.\n",
    "\n",
    "# 8) 한국어 Word2Vec 임베딩 활용하여 성능개선\n",
    "# 한국어 Word2Vec은 다음 경로에서 구할 수 있습니다.\n",
    "# https://github.com/Kyubyong/wordvectors\n",
    "# 이라고 써있는데 막상 안에 들어가서 어떻게 얻을 수 있는지를 몰라서 구글링을 통해 얻었음.(같은것인지 모르겠지만...)\n",
    "\n",
    "# 임베딩 레이어 분석에서 나오는 숫자들이 어떻게 나오면 어떻게 해석해야하는지를 모르겠음.\n",
    "\n",
    "# 전체적으로 엉망인...과제인 것 같음. 나중에 다시 도전해야 할 것 같음."
   ]
  }
 ],
 "metadata": {
  "kernelspec": {
   "display_name": "Python 3",
   "language": "python",
   "name": "python3"
  },
  "language_info": {
   "codemirror_mode": {
    "name": "ipython",
    "version": 3
   },
   "file_extension": ".py",
   "mimetype": "text/x-python",
   "name": "python",
   "nbconvert_exporter": "python",
   "pygments_lexer": "ipython3",
   "version": "3.7.9"
  }
 },
 "nbformat": 4,
 "nbformat_minor": 4
}
