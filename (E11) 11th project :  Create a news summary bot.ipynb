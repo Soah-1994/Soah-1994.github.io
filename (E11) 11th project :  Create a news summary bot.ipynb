{
 "cells": [
  {
   "cell_type": "markdown",
   "id": "fluid-index",
   "metadata": {},
   "source": [
    "#### 1. 패키지 로딩하기"
   ]
  },
  {
   "cell_type": "code",
   "execution_count": 5,
   "id": "quality-diving",
   "metadata": {},
   "outputs": [],
   "source": [
    "# urllib.request.urlretrieve(\"https://raw.githubusercontent.com/thushv89/attention_keras/master/src/layers/attention.py\", \n",
    "#                            filename = \"attention.py\")\n",
    "\n",
    "from bs4 import BeautifulSoup\n",
    "from nltk.corpus import stopwords\n",
    "from attention import AttentionLayer\n",
    "from summa.summarizer import summarize\n",
    "from tensorflow.keras.models import Model\n",
    "from tensorflow.keras.preprocessing.text import Tokenizer\n",
    "from tensorflow.keras.preprocessing.sequence import pad_sequences\n",
    "from tensorflow.keras.callbacks import EarlyStopping, ModelCheckpoint\n",
    "from tensorflow.keras.layers import Input, LSTM, Embedding, Dense, Concatenate\n",
    "\n",
    "import os\n",
    "import re\n",
    "import nltk\n",
    "import requests\n",
    "import numpy as np\n",
    "import pandas as pd\n",
    "import urllib.request\n",
    "import matplotlib.pyplot as plt"
   ]
  },
  {
   "cell_type": "markdown",
   "id": "nervous-african",
   "metadata": {},
   "source": [
    "#### 2. 데이터 불러오기"
   ]
  },
  {
   "cell_type": "code",
   "execution_count": 2,
   "id": "special-exclusive",
   "metadata": {},
   "outputs": [],
   "source": [
    "data_path = os.getenv(\"HOME\") + \"/aiffel/news_summarization/data/news_summary_more.csv\" # 데이터 경로 지정\n",
    "data      = pd.read_csv(data_path, encoding = \"iso-8859-1\")                             # 데이터 불러오기"
   ]
  },
  {
   "cell_type": "markdown",
   "id": "drawn-rider",
   "metadata": {},
   "source": [
    "## 추상적 요약 해보기"
   ]
  },
  {
   "cell_type": "markdown",
   "id": "communist-celtic",
   "metadata": {},
   "source": [
    "#### 3. 데이터 전처리"
   ]
  },
  {
   "cell_type": "markdown",
   "id": "black-property",
   "metadata": {},
   "source": [
    "* 3_1. 랜덤으로 샘플 5개를 출력하기"
   ]
  },
  {
   "cell_type": "code",
   "execution_count": 3,
   "id": "brilliant-wonder",
   "metadata": {},
   "outputs": [
    {
     "data": {
      "text/html": [
       "<div>\n",
       "<style scoped>\n",
       "    .dataframe tbody tr th:only-of-type {\n",
       "        vertical-align: middle;\n",
       "    }\n",
       "\n",
       "    .dataframe tbody tr th {\n",
       "        vertical-align: top;\n",
       "    }\n",
       "\n",
       "    .dataframe thead th {\n",
       "        text-align: right;\n",
       "    }\n",
       "</style>\n",
       "<table border=\"1\" class=\"dataframe\">\n",
       "  <thead>\n",
       "    <tr style=\"text-align: right;\">\n",
       "      <th></th>\n",
       "      <th>headlines</th>\n",
       "      <th>text</th>\n",
       "    </tr>\n",
       "  </thead>\n",
       "  <tbody>\n",
       "    <tr>\n",
       "      <th>27665</th>\n",
       "      <td>PM fitness video shot by PMO staffer, no money...</td>\n",
       "      <td>After Congress leader Shashi Tharoor tweeted t...</td>\n",
       "    </tr>\n",
       "    <tr>\n",
       "      <th>10506</th>\n",
       "      <td>French Prez's European army proposal 'very ins...</td>\n",
       "      <td>US President Donald Trump has called French Pr...</td>\n",
       "    </tr>\n",
       "    <tr>\n",
       "      <th>92025</th>\n",
       "      <td>Man returns home after 7-year cycling trip aro...</td>\n",
       "      <td>A 35-year-old man from England, Leigh Timmis, ...</td>\n",
       "    </tr>\n",
       "    <tr>\n",
       "      <th>18920</th>\n",
       "      <td>Myanmar army apologises for fake pics in Rohin...</td>\n",
       "      <td>The Myanmar military on Monday issued an apolo...</td>\n",
       "    </tr>\n",
       "    <tr>\n",
       "      <th>34697</th>\n",
       "      <td>Sunil Grover to feature in Salman Khan's 'Bhar...</td>\n",
       "      <td>According to reports, comedian Sunil Grover wi...</td>\n",
       "    </tr>\n",
       "  </tbody>\n",
       "</table>\n",
       "</div>"
      ],
      "text/plain": [
       "                                               headlines  \\\n",
       "27665  PM fitness video shot by PMO staffer, no money...   \n",
       "10506  French Prez's European army proposal 'very ins...   \n",
       "92025  Man returns home after 7-year cycling trip aro...   \n",
       "18920  Myanmar army apologises for fake pics in Rohin...   \n",
       "34697  Sunil Grover to feature in Salman Khan's 'Bhar...   \n",
       "\n",
       "                                                    text  \n",
       "27665  After Congress leader Shashi Tharoor tweeted t...  \n",
       "10506  US President Donald Trump has called French Pr...  \n",
       "92025  A 35-year-old man from England, Leigh Timmis, ...  \n",
       "18920  The Myanmar military on Monday issued an apolo...  \n",
       "34697  According to reports, comedian Sunil Grover wi...  "
      ]
     },
     "execution_count": 3,
     "metadata": {},
     "output_type": "execute_result"
    }
   ],
   "source": [
    "data.sample(5)"
   ]
  },
  {
   "cell_type": "markdown",
   "id": "secret-scheme",
   "metadata": {},
   "source": [
    "* 3_2. 데이터 전체 길이 보기"
   ]
  },
  {
   "cell_type": "code",
   "execution_count": 4,
   "id": "distributed-router",
   "metadata": {},
   "outputs": [
    {
     "name": "stdout",
     "output_type": "stream",
     "text": [
      "전체 데이터 갯수 : 98401\n"
     ]
    }
   ],
   "source": [
    "print(\"전체 데이터 갯수 :\", len(data))"
   ]
  },
  {
   "cell_type": "markdown",
   "id": "radio-essence",
   "metadata": {},
   "source": [
    "* 3_3. 데이터 칼럼 보기"
   ]
  },
  {
   "cell_type": "code",
   "execution_count": 5,
   "id": "eligible-stress",
   "metadata": {},
   "outputs": [
    {
     "data": {
      "text/plain": [
       "Index(['headlines', 'text'], dtype='object')"
      ]
     },
     "execution_count": 5,
     "metadata": {},
     "output_type": "execute_result"
    }
   ],
   "source": [
    "data.columns # 노드와 비교하자면 headlines은 Summary(요약된 데이터)로 볼 수 있고, text는 Text(본문)로 볼 수 있다."
   ]
  },
  {
   "cell_type": "markdown",
   "id": "opponent-gibson",
   "metadata": {},
   "source": [
    "* 3_4. 중복된 데이터 파악하기"
   ]
  },
  {
   "cell_type": "code",
   "execution_count": 6,
   "id": "recorded-debut",
   "metadata": {},
   "outputs": [
    {
     "name": "stdout",
     "output_type": "stream",
     "text": [
      "headline의 데이터 갯수 : 98401\n",
      "headlines의 중복 데이터 갯수 : 121\n",
      "headlines의 중복을 제외한 데이터 갯수 : 98280\n",
      "\n",
      "text의 데이터 갯수 : 98401\n",
      "text의 중복 데이터 갯수 : 41\n",
      "text의 중복을 제외한 데이터 갯수 : 98360\n"
     ]
    }
   ],
   "source": [
    "print(\"headline의 데이터 갯수 :\",               len(data[\"headlines\"]))\n",
    "print(\"headlines의 중복 데이터 갯수 :\",         len(data[\"headlines\"]) - data[\"headlines\"].nunique())\n",
    "print(\"headlines의 중복을 제외한 데이터 갯수 :\", data[\"headlines\"].nunique())\n",
    "print(\"\\ntext의 데이터 갯수 :\",                 len(data[\"text\"]))\n",
    "print(\"text의 중복 데이터 갯수 :\",              len(data[\"text\"]) - data[\"text\"].nunique())\n",
    "print(\"text의 중복을 제외한 데이터 갯수 :\",      data[\"text\"].nunique())"
   ]
  },
  {
   "cell_type": "markdown",
   "id": "marked-scheme",
   "metadata": {},
   "source": [
    "* 3_5. 중복된 데이터 제거하기"
   ]
  },
  {
   "cell_type": "code",
   "execution_count": 7,
   "id": "insured-publisher",
   "metadata": {},
   "outputs": [
    {
     "name": "stdout",
     "output_type": "stream",
     "text": [
      "중복제거 후 데이터 갯수 : 98360\n"
     ]
    }
   ],
   "source": [
    "# 뉴스가 제목은 중복될 수 있어도 내용이 중복되는 것은 없을 거라 생각이 되므로 text의 중복 데이터만 지우기로 했다.\n",
    "data.drop_duplicates(subset = [\"text\"], inplace = True)\n",
    "\n",
    "print(\"중복제거 후 데이터 갯수 :\", len(data)) # 위의 text의 중복을 제외한 데이터 갯수와 일치하면 성공"
   ]
  },
  {
   "cell_type": "markdown",
   "id": "future-german",
   "metadata": {},
   "source": [
    "* 3_6. 결측치 확인하기"
   ]
  },
  {
   "cell_type": "code",
   "execution_count": 8,
   "id": "average-outreach",
   "metadata": {},
   "outputs": [
    {
     "data": {
      "text/plain": [
       "headlines    0\n",
       "text         0\n",
       "dtype: int64"
      ]
     },
     "execution_count": 8,
     "metadata": {},
     "output_type": "execute_result"
    }
   ],
   "source": [
    "data.isnull().sum() # 없음"
   ]
  },
  {
   "cell_type": "markdown",
   "id": "motivated-coffee",
   "metadata": {},
   "source": [
    "* 3_7. 데이터 정규화 사전 준비하기"
   ]
  },
  {
   "cell_type": "code",
   "execution_count": 9,
   "id": "coupled-number",
   "metadata": {},
   "outputs": [
    {
     "name": "stdout",
     "output_type": "stream",
     "text": [
      "정규화 사전의 수: 120\n"
     ]
    }
   ],
   "source": [
    "# 사전은 노드의 코드를 가져다씀.\n",
    "contractions = {\"ain't\": \"is not\", \"aren't\": \"are not\",\"can't\": \"cannot\", \"'cause\": \"because\", \"could've\": \"could have\", \n",
    "                \"couldn't\": \"could not\", \"didn't\": \"did not\",  \"doesn't\": \"does not\", \"don't\": \"do not\", \"hadn't\": \"had not\",\n",
    "                \"hasn't\": \"has not\", \"haven't\": \"have not\", \"he'd\": \"he would\",\"he'll\": \"he will\", \"he's\": \"he is\", \"how'd\": \"how did\",\n",
    "                \"how'd'y\": \"how do you\", \"how'll\": \"how will\", \"how's\": \"how is\", \"I'd\": \"I would\", \"I'd've\": \"I would have\", \n",
    "                \"I'll\": \"I will\", \"I'll've\": \"I will have\",\"I'm\": \"I am\", \"I've\": \"I have\", \"i'd\": \"i would\", \"i'd've\": \"i would have\", \n",
    "                \"i'll\": \"i will\",  \"i'll've\": \"i will have\",\"i'm\": \"i am\", \"i've\": \"i have\", \"isn't\": \"is not\", \"it'd\": \"it would\",\n",
    "                \"it'd've\": \"it would have\", \"it'll\": \"it will\", \"it'll've\": \"it will have\",\"it's\": \"it is\", \"let's\": \"let us\", \n",
    "                \"ma'am\": \"madam\", \"mayn't\": \"may not\", \"might've\": \"might have\",\"mightn't\": \"might not\",\"mightn't've\": \"might not have\", \n",
    "                \"must've\": \"must have\", \"mustn't\": \"must not\", \"mustn't've\": \"must not have\", \"needn't\": \"need not\", \n",
    "                \"needn't've\": \"need not have\",\"o'clock\": \"of the clock\", \"oughtn't\": \"ought not\", \"oughtn't've\": \"ought not have\", \n",
    "                \"shan't\": \"shall not\", \"sha'n't\": \"shall not\", \"shan't've\": \"shall not have\", \"she'd\": \"she would\", \n",
    "                \"she'd've\": \"she would have\", \"she'll\": \"she will\", \"she'll've\": \"she will have\", \"she's\": \"she is\", \n",
    "                \"should've\": \"should have\", \"shouldn't\": \"should not\", \"shouldn't've\": \"should not have\", \"so've\": \"so have\",\n",
    "                \"so's\": \"so as\", \"this's\": \"this is\",\"that'd\": \"that would\", \"that'd've\": \"that would have\", \"that's\": \"that is\", \n",
    "                \"there'd\": \"there would\", \"there'd've\": \"there would have\", \"there's\": \"there is\", \"here's\": \"here is\", \n",
    "                \"they'd\": \"they would\", \"they'd've\": \"they would have\", \"they'll\": \"they will\", \"they'll've\": \"they will have\", \n",
    "                \"they're\": \"they are\", \"they've\": \"they have\", \"to've\": \"to have\", \"wasn't\": \"was not\", \"we'd\": \"we would\", \n",
    "                \"we'd've\": \"we would have\", \"we'll\": \"we will\", \"we'll've\": \"we will have\", \"we're\": \"we are\", \"we've\": \"we have\", \n",
    "                \"weren't\": \"were not\", \"what'll\": \"what will\", \"what'll've\": \"what will have\", \"what're\": \"what are\", \"what's\": \"what is\", \n",
    "                \"what've\": \"what have\", \"when's\": \"when is\", \"when've\": \"when have\", \"where'd\": \"where did\", \"where's\": \"where is\",\n",
    "                \"where've\": \"where have\", \"who'll\": \"who will\", \"who'll've\": \"who will have\", \"who's\": \"who is\", \"who've\": \"who have\",\n",
    "                \"why's\": \"why is\", \"why've\": \"why have\", \"will've\": \"will have\", \"won't\": \"will not\", \"won't've\": \"will not have\",\n",
    "                \"would've\": \"would have\", \"wouldn't\": \"would not\", \"wouldn't've\": \"would not have\", \"y'all\": \"you all\",\n",
    "                \"y'all'd\": \"you all would\",\"y'all'd've\": \"you all would have\",\"y'all're\": \"you all are\",\"y'all've\": \"you all have\",\n",
    "                \"you'd\": \"you would\", \"you'd've\": \"you would have\", \"you'll\": \"you will\", \"you'll've\": \"you will have\",\n",
    "                \"you're\": \"you are\", \"you've\": \"you have\"}\n",
    "\n",
    "print(\"정규화 사전의 수:\", len(contractions))"
   ]
  },
  {
   "cell_type": "markdown",
   "id": "revised-mother",
   "metadata": {},
   "source": [
    "* 3_8. 불용어(stopword) 사전 준비하기"
   ]
  },
  {
   "cell_type": "code",
   "execution_count": 10,
   "id": "provincial-dancing",
   "metadata": {},
   "outputs": [
    {
     "name": "stdout",
     "output_type": "stream",
     "text": [
      "불용어 갯수 : 179\n",
      "['i', 'me', 'my', 'myself', 'we', 'our', 'ours', 'ourselves', 'you', \"you're\", \"you've\", \"you'll\", \"you'd\", 'your', 'yours', 'yourself', 'yourselves', 'he', 'him', 'his', 'himself', 'she', \"she's\", 'her', 'hers', 'herself', 'it', \"it's\", 'its', 'itself', 'they', 'them', 'their', 'theirs', 'themselves', 'what', 'which', 'who', 'whom', 'this', 'that', \"that'll\", 'these', 'those', 'am', 'is', 'are', 'was', 'were', 'be', 'been', 'being', 'have', 'has', 'had', 'having', 'do', 'does', 'did', 'doing', 'a', 'an', 'the', 'and', 'but', 'if', 'or', 'because', 'as', 'until', 'while', 'of', 'at', 'by', 'for', 'with', 'about', 'against', 'between', 'into', 'through', 'during', 'before', 'after', 'above', 'below', 'to', 'from', 'up', 'down', 'in', 'out', 'on', 'off', 'over', 'under', 'again', 'further', 'then', 'once', 'here', 'there', 'when', 'where', 'why', 'how', 'all', 'any', 'both', 'each', 'few', 'more', 'most', 'other', 'some', 'such', 'no', 'nor', 'not', 'only', 'own', 'same', 'so', 'than', 'too', 'very', 's', 't', 'can', 'will', 'just', 'don', \"don't\", 'should', \"should've\", 'now', 'd', 'll', 'm', 'o', 're', 've', 'y', 'ain', 'aren', \"aren't\", 'couldn', \"couldn't\", 'didn', \"didn't\", 'doesn', \"doesn't\", 'hadn', \"hadn't\", 'hasn', \"hasn't\", 'haven', \"haven't\", 'isn', \"isn't\", 'ma', 'mightn', \"mightn't\", 'mustn', \"mustn't\", 'needn', \"needn't\", 'shan', \"shan't\", 'shouldn', \"shouldn't\", 'wasn', \"wasn't\", 'weren', \"weren't\", 'won', \"won't\", 'wouldn', \"wouldn't\"]\n"
     ]
    }
   ],
   "source": [
    "print(\"불용어 갯수 :\", len(stopwords.words(\"english\")))\n",
    "print(stopwords.words(\"english\"))"
   ]
  },
  {
   "cell_type": "markdown",
   "id": "actual-scroll",
   "metadata": {},
   "source": [
    "* 3_9. 데이터 전처리를 해주는 함수 만들기"
   ]
  },
  {
   "cell_type": "code",
   "execution_count": 11,
   "id": "daily-margin",
   "metadata": {},
   "outputs": [],
   "source": [
    "def preprocess_data(sentence, remove_stopwords = True): # sentence = 받을 문장, remove_stopwords = 불용어 제거 여부\n",
    "    sentence = sentence.lower()                         # 텍스트 소문자로 변환\n",
    "    sentence = BeautifulSoup(sentence, \"lxml\").text     # <a href = ...> 등의 html 태그 제거\n",
    "    sentence = re.sub(r\"\\([^)]*\\)\", \"\", sentence)       # 괄호로 닫힌 문자열 제거,  ex) my husband (and myself!) for => my husband for\n",
    "    sentence = re.sub('\"\"', \"\", sentence)               # 쌍따옴표(\"\") 제거\n",
    "    sentence = \" \".join([contractions[t] if t in contractions else t for t in sentence.split(\" \")]) # 약어 정규화\n",
    "    sentence = re.sub(r\"s\\b\", \"\", sentence)             # 소유격 제거, ex) roland's -> roland\n",
    "    sentence = re.sub(\"[^a-zA-Z]\", \" \", sentence)       # 영어 외 문자(숫자, 특수문자 등) 공백으로 변환\n",
    "    sentence = re.sub(\"[m]{2,}\", \"mm\", sentence)        # m이 3개 이상이면 2개로 변경, ex) ummmmmmm yeah -> umm yeah\n",
    "    \n",
    "    # 불용어 제거 (text용)\n",
    "    if remove_stopwords:\n",
    "        tokens = \" \".join(word for word in sentence.split() if not word in stopwords.words(\"english\") if len(word) > 1)\n",
    "    # 불용어 미제거 (headlines용)\n",
    "    else:\n",
    "        tokens = \" \".join(word for word in sentence.split() if len(word) > 1)\n",
    "    \n",
    "    return tokens"
   ]
  },
  {
   "cell_type": "code",
   "execution_count": 12,
   "id": "cutting-recording",
   "metadata": {},
   "outputs": [
    {
     "name": "stdout",
     "output_type": "stream",
     "text": [
      "everything bought wa great infact ordered twice third ordered wasfor mother father\n",
      "great way to start the day\n"
     ]
    }
   ],
   "source": [
    "# 함수가 잘 만들어졌는지 테스트해보기\n",
    "temp_text     = \"Everything I bought was great, infact I ordered twice and the third ordered was<br />for my mother and father.\"\n",
    "temp_headline = \"Great way to start (or finish) the day!!!\"\n",
    "\n",
    "print(preprocess_data(temp_text,     remove_stopwords = True))\n",
    "print(preprocess_data(temp_headline, remove_stopwords = False))"
   ]
  },
  {
   "cell_type": "markdown",
   "id": "congressional-saver",
   "metadata": {},
   "source": [
    "* 3_10. 데이터 전처리 함수를 이용하여 데이터 전처리하기"
   ]
  },
  {
   "cell_type": "code",
   "execution_count": 13,
   "id": "environmental-childhood",
   "metadata": {},
   "outputs": [
    {
     "data": {
      "text/plain": [
       "['saurav kant alumnu upgrad iiit pg program machine learning artificial intelligence wa sr system engineer infosy almost year work experience program upgrad degree career support helped transition data scientist tech mahindra salary hike upgrad online power learning ha powered lakh career',\n",
       " 'kunal shah credit card bill payment platform cred gave user chance win free food swiggy one year pranav kaushik delhi techie bagged thi reward spending cred coin user get one cred coin per rupee bill paid used avail reward brand like ixigo bookmyshow ubereat cult fit',\n",
       " 'new zealand defeated india wicket fourth odi hamilton thursday win first match five match odi serie india lost international match rohit sharma captaincy consecutive victorie dating back march match witnessed india getting seventh lowest total odi cricket history',\n",
       " 'aegon life iterm insurance plan customer enjoy tax benefit premium paid save taxe plan provide life cover age year also customer option insure critical illnesse disability accidental death benefit rider life cover age year',\n",
       " 'speaking sexual harassment allegation rajkumar hirani sonam kapoor said known hirani many year true metoo movement get derailed metoo movement alway believe woman thi case need reserve judgment added hirani ha accused assistant worked sanju']"
      ]
     },
     "execution_count": 13,
     "metadata": {},
     "output_type": "execute_result"
    }
   ],
   "source": [
    "preprocess_text = []\n",
    "\n",
    "# 전체 text 데이터에 대한 전처리 : 약 10분정도 소요됨.\n",
    "for t in data[\"text\"]:\n",
    "    preprocess_text.append(preprocess_data(t, remove_stopwords = True))\n",
    "    \n",
    "# 전처리 후 5개만 출력해보기\n",
    "preprocess_text[:5]"
   ]
  },
  {
   "cell_type": "code",
   "execution_count": 14,
   "id": "modified-thriller",
   "metadata": {},
   "outputs": [
    {
     "data": {
      "text/plain": [
       "['upgrad learner switche to career in ml al with salary hike',\n",
       " 'delhi techie win free food from swiggy for one year on cred',\n",
       " 'new zealand end rohit sharma led india match winning streak',\n",
       " 'aegon life iterm insurance plan help customer save tax',\n",
       " 'have known hirani for yr what if metoo claim are not true sonam']"
      ]
     },
     "execution_count": 14,
     "metadata": {},
     "output_type": "execute_result"
    }
   ],
   "source": [
    "preprocess_headlines = []\n",
    "\n",
    "# 전체 headline 데이터에 대한 전처리 : 약 3분정도 소요됨.\n",
    "for h in data[\"headlines\"]:\n",
    "    preprocess_headlines.append(preprocess_data(h, remove_stopwords = False))\n",
    "    \n",
    "# 전처리 후 5개만 출력해보기\n",
    "preprocess_headlines[:5]"
   ]
  },
  {
   "cell_type": "markdown",
   "id": "civic-scholar",
   "metadata": {},
   "source": [
    "* 3_11. 데이터 전처리 후 결측치 확인하기"
   ]
  },
  {
   "cell_type": "code",
   "execution_count": 15,
   "id": "elementary-motorcycle",
   "metadata": {},
   "outputs": [
    {
     "data": {
      "text/plain": [
       "headlines    0\n",
       "text         0\n",
       "dtype: int64"
      ]
     },
     "execution_count": 15,
     "metadata": {},
     "output_type": "execute_result"
    }
   ],
   "source": [
    "data[\"text\"]      = preprocess_text\n",
    "data[\"headlines\"] = preprocess_headlines\n",
    "\n",
    "# 빈 값을 Null 값으로 변환\n",
    "data.replace(\"\", np.nan, inplace = True)\n",
    "\n",
    "# Null 값 출력하기\n",
    "data.isnull().sum() # 없음"
   ]
  },
  {
   "cell_type": "markdown",
   "id": "sweet-chain",
   "metadata": {},
   "source": [
    "#### 4. 훈련 데이터, 테스트 데이터 나누기"
   ]
  },
  {
   "cell_type": "markdown",
   "id": "interested-mother",
   "metadata": {},
   "source": [
    "* 4_1 데이터 길이 분포 확인하기"
   ]
  },
  {
   "cell_type": "code",
   "execution_count": 16,
   "id": "apparent-single",
   "metadata": {},
   "outputs": [
    {
     "name": "stdout",
     "output_type": "stream",
     "text": [
      "text의 최소 길이 : 1\n",
      "text의 최대 길이 : 60\n",
      "text의 평균 길이 : 36.46954046360309\n",
      "text의 평균 표준편차 : 3.8038244373301513\n",
      "headline의 최소 길이 : 1\n",
      "headline의 최대 길이 : 16\n",
      "headline의 평균 길이 : 9.168289955266369\n",
      "headline의 표준편차 길이 : 1.3843343607346648\n"
     ]
    }
   ],
   "source": [
    "text_len     = [len(t.split()) for t in data[\"text\"]]\n",
    "headline_len = [len(h.split()) for h in data[\"headlines\"]]\n",
    "\n",
    "print(f\"text의 최소 길이 : {np.min(text_len)}\")\n",
    "print(f\"text의 최대 길이 : {np.max(text_len)}\")\n",
    "print(f\"text의 평균 길이 : {np.mean(text_len)}\")\n",
    "print(f\"text의 평균 표준편차 : {np.std(text_len)}\")\n",
    "print(f\"headline의 최소 길이 : {np.min(headline_len)}\")\n",
    "print(f\"headline의 최대 길이 : {np.max(headline_len)}\")\n",
    "print(f\"headline의 평균 길이 : {np.mean(headline_len)}\")\n",
    "print(f\"headline의 표준편차 길이 : {np.std(headline_len)}\")"
   ]
  },
  {
   "cell_type": "markdown",
   "id": "harmful-livestock",
   "metadata": {},
   "source": [
    "* 4_2. 데이터 길이 분포의 상자그림"
   ]
  },
  {
   "cell_type": "code",
   "execution_count": 17,
   "id": "coated-coast",
   "metadata": {},
   "outputs": [
    {
     "data": {
      "image/png": "[encoded data removed]",
      "text/plain": [
       "<Figure size 432x288 with 2 Axes>"
      ]
     },
     "metadata": {
      "needs_background": "light"
     },
     "output_type": "display_data"
    }
   ],
   "source": [
    "plt.subplot(1, 2, 1)      # 그림 위치 지정\n",
    "plt.boxplot(text_len)     # 박스그림 그리기\n",
    "plt.title(\"Text\")         # 그래프 제목 지정\n",
    "\n",
    "plt.subplot(1, 2, 2)      # 그림 위치 지정\n",
    "plt.boxplot(headline_len) # 박스그림 그리기\n",
    "plt.title(\"Headline\")     # 그래프 제목 지정\n",
    "\n",
    "plt.tight_layout()        # 그림 간 패딩 조정\n",
    "plt.show()                # 그림을 보여주기"
   ]
  },
  {
   "cell_type": "markdown",
   "id": "executive-ordinance",
   "metadata": {},
   "source": [
    "* 4_3. 데이터 길이 분포의 히스토그램"
   ]
  },
  {
   "cell_type": "code",
   "execution_count": 18,
   "id": "intelligent-cover",
   "metadata": {},
   "outputs": [
    {
     "data": {
      "image/png": "[encoded data removed]",
      "text/plain": [
       "<Figure size 432x288 with 1 Axes>"
      ]
     },
     "metadata": {
      "needs_background": "light"
     },
     "output_type": "display_data"
    },
    {
     "data": {
      "image/png": "[encoded data removed]",
      "text/plain": [
       "<Figure size 432x288 with 1 Axes>"
      ]
     },
     "metadata": {
      "needs_background": "light"
     },
     "output_type": "display_data"
    }
   ],
   "source": [
    "plt.title(\"Text\")                     # 제목 지정\n",
    "plt.hist(text_len)                    # 히스토그램 그리기\n",
    "plt.xlabel(\"length of text data\")     # X축 이름 지정\n",
    "plt.ylabel(\"number of text data\")     # Y축 이름 지정\n",
    "plt.show()                            # 그림을 보여주기\n",
    "\n",
    "plt.title(\"Headline\")                 # 제목 지정\n",
    "plt.hist(headline_len)                # 히스토그램 그리기\n",
    "plt.xlabel(\"length of headline data\") # X축 이름 지정\n",
    "plt.ylabel(\"number of headline data\") # Y축 이름 지정\n",
    "plt.show()                            # 그림을 보여주기"
   ]
  },
  {
   "cell_type": "markdown",
   "id": "whole-witness",
   "metadata": {},
   "source": [
    "* 4_4. 데이터와 데이터의 길이를 입력하면, 데이터의 몇 %가 해당하는지 계산하는 함수 만들기"
   ]
  },
  {
   "cell_type": "code",
   "execution_count": 19,
   "id": "forced-repair",
   "metadata": {},
   "outputs": [],
   "source": [
    "def below_threshold_len(max_len, nested_list):\n",
    "    cnt = 0\n",
    "    for l in nested_list:\n",
    "        if(len(l.split()) <= max_len):\n",
    "            cnt = cnt + 1\n",
    "    print(\"전체 샘플 중 길이가 %s 이하인 샘플의 비율 : %s\" % (max_len, (cnt / len(nested_list))))"
   ]
  },
  {
   "cell_type": "markdown",
   "id": "necessary-actor",
   "metadata": {},
   "source": [
    "* 4_5. 알맞은 데이터의 길이 구하기"
   ]
  },
  {
   "cell_type": "code",
   "execution_count": 20,
   "id": "according-democrat",
   "metadata": {},
   "outputs": [
    {
     "name": "stdout",
     "output_type": "stream",
     "text": [
      "전체 샘플 중 길이가 45 이하인 샘플의 비율 : 0.9917852785685238\n",
      "전체 샘플 중 길이가 14 이하인 샘플의 비율 : 0.9998678324522163\n"
     ]
    }
   ],
   "source": [
    "text_max     = 45\n",
    "headline_max = 14\n",
    "\n",
    "below_threshold_len(text_max,     data[\"text\"])\n",
    "below_threshold_len(headline_max, data[\"headlines\"])"
   ]
  },
  {
   "cell_type": "markdown",
   "id": "expired-reference",
   "metadata": {},
   "source": [
    "* 4_6. 지정한 데이터 길이보다 긴 데이터 잘라내기"
   ]
  },
  {
   "cell_type": "code",
   "execution_count": 21,
   "id": "dense-joshua",
   "metadata": {},
   "outputs": [
    {
     "name": "stdout",
     "output_type": "stream",
     "text": [
      "전체 샘플수 : 97539\n"
     ]
    }
   ],
   "source": [
    "data = data[data[\"text\"].apply(lambda x : len(x.split()) <= text_max)]\n",
    "data = data[data[\"headlines\"].apply(lambda x : len(x.split()) <= headline_max)]\n",
    "print(\"전체 샘플수 :\", len(data))"
   ]
  },
  {
   "cell_type": "markdown",
   "id": "strong-latin",
   "metadata": {},
   "source": [
    "* 4_7. 시작 토큰과 종료 토큰 추가하기"
   ]
  },
  {
   "cell_type": "code",
   "execution_count": 22,
   "id": "hollywood-local",
   "metadata": {},
   "outputs": [
    {
     "data": {
      "text/html": [
       "<div>\n",
       "<style scoped>\n",
       "    .dataframe tbody tr th:only-of-type {\n",
       "        vertical-align: middle;\n",
       "    }\n",
       "\n",
       "    .dataframe tbody tr th {\n",
       "        vertical-align: top;\n",
       "    }\n",
       "\n",
       "    .dataframe thead th {\n",
       "        text-align: right;\n",
       "    }\n",
       "</style>\n",
       "<table border=\"1\" class=\"dataframe\">\n",
       "  <thead>\n",
       "    <tr style=\"text-align: right;\">\n",
       "      <th></th>\n",
       "      <th>headlines</th>\n",
       "      <th>text</th>\n",
       "      <th>decoder_input</th>\n",
       "      <th>decoder_target</th>\n",
       "    </tr>\n",
       "  </thead>\n",
       "  <tbody>\n",
       "    <tr>\n",
       "      <th>0</th>\n",
       "      <td>upgrad learner switche to career in ml al with...</td>\n",
       "      <td>saurav kant alumnu upgrad iiit pg program mach...</td>\n",
       "      <td>sostoken upgrad learner switche to career in m...</td>\n",
       "      <td>upgrad learner switche to career in ml al with...</td>\n",
       "    </tr>\n",
       "    <tr>\n",
       "      <th>2</th>\n",
       "      <td>new zealand end rohit sharma led india match w...</td>\n",
       "      <td>new zealand defeated india wicket fourth odi h...</td>\n",
       "      <td>sostoken new zealand end rohit sharma led indi...</td>\n",
       "      <td>new zealand end rohit sharma led india match w...</td>\n",
       "    </tr>\n",
       "    <tr>\n",
       "      <th>3</th>\n",
       "      <td>aegon life iterm insurance plan help customer ...</td>\n",
       "      <td>aegon life iterm insurance plan customer enjoy...</td>\n",
       "      <td>sostoken aegon life iterm insurance plan help ...</td>\n",
       "      <td>aegon life iterm insurance plan help customer ...</td>\n",
       "    </tr>\n",
       "    <tr>\n",
       "      <th>4</th>\n",
       "      <td>have known hirani for yr what if metoo claim a...</td>\n",
       "      <td>speaking sexual harassment allegation rajkumar...</td>\n",
       "      <td>sostoken have known hirani for yr what if meto...</td>\n",
       "      <td>have known hirani for yr what if metoo claim a...</td>\n",
       "    </tr>\n",
       "    <tr>\n",
       "      <th>5</th>\n",
       "      <td>rahat fateh ali khan denie getting notice for ...</td>\n",
       "      <td>pakistani singer rahat fateh ali khan ha denie...</td>\n",
       "      <td>sostoken rahat fateh ali khan denie getting no...</td>\n",
       "      <td>rahat fateh ali khan denie getting notice for ...</td>\n",
       "    </tr>\n",
       "  </tbody>\n",
       "</table>\n",
       "</div>"
      ],
      "text/plain": [
       "                                           headlines  \\\n",
       "0  upgrad learner switche to career in ml al with...   \n",
       "2  new zealand end rohit sharma led india match w...   \n",
       "3  aegon life iterm insurance plan help customer ...   \n",
       "4  have known hirani for yr what if metoo claim a...   \n",
       "5  rahat fateh ali khan denie getting notice for ...   \n",
       "\n",
       "                                                text  \\\n",
       "0  saurav kant alumnu upgrad iiit pg program mach...   \n",
       "2  new zealand defeated india wicket fourth odi h...   \n",
       "3  aegon life iterm insurance plan customer enjoy...   \n",
       "4  speaking sexual harassment allegation rajkumar...   \n",
       "5  pakistani singer rahat fateh ali khan ha denie...   \n",
       "\n",
       "                                       decoder_input  \\\n",
       "0  sostoken upgrad learner switche to career in m...   \n",
       "2  sostoken new zealand end rohit sharma led indi...   \n",
       "3  sostoken aegon life iterm insurance plan help ...   \n",
       "4  sostoken have known hirani for yr what if meto...   \n",
       "5  sostoken rahat fateh ali khan denie getting no...   \n",
       "\n",
       "                                      decoder_target  \n",
       "0  upgrad learner switche to career in ml al with...  \n",
       "2  new zealand end rohit sharma led india match w...  \n",
       "3  aegon life iterm insurance plan help customer ...  \n",
       "4  have known hirani for yr what if metoo claim a...  \n",
       "5  rahat fateh ali khan denie getting notice for ...  "
      ]
     },
     "execution_count": 22,
     "metadata": {},
     "output_type": "execute_result"
    }
   ],
   "source": [
    "data[\"decoder_input\"]  = data[\"headlines\"].apply(lambda x : \"sostoken \" + x) # 시작 토큰 추가하기\n",
    "data[\"decoder_target\"] = data[\"headlines\"].apply(lambda x : x + \" eostoken\") # 종료 토큰 추가하기\n",
    "data.head()                                                                  # 잘 붙었는지 확인하기"
   ]
  },
  {
   "cell_type": "code",
   "execution_count": 23,
   "id": "seven-contrast",
   "metadata": {},
   "outputs": [],
   "source": [
    "encoder_input  = np.array(data[\"text\"])           # 인코더 입력\n",
    "decoder_input  = np.array(data[\"decoder_input\"])  # 디코더 입력\n",
    "decoder_target = np.array(data[\"decoder_target\"]) # 디코더 레이블"
   ]
  },
  {
   "cell_type": "markdown",
   "id": "third-summer",
   "metadata": {},
   "source": [
    "* 4_8. 훈련데이터와 테스트 데이터 나누기"
   ]
  },
  {
   "cell_type": "code",
   "execution_count": 24,
   "id": "informational-response",
   "metadata": {},
   "outputs": [
    {
     "name": "stdout",
     "output_type": "stream",
     "text": [
      "[81889 52805 78786 ... 44769 13308 65649]\n"
     ]
    }
   ],
   "source": [
    "# encoder_input과 크기와 형태가 같은 순서가 섞인 정수 시퀀스 만들기\n",
    "indices = np.arange(encoder_input.shape[0])\n",
    "np.random.shuffle(indices)\n",
    "print(indices)"
   ]
  },
  {
   "cell_type": "code",
   "execution_count": 25,
   "id": "revolutionary-mentor",
   "metadata": {},
   "outputs": [],
   "source": [
    "# 위 정수 시퀀스를 이용해 데이터 순서를 정의해주면 잘 섞인 데이터가 된다.\n",
    "encoder_input  = encoder_input[indices]\n",
    "decoder_input  = decoder_input[indices]\n",
    "decoder_target = decoder_target[indices]"
   ]
  },
  {
   "cell_type": "code",
   "execution_count": 26,
   "id": "continuous-literacy",
   "metadata": {},
   "outputs": [
    {
     "name": "stdout",
     "output_type": "stream",
     "text": [
      "테스트 데이터의 갯수 : 19507\n"
     ]
    }
   ],
   "source": [
    "# 전체 데이터의 길이에 0.2를 곱해서 8:2 비율로 훈련 데이터와 테스트 데이터를 분리한다.\n",
    "n_of_val = int(len(encoder_input) * 0.2)\n",
    "print(\"테스트 데이터의 갯수 :\", n_of_val)"
   ]
  },
  {
   "cell_type": "code",
   "execution_count": 27,
   "id": "modified-oliver",
   "metadata": {},
   "outputs": [
    {
     "name": "stdout",
     "output_type": "stream",
     "text": [
      "훈련 데이터의 갯수 : 78032\n",
      "훈련 레이블의 갯수 : 78032\n",
      "테스트 데이터의 갯수 : 19507\n",
      "테스트 레이블의 갯수 : 19507\n"
     ]
    }
   ],
   "source": [
    "encoder_input_train  = encoder_input[:-n_of_val]\n",
    "decoder_input_train  = decoder_input[:-n_of_val]\n",
    "decoder_target_train = decoder_target[:-n_of_val]\n",
    "\n",
    "encoder_input_test   = encoder_input[-n_of_val:]\n",
    "decoder_input_test   = decoder_input[-n_of_val:]\n",
    "decoder_target_test  = decoder_target[-n_of_val:]\n",
    "\n",
    "print(\"훈련 데이터의 갯수 :\",   len(encoder_input_train))\n",
    "print(\"훈련 레이블의 갯수 :\",   len(decoder_input_train))\n",
    "print(\"테스트 데이터의 갯수 :\", len(encoder_input_test))\n",
    "print(\"테스트 레이블의 갯수 :\", len(decoder_input_test))"
   ]
  },
  {
   "cell_type": "markdown",
   "id": "educated-valley",
   "metadata": {},
   "source": [
    "#### 5. 정수 인코딩 하기"
   ]
  },
  {
   "cell_type": "markdown",
   "id": "overhead-allen",
   "metadata": {},
   "source": [
    "* 5_1. 훈련 데이터 단어 집합 만들기"
   ]
  },
  {
   "cell_type": "code",
   "execution_count": 28,
   "id": "liable-capacity",
   "metadata": {},
   "outputs": [],
   "source": [
    "# keras의 토크나이저를 이용한다.\n",
    "src_tokenizer = Tokenizer()                     # 토크나이저 생성\n",
    "src_tokenizer.fit_on_texts(encoder_input_train) # 입력된 데이터로부터 단어 집합 생성"
   ]
  },
  {
   "cell_type": "code",
   "execution_count": 29,
   "id": "given-intake",
   "metadata": {},
   "outputs": [
    {
     "name": "stdout",
     "output_type": "stream",
     "text": [
      "단어 집합(vocabulary)의 크기 : 62365\n",
      "등장 빈도가 6번 이하인 회귀 단어의 수 : 42675\n",
      "단어 집합에서 희귀 단어를 제외시킬 경우의 단어 집합의 크기 : 19690\n",
      "단어 집합에서 희귀 단어의 비율 : 68.42780405676261\n",
      "전체 등장 빈도에서 희귀 단어 등장 빈도 비율 : 3.0219591542613946\n"
     ]
    }
   ],
   "source": [
    "# 훈련 데이터의 단어 집합 크기를 정하기 위해 단어 수 분포 확인하기\n",
    "threshold  = 7\n",
    "total_cnt  = len(src_tokenizer.word_index) # 단어의 수\n",
    "rare_cnt   = 0                             # 등장 빈도수가 threshold보다 작은 단어의 갯수를 카운트\n",
    "total_freq = 0                             # 훈련 데이터의 전체 단어 빈도수 총 합\n",
    "rare_freq  = 0                             # 등장 빈도수가 threshold보다 작은 단어의 등장 빈도수의 총 합\n",
    "\n",
    "# 단어와 빈도수의 쌍(pair)을 key와 value로 받는다.\n",
    "for key, value in src_tokenizer.word_counts.items():\n",
    "    total_freq = total_freq + value\n",
    "    \n",
    "    if(value < threshold): # 단어의 등장 빈도수가 threshold보다 작으면\n",
    "        rare_cnt  = rare_cnt  + 1\n",
    "        rare_freq = rare_freq + value\n",
    "        \n",
    "print(\"단어 집합(vocabulary)의 크기 :\", total_cnt)\n",
    "print(\"등장 빈도가 %s번 이하인 회귀 단어의 수 : %s\" % (threshold - 1, rare_cnt))\n",
    "print(\"단어 집합에서 희귀 단어를 제외시킬 경우의 단어 집합의 크기 : %s\" % (total_cnt - rare_cnt))\n",
    "print(\"단어 집합에서 희귀 단어의 비율 :\", (rare_cnt / total_cnt) * 100)\n",
    "print(\"전체 등장 빈도에서 희귀 단어 등장 빈도 비율 :\", (rare_freq / total_freq) * 100)"
   ]
  },
  {
   "cell_type": "code",
   "execution_count": 30,
   "id": "assured-stuart",
   "metadata": {},
   "outputs": [],
   "source": [
    "# 등장 빈도가 7미만인 단어의 단어 사전 집합 차지율은 68% 정도이고,\n",
    "# 등장 빈도가 7미만인 단어의 훈련 데이터 차지율은 3% 정도이다.\n",
    "# 이 단어들을 제외하고 단어 사전 집합의 갯수는 19614로 예상하고 있다.\n",
    "# 단어 사전의 크기는 19000으로 하면 될 듯 하다.\n",
    "src_vocab     = 19000                            # 단어 사전 크기 지정\n",
    "src_tokenizer = Tokenizer(num_words = src_vocab) # 단어 집합의 크기를 지정\n",
    "src_tokenizer.fit_on_texts(encoder_input_train)  # 단어 집합 재생성"
   ]
  },
  {
   "cell_type": "code",
   "execution_count": 31,
   "id": "meaning-separate",
   "metadata": {},
   "outputs": [
    {
     "name": "stdout",
     "output_type": "stream",
     "text": [
      "[[372, 1298, 875, 1183, 704, 1, 680, 23, 257, 213, 963, 2340, 15, 1799, 260, 1141, 2, 1504, 773, 4350, 5437, 1437, 596, 372, 7, 446, 549, 1926, 11008, 2466, 7151, 1504], [2233, 1785, 60, 1742, 1039, 537, 176, 9124, 4071, 97, 2, 4, 864, 18381, 4071, 479, 248, 94, 2552, 24, 4, 5, 495, 1562, 2, 18381, 13720, 1742, 237, 3, 5054, 2289, 3, 1064, 495, 2495, 489], [45, 1198, 176, 1198, 360, 824, 527, 3048, 92, 10, 635, 3, 588, 4487, 15659, 1343, 946, 276, 2140, 830, 7, 209, 738, 2, 392, 126, 116]]\n"
     ]
    }
   ],
   "source": [
    "# texts_to_sequences()는 생성된 단어 집합에 기반하여 입력으로 주어진 텍스트 데이터의 단어들을 모두 정수로 변환하는 정수 인코딩을 수행한다.\n",
    "# 텍스트 시퀀스를 정수 시퀀스로 변환\n",
    "encoder_input_train = src_tokenizer.texts_to_sequences(encoder_input_train)\n",
    "encoder_input_test  = src_tokenizer.texts_to_sequences(encoder_input_test)\n",
    "\n",
    "# 잘 진행됬는지 출력해보기\n",
    "print(encoder_input_train[:3])"
   ]
  },
  {
   "cell_type": "code",
   "execution_count": 32,
   "id": "statutory-fashion",
   "metadata": {},
   "outputs": [],
   "source": [
    "tar_tokenizer = Tokenizer()\n",
    "tar_tokenizer.fit_on_texts(decoder_input_train)"
   ]
  },
  {
   "cell_type": "code",
   "execution_count": 33,
   "id": "individual-triple",
   "metadata": {},
   "outputs": [
    {
     "name": "stdout",
     "output_type": "stream",
     "text": [
      "단어 집합(vocabulary)의 크기 : 25928\n",
      "등장 빈도가 6번 이하인 희귀 단어의 수 : 17478\n",
      "단어 집합에서 희귀 단어를 제외시킬 경우의 단어 집합의 크기 8450\n",
      "단어 집합에서 희귀 단어의 비율 : 67.40975007713669\n",
      "전체 등장 빈도에서 희귀 단어 등장 빈도 비율 : 4.5934574020198555\n"
     ]
    }
   ],
   "source": [
    "threshold  = 7\n",
    "total_cnt  = len(tar_tokenizer.word_index) # 단어의 수\n",
    "rare_cnt   = 0                             # 등장 빈도수가 threshold보다 작은 단어의 개수를 카운트\n",
    "total_freq = 0                             # 훈련 데이터의 전체 단어 빈도수 총 합\n",
    "rare_freq  = 0                             # 등장 빈도수가 threshold보다 작은 단어의 등장 빈도수의 총 합\n",
    "\n",
    "# 단어와 빈도수의 쌍(pair)을 key와 value로 받는다.\n",
    "for key, value in tar_tokenizer.word_counts.items():\n",
    "    total_freq = total_freq + value\n",
    "\n",
    "    # 단어의 등장 빈도수가 threshold보다 작으면\n",
    "    if(value < threshold):\n",
    "        rare_cnt = rare_cnt + 1\n",
    "        rare_freq = rare_freq + value\n",
    "\n",
    "print(\"단어 집합(vocabulary)의 크기 :\", total_cnt)\n",
    "print(\"등장 빈도가 %s번 이하인 희귀 단어의 수 : %s\" % (threshold - 1, rare_cnt))\n",
    "print(\"단어 집합에서 희귀 단어를 제외시킬 경우의 단어 집합의 크기 %s\" % (total_cnt - rare_cnt))\n",
    "print(\"단어 집합에서 희귀 단어의 비율 :\", (rare_cnt / total_cnt) * 100)\n",
    "print(\"전체 등장 빈도에서 희귀 단어 등장 빈도 비율 :\", (rare_freq / total_freq) * 100)"
   ]
  },
  {
   "cell_type": "code",
   "execution_count": 34,
   "id": "passive-myanmar",
   "metadata": {},
   "outputs": [
    {
     "name": "stdout",
     "output_type": "stream",
     "text": [
      "input\n",
      "[[1, 362, 319, 225, 1021, 62, 138, 606, 702, 3, 346], [1, 746, 671, 953, 176, 3, 7339, 13, 228, 1473, 6176], [1, 161, 24, 807, 125, 443, 472, 34, 366, 433, 4303], [1, 28, 1028, 5, 912, 6, 195, 363, 4749, 4], [1, 3944, 285, 32, 716, 1229, 94]]\n",
      "target\n",
      "[[362, 319, 225, 1021, 62, 138, 606, 702, 3, 346, 2], [746, 671, 953, 176, 3, 7339, 13, 228, 1473, 6176, 2], [161, 24, 807, 125, 443, 472, 34, 366, 433, 4303, 2], [28, 1028, 5, 912, 6, 195, 363, 4749, 4, 2], [3944, 285, 32, 716, 1229, 94, 2]]\n"
     ]
    }
   ],
   "source": [
    "\n",
    "8. 인퍼런스 모델 구현하기 (실제 동작할 모델)\n",
    "In [40]:\n",
    "￼\n",
    "src_index_to_word = src_tokenizer.index_word # 본문     단어 집합에서 정수 -> 단어로 얻음\n",
    "tar_word_to_index = tar_tokenizer.word_index # 헤드라인 단어 집합에서 단어 -> 정수로 얻음\n",
    "tar_index_to_word = tar_tokenizer.index_word # 헤드라인 단어 집합에서 정수 -> 단어로 얻음\n",
    "In [42]:\n",
    "￼\n",
    "# 인코더 설계\n",
    "encoder_model = Model(inputs = encoder_inputs, outputs = [encoder_outputs, state_h, state_c])\n",
    "​\n",
    "# 이전 시점의 상태들을 저장하는 텐서\n",
    "decoder_state_input_h = Input(shape = (hidden_size,))\n",
    "decoder_state_input_c = Input(shape = (hidden_size,))\n",
    "dec_emb2              = dec_emb_layer(decoder_inputs)\n",
    "​\n",
    "# 문장의 다음 단어를 예측하기 위해서 초기 상태(initial_state)를 이전 시점의 상태로 사용. 이는 뒤의 함수 decode_sequence()에 구현\n",
    "# 훈련 과정에서와 달리 LSTM의 리턴하는 은닉 상태와 셀 상태인 state_h와 state_c를 버리지 않음.\n",
    "decoder_outputs2, state_h2, state_c2 = decoder_lstm(dec_emb2, initial_state = [decoder_state_input_h, decoder_state_input_c])\n",
    "​\n",
    "# 어텐션 함수\n",
    "decoder_hidden_state_input    = Input(shape = (text_max, hidden_size))\n",
    "attn_out_inf, attn_states_inf = attn_layer([decoder_hidden_state_input, decoder_outputs2])\n",
    "decoder_inf_concat            = Concatenate(axis = -1, name = \"concat\")([decoder_outputs2, attn_out_inf])\n",
    "​\n",
    "# 디코더의 출력층# 등장 빈도가 7미만인 단어의 단어 사전 집합 차지율은 67% 정도이고,\n",
    "# 등장 빈도가 7미만인 단어의 훈련 데이터 차지율은 4.6% 정도이다.\n",
    "# 이 단어들을 제외하고 단어 사전 집합의 갯수는 8448로 예상하고 있다.\n",
    "# 단어 사전의 크기는 8000으로 하면 될 듯 하다.\n",
    "tar_vocab     = 8000\n",
    "tar_tokenizer = Tokenizer(num_words = tar_vocab)\n",
    "tar_tokenizer.fit_on_texts(decoder_input_train)\n",
    "tar_tokenizer.fit_on_texts(decoder_target_train)\n",
    "\n",
    "# 텍스트 시퀀스를 정수 시퀀스로 변환\n",
    "decoder_input_train  = tar_tokenizer.texts_to_sequences(decoder_input_train)\n",
    "decoder_target_train = tar_tokenizer.texts_to_sequences(decoder_target_train)\n",
    "decoder_input_test   = tar_tokenizer.texts_to_sequences(decoder_input_test)\n",
    "decoder_target_test  = tar_tokenizer.texts_to_sequences(decoder_target_test)\n",
    "\n",
    "# 잘 진행됬는지 출력해보기\n",
    "print(\"input\")\n",
    "print(decoder_input_train[:5])\n",
    "print(\"target\")\n",
    "print(decoder_target_train[:5])"
   ]
  },
  {
   "cell_type": "code",
   "execution_count": 35,
   "id": "color-workplace",
   "metadata": {},
   "outputs": [
    {
     "name": "stdout",
     "output_type": "stream",
     "text": [
      "삭제할 훈련 데이터의 갯수 : 0\n",
      "삭제할 테스트 데이터의 갯수 : 0\n",
      "훈련 데이터의 갯수 : 78032\n",
      "훈련 레이블의 갯수 : 78032\n",
      "테스트 데이터의 갯수 : 19507\n",
      "테스트 레이블의 갯수 : 19507\n"
     ]
    }
   ],
   "source": [
    "# 결측치 확인하기\n",
    "\n",
    "# 주의 \n",
    "# decoder_input에는 sostoken 또는 decoder_target에는 eostoken이 추가된 상태이고,\n",
    "# 두 토큰은 모든 샘플에서 등장하므로 빈도수가 샘플수와 동일하게 매우 높으므로 단어 집합 제한에도 삭제 되지 않는다. \n",
    "# 그래서 이제 길이가 0이 된 요약문의 실제길이는 1로 나오므로 길이가 1인 것을 제거할 것이다.\n",
    "\n",
    "drop_train = [index for index, sentence in enumerate(decoder_input_train) if len(sentence) == 1]\n",
    "drop_test  = [index for index, sentence in enumerate(decoder_input_test)  if len(sentence) == 1]\n",
    "\n",
    "print(\"삭제할 훈련 데이터의 갯수 :\", len(drop_train))\n",
    "print(\"삭제할 테스트 데이터의 갯수 :\", len(drop_test))\n",
    "\n",
    "encoder_input_train  = np.delete(encoder_input_train,  drop_train, axis = 0)\n",
    "decoder_input_train  = np.delete(decoder_input_train,  drop_train, axis = 0)\n",
    "decoder_target_train = np.delete(decoder_target_train, drop_train, axis = 0)\n",
    "\n",
    "encoder_input_test   = np.delete(encoder_input_test,  drop_test, axis = 0)\n",
    "decoder_input_test   = np.delete(decoder_input_test,  drop_test, axis = 0)\n",
    "decoder_target_test  = np.delete(decoder_target_test, drop_test, axis = 0)\n",
    "\n",
    "print(\"훈련 데이터의 갯수 :\",   len(encoder_input_train))\n",
    "print(\"훈련 레이블의 갯수 :\",   len(decoder_input_train))\n",
    "print(\"테스트 데이터의 갯수 :\", len(encoder_input_test))\n",
    "print(\"테스트 레이블의 갯수 :\", len(decoder_input_test))"
   ]
  },
  {
   "cell_type": "markdown",
   "id": "amino-rings",
   "metadata": {},
   "source": [
    "* 5_2. 패딩하기"
   ]
  },
  {
   "cell_type": "code",
   "execution_count": 36,
   "id": "italic-leeds",
   "metadata": {},
   "outputs": [],
   "source": [
    "encoder_input_train  = pad_sequences(encoder_input_train,  maxlen = text_max,     padding = \"post\")\n",
    "encoder_input_test   = pad_sequences(encoder_input_test,   maxlen = text_max,     padding = \"post\")\n",
    "decoder_input_train  = pad_sequences(decoder_input_train,  maxlen = headline_max, padding = \"post\")\n",
    "decoder_target_train = pad_sequences(decoder_target_train, maxlen = headline_max, padding = \"post\")\n",
    "decoder_input_test   = pad_sequences(decoder_input_test,   maxlen = headline_max, padding = \"post\")\n",
    "decoder_target_test  = pad_sequences(decoder_target_test,  maxlen = headline_max, padding = \"post\")"
   ]
  },
  {
   "cell_type": "markdown",
   "id": "powered-device",
   "metadata": {},
   "source": [
    "#### 6. 모델 설계하기"
   ]
  },
  {
   "cell_type": "code",
   "execution_count": 37,
   "id": "choice-cylinder",
   "metadata": {},
   "outputs": [
    {
     "name": "stdout",
     "output_type": "stream",
     "text": [
      "WARNING:tensorflow:Layer lstm will not use cuDNN kernel since it doesn't meet the cuDNN kernel criteria. It will use generic GPU kernel as fallback when running on GPU\n",
      "WARNING:tensorflow:Layer lstm_1 will not use cuDNN kernel since it doesn't meet the cuDNN kernel criteria. It will use generic GPU kernel as fallback when running on GPU\n",
      "WARNING:tensorflow:Layer lstm_2 will not use cuDNN kernel since it doesn't meet the cuDNN kernel criteria. It will use generic GPU kernel as fallback when running on GPU\n",
      "WARNING:tensorflow:Layer lstm_3 will not use cuDNN kernel since it doesn't meet the cuDNN kernel criteria. It will use generic GPU kernel as fallback when running on GPU\n",
      "Model: \"model\"\n",
      "__________________________________________________________________________________________________\n",
      "Layer (type)                    Output Shape         Param #     Connected to                     \n",
      "==================================================================================================\n",
      "input_1 (InputLayer)            [(None, 45)]         0                                            \n",
      "__________________________________________________________________________________________________\n",
      "embedding (Embedding)           (None, 45, 128)      2432000     input_1[0][0]                    \n",
      "__________________________________________________________________________________________________\n",
      "lstm (LSTM)                     [(None, 45, 256), (N 394240      embedding[0][0]                  \n",
      "__________________________________________________________________________________________________\n",
      "input_2 (InputLayer)            [(None, None)]       0                                            \n",
      "__________________________________________________________________________________________________\n",
      "lstm_1 (LSTM)                   [(None, 45, 256), (N 525312      lstm[0][0]                       \n",
      "__________________________________________________________________________________________________\n",
      "embedding_1 (Embedding)         (None, None, 128)    1024000     input_2[0][0]                    \n",
      "__________________________________________________________________________________________________\n",
      "lstm_2 (LSTM)                   [(None, 45, 256), (N 525312      lstm_1[0][0]                     \n",
      "__________________________________________________________________________________________________\n",
      "lstm_3 (LSTM)                   [(None, None, 256),  394240      embedding_1[0][0]                \n",
      "                                                                 lstm_2[0][1]                     \n",
      "                                                                 lstm_2[0][2]                     \n",
      "__________________________________________________________________________________________________\n",
      "attention_layer (AttentionLayer ((None, None, 256),  131328      lstm_2[0][0]                     \n",
      "                                                                 lstm_3[0][0]                     \n",
      "__________________________________________________________________________________________________\n",
      "concat_layer (Concatenate)      (None, None, 512)    0           lstm_3[0][0]                     \n",
      "                                                                 attention_layer[0][0]            \n",
      "__________________________________________________________________________________________________\n",
      "dense_1 (Dense)                 (None, None, 8000)   4104000     concat_layer[0][0]               \n",
      "==================================================================================================\n",
      "Total params: 9,530,432\n",
      "Trainable params: 9,530,432\n",
      "Non-trainable params: 0\n",
      "__________________________________________________________________________________________________\n"
     ]
    }
   ],
   "source": [
    "# 인코더 설계 시작\n",
    "# hidden state는 LSTM에서 얼만큼의 수용력(capacity)를 가질지를 정하는 파라미터이다. \n",
    "# 이 파라미터는 LSTM의 용량의 크기나, LSTM에서의 뉴런의 갯수라고 이해하면 된다. \n",
    "# 다른 신경망과 마찬가지로, 무조건 용량을 많이 준다고 해서 성능이 반드시 올라가는 것은 아니다.\n",
    "embedding_dim = 128\n",
    "hidden_size   = 256\n",
    "\n",
    "# 인코더\n",
    "encoder_inputs = Input(shape = (text_max,))\n",
    "\n",
    "# 인코더의 임베딩 층\n",
    "enc_emb = Embedding(src_vocab, embedding_dim)(encoder_inputs)\n",
    "\n",
    "# 인코더의 LSTM 1\n",
    "encoder_lstm1                       = LSTM(hidden_size, \n",
    "                                           return_sequences  = True, \n",
    "                                           return_state      = True, \n",
    "                                           dropout           = 0.4, \n",
    "                                           recurrent_dropout = 0.4)\n",
    "encoder_output1, state_h1, state_c1 = encoder_lstm1(enc_emb)\n",
    "\n",
    "# 인코더의 LSTM 2\n",
    "encoder_lstm2 = LSTM(hidden_size,\n",
    "                     return_sequences  = True,\n",
    "                     return_state     = True,\n",
    "                     dropout           = 0.4,\n",
    "                     recurrent_dropout = 0.4)\n",
    "encoder_output2, state_h2, state_c2 = encoder_lstm2(encoder_output1)\n",
    "\n",
    "# 인코더의 LSTM 3\n",
    "encoder_lstm3 = LSTM(hidden_size,\n",
    "                     return_sequences  = True,\n",
    "                     return_state      = True,\n",
    "                     dropout           = 0.4,\n",
    "                     recurrent_dropout = 0.4)\n",
    "encoder_outputs, state_h, state_c = encoder_lstm3(encoder_output2)\n",
    "\n",
    "\n",
    "# 디코더 설계\n",
    "decoder_inputs = Input(shape = (None,))\n",
    "\n",
    "# 디코더의 임베딩 층\n",
    "dec_emb_layer = Embedding(tar_vocab, embedding_dim)\n",
    "dec_emb       = dec_emb_layer(decoder_inputs)\n",
    "\n",
    "# 디코더의 LSTM\n",
    "decoder_lstm          = LSTM(hidden_size, return_sequences = True, return_state = True, dropout = 0.4, recurrent_dropout = 0.2)\n",
    "decoder_outputs, _, _ = decoder_lstm(dec_emb, initial_state = [state_h, state_c])\n",
    "\n",
    "# 어텐션\n",
    "\n",
    "# 디코더의 출력층\n",
    "decoder_softmax_layer   = Dense(tar_vocab, activation = \"softmax\")\n",
    "decoder_softmax_outputs = decoder_softmax_layer(decoder_outputs)\n",
    "\n",
    "# 어텐션 층 (어텐션 함수)\n",
    "attn_layer = AttentionLayer(name = \"attention_layer\")\n",
    "\n",
    "# 인코더와 디코더의 모든 time step의 hidden state를 어텐션 층에 전달하고 결과를 리턴\n",
    "attn_out, attn_states = attn_layer([encoder_outputs, decoder_outputs])\n",
    "\n",
    "# 어텐션의 결과와 디코더의 hidden state들을 연결\n",
    "decoder_concat_input = Concatenate(axis = -1, name = \"concat_layer\")([decoder_outputs, attn_out])\n",
    "\n",
    "# 디코더의 출력층\n",
    "decoder_softmax_layer   = Dense(tar_vocab, activation = \"softmax\")\n",
    "decoder_softmax_outputs = decoder_softmax_layer(decoder_concat_input)\n",
    "\n",
    "# 모델 정의\n",
    "model = Model([encoder_inputs, decoder_inputs], decoder_softmax_outputs)\n",
    "model.summary()"
   ]
  },
  {
   "cell_type": "markdown",
   "id": "motivated-christopher",
   "metadata": {},
   "source": [
    "#### 7. 모델 훈련하기"
   ]
  },
  {
   "cell_type": "code",
   "execution_count": 38,
   "id": "involved-trace",
   "metadata": {},
   "outputs": [
    {
     "name": "stdout",
     "output_type": "stream",
     "text": [
      "Epoch 1/50\n",
      "305/305 [==============================] - 102s 334ms/step - loss: 4.7136 - val_loss: 4.3595\n",
      "Epoch 2/50\n",
      "305/305 [==============================] - 102s 333ms/step - loss: 4.2133 - val_loss: 3.9951\n",
      "Epoch 3/50\n",
      "305/305 [==============================] - 101s 333ms/step - loss: 3.8958 - val_loss: 3.7584\n",
      "Epoch 4/50\n",
      "305/305 [==============================] - 102s 333ms/step - loss: 3.6756 - val_loss: 3.6017\n",
      "Epoch 5/50\n",
      "305/305 [==============================] - 102s 333ms/step - loss: 3.5047 - val_loss: 3.4831\n",
      "Epoch 6/50\n",
      "305/305 [==============================] - 102s 334ms/step - loss: 3.3626 - val_loss: 3.3795\n",
      "Epoch 7/50\n",
      "305/305 [==============================] - 102s 334ms/step - loss: 3.2381 - val_loss: 3.3038\n",
      "Epoch 8/50\n",
      "305/305 [==============================] - 102s 334ms/step - loss: 3.1317 - val_loss: 3.2399\n",
      "Epoch 9/50\n",
      "305/305 [==============================] - 102s 334ms/step - loss: 3.0384 - val_loss: 3.1853\n",
      "Epoch 10/50\n",
      "305/305 [==============================] - 102s 333ms/step - loss: 2.9555 - val_loss: 3.1419\n",
      "Epoch 11/50\n",
      "305/305 [==============================] - 102s 334ms/step - loss: 2.8800 - val_loss: 3.0996\n",
      "Epoch 12/50\n",
      "305/305 [==============================] - 102s 333ms/step - loss: 2.8118 - val_loss: 3.0672\n",
      "Epoch 13/50\n",
      "305/305 [==============================] - 102s 334ms/step - loss: 2.7491 - val_loss: 3.0443\n",
      "Epoch 14/50\n",
      "305/305 [==============================] - 102s 334ms/step - loss: 2.6926 - val_loss: 3.0180\n",
      "Epoch 15/50\n",
      "305/305 [==============================] - 102s 335ms/step - loss: 2.6424 - val_loss: 2.9972\n",
      "Epoch 16/50\n",
      "305/305 [==============================] - 102s 334ms/step - loss: 2.5925 - val_loss: 2.9800\n",
      "Epoch 17/50\n",
      "305/305 [==============================] - 102s 335ms/step - loss: 2.5496 - val_loss: 2.9641\n",
      "Epoch 18/50\n",
      "305/305 [==============================] - 102s 335ms/step - loss: 2.5084 - val_loss: 2.9530\n",
      "Epoch 19/50\n",
      "305/305 [==============================] - 102s 334ms/step - loss: 2.4712 - val_loss: 2.9417\n",
      "Epoch 20/50\n",
      "305/305 [==============================] - 102s 335ms/step - loss: 2.4360 - val_loss: 2.9331\n",
      "Epoch 21/50\n",
      "305/305 [==============================] - 102s 334ms/step - loss: 2.4022 - val_loss: 2.9213\n",
      "Epoch 22/50\n",
      "305/305 [==============================] - 102s 334ms/step - loss: 2.3694 - val_loss: 2.9179\n",
      "Epoch 23/50\n",
      "305/305 [==============================] - 102s 334ms/step - loss: 2.3382 - val_loss: 2.9120\n",
      "Epoch 24/50\n",
      "305/305 [==============================] - 102s 335ms/step - loss: 2.3088 - val_loss: 2.9132\n",
      "Epoch 25/50\n",
      "305/305 [==============================] - 102s 334ms/step - loss: 2.2826 - val_loss: 2.9036\n",
      "Epoch 26/50\n",
      "305/305 [==============================] - 102s 334ms/step - loss: 2.2584 - val_loss: 2.9013\n",
      "Epoch 27/50\n",
      "305/305 [==============================] - 102s 334ms/step - loss: 2.2349 - val_loss: 2.8926\n",
      "Epoch 28/50\n",
      "305/305 [==============================] - 102s 334ms/step - loss: 2.2111 - val_loss: 2.8895\n",
      "Epoch 29/50\n",
      "305/305 [==============================] - 102s 334ms/step - loss: 2.1901 - val_loss: 2.8859\n",
      "Epoch 30/50\n",
      "305/305 [==============================] - 102s 334ms/step - loss: 2.1685 - val_loss: 2.8886\n",
      "Epoch 31/50\n",
      "305/305 [==============================] - 102s 335ms/step - loss: 2.1503 - val_loss: 2.8849\n",
      "Epoch 32/50\n",
      "305/305 [==============================] - 102s 334ms/step - loss: 2.1300 - val_loss: 2.8876\n",
      "Epoch 33/50\n",
      "305/305 [==============================] - 102s 334ms/step - loss: 2.1126 - val_loss: 2.8872\n",
      "Epoch 00033: early stopping\n"
     ]
    }
   ],
   "source": [
    "model.compile(optimizer = \"rmsprop\", loss = \"sparse_categorical_crossentropy\")\n",
    "# val_loss를 모니터하는데 mode는 min이고, patience를 2로 줘서 최저점을 찍고 loss값이 다시 높아지는게 2번 나타나면 멈추겠다.\n",
    "es      = EarlyStopping(monitor = \"val_loss\", mode = \"min\", verbose = 1, patience = 2)\n",
    "history = model.fit(x               = [encoder_input_train, decoder_input_train],\n",
    "                    y               = decoder_target_train,\n",
    "                    validation_data = ([encoder_input_test, decoder_input_test], decoder_target_test),\n",
    "                    batch_size      = 256,\n",
    "                    callbacks       = [es],\n",
    "                    epochs          = 50)"
   ]
  },
  {
   "cell_type": "code",
   "execution_count": 39,
   "id": "oriented-shore",
   "metadata": {},
   "outputs": [
    {
     "data": {
      "image/png": "[encoded data removed]",
      "text/plain": [
       "<Figure size 432x288 with 1 Axes>"
      ]
     },
     "metadata": {
      "needs_background": "light"
     },
     "output_type": "display_data"
    }
   ],
   "source": [
    "# 모델이 훈련했던 loss와 val_loss를 시각화하기\n",
    "plt.plot(history.history[\"loss\"],     label = \"Train\") # loss의 선 그래프 그리기\n",
    "plt.plot(history.history[\"val_loss\"], label = \"Test\")  # val_loss의 선 그래프 그리기\n",
    "plt.legend()                                           # 범주 만들어주기\n",
    "plt.show()                                             # 그래프 출력하기"
   ]
  },
  {
   "cell_type": "markdown",
   "id": "great-album",
   "metadata": {},
   "source": [
    "#### 8. 인퍼런스 모델 구현하기 (실제 동작할 모델)"
   ]
  },
  {
   "cell_type": "code",
   "execution_count": 40,
   "id": "complicated-account",
   "metadata": {},
   "outputs": [],
   "source": [
    "src_index_to_word = src_tokenizer.index_word # 본문     단어 집합에서 정수 -> 단어로 얻음\n",
    "tar_word_to_index = tar_tokenizer.word_index # 헤드라인 단어 집합에서 단어 -> 정수로 얻음\n",
    "tar_index_to_word = tar_tokenizer.index_word # 헤드라인 단어 집합에서 정수 -> 단어로 얻음"
   ]
  },
  {
   "cell_type": "code",
   "execution_count": 42,
   "id": "ancient-execution",
   "metadata": {},
   "outputs": [],
   "source": [
    "# 인코더 설계\n",
    "encoder_model = Model(inputs = encoder_inputs, outputs = [encoder_outputs, state_h, state_c])\n",
    "\n",
    "# 이전 시점의 상태들을 저장하는 텐서\n",
    "decoder_state_input_h = Input(shape = (hidden_size,))\n",
    "decoder_state_input_c = Input(shape = (hidden_size,))\n",
    "dec_emb2              = dec_emb_layer(decoder_inputs)\n",
    "\n",
    "# 문장의 다음 단어를 예측하기 위해서 초기 상태(initial_state)를 이전 시점의 상태로 사용. 이는 뒤의 함수 decode_sequence()에 구현\n",
    "# 훈련 과정에서와 달리 LSTM의 리턴하는 은닉 상태와 셀 상태인 state_h와 state_c를 버리지 않음.\n",
    "decoder_outputs2, state_h2, state_c2 = decoder_lstm(dec_emb2, initial_state = [decoder_state_input_h, decoder_state_input_c])\n",
    "\n",
    "# 어텐션 함수\n",
    "decoder_hidden_state_input    = Input(shape = (text_max, hidden_size))\n",
    "attn_out_inf, attn_states_inf = attn_layer([decoder_hidden_state_input, decoder_outputs2])\n",
    "decoder_inf_concat            = Concatenate(axis = -1, name = \"concat\")([decoder_outputs2, attn_out_inf])\n",
    "\n",
    "# 디코더의 출력층\n",
    "decoder_outputs2 = decoder_softmax_layer(decoder_inf_concat)\n",
    "\n",
    "# 최종 디코더 모델\n",
    "decoder_model = Model(\n",
    "    [decoder_inputs]   + [decoder_hidden_state_input, decoder_state_input_h, decoder_state_input_c], \n",
    "    [decoder_outputs2] + [state_h2, state_c2])"
   ]
  },
  {
   "cell_type": "markdown",
   "id": "working-ridge",
   "metadata": {},
   "source": [
    "* 8_1. 인퍼런스 단계에서 단어 시퀀스를 완성하는 함수만들기"
   ]
  },
  {
   "cell_type": "code",
   "execution_count": 50,
   "id": "needed-invalid",
   "metadata": {},
   "outputs": [],
   "source": [
    "def decode_sequence(input_seq):\n",
    "    # 입력으로부터 인코더의 상태를 얻음\n",
    "    e_out, e_h, e_c  = encoder_model.predict(input_seq)\n",
    "    \n",
    "    # <SOS>에 해당하는 토큰 생성\n",
    "    target_seq       = np.zeros((1, 1))\n",
    "    target_seq[0, 0] = tar_word_to_index[\"sostoken\"]\n",
    "    \n",
    "    stop_condition   = False\n",
    "    decoded_sentence = \"\"\n",
    "    \n",
    "    while not stop_condition: # stop_condition이 True가 될 때까지 루프 반복\n",
    "        output_tokens, h, c = decoder_model.predict([target_seq] + [e_out, e_h, e_c])\n",
    "        sampled_token_index = np.argmax(output_tokens[0, -1, :])\n",
    "        sampled_token       = tar_index_to_word[sampled_token_index]\n",
    "        \n",
    "        if(sampled_token != \"eostoken\"):\n",
    "            decoded_sentence += \" \" + sampled_token\n",
    "            \n",
    "        # <eos>에 도달하거나 최대 길이를 넘으면 중단\n",
    "        if(sampled_token == \"eostoken\" or len(decoded_sentence.split()) >= (headline_max - 1)):\n",
    "            stop_condition = True\n",
    "            \n",
    "        # 길이가 1인 타겟 시퀀스를 업데이트\n",
    "        target_seq = np.zeros((1, 1))\n",
    "        target_seq[0, 0] = sampled_token_index\n",
    "        \n",
    "        # 상태를 업데이트 합니다.\n",
    "        e_h, e_c = h, c\n",
    "        \n",
    "    return decoded_sentence"
   ]
  },
  {
   "cell_type": "markdown",
   "id": "forbidden-weekly",
   "metadata": {},
   "source": [
    "#### 9. 모델 테스트하기"
   ]
  },
  {
   "cell_type": "code",
   "execution_count": 51,
   "id": "conventional-chart",
   "metadata": {},
   "outputs": [],
   "source": [
    "# 테스트 단계에서는 정수 시퀀스를 텍스트 시퀀스로 변환하여 결과를 확인하는 것이 편하다. \n",
    "# 주어진 정수 시퀀스를 텍스트 시퀀스로 변환하는 함수를 만들것이다. \n",
    "# 함수를 만들 때, text의 정수 시퀀스에서는 패딩을 위해 사용되는 숫자 0을 제외시키고 \n",
    "# headlines의 정수 시퀀스에서는 숫자 0, 시작 토큰의 인덱스, 종료 토큰의 인덱스를 출력에서 제외시키도록 만들것이다.\n",
    "\n",
    "# 본문의 정수 시퀀스를 텍스트 시퀀스로 변환\n",
    "def seq2text(input_seq):\n",
    "    temp = \"\"\n",
    "    for i in input_seq:\n",
    "        if(i != 0):\n",
    "            temp = temp + src_index_to_word[i] + \" \"\n",
    "    return temp\n",
    "\n",
    "# 헤드라인의 정수 시퀀스를 텍스트 시퀀스로 변환\n",
    "def seq2headline(input_seq):\n",
    "    temp = \"\"\n",
    "    for i in input_seq:\n",
    "        if((i != 0 and i != tar_word_to_index[\"sostoken\"]) and i != tar_word_to_index[\"eostoken\"]):\n",
    "            temp = temp + tar_index_to_word[i] + \" \"\n",
    "    return temp"
   ]
  },
  {
   "cell_type": "code",
   "execution_count": 52,
   "id": "annual-council",
   "metadata": {},
   "outputs": [
    {
     "name": "stdout",
     "output_type": "stream",
     "text": [
      "원문 : john abraham ha replaced sushant singh rajput lead role upcoming thriller romeo akbar walter john took twitter share day shoot robbie directorial commence june filmmaker earlier claimed mutually parted way sushant due circumstance \n",
      "실제 헤드라인 : john replace sushant in upcoming film romeo akbar \n",
      "예측 헤드라인 :  john abraham to star in tv show report\n",
      "\n",
      "\n",
      "원문 : uk duches kate middleton uncle gary ha fined lakh hitting hi wife slapped argument last month year old wa also given month community order including rehabilitation session wa spared jail term assault apologised said wa deeply ashamed hi behaviour \n",
      "실제 헤드라인 : uk kate uncle fined after hitting wife \n",
      "예측 헤드라인 :  uk prince fined for assaulting girlfriend\n",
      "\n",
      "\n",
      "원문 : ambani family friday hosted isha ambani anand piramal second wedding reception mumbai jio garden singer composer ar rahman performed first picture open air reception surfaced online piramal family hosted couple first reception december newlywed crore sea facing marital home mumbai \n",
      "실제 헤드라인 : isha anand host nd wedding reception in mumbai first pic out \n",
      "예측 헤드라인 :  ambani isha ambani anand ambani anand wedding ceremony\n",
      "\n",
      "\n",
      "원문 : former england international cricketer marcu took three catche hat trick craig bowling playing somerset nottinghamshire county championship wednesday year old slip fielder recently extended hi somerset contract year ha playing county side past year \n",
      "실제 헤드라인 : yr old ex england player take all catche in hat trick \n",
      "예측 헤드라인 :  bowler take hat trick in hi career st hat trick\n",
      "\n",
      "\n",
      "원문 : year old united state taylor reportedly punched shark survive attack recently swimming gulf mexico taylor suffered six wound leg shark bite required stitche later shared picture wound twitter caption beyond lucky alive thank support \n",
      "실제 헤드라인 : year old girl punche shark to survive attack \n",
      "예측 헤드라인 :  man killed shark attack shark with shark in germany\n",
      "\n",
      "\n",
      "원문 : germany federal supreme court ha ruled beer cannot marketed beneficial consumer right group sued brewery falsely advertising health benefit germany brewery used word describe beer roughly translate european union law use term limited drink les alcoholic content \n",
      "실제 헤드라인 : germany top court ban beer ad that suggest it good \n",
      "예측 헤드라인 :  twitter user on twitter ban on misleading\n",
      "\n",
      "\n",
      "원문 : salman khan reportedly replace akshay kumar role serie founder gulshan kumar hi biopic mogul akshay earlier denied report quitting biopic ha reportedly decided film ha also returned signing amount biopic reportedly produced aamir khan \n",
      "실제 헤드라인 : salman to replace akshay in kumar biopic report \n",
      "예측 헤드라인 :  salman khan to star in akshay kumar housefull report\n",
      "\n",
      "\n",
      "원문 : combined market capitalisation nine valuable indian companie surged trillion thi week mukesh ambani led reliance industrie market valuation soared crore trillion emerging biggest gainer among top companie itc wa company saw decline market capitalisation lost crore value \n",
      "실제 헤드라인 : india most valuable firm add tn value in week \n",
      "예측 헤드라인 :  india cap market cap more than indian firm\n",
      "\n",
      "\n",
      "원문 : berkshire hathaway chairman ceo warren buffett net worth reached time high billion tuesday hi fortune ha increased billion last five year convert per second according bloomberg buffett third richest person world coming behind microsoft founder bill gate amazon founder jeff bezo \n",
      "실제 헤드라인 : warren buffett net worth reache new high of bn \n",
      "예측 헤드라인 :  buffett firm lose bn in day after day of bn deal\n",
      "\n",
      "\n",
      "원문 : ex arsenal footballer sanchez watt wa shown red card referee mistook player name dissent match england tuesday dean asked watt hi name wa going show yellow card watt repeatedly replied watt thought said showed red card instead \n",
      "실제 헤드라인 : player named shown red confuse name with what \n",
      "예측 헤드라인 :  ex footballer fan charged with card for wearing shirt\n",
      "\n",
      "\n",
      "원문 : jumping spider mimic ant walking stance avoid eaten insect predator according cornell university research ant well armed bite sting predator prefer spider ant researcher said spider use thi advantage raising mimic ant take fool predator added \n",
      "실제 헤드라인 : to avoid getting eaten spider walk like ant study \n",
      "예측 헤드라인 :  video of throne man breast with milky way\n",
      "\n",
      "\n",
      "원문 : fortnite pledged buy tesla car elon musk replied twitter shared picture hi tesla model tuesday october asked musk could help get better internet tesla ceo replied ye asked musk ha unusable first stage rocket \n",
      "실제 헤드라인 : fortnite buy tesla car because elon musk to him \n",
      "예측 헤드라인 :  youtube share elon musk tweet of tesla car\n",
      "\n",
      "\n",
      "원문 : actor ayushmann khurrana ha revealed hi wife tahira kashyap wa diagnosed breast cancer went watch film manmarziyaan evening maintain happy life state deal told ourselve cannot go home cry better go film added \n",
      "실제 헤드라인 : wife and went for film same day after cancer diagnosi ayushmann \n",
      "예측 헤드라인 :  ayushmann wife reveal he will not cancer wife\n",
      "\n",
      "\n",
      "원문 : uber ceo dara khosrowshahi ha said startup core ride hailing busines profitable speaking world economic forum khosrowshahi added cab hailing startup would continue make aggressive investment earlier talking uber recent legal controversie khosrowshahi said going growth cost responsible growth \n",
      "실제 헤드라인 : we ll be profitable before uber ceo khosrowshahi \n",
      "예측 헤드라인 :  uber will become uber profitable in india uber ceo\n",
      "\n",
      "\n",
      "원문 : indian rounder ravindra jadeja slammed saurashtra jammu kashmir ranji trophy sunday claiming hi fifth plu score eighth hundred first clas cricket prior thi jadeja last three first clas cricket centurie triple hundred last coming jadeja helped saurashtra les day \n",
      "실제 헤드라인 : ravindra jadeja slam th score in first clas cricket \n",
      "예측 헤드라인 :  jadeja slam hi net for not playing in hi match\n",
      "\n",
      "\n",
      "원문 : supreme court thursday held person obtaining job admission reserved category producing fake caste certificate lose job admission well certificate court dismissed bombay high court verdict person ha job long time certificate found later continue \n",
      "실제 헤드라인 : job secured by using fake caste certificate invalid sc \n",
      "예측 헤드라인 :  sc to give job job to job seeker in job case\n",
      "\n",
      "\n",
      "원문 : nine month pollution delhi air quality showed improvement first time thursday overall air quality index reading air quality considered good air pollution posing little risk decrease pollution level could due monsoon \n",
      "실제 헤드라인 : after month delhi had good air day \n",
      "예측 헤드라인 :  delhi air pollution get air india air pollution\n",
      "\n",
      "\n",
      "원문 : uttar pradesh bjp minister jaiswal ha said state minister happy stay dalit home despite bitten mosquitoe night ensure government scheme reach every household later said statement wa misinterpreted adding wa responding question asking minister made artificial arrangement deal mosquitoe village \n",
      "실제 헤드라인 : mosquitoe bite all night in dalit home up minister \n",
      "예측 헤드라인 :  bjp minister sleep in uttar pradesh\n",
      "\n",
      "\n",
      "원문 : rakhi sawant ha sought anticipatory bail connection case allegedly making objectionable remark sage valmiki sawant lawyer informed court rakhi never spoke sage valmiki adding ha given unconditional apology arrest warrant wa issued ludhiana court actres april remark \n",
      "실제 헤드라인 : rakhi sawant seek anticipatory bail in remark case \n",
      "예측 헤드라인 :  rakhi sawant file case against tanushree over remark\n",
      "\n",
      "\n",
      "원문 : former pnb deputy manager gokulnath shetty ha reportedly blamed rajesh jindal general manager brady house branch august may directing billion fraud shetty alleged jindal directed issue first letter undertaking nirav modi without securitie collateral rajesh jindal ha already arrested cbi \n",
      "실제 헤드라인 : gm directed billion fraud arrested pnb dy manager \n",
      "예측 헤드라인 :  pnb ex pnb official arrested in pnb fraud case\n",
      "\n",
      "\n",
      "원문 : india fourth valuable firm wipro friday reported quarter quarter rise net profit crore june quarter compared crore previou quarter revenue company operation grew crore share wipro closed nearly lower ahead earning \n",
      "실제 헤드라인 : wipro profit rise to crore in june quarter \n",
      "예측 헤드라인 :  wipro profit rise to crore in sept quarter\n",
      "\n",
      "\n",
      "원문 : ravindra jadeja ha overtaken spinner ravichandran ashwin sole top ranked test bowler earlier thi month jadeja ashwin become first pair spinner jointly top ranked icc bowler ranking jadeja took nine wicket ranchi test ha rating followed ashwin rating \n",
      "실제 헤드라인 : jadeja overtake ashwin to be number one test bowler \n"
     ]
    },
    {
     "name": "stdout",
     "output_type": "stream",
     "text": [
      "예측 헤드라인 :  jadeja overtake ashwin to be pacer in icc odi ranking\n",
      "\n",
      "\n",
      "원문 : national disaster response force deployed sunday morning rescue people stranded state run bu waterlogged mysuru road bengaluru patient evacuated flooded government hospital heavy rainfall saturday night uprooted tree two major flooded several localitie waterlogged \n",
      "실제 헤드라인 : over people stuck in luru bu flooded hospital rescued \n",
      "예측 헤드라인 :  heavy rainfall stuck in rain in mumbai\n",
      "\n",
      "\n",
      "원문 : ministry corporate affair planning collect know customer detail companie chartered accountant cost accountant company secretarie exercise would help form list companie professional secretary sriniva said ministry earlier carried kyc initiative company director prevent illicit flow fund \n",
      "실제 헤드라인 : companie ca may have to submit kyc detail to government \n",
      "예측 헤드라인 :  govt ask govt to send money to data breach\n",
      "\n",
      "\n",
      "원문 : kotak mahindra bank net profit december quarter rose year year crore profit crore period last year lender net interest income rose crore crore year ago period gros bad loan declined total advance corresponding quarter last year \n",
      "실제 헤드라인 : kotak mahindra bank profit rise to crore \n",
      "예측 헤드라인 :  kotak mahindra bank profit rise to crore\n",
      "\n",
      "\n",
      "원문 : essar steel committee creditor ha chosen arcelormittal japan steel metal winning bidder company firm would pay crore lender inject crore company essar steel promoter ruia family thursday offered pay crore settle claim withdraw company insolvency \n",
      "실제 헤드라인 : win bid to buy essar steel for crore \n",
      "예측 헤드라인 :  essar steel to acquire steel steel chairman\n",
      "\n",
      "\n",
      "원문 : minor girl wa rescued telangana police child marriage april ha felicitated sport police commissioner officer also assured provide financial help till complete academic girl wa part national level cricket tournament also play upcoming rugby tournament \n",
      "실제 헤드라인 : rescued child marriage victim awarded for sport excellence \n",
      "예측 헤드라인 :  minor girl rescued from in delhi\n",
      "\n",
      "\n",
      "원문 : oil companie monday reduced price petrol litre price diesel litre non branded petrol diesel delhi cost litre litre respectively current level international product price petrol diesel exchange rate warrant decrease selling price petrol diesel state owned said \n",
      "실제 헤드라인 : petrol price cut by litre diesel by litre \n",
      "예측 헤드라인 :  petrol price cut by litre diesel by litre\n",
      "\n",
      "\n",
      "원문 : prime minister narendra modi sunday termed south asia satellite india priceles gift neighbour part sabka sabka vika concept satellite would launched may added notably pakistan refused part project want gift india \n",
      "실제 헤드라인 : south asia satellite india gift to the region pm modi \n",
      "예측 헤드라인 :  modi modi to pm modi for india wedding in\n",
      "\n",
      "\n",
      "원문 : next generation airbu se super transporter one world largest aircraft set make debut flight middle first plane wa rolled assembly line aircraft name come resemblance arctic whale plane used airlift completed section plane \n",
      "실제 헤드라인 : new whale like aircraft set to make debut flight \n",
      "예측 헤드라인 :  world first passenger to make flight landing in\n",
      "\n",
      "\n",
      "원문 : employee bengaluru metro rail corporation ha committed suicide hour wa questioned police disappearance female colleague hi suicide note blamed harassment metro management writing share hi suicide however official corporation denied charge harassment \n",
      "실제 헤드라인 : bengaluru metro employee commit suicide blame management \n",
      "예측 헤드라인 :  bengaluru metro driver commit suicide after suicide\n",
      "\n",
      "\n",
      "원문 : american producer harvey weinstein former assistant ha claimed sexually assaulted wa period wa time said incident took place weinstein apartment new york wa extremely persistent physically added talking incident \n",
      "실제 헤드라인 : weinstein assaulted me when wa on my period ex assistant \n",
      "예측 헤드라인 :  weinstein sexually harassed me weinstein\n",
      "\n",
      "\n",
      "원문 : congres vice president rahul gandhi wednesday said performance india china determine fundamental shaping world two large migration taking place one completely free centrally controlled place say china democratic chosen path rahul added \n",
      "실제 헤드라인 : india china performance to decide of world rahul \n",
      "예측 헤드라인 :  india will be world most indian economy rahul gandhi\n",
      "\n",
      "\n",
      "원문 : actor kartik aaryan ha shared taken director imtiaz ali showed pm narendra modi behind failed take selfie picture wa captioned loser pm responding kartik pm modi tweeted loser rockstar selfie jab met alway another occasion \n",
      "실제 헤드라인 : kartik share with pm on failing to get selfie pm respond \n",
      "예측 헤드라인 :  kartik aaryan share pic of pm modi on hi wedding\n",
      "\n",
      "\n",
      "원문 : government ha lifted three year funding pause gain function experiment seeking alter viruse like make even dangerou research important helping identify develop strategie counter rapidly evolving pose threat public health said national institute health \n",
      "실제 헤드라인 : lift funding ban on research to make more deadly \n",
      "예측 헤드라인 :  govt shutdown may be shut down by year end\n",
      "\n",
      "\n",
      "원문 : reacting india odi serie win australia part cricketer harbhajan singh tweet read super game cricket well done boy om test serie odi serie read virender sehwag tweet super successful test serie india addressing concern odi side style tweeted former cricketer mohammad kaif \n",
      "실제 헤드라인 : well done boy harbhajan on india odi serie win \n",
      "예측 헤드라인 :  thi test ton tweet user on odi ton tweet user\n",
      "\n",
      "\n",
      "원문 : one millionth run test cricket wa scored australia allan border india october th test wankhede stadium mumbai run came bowling debutant raju kulkarni year australian opener charle scored first test run melbourne \n",
      "실제 헤드라인 : test run came india after year of test \n",
      "예측 헤드라인 :  india th test ton in india test serie win\n",
      "\n",
      "\n",
      "원문 : argentine football legend diego maradona joined football club chairman visited home stadium club military style open jeep paraded around stadium vehicle greeting fan waving club flag year old ha signed three year contract club \n",
      "실제 헤드라인 : maradona greet fan at new club in military style vehicle \n",
      "예측 헤드라인 :  maradona play football fan in match during match\n",
      "\n",
      "\n",
      "원문 : siri mistakenly told apple user national anthem bulgaria wa despacito instead correct answer dear motherland user said siri pulled wikipedia page despacito sung puerto rican artist lui daddy yankee notably wa adopted bulgarian national anthem \n",
      "실제 헤드라인 : siri mistakenly say national anthem \n",
      "예측 헤드라인 :  google engineer tweet user on twitter\n",
      "\n",
      "\n",
      "원문 : following report two people committing suicide state part momo challenge west bengal government ha issued directive police station educational institution keep track student behaviour official said people shown sign depression desire commit suicide targeted \n",
      "실제 헤드라인 : west bengal on alert momo challenge claim live \n",
      "예측 헤드라인 :  suicide in west bengal govt to be used to school\n",
      "\n",
      "\n",
      "원문 : bangladesh knocked pakistan asia cup registering run victory final super four stage match wednesday thi bangladesh made third asia cup final four edition bangladesh never asia cup face six time champion india final friday \n",
      "실제 헤드라인 : desh knock pak out of asia cup to face india in final on friday \n",
      "예측 헤드라인 :  desh beat desh to win their th odi title\n",
      "\n",
      "\n",
      "원문 : video pilot flight attendant performing kiki challenge alongside moving plane without anyone cockpit gone viral recently video pilot adjust control panel inside cockpit get dance pilot took instagram clarify plane wa moving wa towed \n",
      "실제 헤드라인 : pilot who did kiki challenge with plane reveal it wa being \n",
      "예측 헤드라인 :  pilot make emergency landing on flight shoot down\n",
      "\n",
      "\n",
      "원문 : firefighter saved life suicidal woman chinese city kicking back eighth floor flat woman wa sitting window threatening commit suicide incident occurred video show firefighter ninth floor kicking flat \n",
      "실제 헤드라인 : firefighter prevent suicide by kicking woman back into flat \n",
      "예측 헤드라인 :  baby fall into room after being hit by mother\n",
      "\n",
      "\n",
      "원문 : gurugram based grocery delivery startup grofer lost every made revenue financial year according filing company revenue stood crore losse reported crore period also total expenditure wa crore crore registered \n",
      "실제 헤드라인 : grofer lost for every made in revenue in \n",
      "예측 헤드라인 :  bengaluru startup post losse in fy\n",
      "\n",
      "\n",
      "원문 : playing th mithali raj became first ever indian woman cricketer reach run cricket india defeated sri lanka seven wicket women asia cup thursday india currently top point table six point four matche india next face pakistan june \n",
      "실제 헤드라인 : mithali st indian lady to hit run ind beat sl \n"
     ]
    },
    {
     "name": "stdout",
     "output_type": "stream",
     "text": [
      "예측 헤드라인 :  mithali raj become st woman to slam odi for women\n",
      "\n",
      "\n",
      "원문 : infosy co founder narayana murthy ha said keeping quiet may make seem gentle good potential wound company chose speak question wish see thi company flourish added earlier former infosy board member urged murthy wound infosy hi action \n",
      "실제 헤드라인 : keeping quiet would have infosy murthy \n",
      "예측 헤드라인 :  my life would be like infosy infosy murthy\n",
      "\n",
      "\n",
      "원문 : government draft law criminalising instant triple talaq allow man divorce hi wife saying word talaq thrice propose three year jail term fine offender offence non bailable right maintenance child custody accorded victim divorce report said \n",
      "실제 헤드라인 : draft law on triple talaq propose yr jail for husband \n",
      "예측 헤드라인 :  what are the law centre to sc on triple talaq case\n",
      "\n",
      "\n",
      "원문 : india muslim president ali khan ha announced would give lakh cash publicly destroy poster mohammad ali jinnah people like khan added pakistan never displayed photo mahatma gandhi freedom fighter indian university display jinnah photo campu \n",
      "실제 헤드라인 : muslim offer lakh for down jinnah poster \n",
      "예측 헤드라인 :  muslim body offer lakh to offer money to buy terrorist\n",
      "\n",
      "\n",
      "원문 : billion year ago day earth lasted hour minute partly moon wa closer according based study moon move away earth like spinning figure skater slow stretch arm said explaining earth rotational period getting longer hour \n",
      "실제 헤드라인 : day on earth wa only hour long billion year ago \n",
      "예측 헤드라인 :  billion year old meteorite hit by earth in day\n",
      "\n",
      "\n",
      "원문 : indian army ha reportedly directed soldier strictly follow guideline informing army local unit kashmir going home leave valley direction came army officer fayaz gone kashmir attend wedding wa kidnapped killed gunmen shopian \n",
      "실제 헤드라인 : soldier to inform unit in valley before going home \n",
      "예측 헤드라인 :  army to army army chief to fight army chief report\n",
      "\n",
      "\n"
     ]
    }
   ],
   "source": [
    "# 테스트 데이터 약 50개의 샘플에 대해서 실제 요약과 예측된 요약을 비교해보기.\n",
    "for i in range(50, 100):\n",
    "    print(\"원문 :\", seq2text(encoder_input_test[i]))\n",
    "    print(\"실제 헤드라인 :\", seq2headline(decoder_input_test[i]))\n",
    "    print(\"예측 헤드라인 :\", decode_sequence(encoder_input_test[i].reshape(1, text_max)))\n",
    "    print(\"\\n\")"
   ]
  },
  {
   "cell_type": "markdown",
   "id": "worldwide-period",
   "metadata": {},
   "source": [
    "## 추출적 요약 해보기"
   ]
  },
  {
   "cell_type": "markdown",
   "id": "electoral-uniform",
   "metadata": {},
   "source": [
    "#### 10. summarize 사용해보기"
   ]
  },
  {
   "cell_type": "code",
   "execution_count": 7,
   "id": "viral-actress",
   "metadata": {},
   "outputs": [],
   "source": [
    "text = requests.get(\"https://raw.githubusercontent.com/sunnysai12345/News_Summary/master/news_summary_more.csv\").text"
   ]
  },
  {
   "cell_type": "code",
   "execution_count": 8,
   "id": "signed-internet",
   "metadata": {},
   "outputs": [
    {
     "data": {
      "text/plain": [
       "41315359"
      ]
     },
     "execution_count": 8,
     "metadata": {},
     "output_type": "execute_result"
    }
   ],
   "source": [
    "len(text)"
   ]
  },
  {
   "cell_type": "code",
   "execution_count": 9,
   "id": "heated-creek",
   "metadata": {
    "scrolled": true
   },
   "outputs": [
    {
     "name": "stdout",
     "output_type": "stream",
     "text": [
      "headlines,text\n",
      "upGrad learner switches to career in ML & Al with 90% salary hike,\"Saurav Kant, an alumnus of upGrad and IIIT-B's PG Program in Machine learning and Artificial Intelligence, was a Sr Systems Engineer at Infosys with almost 5 years of work experience. The program and upGrad's 360-degree career support helped him transition to a Data Scientist at Tech Mahindra with 90% salary hike. upGrad's Online Power Learning has powered 3 lakh+ careers.\"\n",
      "Delhi techie wins free food from Swiggy for one year on CRED,\"Kunal Shah's credit card bill payment platform, CRED, gave users a chance to win free food from Swiggy for one year. Pranav Kaushik, a Delhi techie, bagged this reward after spending 2000 CRED coins. Users get one CRED coin per rupee of bill paid, which can be used to avail rewards from brands like Ixigo, BookMyShow, UberEats, Cult.Fit and more.\"\n",
      "New Zealand end Rohit Sharma-led India's 12-match winning streak,\"New Zealand defeated India by 8 wickets in the fourth ODI at Ham\n"
     ]
    }
   ],
   "source": [
    "print(text[:1000])"
   ]
  },
  {
   "cell_type": "code",
   "execution_count": 14,
   "id": "anonymous-bumper",
   "metadata": {},
   "outputs": [
    {
     "data": {
      "text/html": [
       "<div>\n",
       "<style scoped>\n",
       "    .dataframe tbody tr th:only-of-type {\n",
       "        vertical-align: middle;\n",
       "    }\n",
       "\n",
       "    .dataframe tbody tr th {\n",
       "        vertical-align: top;\n",
       "    }\n",
       "\n",
       "    .dataframe thead th {\n",
       "        text-align: right;\n",
       "    }\n",
       "</style>\n",
       "<table border=\"1\" class=\"dataframe\">\n",
       "  <thead>\n",
       "    <tr style=\"text-align: right;\">\n",
       "      <th></th>\n",
       "      <th>headlines</th>\n",
       "      <th>text</th>\n",
       "    </tr>\n",
       "  </thead>\n",
       "  <tbody>\n",
       "    <tr>\n",
       "      <th>0</th>\n",
       "      <td>upGrad learner switches to career in ML &amp; Al w...</td>\n",
       "      <td>Saurav Kant, an alumnus of upGrad and IIIT-B's...</td>\n",
       "    </tr>\n",
       "    <tr>\n",
       "      <th>1</th>\n",
       "      <td>Delhi techie wins free food from Swiggy for on...</td>\n",
       "      <td>Kunal Shah's credit card bill payment platform...</td>\n",
       "    </tr>\n",
       "    <tr>\n",
       "      <th>2</th>\n",
       "      <td>New Zealand end Rohit Sharma-led India's 12-ma...</td>\n",
       "      <td>New Zealand defeated India by 8 wickets in the...</td>\n",
       "    </tr>\n",
       "    <tr>\n",
       "      <th>3</th>\n",
       "      <td>Aegon life iTerm insurance plan helps customer...</td>\n",
       "      <td>With Aegon Life iTerm Insurance plan, customer...</td>\n",
       "    </tr>\n",
       "    <tr>\n",
       "      <th>4</th>\n",
       "      <td>Have known Hirani for yrs, what if MeToo claim...</td>\n",
       "      <td>Speaking about the sexual harassment allegatio...</td>\n",
       "    </tr>\n",
       "    <tr>\n",
       "      <th>...</th>\n",
       "      <td>...</td>\n",
       "      <td>...</td>\n",
       "    </tr>\n",
       "    <tr>\n",
       "      <th>98396</th>\n",
       "      <td>CRPF jawan axed to death by Maoists in Chhatti...</td>\n",
       "      <td>A CRPF jawan was on Tuesday axed to death with...</td>\n",
       "    </tr>\n",
       "    <tr>\n",
       "      <th>98397</th>\n",
       "      <td>First song from Sonakshi Sinha's 'Noor' titled...</td>\n",
       "      <td>'Uff Yeh', the first song from the Sonakshi Si...</td>\n",
       "    </tr>\n",
       "    <tr>\n",
       "      <th>98398</th>\n",
       "      <td>'The Matrix' film to get a reboot: Reports</td>\n",
       "      <td>According to reports, a new version of the 199...</td>\n",
       "    </tr>\n",
       "    <tr>\n",
       "      <th>98399</th>\n",
       "      <td>Snoop Dogg aims gun at clown dressed as Trump ...</td>\n",
       "      <td>A new music video shows rapper Snoop Dogg aimi...</td>\n",
       "    </tr>\n",
       "    <tr>\n",
       "      <th>98400</th>\n",
       "      <td>Madhesi Morcha withdraws support to Nepalese g...</td>\n",
       "      <td>Madhesi Morcha, an alliance of seven political...</td>\n",
       "    </tr>\n",
       "  </tbody>\n",
       "</table>\n",
       "<p>98401 rows × 2 columns</p>\n",
       "</div>"
      ],
      "text/plain": [
       "                                               headlines  \\\n",
       "0      upGrad learner switches to career in ML & Al w...   \n",
       "1      Delhi techie wins free food from Swiggy for on...   \n",
       "2      New Zealand end Rohit Sharma-led India's 12-ma...   \n",
       "3      Aegon life iTerm insurance plan helps customer...   \n",
       "4      Have known Hirani for yrs, what if MeToo claim...   \n",
       "...                                                  ...   \n",
       "98396  CRPF jawan axed to death by Maoists in Chhatti...   \n",
       "98397  First song from Sonakshi Sinha's 'Noor' titled...   \n",
       "98398         'The Matrix' film to get a reboot: Reports   \n",
       "98399  Snoop Dogg aims gun at clown dressed as Trump ...   \n",
       "98400  Madhesi Morcha withdraws support to Nepalese g...   \n",
       "\n",
       "                                                    text  \n",
       "0      Saurav Kant, an alumnus of upGrad and IIIT-B's...  \n",
       "1      Kunal Shah's credit card bill payment platform...  \n",
       "2      New Zealand defeated India by 8 wickets in the...  \n",
       "3      With Aegon Life iTerm Insurance plan, customer...  \n",
       "4      Speaking about the sexual harassment allegatio...  \n",
       "...                                                  ...  \n",
       "98396  A CRPF jawan was on Tuesday axed to death with...  \n",
       "98397  'Uff Yeh', the first song from the Sonakshi Si...  \n",
       "98398  According to reports, a new version of the 199...  \n",
       "98399  A new music video shows rapper Snoop Dogg aimi...  \n",
       "98400  Madhesi Morcha, an alliance of seven political...  \n",
       "\n",
       "[98401 rows x 2 columns]"
      ]
     },
     "execution_count": 14,
     "metadata": {},
     "output_type": "execute_result"
    }
   ],
   "source": [
    "data"
   ]
  },
  {
   "cell_type": "code",
   "execution_count": 46,
   "id": "hired-independence",
   "metadata": {},
   "outputs": [
    {
     "name": "stdout",
     "output_type": "stream",
     "text": [
      "Summary:\n",
      "[]\n"
     ]
    }
   ],
   "source": [
    "# Summa의 summarize()의 인자로 사용되는 값.\n",
    "# text (str) : 요약할 테스트.\n",
    "# ratio (float, optional) – 요약문에서 원본에서 선택되는 문장 비율. 0~1 사이값\n",
    "# words (int or None, optional) – 출력에 포함할 단어 수.\n",
    "# 만약, ratio와 함께 두 파라미터가 모두 제공되는 경우 ratio는 무시한다.\n",
    "# split (bool, optional) – True면 문장 list / False는 조인(join)된 문자열을 반환\n",
    "print('Summary:')\n",
    "print(summarize(str(data[\"text\"]), ratio = 0.05, split = True))"
   ]
  },
  {
   "cell_type": "markdown",
   "id": "appointed-management",
   "metadata": {},
   "source": [
    "#### 11. 회고록"
   ]
  },
  {
   "cell_type": "code",
   "execution_count": null,
   "id": "confused-barcelona",
   "metadata": {},
   "outputs": [],
   "source": [
    "# 추상적 요약에서 정규화를 하는데, 정규표현식이 이해가 잘 되지 않았다.\n",
    "# 데이터 분포를 봤을 때 먼가 정규분포인듯 해서 분포를 확인 할 때 표준편차 * 3를 이용했다. (만약 정규분포라면 그 안의 데이터가 99% 들어있을테니까)\n",
    "# 실습에 사용한 데이터는 결측치가 처음에도 없었고, 전처리를 하면서도 생기지 않아서 좋았다.\n",
    "# 모델은 노드를 그대로 쓰면서 어떻게 작성하는지 한번 작성하고 보는데 만족을 했다. 학습을 하는데 30분 이상이 걸릴 줄은 몰랐다.\n",
    "# 헤드라인을 예측은 하는데 영어로 써있어서 잘 예측했는지 판단은 못하겠지만, 내가 만들고 학습시킨 모델이 무언가 결과물을 만들었다는게 신기했다.\n",
    "\n",
    "# 추출적 요약을 하는데 처음에는 불러온 데이터프레임을 어떻게 쓰려고 노력을 했지만 실패했다. 아무리 해도 string이 되지 않았다.\n",
    "# 결국 노드에서 사용한 것처럼 text를 불러와서 모델을 돌렸다.\n",
    "# 그리고 모델을 돌리는데 아무리 해도 멈추질 않는다.\n",
    "# 그래서 그냥 str(data[\"text\"])로 해서 돌렸는데 빈 스트링이 나온다.."
   ]
  },
  {
   "cell_type": "code",
   "execution_count": null,
   "id": "modified-lottery",
   "metadata": {},
   "outputs": [],
   "source": []
  }
 ],
 "metadata": {
  "kernelspec": {
   "display_name": "Python 3",
   "language": "python",
   "name": "python3"
  },
  "language_info": {
   "codemirror_mode": {
    "name": "ipython",
    "version": 3
   },
   "file_extension": ".py",
   "mimetype": "text/x-python",
   "name": "python",
   "nbconvert_exporter": "python",
   "pygments_lexer": "ipython3",
   "version": "3.7.9"
  }
 },
 "nbformat": 4,
 "nbformat_minor": 5
}
