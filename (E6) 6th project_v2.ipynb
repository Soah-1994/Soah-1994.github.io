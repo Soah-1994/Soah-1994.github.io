{
 "cells": [
  {
   "cell_type": "code",
   "execution_count": 1,
   "id": "acoustic-cemetery",
   "metadata": {},
   "outputs": [],
   "source": [
    "# 패키지 로딩하기\n",
    "import re\n",
    "import numpy as np\n",
    "import tensorflow as tf\n",
    "import os\n",
    "import glob\n",
    "import sklearn.model_selection\n",
    "import matplotlib.pyplot as plt"
   ]
  },
  {
   "cell_type": "code",
   "execution_count": 2,
   "id": "fallen-lodging",
   "metadata": {},
   "outputs": [],
   "source": [
    "# 데이터 불러오기\n",
    "txt_file_path = os.getenv(\"HOME\") + \"/aiffel/lyricist/data/lyrics/*\" # ~/aiffel/lyricist/data/lyrics 폴더 안의 모든 파일 선택\n",
    "txt_list      = glob.glob(txt_file_path)                             # 파일 경로 안의 모든 파일 이름 리스트형태로 반환"
   ]
  },
  {
   "cell_type": "code",
   "execution_count": 3,
   "id": "introductory-newport",
   "metadata": {},
   "outputs": [],
   "source": [
    "raw_corpus = []                     # 미리 빈 리스트를 만들고\n",
    "\n",
    "for txt_file in txt_list:           # txt_list을 하나씩 가져와서 txt_file이라고 명명하고\n",
    "    with open(txt_file, \"r\") as f:  # txt_file을 읽기전용으로 열고 f라고 명명하고\n",
    "        raw = f.read().splitlines() # f을 한줄씩 읽어와서\n",
    "        raw_corpus.extend(raw)      # 미리 만들어 놓은 raw_corpus에 넣는다. (iterable로 넣기위해 extend 사용)"
   ]
  },
  {
   "cell_type": "code",
   "execution_count": 4,
   "id": "facial-intellectual",
   "metadata": {},
   "outputs": [
    {
     "name": "stdout",
     "output_type": "stream",
     "text": [
      "전체 문장 갯수 : 187088\n",
      "예시 문장 5개 : ['The first words that come out', 'And I can see this song will be about you', \"I can't believe that I can breathe without you\", 'But all I need to do is carry on', 'The next line I write down']\n"
     ]
    }
   ],
   "source": [
    "print(\"전체 문장 갯수 :\", len(raw_corpus))\n",
    "print(\"예시 문장 5개 :\", raw_corpus[:5])\n",
    "\n",
    "# 연극 대사처럼 따로 빼거나 없애야 하는 특수문자는 보이지 않음"
   ]
  },
  {
   "cell_type": "code",
   "execution_count": 5,
   "id": "regional-enclosure",
   "metadata": {},
   "outputs": [],
   "source": [
    "# 데이터 정제하기 (데이터 전처리)\n",
    "# 토큰화 했을 때 토큰 갯수가 15개를 넘어가는 문장은 학습데이터에서 제외함. (노드에서 시킴)\n",
    "def preprocess_sentence(sentence):      # 문장을 정제하는 함수를 만들 것임\n",
    "    sentence = sentence.lower().strip() # 먼저 들어온 문장을 소문자로 바꾸고 양쪽 공백이 있으면 제거함\n",
    "    \n",
    "    # 문장에서 처리해줘야 할 기호나 패턴을 처리\n",
    "    # 실습 데이터는 그대로 써도 될 것같지만 혹시 몰라서 노드에 있는 경우의 수를 그대로 씀\n",
    "    sentence = re.sub(r\"([?.!,¿])\", r\" \\1 \", sentence)   # 패턴의 특수문자를 만나면 특수문자 양쪽에 공백을 추가\n",
    "    sentence = re.sub(r'[\" \"]+', \" \", sentence)          # 공백 패턴을 만나면 공백 1개로 치환\n",
    "    sentence = re.sub(r\"[^a-zA-Z?.!,¿]+\", \" \", sentence) # 알파벳(대,소문자), ?.!,¿패턴을 제외한 모든 문자(공백 포함)를 공백 1개로 치환\n",
    "    \n",
    "    sentence = sentence.strip()                          # 한번 더 양쪽 공백 제거\n",
    "    sentence = \"<start> \" + sentence + \" <end>\"          # sentence 양쪽에 시작과 끝을 알리는 단어를 붙여줌\n",
    "    \n",
    "    return sentence"
   ]
  },
  {
   "cell_type": "code",
   "execution_count": 6,
   "id": "global-nurse",
   "metadata": {},
   "outputs": [
    {
     "name": "stdout",
     "output_type": "stream",
     "text": [
      "<start> test it s sample text <end>\n"
     ]
    }
   ],
   "source": [
    "# 함수가 잘 만들어졌는지 확인하기\n",
    "print(preprocess_sentence(\"Test : It's @#%^$#%$ sample     text\"))\n",
    "\n",
    "# 공백, 특수문자 전부 잘 처리됨."
   ]
  },
  {
   "cell_type": "code",
   "execution_count": 7,
   "id": "inappropriate-paint",
   "metadata": {
    "scrolled": true
   },
   "outputs": [
    {
     "data": {
      "text/plain": [
       "['<start> the first words that come out <end>',\n",
       " '<start> and i can see this song will be about you <end>',\n",
       " '<start> i can t believe that i can breathe without you <end>',\n",
       " '<start> but all i need to do is carry on <end>',\n",
       " '<start> the next line i write down <end>',\n",
       " '<start> and there s a tear that falls between the pages <end>',\n",
       " '<start> i know that pain s supposed to heal in stages <end>',\n",
       " '<start> i could throw it in the river and watch it sink in slowly <end>',\n",
       " '<start> tie the pages to a plane and send it to the moon <end>']"
      ]
     },
     "execution_count": 7,
     "metadata": {},
     "output_type": "execute_result"
    }
   ],
   "source": [
    "corpus = [] # 빈 리스트를 미리 만들고\n",
    "\n",
    "for sentence in raw_corpus:                       # 기존의 텍스트 데이터를 한개씩 가져와서\n",
    "    if len(sentence) == 0: continue               # 아무것도 없는 것은 제외하고\n",
    "    temp_sentence = preprocess_sentence(sentence) # 정제하는 함수를 거친 뒤\n",
    "    if len(temp_sentence.split()) > 15: continue  # 토큰의 갯수가 15개를 넘어가는 문장은 데이터에서 제외하고\n",
    "    corpus.append(temp_sentence)                  # 리스트에 추가한다.\n",
    "\n",
    "corpus[:9] # 잘 뽑혔는지 10개만 출력하여 확인하기\n",
    "\n",
    "# 잘 작동함."
   ]
  },
  {
   "cell_type": "code",
   "execution_count": 8,
   "id": "allied-python",
   "metadata": {},
   "outputs": [
    {
     "name": "stdout",
     "output_type": "stream",
     "text": [
      "corpus 갯수 : 156227\n"
     ]
    }
   ],
   "source": [
    "print(\"corpus 갯수 :\", len(corpus)) "
   ]
  },
  {
   "cell_type": "code",
   "execution_count": 9,
   "id": "material-trinidad",
   "metadata": {},
   "outputs": [],
   "source": [
    "# 정제한 데이터를 텐서(벡터화)로 만들기\n",
    "def tokenize(corpus):\n",
    "    tokenizer = tf.keras.preprocessing.text.Tokenizer(num_words = 12000,   # 전체 단어의 개수 - 하이퍼파라미터\n",
    "                                                      filters   = \" \",     # 별도로 전처리 로직을 추가할 수 있습니다. 이번에는 사용하지 않겠습니다.\n",
    "                                                      oov_token = \"<unk>\") # 사전에 없었던 단어는 어떤 토큰으로 대체할지 정한다.\n",
    "    tokenizer.fit_on_texts(corpus) # corpus로부터 tokenizer가 사전을 자동 구축한다.\n",
    "    \n",
    "    tensor = tokenizer.texts_to_sequences(corpus) # 구축한 사전으로부터 corpus를 해석해 tensor로 변환한다.\n",
    "    \n",
    "    # 입력 데이터의 시퀀스 길이를 일정하게 맞추기 위한 padding  메소드를 제공한다. \n",
    "    # maxlen의 디폴트값은 None입니다. 이 경우 corpus의 가장 긴 문장을 기준으로 시퀀스 길이가 맞춰집니다.\n",
    "    tensor = tf.keras.preprocessing.sequence.pad_sequences(tensor, padding = \"post\")\n",
    "    \n",
    "    return tensor, tokenizer"
   ]
  },
  {
   "cell_type": "code",
   "execution_count": 10,
   "id": "muslim-wyoming",
   "metadata": {},
   "outputs": [
    {
     "name": "stdout",
     "output_type": "stream",
     "text": [
      "(156227, 15)\n"
     ]
    }
   ],
   "source": [
    "tensor, tokenizer = tokenize(corpus) # 전처리를 한 데이터를 만든 함수에 적용시켜서 텐서로 만든다.\n",
    "print(tensor.shape)                  # 156227개의 문장이 있고, 문장의 토큰 최대길이는 15이다."
   ]
  },
  {
   "cell_type": "code",
   "execution_count": 11,
   "id": "noble-consortium",
   "metadata": {},
   "outputs": [
    {
     "name": "stdout",
     "output_type": "stream",
     "text": [
      "[[  2   6 247 434  15  68  57   3   0   0   0   0   0   0   0]\n",
      " [  2   8   4  35  63  41 357  84  27 112   7   3   0   0   0]\n",
      " [  2   4  35  16 218  15   4  35 768 257   7   3   0   0   0]\n",
      " [  2  33  25   4  92  10  48  26 832  18   3   0   0   0   0]\n",
      " [  2   6 330 442   4 760  58   3   0   0   0   0   0   0   0]]\n"
     ]
    }
   ],
   "source": [
    "print(tensor[:5, ])"
   ]
  },
  {
   "cell_type": "code",
   "execution_count": 12,
   "id": "eastern-relay",
   "metadata": {},
   "outputs": [
    {
     "name": "stdout",
     "output_type": "stream",
     "text": [
      "[  2   6 247 434  15  68  57   3   0   0   0   0   0   0]\n",
      "[  6 247 434  15  68  57   3   0   0   0   0   0   0   0]\n"
     ]
    }
   ],
   "source": [
    "# 평가 데이터셋 분리\n",
    "source_input = tensor[:, :-1] # tensor에서 마지막 토큰을 잘라내서 소스 문장을 생성합니다. 마지막 토큰은 <end>가 아니라 <pad>일 가능성이 높습니다.\n",
    "target_input = tensor[:, 1:]  # tensor에서 <start>를 잘라내서 타겟 문장을 생성합니다.\n",
    "\n",
    "print(source_input[0])\n",
    "print(target_input[0])"
   ]
  },
  {
   "cell_type": "code",
   "execution_count": 13,
   "id": "civilian-round",
   "metadata": {},
   "outputs": [
    {
     "name": "stdout",
     "output_type": "stream",
     "text": [
      "Source Train: (124981, 14)\n",
      "Target Train: (124981, 14)\n"
     ]
    }
   ],
   "source": [
    "# sklear를 이용하여 train data와 vaildation data로 나눈다.\n",
    "enc_train, enc_val, dec_train, dec_val = sklearn.model_selection.train_test_split(source_input, target_input, test_size = 0.2)\n",
    "\n",
    "print(\"Source Train:\", enc_train.shape)\n",
    "print(\"Target Train:\", dec_train.shape)"
   ]
  },
  {
   "cell_type": "code",
   "execution_count": 14,
   "id": "static-thermal",
   "metadata": {},
   "outputs": [
    {
     "data": {
      "text/plain": [
       "<BatchDataset shapes: ((None, 14), (None, 14)), types: (tf.int32, tf.int32)>"
      ]
     },
     "execution_count": 14,
     "metadata": {},
     "output_type": "execute_result"
    }
   ],
   "source": [
    "buffer_size     = len(source_input)\n",
    "batch_size      = 256\n",
    "steps_per_epoch = buffer_size // batch_size\n",
    "\n",
    "vocab_size = tokenizer.num_words + 1 # tokenizer가 구축한 단어사전 내 12000개 + 여기에 포함되지 않은 0 : <pad>를 포함하여 12001개\n",
    "\n",
    "dataset = tf.data.Dataset.from_tensor_slices((source_input, target_input)).shuffle(buffer_size)\n",
    "dataset = dataset.batch(batch_size, drop_remainder = False)\n",
    "dataset"
   ]
  },
  {
   "cell_type": "code",
   "execution_count": 15,
   "id": "small-radius",
   "metadata": {},
   "outputs": [
    {
     "data": {
      "text/plain": [
       "<BatchDataset shapes: ((None, 14), (None, 14)), types: (tf.int32, tf.int32)>"
      ]
     },
     "execution_count": 15,
     "metadata": {},
     "output_type": "execute_result"
    }
   ],
   "source": [
    "training_set = tf.data.Dataset.from_tensor_slices((enc_train, dec_train)).shuffle(buffer_size)\n",
    "training_set = training_set.batch(batch_size, drop_remainder = False)\n",
    "training_set"
   ]
  },
  {
   "cell_type": "code",
   "execution_count": 16,
   "id": "guilty-bench",
   "metadata": {},
   "outputs": [
    {
     "data": {
      "text/plain": [
       "<BatchDataset shapes: ((None, 14), (None, 14)), types: (tf.int32, tf.int32)>"
      ]
     },
     "execution_count": 16,
     "metadata": {},
     "output_type": "execute_result"
    }
   ],
   "source": [
    "vaildation_set = tf.data.Dataset.from_tensor_slices((enc_val, dec_val)).shuffle(buffer_size)\n",
    "vaildation_set = vaildation_set.batch(batch_size, drop_remainder = False)\n",
    "vaildation_set"
   ]
  },
  {
   "cell_type": "code",
   "execution_count": 17,
   "id": "exotic-recall",
   "metadata": {},
   "outputs": [],
   "source": [
    "# 모델 만들기\n",
    "class TextGenerator(tf.keras.Model):\n",
    "    def __init__(self, vocab_size, embedding_size, hidden_size):\n",
    "        super(TextGenerator, self).__init__()\n",
    "        \n",
    "        self.embedding = tf.keras.layers.Embedding(vocab_size, embedding_size)\n",
    "        self.rnn_1     = tf.keras.layers.LSTM(hidden_size, return_sequences = True)\n",
    "        self.rnn_2     = tf.keras.layers.LSTM(hidden_size, return_sequences = True)\n",
    "        self.linear    = tf.keras.layers.Dense(vocab_size)\n",
    "    \n",
    "    def call(self, x):\n",
    "        out = self.embedding(x)\n",
    "        out = self.rnn_1(out)\n",
    "        out = self.rnn_2(out)\n",
    "        out = self.linear(out)\n",
    "        \n",
    "        return out"
   ]
  },
  {
   "cell_type": "code",
   "execution_count": 18,
   "id": "black-planner",
   "metadata": {},
   "outputs": [],
   "source": [
    "model = TextGenerator(vocab_size = vocab_size, embedding_size = 1024, hidden_size = 4096) # embedding_size와 hidden_size를 조절하여 원하는 결과를 도출하자"
   ]
  },
  {
   "cell_type": "code",
   "execution_count": 19,
   "id": "developmental-midwest",
   "metadata": {},
   "outputs": [
    {
     "data": {
      "text/plain": [
       "<tf.Tensor: shape=(256, 14, 12001), dtype=float32, numpy=\n",
       "array([[[-1.3189684e-04,  3.3798104e-04, -1.8998129e-04, ...,\n",
       "         -8.7890927e-05, -4.4169070e-04, -6.9613736e-05],\n",
       "        [-2.2291593e-04,  2.3099934e-04, -3.7860192e-04, ...,\n",
       "          1.1000335e-04, -5.7920982e-04, -1.5441874e-04],\n",
       "        [-2.6665008e-04,  3.8066686e-05,  7.2979135e-05, ...,\n",
       "          6.8944710e-04, -6.1520044e-04,  4.0142582e-05],\n",
       "        ...,\n",
       "        [ 1.2060686e-03,  4.8364704e-03, -6.3668163e-03, ...,\n",
       "          2.3784831e-03,  7.1735785e-04, -2.5596803e-03],\n",
       "        [ 1.2202683e-03,  5.4590539e-03, -6.9568111e-03, ...,\n",
       "          2.3238526e-03,  7.1534578e-04, -2.8363140e-03],\n",
       "        [ 1.2023345e-03,  6.0046962e-03, -7.4665723e-03, ...,\n",
       "          2.2620675e-03,  6.9222174e-04, -3.0733065e-03]],\n",
       "\n",
       "       [[-1.3189684e-04,  3.3798104e-04, -1.8998129e-04, ...,\n",
       "         -8.7890927e-05, -4.4169070e-04, -6.9613736e-05],\n",
       "        [-4.1844862e-04,  4.2186619e-04, -6.7373941e-04, ...,\n",
       "          9.4132374e-05, -5.3998624e-04, -3.9994341e-04],\n",
       "        [-6.2212785e-04,  4.8579747e-04, -5.9016910e-04, ...,\n",
       "          1.2748525e-06, -3.0742867e-05, -7.3990843e-04],\n",
       "        ...,\n",
       "        [ 1.7298592e-03,  1.6704529e-03, -4.6763341e-03, ...,\n",
       "          1.4282007e-03,  1.4898891e-03, -9.0097386e-04],\n",
       "        [ 1.7449611e-03,  2.6239525e-03, -5.4837284e-03, ...,\n",
       "          1.6009219e-03,  1.4269814e-03, -1.2909593e-03],\n",
       "        [ 1.7249564e-03,  3.5141502e-03, -6.2093926e-03, ...,\n",
       "          1.7198714e-03,  1.3284835e-03, -1.6806839e-03]],\n",
       "\n",
       "       [[-1.3189684e-04,  3.3798104e-04, -1.8998129e-04, ...,\n",
       "         -8.7890927e-05, -4.4169070e-04, -6.9613736e-05],\n",
       "        [-4.5449365e-04,  1.1733831e-03, -1.9617166e-04, ...,\n",
       "         -2.8333694e-04, -9.4440108e-04,  6.4299980e-05],\n",
       "        [-2.5145794e-04,  9.9932111e-04, -3.0551347e-04, ...,\n",
       "         -3.0345283e-04, -1.1006022e-03, -1.7372485e-04],\n",
       "        ...,\n",
       "        [ 1.2147912e-03,  5.9567126e-03, -7.2084218e-03, ...,\n",
       "          2.3396544e-03,  8.1900862e-04, -2.9748837e-03],\n",
       "        [ 1.1841399e-03,  6.4060139e-03, -7.6711988e-03, ...,\n",
       "          2.3431773e-03,  8.0773176e-04, -3.1915954e-03],\n",
       "        [ 1.1279893e-03,  6.8024411e-03, -8.0699092e-03, ...,\n",
       "          2.3267919e-03,  7.7278982e-04, -3.3689612e-03]],\n",
       "\n",
       "       ...,\n",
       "\n",
       "       [[-1.3189684e-04,  3.3798104e-04, -1.8998129e-04, ...,\n",
       "         -8.7890927e-05, -4.4169070e-04, -6.9613736e-05],\n",
       "        [-3.3533090e-04,  3.7967079e-04, -2.7913286e-04, ...,\n",
       "         -2.7676448e-04, -4.5880157e-04, -2.7488914e-04],\n",
       "        [-4.7355966e-04,  7.6016935e-04, -5.1161338e-04, ...,\n",
       "         -4.5545676e-04, -6.1354156e-05, -5.3568254e-04],\n",
       "        ...,\n",
       "        [ 6.8199990e-04,  1.9688092e-03, -2.2678308e-03, ...,\n",
       "          1.8155201e-04,  6.5421569e-04, -4.8213202e-04],\n",
       "        [ 7.5377634e-04,  2.6665917e-03, -3.1446849e-03, ...,\n",
       "          5.6638039e-04,  6.3058070e-04, -8.0899283e-04],\n",
       "        [ 8.3751709e-04,  3.4029153e-03, -4.0068594e-03, ...,\n",
       "          8.9986727e-04,  5.8352266e-04, -1.1724639e-03]],\n",
       "\n",
       "       [[-1.3189684e-04,  3.3798104e-04, -1.8998129e-04, ...,\n",
       "         -8.7890927e-05, -4.4169070e-04, -6.9613736e-05],\n",
       "        [-1.8426661e-04,  5.8610417e-04, -2.3677680e-04, ...,\n",
       "         -7.2457724e-06, -4.4383563e-04, -7.0964576e-05],\n",
       "        [ 2.1118182e-04,  5.4066844e-05, -3.6736878e-04, ...,\n",
       "          3.3328455e-05, -4.6437114e-04, -3.5545239e-04],\n",
       "        ...,\n",
       "        [ 1.6448739e-03,  5.5765039e-03, -7.1863397e-03, ...,\n",
       "          2.0797709e-03,  7.2362408e-04, -2.7598047e-03],\n",
       "        [ 1.5494765e-03,  6.1196405e-03, -7.6446407e-03, ...,\n",
       "          2.0798685e-03,  7.0631044e-04, -2.9790406e-03],\n",
       "        [ 1.4336820e-03,  6.5954770e-03, -8.0403248e-03, ...,\n",
       "          2.0680882e-03,  6.7365036e-04, -3.1665605e-03]],\n",
       "\n",
       "       [[-1.3189684e-04,  3.3798104e-04, -1.8998129e-04, ...,\n",
       "         -8.7890927e-05, -4.4169070e-04, -6.9613736e-05],\n",
       "        [-4.7620098e-04,  9.5165893e-04, -3.0381672e-04, ...,\n",
       "         -3.7104968e-04, -6.4022478e-04, -1.3019466e-04],\n",
       "        [-7.2822470e-04,  6.1363867e-04, -4.2895961e-04, ...,\n",
       "         -7.9885806e-04, -6.1701384e-04, -2.5807213e-04],\n",
       "        ...,\n",
       "        [ 2.0444042e-03,  1.0081491e-03, -2.7960201e-03, ...,\n",
       "          3.6846634e-03,  9.1574737e-04, -1.9839301e-03],\n",
       "        [ 2.1127178e-03,  1.7683458e-03, -3.5951938e-03, ...,\n",
       "          3.7865106e-03,  1.0994901e-03, -2.2364666e-03],\n",
       "        [ 2.1215195e-03,  2.5445654e-03, -4.3541444e-03, ...,\n",
       "          3.7766427e-03,  1.2085239e-03, -2.4964537e-03]]], dtype=float32)>"
      ]
     },
     "execution_count": 19,
     "metadata": {},
     "output_type": "execute_result"
    }
   ],
   "source": [
    "# model을 bilud하기 위해 하나의 데이터를 넣는다\n",
    "for source_sample, target_sample in dataset.take(1): break\n",
    "model(source_sample)"
   ]
  },
  {
   "cell_type": "code",
   "execution_count": 20,
   "id": "directed-moldova",
   "metadata": {},
   "outputs": [
    {
     "name": "stdout",
     "output_type": "stream",
     "text": [
      "Model: \"text_generator\"\n",
      "_________________________________________________________________\n",
      "Layer (type)                 Output Shape              Param #   \n",
      "=================================================================\n",
      "embedding (Embedding)        multiple                  12289024  \n",
      "_________________________________________________________________\n",
      "lstm (LSTM)                  multiple                  83902464  \n",
      "_________________________________________________________________\n",
      "lstm_1 (LSTM)                multiple                  134234112 \n",
      "_________________________________________________________________\n",
      "dense (Dense)                multiple                  49168097  \n",
      "=================================================================\n",
      "Total params: 279,593,697\n",
      "Trainable params: 279,593,697\n",
      "Non-trainable params: 0\n",
      "_________________________________________________________________\n"
     ]
    }
   ],
   "source": [
    "model.summary() # 모델 구조 보기"
   ]
  },
  {
   "cell_type": "code",
   "execution_count": 21,
   "id": "aboriginal-kelly",
   "metadata": {},
   "outputs": [
    {
     "name": "stdout",
     "output_type": "stream",
     "text": [
      "Epoch 1/10\n",
      "489/489 [==============================] - 582s 1s/step - loss: 3.4447 - accuracy: 0.4889 - val_loss: 3.0635 - val_accuracy: 0.5184\n",
      "Epoch 2/10\n",
      "489/489 [==============================] - 589s 1s/step - loss: 2.9106 - accuracy: 0.5292 - val_loss: 2.8316 - val_accuracy: 0.5355\n",
      "Epoch 3/10\n",
      "489/489 [==============================] - 589s 1s/step - loss: 2.6738 - accuracy: 0.5457 - val_loss: 2.6796 - val_accuracy: 0.5485\n",
      "Epoch 4/10\n",
      "489/489 [==============================] - 591s 1s/step - loss: 2.4593 - accuracy: 0.5631 - val_loss: 2.5572 - val_accuracy: 0.5644\n",
      "Epoch 5/10\n",
      "489/489 [==============================] - 593s 1s/step - loss: 2.2532 - accuracy: 0.5840 - val_loss: 2.4640 - val_accuracy: 0.5786\n",
      "Epoch 6/10\n",
      "489/489 [==============================] - 593s 1s/step - loss: 2.0542 - accuracy: 0.6087 - val_loss: 2.3871 - val_accuracy: 0.5933\n",
      "Epoch 7/10\n",
      "489/489 [==============================] - 590s 1s/step - loss: 1.8608 - accuracy: 0.6368 - val_loss: 2.3225 - val_accuracy: 0.6084\n",
      "Epoch 8/10\n",
      "489/489 [==============================] - 590s 1s/step - loss: 1.6722 - accuracy: 0.6689 - val_loss: 2.2694 - val_accuracy: 0.6233\n",
      "Epoch 9/10\n",
      "489/489 [==============================] - 591s 1s/step - loss: 1.4927 - accuracy: 0.7030 - val_loss: 2.2367 - val_accuracy: 0.6373\n",
      "Epoch 10/10\n",
      "489/489 [==============================] - 592s 1s/step - loss: 1.3301 - accuracy: 0.7358 - val_loss: 2.2141 - val_accuracy: 0.6498\n"
     ]
    }
   ],
   "source": [
    "optimizer = tf.keras.optimizers.Adam()\n",
    "loss      = tf.keras.losses.SparseCategoricalCrossentropy(from_logits = True, reduction = \"none\")\n",
    "\n",
    "model.compile(loss = loss, optimizer = optimizer, metrics = [\"accuracy\"])        # model을 compile하고\n",
    "history = model.fit(training_set, epochs = 10, validation_data = vaildation_set) # 훈련시킨 후 그 결과를 history에 저장한다."
   ]
  },
  {
   "cell_type": "code",
   "execution_count": 22,
   "id": "interim-watson",
   "metadata": {},
   "outputs": [
    {
     "data": {
      "image/png": "[encoded data removed]",
      "text/plain": [
       "<Figure size 432x288 with 1 Axes>"
      ]
     },
     "metadata": {
      "needs_background": "light"
     },
     "output_type": "display_data"
    }
   ],
   "source": [
    "# Loss 그래프 시각화\n",
    "train_accuracy = history.history[\"accuracy\"]\n",
    "val_accuracy   = history.history[\"val_accuracy\"]\n",
    "train_loss     = history.history[\"loss\"]\n",
    "val_loss       = history.history[\"val_loss\"]\n",
    "\n",
    "epochs = range(1, len(train_accuracy) + 1)\n",
    "\n",
    "plt.plot(epochs, train_loss, \"bo\", label = \"Training loss\")   # train_loss는 파란색 점 표시\n",
    "plt.plot(epochs, val_loss,   \"b\",  label = \"Validation loss\") # val loss는 파란색 실선 표시\n",
    "plt.xlabel(\"Epochs\")\n",
    "plt.ylabel(\"Loss\")\n",
    "plt.legend()\n",
    "plt.show()"
   ]
  },
  {
   "cell_type": "code",
   "execution_count": 23,
   "id": "protected-equation",
   "metadata": {},
   "outputs": [],
   "source": [
    "def generate_text(model, tokenizer, init_sentence = \"<start>\", max_len = 20):\n",
    "    # 테스트를 위해서 입력받은 init_sentence도 일단 텐서로 변환합니다.\n",
    "    test_input  = tokenizer.texts_to_sequences([init_sentence])\n",
    "    test_tensor = tf.convert_to_tensor(test_input, dtype = tf.int64)\n",
    "    end_token   = tokenizer.word_index[\"<end>\"]\n",
    "\n",
    "    # 텍스트를 실제로 생성할때는 루프를 돌면서 단어 하나씩 생성해야 합니다. \n",
    "    while True:\n",
    "        predict      = model(test_tensor)  # 입력받은 문장의 텐서를 입력합니다. \n",
    "        predict_word = tf.argmax(tf.nn.softmax(predict, axis = -1), axis = -1)[:, -1]   # 우리 모델이 예측한 마지막 단어가 바로 새롭게 생성한 단어가 됩니다. \n",
    "\n",
    "        # 우리 모델이 새롭게 예측한 단어를 입력 문장의 뒤에 붙여 줍니다. \n",
    "        test_tensor = tf.concat([test_tensor, tf.expand_dims(predict_word, axis = 0)], axis = -1)\n",
    "\n",
    "        # 우리 모델이 <end>를 예측했거나, max_len에 도달하지 않았다면  while 루프를 또 돌면서 다음 단어를 예측해야 합니다.\n",
    "        if predict_word.numpy()[0] == end_token: break\n",
    "        if test_tensor.shape[1] >= max_len: break\n",
    "\n",
    "    generated = \"\"\n",
    "    # 생성된 tensor 안에 있는 word index를 tokenizer.index_word 사전을 통해 실제 단어로 하나씩 변환합니다. \n",
    "    for word_index in test_tensor[0].numpy():\n",
    "        generated += tokenizer.index_word[word_index] + \" \"\n",
    "\n",
    "    return generated   # 이것이 최종적으로 모델이 생성한 자연어 문장입니다."
   ]
  },
  {
   "cell_type": "code",
   "execution_count": 24,
   "id": "structured-bloom",
   "metadata": {},
   "outputs": [
    {
     "data": {
      "text/plain": [
       "'<start> i love ma little nasty girl <end> '"
      ]
     },
     "execution_count": 24,
     "metadata": {},
     "output_type": "execute_result"
    }
   ],
   "source": [
    "# model 테스트 : \"i love\"란 문장을 주고 20문장이 넘지 않는 문장을 만들게 하기\n",
    "generate_text(model, tokenizer, init_sentence = \"<start> i love\", max_len = 20)"
   ]
  },
  {
   "cell_type": "code",
   "execution_count": null,
   "id": "fabulous-length",
   "metadata": {},
   "outputs": [],
   "source": []
  }
 ],
 "metadata": {
  "kernelspec": {
   "display_name": "Python 3",
   "language": "python",
   "name": "python3"
  },
  "language_info": {
   "codemirror_mode": {
    "name": "ipython",
    "version": 3
   },
   "file_extension": ".py",
   "mimetype": "text/x-python",
   "name": "python",
   "nbconvert_exporter": "python",
   "pygments_lexer": "ipython3",
   "version": "3.7.9"
  }
 },
 "nbformat": 4,
 "nbformat_minor": 5
}
